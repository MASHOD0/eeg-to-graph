{
 "cells": [
  {
   "cell_type": "markdown",
   "metadata": {},
   "source": [
    "# Creating the Dataset\n",
    "### Raw Data"
   ]
  },
  {
   "cell_type": "code",
   "execution_count": 1,
   "metadata": {},
   "outputs": [],
   "source": [
    "from pathlib import Path\n",
    "import mne_bids\n",
    "import os "
   ]
  },
  {
   "cell_type": "code",
   "execution_count": 2,
   "metadata": {},
   "outputs": [],
   "source": [
    "BIDS_ROOT = Path('ds004504-download')"
   ]
  },
  {
   "cell_type": "code",
   "execution_count": 4,
   "metadata": {},
   "outputs": [
    {
     "name": "stdout",
     "output_type": "stream",
     "text": [
      "|ds004504-download\\\n",
      "|--- .gitattributes\n",
      "|--- CHANGES\n",
      "|--- README\n",
      "|--- dataset_description.json\n",
      "|--- participants.json\n",
      "|--- participants.tsv\n",
      "|--- .datalad\\\n",
      "|------ config\n",
      "|--- derivatives\\\n",
      "|------ sub-001\\\n",
      "|--------- eeg\\\n",
      "|------------ sub-001_task-eyesclosed_eeg.set\n",
      "|------ sub-002\\\n",
      "|--------- eeg\\\n",
      "|------------ sub-002_task-eyesclosed_eeg.set\n",
      "|------ sub-003\\\n",
      "|--------- eeg\\\n",
      "|------------ sub-003_task-eyesclosed_eeg.set\n",
      "|------ sub-004\\\n",
      "|--------- eeg\\\n",
      "|------------ sub-004_task-eyesclosed_eeg.set\n",
      "|------ sub-005\\\n",
      "|--------- eeg\\\n",
      "|------------ sub-005_task-eyesclosed_eeg.set\n",
      "|------ sub-006\\\n",
      "|--------- eeg\\\n",
      "|------------ sub-006_task-eyesclosed_eeg.set\n",
      "|------ sub-007\\\n",
      "|--------- eeg\\\n",
      "|------------ sub-007_task-eyesclosed_eeg.set\n",
      "|------ sub-008\\\n",
      "|--------- eeg\\\n",
      "|------------ sub-008_task-eyesclosed_eeg.set\n",
      "|------ sub-009\\\n",
      "|--------- eeg\\\n",
      "|------------ sub-009_task-eyesclosed_eeg.set\n",
      "|------ sub-010\\\n",
      "|--------- eeg\\\n",
      "|------------ sub-010_task-eyesclosed_eeg.set\n",
      "|------ sub-011\\\n",
      "|--------- eeg\\\n",
      "|------------ sub-011_task-eyesclosed_eeg.set\n",
      "|------ sub-012\\\n",
      "|--------- eeg\\\n",
      "|------------ sub-012_task-eyesclosed_eeg.set\n",
      "|------ sub-013\\\n",
      "|--------- eeg\\\n",
      "|------------ sub-013_task-eyesclosed_eeg.set\n",
      "|------ sub-014\\\n",
      "|--------- eeg\\\n",
      "|------------ sub-014_task-eyesclosed_eeg.set\n",
      "|------ sub-015\\\n",
      "|--------- eeg\\\n",
      "|------------ sub-015_task-eyesclosed_eeg.set\n",
      "|------ sub-016\\\n",
      "|--------- eeg\\\n",
      "|------------ sub-016_task-eyesclosed_eeg.set\n",
      "|------ sub-017\\\n",
      "|--------- eeg\\\n",
      "|------------ sub-017_task-eyesclosed_eeg.set\n",
      "|------ sub-018\\\n",
      "|--------- eeg\\\n",
      "|------------ sub-018_task-eyesclosed_eeg.set\n",
      "|------ sub-019\\\n",
      "|--------- eeg\\\n",
      "|------------ sub-019_task-eyesclosed_eeg.set\n",
      "|------ sub-020\\\n",
      "|--------- eeg\\\n",
      "|------------ sub-020_task-eyesclosed_eeg.set\n",
      "|------ sub-021\\\n",
      "|--------- eeg\\\n",
      "|------------ sub-021_task-eyesclosed_eeg.set\n",
      "|------ sub-022\\\n",
      "|--------- eeg\\\n",
      "|------------ sub-022_task-eyesclosed_eeg.set\n",
      "|------ sub-023\\\n",
      "|--------- eeg\\\n",
      "|------------ sub-023_task-eyesclosed_eeg.set\n",
      "|------ sub-024\\\n",
      "|--------- eeg\\\n",
      "|------------ sub-024_task-eyesclosed_eeg.set\n",
      "|------ sub-025\\\n",
      "|--------- eeg\\\n",
      "|------------ sub-025_task-eyesclosed_eeg.set\n",
      "|------ sub-026\\\n",
      "|--------- eeg\\\n",
      "|------------ sub-026_task-eyesclosed_eeg.set\n",
      "|------ sub-027\\\n",
      "|--------- eeg\\\n",
      "|------------ sub-027_task-eyesclosed_eeg.set\n",
      "|------ sub-028\\\n",
      "|--------- eeg\\\n",
      "|------------ sub-028_task-eyesclosed_eeg.set\n",
      "|------ sub-029\\\n",
      "|--------- eeg\\\n",
      "|------------ sub-029_task-eyesclosed_eeg.set\n",
      "|------ sub-030\\\n",
      "|--------- eeg\\\n",
      "|------------ sub-030_task-eyesclosed_eeg.set\n",
      "|------ sub-031\\\n",
      "|--------- eeg\\\n",
      "|------------ sub-031_task-eyesclosed_eeg.set\n",
      "|------ sub-032\\\n",
      "|--------- eeg\\\n",
      "|------------ sub-032_task-eyesclosed_eeg.set\n",
      "|------ sub-033\\\n",
      "|--------- eeg\\\n",
      "|------------ sub-033_task-eyesclosed_eeg.set\n",
      "|------ sub-034\\\n",
      "|--------- eeg\\\n",
      "|------------ sub-034_task-eyesclosed_eeg.set\n",
      "|------ sub-035\\\n",
      "|--------- eeg\\\n",
      "|------------ sub-035_task-eyesclosed_eeg.set\n",
      "|------ sub-036\\\n",
      "|--------- eeg\\\n",
      "|------------ sub-036_task-eyesclosed_eeg.set\n",
      "|------ sub-037\\\n",
      "|--------- eeg\\\n",
      "|------------ sub-037_task-eyesclosed_eeg.set\n",
      "|------ sub-038\\\n",
      "|--------- eeg\\\n",
      "|------------ sub-038_task-eyesclosed_eeg.set\n",
      "|------ sub-039\\\n",
      "|--------- eeg\\\n",
      "|------------ sub-039_task-eyesclosed_eeg.set\n",
      "|------ sub-040\\\n",
      "|--------- eeg\\\n",
      "|------------ sub-040_task-eyesclosed_eeg.set\n",
      "|------ sub-041\\\n",
      "|--------- eeg\\\n",
      "|------------ sub-041_task-eyesclosed_eeg.set\n",
      "|------ sub-042\\\n",
      "|--------- eeg\\\n",
      "|------------ sub-042_task-eyesclosed_eeg.set\n",
      "|------ sub-043\\\n",
      "|--------- eeg\\\n",
      "|------------ sub-043_task-eyesclosed_eeg.set\n",
      "|------ sub-044\\\n",
      "|--------- eeg\\\n",
      "|------------ sub-044_task-eyesclosed_eeg.set\n",
      "|------ sub-045\\\n",
      "|--------- eeg\\\n",
      "|------------ sub-045_task-eyesclosed_eeg.set\n",
      "|------ sub-046\\\n",
      "|--------- eeg\\\n",
      "|------------ sub-046_task-eyesclosed_eeg.set\n",
      "|------ sub-047\\\n",
      "|--------- eeg\\\n",
      "|------------ sub-047_task-eyesclosed_eeg.set\n",
      "|------ sub-048\\\n",
      "|--------- eeg\\\n",
      "|------------ sub-048_task-eyesclosed_eeg.set\n",
      "|------ sub-049\\\n",
      "|--------- eeg\\\n",
      "|------------ sub-049_task-eyesclosed_eeg.set\n",
      "|------ sub-050\\\n",
      "|--------- eeg\\\n",
      "|------------ sub-050_task-eyesclosed_eeg.set\n",
      "|------ sub-051\\\n",
      "|--------- eeg\\\n",
      "|------------ sub-051_task-eyesclosed_eeg.set\n",
      "|------ sub-052\\\n",
      "|--------- eeg\\\n",
      "|------------ sub-052_task-eyesclosed_eeg.set\n",
      "|------ sub-053\\\n",
      "|--------- eeg\\\n",
      "|------------ sub-053_task-eyesclosed_eeg.set\n",
      "|------ sub-054\\\n",
      "|--------- eeg\\\n",
      "|------------ sub-054_task-eyesclosed_eeg.set\n",
      "|------ sub-055\\\n",
      "|--------- eeg\\\n",
      "|------------ sub-055_task-eyesclosed_eeg.set\n",
      "|------ sub-056\\\n",
      "|--------- eeg\\\n",
      "|------------ sub-056_task-eyesclosed_eeg.set\n",
      "|------ sub-057\\\n",
      "|--------- eeg\\\n",
      "|------------ sub-057_task-eyesclosed_eeg.set\n",
      "|------ sub-058\\\n",
      "|--------- eeg\\\n",
      "|------------ sub-058_task-eyesclosed_eeg.set\n",
      "|------ sub-059\\\n",
      "|--------- eeg\\\n",
      "|------------ sub-059_task-eyesclosed_eeg.set\n",
      "|------ sub-060\\\n",
      "|--------- eeg\\\n",
      "|------------ sub-060_task-eyesclosed_eeg.set\n",
      "|------ sub-061\\\n",
      "|--------- eeg\\\n",
      "|------------ sub-061_task-eyesclosed_eeg.set\n",
      "|------ sub-062\\\n",
      "|--------- eeg\\\n",
      "|------------ sub-062_task-eyesclosed_eeg.set\n",
      "|------ sub-063\\\n",
      "|--------- eeg\\\n",
      "|------------ sub-063_task-eyesclosed_eeg.set\n",
      "|------ sub-064\\\n",
      "|--------- eeg\\\n",
      "|------------ sub-064_task-eyesclosed_eeg.set\n",
      "|------ sub-065\\\n",
      "|--------- eeg\\\n",
      "|------------ sub-065_task-eyesclosed_eeg.set\n",
      "|------ sub-066\\\n",
      "|--------- eeg\\\n",
      "|------------ sub-066_task-eyesclosed_eeg.set\n",
      "|------ sub-067\\\n",
      "|--------- eeg\\\n",
      "|------------ sub-067_task-eyesclosed_eeg.set\n",
      "|------ sub-068\\\n",
      "|--------- eeg\\\n",
      "|------------ sub-068_task-eyesclosed_eeg.set\n",
      "|------ sub-069\\\n",
      "|--------- eeg\\\n",
      "|------------ sub-069_task-eyesclosed_eeg.set\n",
      "|------ sub-070\\\n",
      "|--------- eeg\\\n",
      "|------------ sub-070_task-eyesclosed_eeg.set\n",
      "|------ sub-071\\\n",
      "|--------- eeg\\\n",
      "|------------ sub-071_task-eyesclosed_eeg.set\n",
      "|------ sub-072\\\n",
      "|--------- eeg\\\n",
      "|------------ sub-072_task-eyesclosed_eeg.set\n",
      "|------ sub-073\\\n",
      "|--------- eeg\\\n",
      "|------------ sub-073_task-eyesclosed_eeg.set\n",
      "|------ sub-074\\\n",
      "|--------- eeg\\\n",
      "|------------ sub-074_task-eyesclosed_eeg.set\n",
      "|------ sub-075\\\n",
      "|--------- eeg\\\n",
      "|------------ sub-075_task-eyesclosed_eeg.set\n",
      "|------ sub-076\\\n",
      "|--------- eeg\\\n",
      "|------------ sub-076_task-eyesclosed_eeg.set\n",
      "|------ sub-077\\\n",
      "|--------- eeg\\\n",
      "|------------ sub-077_task-eyesclosed_eeg.set\n",
      "|------ sub-078\\\n",
      "|--------- eeg\\\n",
      "|------------ sub-078_task-eyesclosed_eeg.set\n",
      "|------ sub-079\\\n",
      "|--------- eeg\\\n",
      "|------------ sub-079_task-eyesclosed_eeg.set\n",
      "|------ sub-080\\\n",
      "|--------- eeg\\\n",
      "|------------ sub-080_task-eyesclosed_eeg.set\n",
      "|------ sub-081\\\n",
      "|--------- eeg\\\n",
      "|------------ sub-081_task-eyesclosed_eeg.set\n",
      "|------ sub-082\\\n",
      "|--------- eeg\\\n",
      "|------------ sub-082_task-eyesclosed_eeg.set\n",
      "|------ sub-083\\\n",
      "|--------- eeg\\\n",
      "|------------ sub-083_task-eyesclosed_eeg.set\n",
      "|------ sub-084\\\n",
      "|--------- eeg\\\n",
      "|------------ sub-084_task-eyesclosed_eeg.set\n",
      "|------ sub-085\\\n",
      "|--------- eeg\\\n",
      "|------------ sub-085_task-eyesclosed_eeg.set\n",
      "|------ sub-086\\\n",
      "|--------- eeg\\\n",
      "|------------ sub-086_task-eyesclosed_eeg.set\n",
      "|------ sub-087\\\n",
      "|--------- eeg\\\n",
      "|------------ sub-087_task-eyesclosed_eeg.set\n",
      "|------ sub-088\\\n",
      "|--------- eeg\\\n",
      "|------------ sub-088_task-eyesclosed_eeg.set\n",
      "|--- sub-001\\\n",
      "|------ eeg\\\n",
      "|--------- sub-001_task-eyesclosed_channels.tsv\n",
      "|--------- sub-001_task-eyesclosed_eeg.json\n",
      "|--------- sub-001_task-eyesclosed_eeg.set\n",
      "|--------- .ipynb_checkpoints\\\n",
      "|------------ sub-001_task-eyesclosed_channels-checkpoint.tsv\n",
      "|------------ sub-001_task-eyesclosed_eeg-checkpoint.json\n",
      "|--- sub-002\\\n",
      "|------ eeg\\\n",
      "|--------- sub-002_task-eyesclosed_channels.tsv\n",
      "|--------- sub-002_task-eyesclosed_eeg.json\n",
      "|--------- sub-002_task-eyesclosed_eeg.set\n",
      "|--- sub-003\\\n",
      "|------ eeg\\\n",
      "|--------- sub-003_task-eyesclosed_channels.tsv\n",
      "|--------- sub-003_task-eyesclosed_eeg.json\n",
      "|--------- sub-003_task-eyesclosed_eeg.set\n",
      "|--- sub-004\\\n",
      "|------ eeg\\\n",
      "|--------- sub-004_task-eyesclosed_channels.tsv\n",
      "|--------- sub-004_task-eyesclosed_eeg.json\n",
      "|--------- sub-004_task-eyesclosed_eeg.set\n",
      "|--- sub-005\\\n",
      "|------ eeg\\\n",
      "|--------- sub-005_task-eyesclosed_channels.tsv\n",
      "|--------- sub-005_task-eyesclosed_eeg.json\n",
      "|--------- sub-005_task-eyesclosed_eeg.set\n",
      "|--- sub-006\\\n",
      "|------ eeg\\\n",
      "|--------- sub-006_task-eyesclosed_channels.tsv\n",
      "|--------- sub-006_task-eyesclosed_eeg.json\n",
      "|--------- sub-006_task-eyesclosed_eeg.set\n",
      "|--- sub-007\\\n",
      "|------ eeg\\\n",
      "|--------- sub-007_task-eyesclosed_channels.tsv\n",
      "|--------- sub-007_task-eyesclosed_eeg.json\n",
      "|--------- sub-007_task-eyesclosed_eeg.set\n",
      "|--- sub-008\\\n",
      "|------ eeg\\\n",
      "|--------- sub-008_task-eyesclosed_channels.tsv\n",
      "|--------- sub-008_task-eyesclosed_eeg.json\n",
      "|--------- sub-008_task-eyesclosed_eeg.set\n",
      "|--- sub-009\\\n",
      "|------ eeg\\\n",
      "|--------- sub-009_task-eyesclosed_channels.tsv\n",
      "|--------- sub-009_task-eyesclosed_eeg.json\n",
      "|--------- sub-009_task-eyesclosed_eeg.set\n",
      "|--- sub-010\\\n",
      "|------ eeg\\\n",
      "|--------- sub-010_task-eyesclosed_channels.tsv\n",
      "|--------- sub-010_task-eyesclosed_eeg.json\n",
      "|--------- sub-010_task-eyesclosed_eeg.set\n",
      "|--- sub-011\\\n",
      "|------ eeg\\\n",
      "|--------- sub-011_task-eyesclosed_channels.tsv\n",
      "|--------- sub-011_task-eyesclosed_eeg.json\n",
      "|--------- sub-011_task-eyesclosed_eeg.set\n",
      "|--- sub-012\\\n",
      "|------ eeg\\\n",
      "|--------- sub-012_task-eyesclosed_channels.tsv\n",
      "|--------- sub-012_task-eyesclosed_eeg.json\n",
      "|--------- sub-012_task-eyesclosed_eeg.set\n",
      "|--- sub-013\\\n",
      "|------ eeg\\\n",
      "|--------- sub-013_task-eyesclosed_channels.tsv\n",
      "|--------- sub-013_task-eyesclosed_eeg.json\n",
      "|--------- sub-013_task-eyesclosed_eeg.set\n",
      "|--- sub-014\\\n",
      "|------ eeg\\\n",
      "|--------- sub-014_task-eyesclosed_channels.tsv\n",
      "|--------- sub-014_task-eyesclosed_eeg.json\n",
      "|--------- sub-014_task-eyesclosed_eeg.set\n",
      "|--- sub-015\\\n",
      "|------ eeg\\\n",
      "|--------- sub-015_task-eyesclosed_channels.tsv\n",
      "|--------- sub-015_task-eyesclosed_eeg.json\n",
      "|--------- sub-015_task-eyesclosed_eeg.set\n",
      "|--- sub-016\\\n",
      "|------ eeg\\\n",
      "|--------- sub-016_task-eyesclosed_channels.tsv\n",
      "|--------- sub-016_task-eyesclosed_eeg.json\n",
      "|--------- sub-016_task-eyesclosed_eeg.set\n",
      "|--- sub-017\\\n",
      "|------ eeg\\\n",
      "|--------- sub-017_task-eyesclosed_channels.tsv\n",
      "|--------- sub-017_task-eyesclosed_eeg.json\n",
      "|--------- sub-017_task-eyesclosed_eeg.set\n",
      "|--- sub-018\\\n",
      "|------ eeg\\\n",
      "|--------- sub-018_task-eyesclosed_channels.tsv\n",
      "|--------- sub-018_task-eyesclosed_eeg.json\n",
      "|--------- sub-018_task-eyesclosed_eeg.set\n",
      "|--- sub-019\\\n",
      "|------ eeg\\\n",
      "|--------- sub-019_task-eyesclosed_channels.tsv\n",
      "|--------- sub-019_task-eyesclosed_eeg.json\n",
      "|--------- sub-019_task-eyesclosed_eeg.set\n",
      "|--- sub-020\\\n",
      "|------ eeg\\\n",
      "|--------- sub-020_task-eyesclosed_channels.tsv\n",
      "|--------- sub-020_task-eyesclosed_eeg.json\n",
      "|--------- sub-020_task-eyesclosed_eeg.set\n",
      "|--- sub-021\\\n",
      "|------ eeg\\\n",
      "|--------- sub-021_task-eyesclosed_channels.tsv\n",
      "|--------- sub-021_task-eyesclosed_eeg.json\n",
      "|--------- sub-021_task-eyesclosed_eeg.set\n",
      "|--- sub-022\\\n",
      "|------ eeg\\\n",
      "|--------- sub-022_task-eyesclosed_channels.tsv\n",
      "|--------- sub-022_task-eyesclosed_eeg.json\n",
      "|--------- sub-022_task-eyesclosed_eeg.set\n",
      "|--- sub-023\\\n",
      "|------ eeg\\\n",
      "|--------- sub-023_task-eyesclosed_channels.tsv\n",
      "|--------- sub-023_task-eyesclosed_eeg.json\n",
      "|--------- sub-023_task-eyesclosed_eeg.set\n",
      "|--- sub-024\\\n",
      "|------ eeg\\\n",
      "|--------- sub-024_task-eyesclosed_channels.tsv\n",
      "|--------- sub-024_task-eyesclosed_eeg.json\n",
      "|--------- sub-024_task-eyesclosed_eeg.set\n",
      "|--- sub-025\\\n",
      "|------ eeg\\\n",
      "|--------- sub-025_task-eyesclosed_channels.tsv\n",
      "|--------- sub-025_task-eyesclosed_eeg.json\n",
      "|--------- sub-025_task-eyesclosed_eeg.set\n",
      "|--- sub-026\\\n",
      "|------ eeg\\\n",
      "|--------- sub-026_task-eyesclosed_channels.tsv\n",
      "|--------- sub-026_task-eyesclosed_eeg.json\n",
      "|--------- sub-026_task-eyesclosed_eeg.set\n",
      "|--- sub-027\\\n",
      "|------ eeg\\\n",
      "|--------- sub-027_task-eyesclosed_channels.tsv\n",
      "|--------- sub-027_task-eyesclosed_eeg.json\n",
      "|--------- sub-027_task-eyesclosed_eeg.set\n",
      "|--- sub-028\\\n",
      "|------ eeg\\\n",
      "|--------- sub-028_task-eyesclosed_channels.tsv\n",
      "|--------- sub-028_task-eyesclosed_eeg.json\n",
      "|--------- sub-028_task-eyesclosed_eeg.set\n",
      "|--- sub-029\\\n",
      "|------ eeg\\\n",
      "|--------- sub-029_task-eyesclosed_channels.tsv\n",
      "|--------- sub-029_task-eyesclosed_eeg.json\n",
      "|--------- sub-029_task-eyesclosed_eeg.set\n",
      "|--- sub-030\\\n",
      "|------ eeg\\\n",
      "|--------- sub-030_task-eyesclosed_channels.tsv\n",
      "|--------- sub-030_task-eyesclosed_eeg.json\n",
      "|--------- sub-030_task-eyesclosed_eeg.set\n",
      "|--- sub-031\\\n",
      "|------ eeg\\\n",
      "|--------- sub-031_task-eyesclosed_channels.tsv\n",
      "|--------- sub-031_task-eyesclosed_eeg.json\n",
      "|--------- sub-031_task-eyesclosed_eeg.set\n",
      "|--- sub-032\\\n",
      "|------ eeg\\\n",
      "|--------- sub-032_task-eyesclosed_channels.tsv\n",
      "|--------- sub-032_task-eyesclosed_eeg.json\n",
      "|--------- sub-032_task-eyesclosed_eeg.set\n",
      "|--- sub-033\\\n",
      "|------ eeg\\\n",
      "|--------- sub-033_task-eyesclosed_channels.tsv\n",
      "|--------- sub-033_task-eyesclosed_eeg.json\n",
      "|--------- sub-033_task-eyesclosed_eeg.set\n",
      "|--- sub-034\\\n",
      "|------ eeg\\\n",
      "|--------- sub-034_task-eyesclosed_channels.tsv\n",
      "|--------- sub-034_task-eyesclosed_eeg.json\n",
      "|--------- sub-034_task-eyesclosed_eeg.set\n",
      "|--- sub-035\\\n",
      "|------ eeg\\\n",
      "|--------- sub-035_task-eyesclosed_channels.tsv\n",
      "|--------- sub-035_task-eyesclosed_eeg.json\n",
      "|--------- sub-035_task-eyesclosed_eeg.set\n",
      "|--- sub-036\\\n",
      "|------ eeg\\\n",
      "|--------- sub-036_task-eyesclosed_channels.tsv\n",
      "|--------- sub-036_task-eyesclosed_eeg.json\n",
      "|--------- sub-036_task-eyesclosed_eeg.set\n",
      "|--- sub-037\\\n",
      "|------ eeg\\\n",
      "|--------- sub-037_task-eyesclosed_channels.tsv\n",
      "|--------- sub-037_task-eyesclosed_eeg.json\n",
      "|--------- sub-037_task-eyesclosed_eeg.set\n",
      "|--- sub-038\\\n",
      "|------ eeg\\\n",
      "|--------- sub-038_task-eyesclosed_channels.tsv\n",
      "|--------- sub-038_task-eyesclosed_eeg.json\n",
      "|--------- sub-038_task-eyesclosed_eeg.set\n",
      "|--- sub-039\\\n",
      "|------ eeg\\\n",
      "|--------- sub-039_task-eyesclosed_channels.tsv\n",
      "|--------- sub-039_task-eyesclosed_eeg.json\n",
      "|--------- sub-039_task-eyesclosed_eeg.set\n",
      "|--- sub-040\\\n",
      "|------ eeg\\\n",
      "|--------- sub-040_task-eyesclosed_channels.tsv\n",
      "|--------- sub-040_task-eyesclosed_eeg.json\n",
      "|--------- sub-040_task-eyesclosed_eeg.set\n",
      "|--- sub-041\\\n",
      "|------ eeg\\\n",
      "|--------- sub-041_task-eyesclosed_channels.tsv\n",
      "|--------- sub-041_task-eyesclosed_eeg.json\n",
      "|--------- sub-041_task-eyesclosed_eeg.set\n",
      "|--- sub-042\\\n",
      "|------ eeg\\\n",
      "|--------- sub-042_task-eyesclosed_channels.tsv\n",
      "|--------- sub-042_task-eyesclosed_eeg.json\n",
      "|--------- sub-042_task-eyesclosed_eeg.set\n",
      "|--- sub-043\\\n",
      "|------ eeg\\\n",
      "|--------- sub-043_task-eyesclosed_channels.tsv\n",
      "|--------- sub-043_task-eyesclosed_eeg.json\n",
      "|--------- sub-043_task-eyesclosed_eeg.set\n",
      "|--- sub-044\\\n",
      "|------ eeg\\\n",
      "|--------- sub-044_task-eyesclosed_channels.tsv\n",
      "|--------- sub-044_task-eyesclosed_eeg.json\n",
      "|--------- sub-044_task-eyesclosed_eeg.set\n",
      "|--- sub-045\\\n",
      "|------ eeg\\\n",
      "|--------- sub-045_task-eyesclosed_channels.tsv\n",
      "|--------- sub-045_task-eyesclosed_eeg.json\n",
      "|--------- sub-045_task-eyesclosed_eeg.set\n",
      "|--- sub-046\\\n",
      "|------ eeg\\\n",
      "|--------- sub-046_task-eyesclosed_channels.tsv\n",
      "|--------- sub-046_task-eyesclosed_eeg.json\n",
      "|--------- sub-046_task-eyesclosed_eeg.set\n",
      "|--- sub-047\\\n",
      "|------ eeg\\\n",
      "|--------- sub-047_task-eyesclosed_channels.tsv\n",
      "|--------- sub-047_task-eyesclosed_eeg.json\n",
      "|--------- sub-047_task-eyesclosed_eeg.set\n",
      "|--- sub-048\\\n",
      "|------ eeg\\\n",
      "|--------- sub-048_task-eyesclosed_channels.tsv\n",
      "|--------- sub-048_task-eyesclosed_eeg.json\n",
      "|--------- sub-048_task-eyesclosed_eeg.set\n",
      "|--- sub-049\\\n",
      "|------ eeg\\\n",
      "|--------- sub-049_task-eyesclosed_channels.tsv\n",
      "|--------- sub-049_task-eyesclosed_eeg.json\n",
      "|--------- sub-049_task-eyesclosed_eeg.set\n",
      "|--- sub-050\\\n",
      "|------ eeg\\\n",
      "|--------- sub-050_task-eyesclosed_channels.tsv\n",
      "|--------- sub-050_task-eyesclosed_eeg.json\n",
      "|--------- sub-050_task-eyesclosed_eeg.set\n",
      "|--- sub-051\\\n",
      "|------ eeg\\\n",
      "|--------- sub-051_task-eyesclosed_channels.tsv\n",
      "|--------- sub-051_task-eyesclosed_eeg.json\n",
      "|--------- sub-051_task-eyesclosed_eeg.set\n",
      "|--- sub-052\\\n",
      "|------ eeg\\\n",
      "|--------- sub-052_task-eyesclosed_channels.tsv\n",
      "|--------- sub-052_task-eyesclosed_eeg.json\n",
      "|--------- sub-052_task-eyesclosed_eeg.set\n",
      "|--- sub-053\\\n",
      "|------ eeg\\\n",
      "|--------- sub-053_task-eyesclosed_channels.tsv\n",
      "|--------- sub-053_task-eyesclosed_eeg.json\n",
      "|--------- sub-053_task-eyesclosed_eeg.set\n",
      "|--- sub-054\\\n",
      "|------ eeg\\\n",
      "|--------- sub-054_task-eyesclosed_channels.tsv\n",
      "|--------- sub-054_task-eyesclosed_eeg.json\n",
      "|--------- sub-054_task-eyesclosed_eeg.set\n",
      "|--- sub-055\\\n",
      "|------ eeg\\\n",
      "|--------- sub-055_task-eyesclosed_channels.tsv\n",
      "|--------- sub-055_task-eyesclosed_eeg.json\n",
      "|--------- sub-055_task-eyesclosed_eeg.set\n",
      "|--- sub-056\\\n",
      "|------ eeg\\\n",
      "|--------- sub-056_task-eyesclosed_channels.tsv\n",
      "|--------- sub-056_task-eyesclosed_eeg.json\n",
      "|--------- sub-056_task-eyesclosed_eeg.set\n",
      "|--- sub-057\\\n",
      "|------ eeg\\\n",
      "|--------- sub-057_task-eyesclosed_channels.tsv\n",
      "|--------- sub-057_task-eyesclosed_eeg.json\n",
      "|--------- sub-057_task-eyesclosed_eeg.set\n",
      "|--- sub-058\\\n",
      "|------ eeg\\\n",
      "|--------- sub-058_task-eyesclosed_channels.tsv\n",
      "|--------- sub-058_task-eyesclosed_eeg.json\n",
      "|--------- sub-058_task-eyesclosed_eeg.set\n",
      "|--- sub-059\\\n",
      "|------ eeg\\\n",
      "|--------- sub-059_task-eyesclosed_channels.tsv\n",
      "|--------- sub-059_task-eyesclosed_eeg.json\n",
      "|--------- sub-059_task-eyesclosed_eeg.set\n",
      "|--- sub-060\\\n",
      "|------ eeg\\\n",
      "|--------- sub-060_task-eyesclosed_channels.tsv\n",
      "|--------- sub-060_task-eyesclosed_eeg.json\n",
      "|--------- sub-060_task-eyesclosed_eeg.set\n",
      "|--- sub-061\\\n",
      "|------ eeg\\\n",
      "|--------- sub-061_task-eyesclosed_channels.tsv\n",
      "|--------- sub-061_task-eyesclosed_eeg.json\n",
      "|--------- sub-061_task-eyesclosed_eeg.set\n",
      "|--- sub-062\\\n",
      "|------ eeg\\\n",
      "|--------- sub-062_task-eyesclosed_channels.tsv\n",
      "|--------- sub-062_task-eyesclosed_eeg.json\n",
      "|--------- sub-062_task-eyesclosed_eeg.set\n",
      "|--- sub-063\\\n",
      "|------ eeg\\\n",
      "|--------- sub-063_task-eyesclosed_channels.tsv\n",
      "|--------- sub-063_task-eyesclosed_eeg.json\n",
      "|--------- sub-063_task-eyesclosed_eeg.set\n",
      "|--- sub-064\\\n",
      "|------ eeg\\\n",
      "|--------- sub-064_task-eyesclosed_channels.tsv\n",
      "|--------- sub-064_task-eyesclosed_eeg.json\n",
      "|--------- sub-064_task-eyesclosed_eeg.set\n",
      "|--- sub-065\\\n",
      "|------ eeg\\\n",
      "|--------- sub-065_task-eyesclosed_channels.tsv\n",
      "|--------- sub-065_task-eyesclosed_eeg.json\n",
      "|--------- sub-065_task-eyesclosed_eeg.set\n",
      "|--- sub-066\\\n",
      "|------ eeg\\\n",
      "|--------- sub-066_task-eyesclosed_channels.tsv\n",
      "|--------- sub-066_task-eyesclosed_eeg.json\n",
      "|--------- sub-066_task-eyesclosed_eeg.set\n",
      "|--- sub-067\\\n",
      "|------ eeg\\\n",
      "|--------- sub-067_task-eyesclosed_channels.tsv\n",
      "|--------- sub-067_task-eyesclosed_eeg.json\n",
      "|--------- sub-067_task-eyesclosed_eeg.set\n",
      "|--- sub-068\\\n",
      "|------ eeg\\\n",
      "|--------- sub-068_task-eyesclosed_channels.tsv\n",
      "|--------- sub-068_task-eyesclosed_eeg.json\n",
      "|--------- sub-068_task-eyesclosed_eeg.set\n",
      "|--- sub-069\\\n",
      "|------ eeg\\\n",
      "|--------- sub-069_task-eyesclosed_channels.tsv\n",
      "|--------- sub-069_task-eyesclosed_eeg.json\n",
      "|--------- sub-069_task-eyesclosed_eeg.set\n",
      "|--- sub-070\\\n",
      "|------ eeg\\\n",
      "|--------- sub-070_task-eyesclosed_channels.tsv\n",
      "|--------- sub-070_task-eyesclosed_eeg.json\n",
      "|--------- sub-070_task-eyesclosed_eeg.set\n",
      "|--- sub-071\\\n",
      "|------ eeg\\\n",
      "|--------- sub-071_task-eyesclosed_channels.tsv\n",
      "|--------- sub-071_task-eyesclosed_eeg.json\n",
      "|--------- sub-071_task-eyesclosed_eeg.set\n",
      "|--- sub-072\\\n",
      "|------ eeg\\\n",
      "|--------- sub-072_task-eyesclosed_channels.tsv\n",
      "|--------- sub-072_task-eyesclosed_eeg.json\n",
      "|--------- sub-072_task-eyesclosed_eeg.set\n",
      "|--- sub-073\\\n",
      "|------ eeg\\\n",
      "|--------- sub-073_task-eyesclosed_channels.tsv\n",
      "|--------- sub-073_task-eyesclosed_eeg.json\n",
      "|--------- sub-073_task-eyesclosed_eeg.set\n",
      "|--- sub-074\\\n",
      "|------ eeg\\\n",
      "|--------- sub-074_task-eyesclosed_channels.tsv\n",
      "|--------- sub-074_task-eyesclosed_eeg.json\n",
      "|--------- sub-074_task-eyesclosed_eeg.set\n",
      "|--- sub-075\\\n",
      "|------ eeg\\\n",
      "|--------- sub-075_task-eyesclosed_channels.tsv\n",
      "|--------- sub-075_task-eyesclosed_eeg.json\n",
      "|--------- sub-075_task-eyesclosed_eeg.set\n",
      "|--- sub-076\\\n",
      "|------ eeg\\\n",
      "|--------- sub-076_task-eyesclosed_channels.tsv\n",
      "|--------- sub-076_task-eyesclosed_eeg.json\n",
      "|--------- sub-076_task-eyesclosed_eeg.set\n",
      "|--- sub-077\\\n",
      "|------ eeg\\\n",
      "|--------- sub-077_task-eyesclosed_channels.tsv\n",
      "|--------- sub-077_task-eyesclosed_eeg.json\n",
      "|--------- sub-077_task-eyesclosed_eeg.set\n",
      "|--- sub-078\\\n",
      "|------ eeg\\\n",
      "|--------- sub-078_task-eyesclosed_channels.tsv\n",
      "|--------- sub-078_task-eyesclosed_eeg.json\n",
      "|--------- sub-078_task-eyesclosed_eeg.set\n",
      "|--- sub-079\\\n",
      "|------ eeg\\\n",
      "|--------- sub-079_task-eyesclosed_channels.tsv\n",
      "|--------- sub-079_task-eyesclosed_eeg.json\n",
      "|--------- sub-079_task-eyesclosed_eeg.set\n",
      "|--- sub-080\\\n",
      "|------ eeg\\\n",
      "|--------- sub-080_task-eyesclosed_channels.tsv\n",
      "|--------- sub-080_task-eyesclosed_eeg.json\n",
      "|--------- sub-080_task-eyesclosed_eeg.set\n",
      "|--- sub-081\\\n",
      "|------ eeg\\\n",
      "|--------- sub-081_task-eyesclosed_channels.tsv\n",
      "|--------- sub-081_task-eyesclosed_eeg.json\n",
      "|--------- sub-081_task-eyesclosed_eeg.set\n",
      "|--- sub-082\\\n",
      "|------ eeg\\\n",
      "|--------- sub-082_task-eyesclosed_channels.tsv\n",
      "|--------- sub-082_task-eyesclosed_eeg.json\n",
      "|--------- sub-082_task-eyesclosed_eeg.set\n",
      "|--- sub-083\\\n",
      "|------ eeg\\\n",
      "|--------- sub-083_task-eyesclosed_channels.tsv\n",
      "|--------- sub-083_task-eyesclosed_eeg.json\n",
      "|--------- sub-083_task-eyesclosed_eeg.set\n",
      "|--- sub-084\\\n",
      "|------ eeg\\\n",
      "|--------- sub-084_task-eyesclosed_channels.tsv\n",
      "|--------- sub-084_task-eyesclosed_eeg.json\n",
      "|--------- sub-084_task-eyesclosed_eeg.set\n",
      "|--- sub-085\\\n",
      "|------ eeg\\\n",
      "|--------- sub-085_task-eyesclosed_channels.tsv\n",
      "|--------- sub-085_task-eyesclosed_eeg.json\n",
      "|--------- sub-085_task-eyesclosed_eeg.set\n",
      "|--- sub-086\\\n",
      "|------ eeg\\\n",
      "|--------- sub-086_task-eyesclosed_channels.tsv\n",
      "|--------- sub-086_task-eyesclosed_eeg.json\n",
      "|--------- sub-086_task-eyesclosed_eeg.set\n",
      "|--- sub-087\\\n",
      "|------ eeg\\\n",
      "|--------- sub-087_task-eyesclosed_channels.tsv\n",
      "|--------- sub-087_task-eyesclosed_eeg.json\n",
      "|--------- sub-087_task-eyesclosed_eeg.set\n",
      "|--- sub-088\\\n",
      "|------ eeg\\\n",
      "|--------- sub-088_task-eyesclosed_channels.tsv\n",
      "|--------- sub-088_task-eyesclosed_eeg.json\n",
      "|--------- sub-088_task-eyesclosed_eeg.set\n"
     ]
    }
   ],
   "source": [
    "mne_bids.print_dir_tree(BIDS_ROOT)"
   ]
  },
  {
   "cell_type": "code",
   "execution_count": 6,
   "metadata": {},
   "outputs": [],
   "source": [
    "subjects = mne_bids.get_entity_vals(root=BIDS_ROOT, entity_key='subject')"
   ]
  },
  {
   "cell_type": "code",
   "execution_count": 9,
   "metadata": {},
   "outputs": [
    {
     "data": {
      "text/plain": [
       "['001',\n",
       " '002',\n",
       " '003',\n",
       " '004',\n",
       " '005',\n",
       " '006',\n",
       " '007',\n",
       " '008',\n",
       " '009',\n",
       " '010',\n",
       " '011',\n",
       " '012',\n",
       " '013',\n",
       " '014',\n",
       " '015',\n",
       " '016',\n",
       " '017',\n",
       " '018',\n",
       " '019',\n",
       " '020',\n",
       " '021',\n",
       " '022',\n",
       " '023',\n",
       " '024',\n",
       " '025',\n",
       " '026',\n",
       " '027',\n",
       " '028',\n",
       " '029',\n",
       " '030',\n",
       " '031',\n",
       " '032',\n",
       " '033',\n",
       " '034',\n",
       " '035',\n",
       " '036',\n",
       " '037',\n",
       " '038',\n",
       " '039',\n",
       " '040',\n",
       " '041',\n",
       " '042',\n",
       " '043',\n",
       " '044',\n",
       " '045',\n",
       " '046',\n",
       " '047',\n",
       " '048',\n",
       " '049',\n",
       " '050',\n",
       " '051',\n",
       " '052',\n",
       " '053',\n",
       " '054',\n",
       " '055',\n",
       " '056',\n",
       " '057',\n",
       " '058',\n",
       " '059',\n",
       " '060',\n",
       " '061',\n",
       " '062',\n",
       " '063',\n",
       " '064',\n",
       " '065',\n",
       " '066',\n",
       " '067',\n",
       " '068',\n",
       " '069',\n",
       " '070',\n",
       " '071',\n",
       " '072',\n",
       " '073',\n",
       " '074',\n",
       " '075',\n",
       " '076',\n",
       " '077',\n",
       " '078',\n",
       " '079',\n",
       " '080',\n",
       " '081',\n",
       " '082',\n",
       " '083',\n",
       " '084',\n",
       " '085',\n",
       " '086',\n",
       " '087',\n",
       " '088']"
      ]
     },
     "execution_count": 9,
     "metadata": {},
     "output_type": "execute_result"
    }
   ],
   "source": [
    "subjects"
   ]
  },
  {
   "cell_type": "code",
   "execution_count": 10,
   "metadata": {},
   "outputs": [
    {
     "data": {
      "text/plain": [
       "[BIDSPath(\n",
       " root: ds004504-download\n",
       " datatype: eeg\n",
       " basename: sub-001_task-eyesclosed_eeg.set),\n",
       " BIDSPath(\n",
       " root: ds004504-download\n",
       " datatype: eeg\n",
       " basename: sub-002_task-eyesclosed_eeg.set),\n",
       " BIDSPath(\n",
       " root: ds004504-download\n",
       " datatype: eeg\n",
       " basename: sub-003_task-eyesclosed_eeg.set),\n",
       " BIDSPath(\n",
       " root: ds004504-download\n",
       " datatype: eeg\n",
       " basename: sub-004_task-eyesclosed_eeg.set),\n",
       " BIDSPath(\n",
       " root: ds004504-download\n",
       " datatype: eeg\n",
       " basename: sub-005_task-eyesclosed_eeg.set),\n",
       " BIDSPath(\n",
       " root: ds004504-download\n",
       " datatype: eeg\n",
       " basename: sub-006_task-eyesclosed_eeg.set),\n",
       " BIDSPath(\n",
       " root: ds004504-download\n",
       " datatype: eeg\n",
       " basename: sub-007_task-eyesclosed_eeg.set),\n",
       " BIDSPath(\n",
       " root: ds004504-download\n",
       " datatype: eeg\n",
       " basename: sub-008_task-eyesclosed_eeg.set),\n",
       " BIDSPath(\n",
       " root: ds004504-download\n",
       " datatype: eeg\n",
       " basename: sub-009_task-eyesclosed_eeg.set),\n",
       " BIDSPath(\n",
       " root: ds004504-download\n",
       " datatype: eeg\n",
       " basename: sub-010_task-eyesclosed_eeg.set),\n",
       " BIDSPath(\n",
       " root: ds004504-download\n",
       " datatype: eeg\n",
       " basename: sub-011_task-eyesclosed_eeg.set),\n",
       " BIDSPath(\n",
       " root: ds004504-download\n",
       " datatype: eeg\n",
       " basename: sub-012_task-eyesclosed_eeg.set),\n",
       " BIDSPath(\n",
       " root: ds004504-download\n",
       " datatype: eeg\n",
       " basename: sub-013_task-eyesclosed_eeg.set),\n",
       " BIDSPath(\n",
       " root: ds004504-download\n",
       " datatype: eeg\n",
       " basename: sub-014_task-eyesclosed_eeg.set),\n",
       " BIDSPath(\n",
       " root: ds004504-download\n",
       " datatype: eeg\n",
       " basename: sub-015_task-eyesclosed_eeg.set),\n",
       " BIDSPath(\n",
       " root: ds004504-download\n",
       " datatype: eeg\n",
       " basename: sub-016_task-eyesclosed_eeg.set),\n",
       " BIDSPath(\n",
       " root: ds004504-download\n",
       " datatype: eeg\n",
       " basename: sub-017_task-eyesclosed_eeg.set),\n",
       " BIDSPath(\n",
       " root: ds004504-download\n",
       " datatype: eeg\n",
       " basename: sub-018_task-eyesclosed_eeg.set),\n",
       " BIDSPath(\n",
       " root: ds004504-download\n",
       " datatype: eeg\n",
       " basename: sub-019_task-eyesclosed_eeg.set),\n",
       " BIDSPath(\n",
       " root: ds004504-download\n",
       " datatype: eeg\n",
       " basename: sub-020_task-eyesclosed_eeg.set),\n",
       " BIDSPath(\n",
       " root: ds004504-download\n",
       " datatype: eeg\n",
       " basename: sub-021_task-eyesclosed_eeg.set),\n",
       " BIDSPath(\n",
       " root: ds004504-download\n",
       " datatype: eeg\n",
       " basename: sub-022_task-eyesclosed_eeg.set),\n",
       " BIDSPath(\n",
       " root: ds004504-download\n",
       " datatype: eeg\n",
       " basename: sub-023_task-eyesclosed_eeg.set),\n",
       " BIDSPath(\n",
       " root: ds004504-download\n",
       " datatype: eeg\n",
       " basename: sub-024_task-eyesclosed_eeg.set),\n",
       " BIDSPath(\n",
       " root: ds004504-download\n",
       " datatype: eeg\n",
       " basename: sub-025_task-eyesclosed_eeg.set),\n",
       " BIDSPath(\n",
       " root: ds004504-download\n",
       " datatype: eeg\n",
       " basename: sub-026_task-eyesclosed_eeg.set),\n",
       " BIDSPath(\n",
       " root: ds004504-download\n",
       " datatype: eeg\n",
       " basename: sub-027_task-eyesclosed_eeg.set),\n",
       " BIDSPath(\n",
       " root: ds004504-download\n",
       " datatype: eeg\n",
       " basename: sub-028_task-eyesclosed_eeg.set),\n",
       " BIDSPath(\n",
       " root: ds004504-download\n",
       " datatype: eeg\n",
       " basename: sub-029_task-eyesclosed_eeg.set),\n",
       " BIDSPath(\n",
       " root: ds004504-download\n",
       " datatype: eeg\n",
       " basename: sub-030_task-eyesclosed_eeg.set),\n",
       " BIDSPath(\n",
       " root: ds004504-download\n",
       " datatype: eeg\n",
       " basename: sub-031_task-eyesclosed_eeg.set),\n",
       " BIDSPath(\n",
       " root: ds004504-download\n",
       " datatype: eeg\n",
       " basename: sub-032_task-eyesclosed_eeg.set),\n",
       " BIDSPath(\n",
       " root: ds004504-download\n",
       " datatype: eeg\n",
       " basename: sub-033_task-eyesclosed_eeg.set),\n",
       " BIDSPath(\n",
       " root: ds004504-download\n",
       " datatype: eeg\n",
       " basename: sub-034_task-eyesclosed_eeg.set),\n",
       " BIDSPath(\n",
       " root: ds004504-download\n",
       " datatype: eeg\n",
       " basename: sub-035_task-eyesclosed_eeg.set),\n",
       " BIDSPath(\n",
       " root: ds004504-download\n",
       " datatype: eeg\n",
       " basename: sub-036_task-eyesclosed_eeg.set),\n",
       " BIDSPath(\n",
       " root: ds004504-download\n",
       " datatype: eeg\n",
       " basename: sub-037_task-eyesclosed_eeg.set),\n",
       " BIDSPath(\n",
       " root: ds004504-download\n",
       " datatype: eeg\n",
       " basename: sub-038_task-eyesclosed_eeg.set),\n",
       " BIDSPath(\n",
       " root: ds004504-download\n",
       " datatype: eeg\n",
       " basename: sub-039_task-eyesclosed_eeg.set),\n",
       " BIDSPath(\n",
       " root: ds004504-download\n",
       " datatype: eeg\n",
       " basename: sub-040_task-eyesclosed_eeg.set),\n",
       " BIDSPath(\n",
       " root: ds004504-download\n",
       " datatype: eeg\n",
       " basename: sub-041_task-eyesclosed_eeg.set),\n",
       " BIDSPath(\n",
       " root: ds004504-download\n",
       " datatype: eeg\n",
       " basename: sub-042_task-eyesclosed_eeg.set),\n",
       " BIDSPath(\n",
       " root: ds004504-download\n",
       " datatype: eeg\n",
       " basename: sub-043_task-eyesclosed_eeg.set),\n",
       " BIDSPath(\n",
       " root: ds004504-download\n",
       " datatype: eeg\n",
       " basename: sub-044_task-eyesclosed_eeg.set),\n",
       " BIDSPath(\n",
       " root: ds004504-download\n",
       " datatype: eeg\n",
       " basename: sub-045_task-eyesclosed_eeg.set),\n",
       " BIDSPath(\n",
       " root: ds004504-download\n",
       " datatype: eeg\n",
       " basename: sub-046_task-eyesclosed_eeg.set),\n",
       " BIDSPath(\n",
       " root: ds004504-download\n",
       " datatype: eeg\n",
       " basename: sub-047_task-eyesclosed_eeg.set),\n",
       " BIDSPath(\n",
       " root: ds004504-download\n",
       " datatype: eeg\n",
       " basename: sub-048_task-eyesclosed_eeg.set),\n",
       " BIDSPath(\n",
       " root: ds004504-download\n",
       " datatype: eeg\n",
       " basename: sub-049_task-eyesclosed_eeg.set),\n",
       " BIDSPath(\n",
       " root: ds004504-download\n",
       " datatype: eeg\n",
       " basename: sub-050_task-eyesclosed_eeg.set),\n",
       " BIDSPath(\n",
       " root: ds004504-download\n",
       " datatype: eeg\n",
       " basename: sub-051_task-eyesclosed_eeg.set),\n",
       " BIDSPath(\n",
       " root: ds004504-download\n",
       " datatype: eeg\n",
       " basename: sub-052_task-eyesclosed_eeg.set),\n",
       " BIDSPath(\n",
       " root: ds004504-download\n",
       " datatype: eeg\n",
       " basename: sub-053_task-eyesclosed_eeg.set),\n",
       " BIDSPath(\n",
       " root: ds004504-download\n",
       " datatype: eeg\n",
       " basename: sub-054_task-eyesclosed_eeg.set),\n",
       " BIDSPath(\n",
       " root: ds004504-download\n",
       " datatype: eeg\n",
       " basename: sub-055_task-eyesclosed_eeg.set),\n",
       " BIDSPath(\n",
       " root: ds004504-download\n",
       " datatype: eeg\n",
       " basename: sub-056_task-eyesclosed_eeg.set),\n",
       " BIDSPath(\n",
       " root: ds004504-download\n",
       " datatype: eeg\n",
       " basename: sub-057_task-eyesclosed_eeg.set),\n",
       " BIDSPath(\n",
       " root: ds004504-download\n",
       " datatype: eeg\n",
       " basename: sub-058_task-eyesclosed_eeg.set),\n",
       " BIDSPath(\n",
       " root: ds004504-download\n",
       " datatype: eeg\n",
       " basename: sub-059_task-eyesclosed_eeg.set),\n",
       " BIDSPath(\n",
       " root: ds004504-download\n",
       " datatype: eeg\n",
       " basename: sub-060_task-eyesclosed_eeg.set),\n",
       " BIDSPath(\n",
       " root: ds004504-download\n",
       " datatype: eeg\n",
       " basename: sub-061_task-eyesclosed_eeg.set),\n",
       " BIDSPath(\n",
       " root: ds004504-download\n",
       " datatype: eeg\n",
       " basename: sub-062_task-eyesclosed_eeg.set),\n",
       " BIDSPath(\n",
       " root: ds004504-download\n",
       " datatype: eeg\n",
       " basename: sub-063_task-eyesclosed_eeg.set),\n",
       " BIDSPath(\n",
       " root: ds004504-download\n",
       " datatype: eeg\n",
       " basename: sub-064_task-eyesclosed_eeg.set),\n",
       " BIDSPath(\n",
       " root: ds004504-download\n",
       " datatype: eeg\n",
       " basename: sub-065_task-eyesclosed_eeg.set),\n",
       " BIDSPath(\n",
       " root: ds004504-download\n",
       " datatype: eeg\n",
       " basename: sub-066_task-eyesclosed_eeg.set),\n",
       " BIDSPath(\n",
       " root: ds004504-download\n",
       " datatype: eeg\n",
       " basename: sub-067_task-eyesclosed_eeg.set),\n",
       " BIDSPath(\n",
       " root: ds004504-download\n",
       " datatype: eeg\n",
       " basename: sub-068_task-eyesclosed_eeg.set),\n",
       " BIDSPath(\n",
       " root: ds004504-download\n",
       " datatype: eeg\n",
       " basename: sub-069_task-eyesclosed_eeg.set),\n",
       " BIDSPath(\n",
       " root: ds004504-download\n",
       " datatype: eeg\n",
       " basename: sub-070_task-eyesclosed_eeg.set),\n",
       " BIDSPath(\n",
       " root: ds004504-download\n",
       " datatype: eeg\n",
       " basename: sub-071_task-eyesclosed_eeg.set),\n",
       " BIDSPath(\n",
       " root: ds004504-download\n",
       " datatype: eeg\n",
       " basename: sub-072_task-eyesclosed_eeg.set),\n",
       " BIDSPath(\n",
       " root: ds004504-download\n",
       " datatype: eeg\n",
       " basename: sub-073_task-eyesclosed_eeg.set),\n",
       " BIDSPath(\n",
       " root: ds004504-download\n",
       " datatype: eeg\n",
       " basename: sub-074_task-eyesclosed_eeg.set),\n",
       " BIDSPath(\n",
       " root: ds004504-download\n",
       " datatype: eeg\n",
       " basename: sub-075_task-eyesclosed_eeg.set),\n",
       " BIDSPath(\n",
       " root: ds004504-download\n",
       " datatype: eeg\n",
       " basename: sub-076_task-eyesclosed_eeg.set),\n",
       " BIDSPath(\n",
       " root: ds004504-download\n",
       " datatype: eeg\n",
       " basename: sub-077_task-eyesclosed_eeg.set),\n",
       " BIDSPath(\n",
       " root: ds004504-download\n",
       " datatype: eeg\n",
       " basename: sub-078_task-eyesclosed_eeg.set),\n",
       " BIDSPath(\n",
       " root: ds004504-download\n",
       " datatype: eeg\n",
       " basename: sub-079_task-eyesclosed_eeg.set),\n",
       " BIDSPath(\n",
       " root: ds004504-download\n",
       " datatype: eeg\n",
       " basename: sub-080_task-eyesclosed_eeg.set),\n",
       " BIDSPath(\n",
       " root: ds004504-download\n",
       " datatype: eeg\n",
       " basename: sub-081_task-eyesclosed_eeg.set),\n",
       " BIDSPath(\n",
       " root: ds004504-download\n",
       " datatype: eeg\n",
       " basename: sub-082_task-eyesclosed_eeg.set),\n",
       " BIDSPath(\n",
       " root: ds004504-download\n",
       " datatype: eeg\n",
       " basename: sub-083_task-eyesclosed_eeg.set),\n",
       " BIDSPath(\n",
       " root: ds004504-download\n",
       " datatype: eeg\n",
       " basename: sub-084_task-eyesclosed_eeg.set),\n",
       " BIDSPath(\n",
       " root: ds004504-download\n",
       " datatype: eeg\n",
       " basename: sub-085_task-eyesclosed_eeg.set),\n",
       " BIDSPath(\n",
       " root: ds004504-download\n",
       " datatype: eeg\n",
       " basename: sub-086_task-eyesclosed_eeg.set),\n",
       " BIDSPath(\n",
       " root: ds004504-download\n",
       " datatype: eeg\n",
       " basename: sub-087_task-eyesclosed_eeg.set),\n",
       " BIDSPath(\n",
       " root: ds004504-download\n",
       " datatype: eeg\n",
       " basename: sub-088_task-eyesclosed_eeg.set)]"
      ]
     },
     "execution_count": 10,
     "metadata": {},
     "output_type": "execute_result"
    }
   ],
   "source": [
    "subject_paths = []\n",
    "for subject in subjects:\n",
    "    path = mne_bids.BIDSPath(\n",
    "        subject=subject,\n",
    "        task='eyesclosed',\n",
    "        suffix='eeg',\n",
    "        datatype='eeg',\n",
    "        extension='.set',\n",
    "        root=BIDS_ROOT\n",
    "    )\n",
    "    subject_paths.append(path)\n",
    "\n",
    "subject_paths\n"
   ]
  },
  {
   "cell_type": "code",
   "execution_count": null,
   "metadata": {},
   "outputs": [],
   "source": [
    "sfreq = []\n",
    "group = []\n",
    "for subject_path in subject_paths:\n",
    "    raw = mne_bids.read_raw_bids(subject_path)\n",
    "    sfreq.append(raw.info['sfreq'])\n",
    "    group.append(raw.info['subject_info']['Group'])\n",
    "set(sfreq)\n",
    "group"
   ]
  },
  {
   "cell_type": "code",
   "execution_count": 12,
   "metadata": {},
   "outputs": [
    {
     "data": {
      "text/plain": [
       "'C'"
      ]
     },
     "execution_count": 12,
     "metadata": {},
     "output_type": "execute_result"
    }
   ],
   "source": [
    "group[45]"
   ]
  },
  {
   "cell_type": "markdown",
   "metadata": {},
   "source": [
    "## Extracting Features\n",
    "### Edge Features"
   ]
  },
  {
   "cell_type": "code",
   "execution_count": 9,
   "metadata": {},
   "outputs": [],
   "source": [
    "from scipy.signal import csd, hilbert, welch\n",
    "from scipy import stats\n",
    "from scipy.integrate import simps\n",
    "import numpy as np\n",
    "from abc import ABC, abstractmethod\n",
    "from sklearn import preprocessing\n",
    "import torch\n",
    "from itertools import product\n",
    "from torch_geometric.data import Data\n"
   ]
  },
  {
   "cell_type": "code",
   "execution_count": 10,
   "metadata": {},
   "outputs": [],
   "source": [
    "SF = 500.0\n",
    "NUM_CHANNELS = 19"
   ]
  },
  {
   "cell_type": "code",
   "execution_count": 11,
   "metadata": {},
   "outputs": [],
   "source": [
    "def normalize(data: np.ndarray, dim=1, norm=\"l2\") -> np.ndarray:\n",
    "    \"\"\"Normalizes the data channel by channel\n",
    "\n",
    "    Args:\n",
    "        data (np.ndarray): Raw EEG signal\n",
    "        dim (int, optional): 0 columns, 1 rows. The dimension where \n",
    "        the mean and the std would be computed.\n",
    "\n",
    "    Returns:\n",
    "        np.ndarray: Channel-wise normalized matrix\n",
    "    \"\"\"\n",
    "    normalized_data = preprocessing.normalize(data, axis=dim, norm=norm)\n",
    "    return normalized_data"
   ]
  },
  {
   "cell_type": "code",
   "execution_count": 12,
   "metadata": {},
   "outputs": [],
   "source": [
    "class BaseEdgeExtractor(ABC):\n",
    "    \n",
    "    @abstractmethod\n",
    "    def __init__(self) -> None: ...\n",
    "    \n",
    "    @abstractmethod\n",
    "    def extract_features(self, data) -> None: ...\n",
    "        \n",
    "    \n",
    "    \n",
    "class PearsonExtractor(BaseEdgeExtractor):\n",
    "    def __init__(self, **kwargs) -> None:\n",
    "        self.th = kwargs.get(\"th\", None)\n",
    "        self.normalize = kwargs.get(\"normalize\", False)\n",
    "    \n",
    "    def extract_features(self, data) -> None:\n",
    "        if self.normalize:\n",
    "            data = normalize(data)\n",
    "            \n",
    "        corr_matrix = np.corrcoef(data)\n",
    "        \n",
    "        # Set to 0 values undes a\n",
    "        if self.th:\n",
    "            corr_matrix = np.where(\n",
    "                abs(corr_matrix) < self.th, 0, corr_matrix\n",
    "            )\n",
    "        \n",
    "        # Set to 0 self-loops\n",
    "        corr_matrix = np.where(\n",
    "            corr_matrix == 1, 0, corr_matrix\n",
    "        )\n",
    "        \n",
    "        #corr_matrix = torch.from_numpy(corr_matrix)\n",
    "        return corr_matrix\n",
    "    \n",
    "    \n",
    "class PLIExtractor(BaseEdgeExtractor):\n",
    "    def __init__(self, **kwargs) -> None:\n",
    "        self.th = kwargs.get(\"th\", None)\n",
    "        self.normalize = kwargs.get(\"normalize\", False)\n",
    "        self.fs = kwargs.get(\"fs\", 500.0)\n",
    "        \n",
    "        \n",
    "    \n",
    "    def extract_features(self, data) -> None:\n",
    "        rows, cols = data.shape\n",
    "        PLImatrix = np.zeros((rows, rows))    \n",
    "        \n",
    "        hilbert_transform = np.imag(hilbert(data))\n",
    "        \n",
    "        if self.normalize:\n",
    "            data = normalize(data)\n",
    "            \n",
    "        for row in range(rows):\n",
    "            for col in range(rows):\n",
    "                PLImatrix[row, col] = np.abs(np.mean(np.exp(1j * (hilbert_transform[row] - hilbert_transform[col]))))  \n",
    "          \n",
    "        # Set to 0 values undes a th\n",
    "        if self.th:\n",
    "            PLImatrix = np.where(\n",
    "                abs(PLImatrix) < self.th, 0, PLImatrix\n",
    "            )\n",
    "        \n",
    "        # Remove self loops\n",
    "        PLImatrix = np.where(\n",
    "                abs(PLImatrix) == 1.0, 0, PLImatrix\n",
    "            )\n",
    "        \n",
    "        #PLImatrix = torch.from_numpy(PLImatrix)\n",
    "        return PLImatrix\n",
    "    \n",
    "    \n",
    "class SpectralCoherenceExtractor(BaseEdgeExtractor):\n",
    "    def __init__(self, **kwargs) -> None:\n",
    "        self.th = kwargs.get(\"th\", None)\n",
    "        self.normalize = kwargs.get(\"normalize\", False)\n",
    "        \n",
    "        \n",
    "    \n",
    "    def _compute_coherence(ch1, ch2, fs=SF):\n",
    "        _, cross_spectral = csd(ch1, ch2,  fs=SF)\n",
    "        coherence = np.abs(np.mean(cross_spectral)) / np.sqrt(np.mean(welch(ch1)) * np.mean(welch(ch2)))\n",
    "        return coherence\n",
    "    \n",
    "    def extract_features(self, data) -> None:\n",
    "        if self.normalize:\n",
    "            data = normalize(data)\n",
    "            \n",
    "        \n",
    "        coherence = [[np.abs(np.mean(csd(ch1, ch2, fs=256)[1])) / np.sqrt(np.mean(welch(ch1)) * np.mean(welch(ch2))) for ch2 in data] for ch1 in data]#[[ self._compute_coherence(channel1, channel2) for channel2 in data ] for channel1 in data]\n",
    "        #coherence = [[np.abs(np.mean(csd(ch1, ch2, fs=256)[1]))  for ch2 in data] for ch1 in data]\n",
    "        # Set to 0 values undes a\n",
    "        if self.th:\n",
    "            coherence = np.where(\n",
    "                abs(coherence) < self.th, 0, coherence\n",
    "            )\n",
    "        \n",
    "        # Set to 0 self-loops\n",
    "        coherence = np.where(\n",
    "            coherence == 1, 0, coherence\n",
    "        )\n",
    "        \n",
    "        #coherence = torch.tensor(coherence)\n",
    "        return coherence"
   ]
  },
  {
   "cell_type": "markdown",
   "metadata": {},
   "source": [
    "### Node Features"
   ]
  },
  {
   "cell_type": "code",
   "execution_count": 13,
   "metadata": {},
   "outputs": [],
   "source": [
    "#node features \n",
    "class BaseNodeExtractor(ABC):\n",
    "    \n",
    "    @abstractmethod\n",
    "    def __init__(self) -> None: ...\n",
    "    \n",
    "    @abstractmethod\n",
    "    def extract_features(self, data: np.ndarray): ...\n",
    "    \n",
    "    \n",
    "class RawExtractor(BaseNodeExtractor):\n",
    "    \n",
    "    def __init__(self, **kwargs) -> None:\n",
    "        super().__init__()\n",
    "        self.normalize = kwargs.get(\"normalize\", False)\n",
    "        self.th = kwargs.get(\"th\", None)\n",
    "        \n",
    "    def extract_features(self, data):\n",
    "        if self.normalize:\n",
    "            data = normalize(data)\n",
    "            \n",
    "        if self.th:\n",
    "            data = np.where(\n",
    "                abs(data) < self.th, 0, data\n",
    "            )\n",
    "            \n",
    "        node_features = torch.from_numpy(data)\n",
    "        return node_features\n",
    "    \n",
    "    \n",
    "class StadisticalMomentsExtractor(BaseNodeExtractor):\n",
    "    \n",
    "    def __init__(self) -> None:\n",
    "        \"\"\"StadisticalMommentExtractor computes the: \n",
    "            - Mean\n",
    "            - Std\n",
    "            - Entropy\n",
    "            - Variance\n",
    "            - Skewness\n",
    "            - Kurtosis\n",
    "            \n",
    "        For every channel independently and returns a tensor\n",
    "        of NUMBER_CHANNELS x STATISTICAL_MOMENTS (19x6) \n",
    "        \"\"\"\n",
    "        super().__init__()\n",
    "        \n",
    "        \n",
    "    def extract_features(self, data):\n",
    "        mean = np.mean(data, axis=1)\n",
    "        std = np.std(data, axis=1)\n",
    "        variance = np.var(data, axis=1)\n",
    "        entropy = stats.differential_entropy(data, axis=1)\n",
    "        skewness = stats.skew(data, axis=1)\n",
    "        kurtosis = stats.kurtosis(data, axis=1)\n",
    "        node_features = np.array(\n",
    "            [\n",
    "                mean, std, variance, entropy, skewness, kurtosis\n",
    "            ]\n",
    "        ).T\n",
    "        #node_features = torch.from_numpy(features)\n",
    "        return node_features\n",
    "    \n",
    "    \n",
    "class CWTExtractor(BaseNodeExtractor):\n",
    "    \n",
    "    def __init__(self) -> None:\n",
    "        super().__init__()\n",
    "        \n",
    "        \n",
    "    def extract_features(self, data):\n",
    "        node_features = torch.from_numpy(data)\n",
    "        return node_features\n",
    "    \n",
    "    \n",
    "    \n",
    "class PSDExtractor(BaseNodeExtractor):\n",
    "    def __init__(self) -> None:\n",
    "        super().__init__()\n",
    "        self.bands = {\n",
    "            \"delta\": [1, 4],\n",
    "            \"theta\": [4, 7.5],\n",
    "            \"alpha\": [7.5, 13],\n",
    "            \"lower_beta\": [13, 16],\n",
    "            \"higher_beta\": [16, 30], \n",
    "            \"gamma\": [30, 40]\n",
    "        }\n",
    "        \n",
    "    def _bandpower(self, data, sf, band, window_sec=None, relative=True):\n",
    "        \"\"\"Compute the average power of the signal x in a specific frequency band.\n",
    "        Parameters\n",
    "        ----------\n",
    "        data : 1d-array\n",
    "            Input signal in the time-domain.\n",
    "        sf : float\n",
    "            Sampling frequency of the data.\n",
    "        band : list\n",
    "            Lower and upper frequencies of the band of interest.\n",
    "        window_sec : float\n",
    "            Length of each window in seconds.\n",
    "            If None, window_sec = (1 / min(band)) * 2\n",
    "        relative : boolean\n",
    "            If True, return the relative power (= divided by the total power of the signal).\n",
    "            If False (default), return the absolute power.\n",
    "\n",
    "        Return\n",
    "        ------\n",
    "        bp : float\n",
    "            Absolute or relative band power.\n",
    "        \n",
    "        This function its taken from: https://raphaelvallat.com/bandpower.html\n",
    "        \"\"\"\n",
    "        band = np.asarray(band)\n",
    "        low, high = band\n",
    "\n",
    "        # Define window length\n",
    "        if window_sec is not None:\n",
    "            nperseg = window_sec * sf\n",
    "        else:\n",
    "            nperseg = (2 / low) * sf\n",
    "\n",
    "        # Compute the modified periodogram (Welch)\n",
    "        freqs, psd = welch(data, sf, nperseg=nperseg, nfft=2048)\n",
    "\n",
    "        # Frequency resolution\n",
    "        freq_res = freqs[1] - freqs[0]\n",
    "\n",
    "        # Find closest indices of band in frequency vector\n",
    "        idx_band = np.logical_and(freqs >= low, freqs <= high)\n",
    "\n",
    "        # Integral approximation of the spectrum using Simpson's rule.\n",
    "        bp = simps(psd[idx_band], dx=freq_res)\n",
    "\n",
    "        if relative:\n",
    "            bp /= simps(psd, dx=freq_res)\n",
    "        \n",
    "        \n",
    "        return bp\n",
    "        \n",
    "    def extract_features(self, data):\n",
    "        psds = [[self._bandpower(channel, SF, band) for band in self.bands.values()] for channel in data]\n",
    "        #psds = torch.tensor(psds)\n",
    "        return psds\n",
    "    \n"
   ]
  },
  {
   "cell_type": "markdown",
   "metadata": {},
   "source": [
    "### Graph Builder"
   ]
  },
  {
   "cell_type": "code",
   "execution_count": 14,
   "metadata": {},
   "outputs": [],
   "source": [
    "class BaseGraphBuilder(ABC):\n",
    "    \n",
    "    @abstractmethod\n",
    "    def __init__(self, normalize_nodes=False, normalize_edges=False) -> None: \n",
    "        self.node_feature_extractor = None\n",
    "        self.edge_feature_extractor = None\n",
    "        \n",
    "    \n",
    "    @abstractmethod\n",
    "    def build(self, data, label):\n",
    "        node_features = self.node_feature_extractor.extract_features(data)\n",
    "        edge_features = self.edge_feature_extractor.extract_features(data)\n",
    "        format_label = self._format_label(label)\n",
    "        edge_index = torch.tensor(\n",
    "            [[a, b] for a, b in product(range(NUM_CHANNELS), range(NUM_CHANNELS))]\n",
    "        ).t().contiguous()\n",
    "        \n",
    "        graph = Data(\n",
    "            x=node_features,\n",
    "            edge_attr=edge_features,\n",
    "            label=format_label,\n",
    "            edge_index=edge_index\n",
    "        )\n",
    "        \n",
    "        return graph\n",
    "    \n",
    "    def _onehot_label(self, label)-> torch.Tensor:\n",
    "        if label == \"A\":\n",
    "            return torch.tensor([[1, 0, 0]], dtype=torch.float64)\n",
    "        if label == \"C\":\n",
    "            return torch.tensor([[0, 1, 0]], dtype=torch.float64)\n",
    "        if label == \"F\":\n",
    "            return torch.tensor([[0, 0, 1]], dtype=torch.float64)\n",
    "        \n",
    "    def _format_label(self, label) -> torch.Tensor:\n",
    "        label_dict = {\"A\": 1, \"C\": 0, \"F\": 2} # original: {\"AD\": 0, \"HC\": 1, \"MCI\": 2}\n",
    "        return label_dict[label]\n",
    "        \n",
    "            \n",
    "class RawAndPearson(BaseGraphBuilder):\n",
    "    def __init__(self, normalize_nodes=False, normalize_edges=False, th=None) -> None:\n",
    "        super().__init__()\n",
    "        self.node_feature_extractor = RawExtractor(normalize=normalize_nodes)\n",
    "        self.edge_feature_extractor = PearsonExtractor(normalize=normalize_edges, th=th)\n",
    "        \n",
    "        \n",
    "    def build(self, data, label):\n",
    "        return super().build(data, label)\n",
    "    \n",
    "\n",
    "class MomentsAndPearson(BaseGraphBuilder):\n",
    "    def __init__(self, normalize_nodes=False, normalize_edges=False, th=None) -> None:\n",
    "        super().__init__(normalize_nodes=normalize_nodes, normalize_edges=normalize_nodes)\n",
    "        self.node_feature_extractor = StadisticalMomentsExtractor()\n",
    "        self.edge_feature_extractor = PearsonExtractor(th=th)\n",
    "        \n",
    "    def build(self, data, label):\n",
    "        return super().build(data, label)\n",
    "    \n",
    "    \n",
    "class MomentsAndPLI(BaseGraphBuilder):\n",
    "    def __init__(self, normalize_nodes=False, normalize_edges=False) -> None:\n",
    "        super().__init__(normalize_nodes=normalize_nodes, normalize_edges=normalize_nodes)\n",
    "        self.node_feature_extractor = StadisticalMomentsExtractor()\n",
    "        self.edge_feature_extractor = PLIExtractor(th=0.1)\n",
    "        \n",
    "    def build(self, data, label):\n",
    "        return super().build(data, label)\n",
    "    \n",
    "    \n",
    "class RawAndPLI(BaseGraphBuilder):\n",
    "    def __init__(self, normalize_nodes=False, normalize_edges=False) -> None:\n",
    "        super().__init__(normalize_nodes=normalize_nodes, normalize_edges=normalize_nodes)\n",
    "        self.node_feature_extractor = RawExtractor(normalize=normalize_nodes)\n",
    "        self.edge_feature_extractor = PLIExtractor()\n",
    "        \n",
    "    def build(self, data, label):\n",
    "        return super().build(data, label)\n",
    "    \n",
    "    \n",
    "class PSDAndCSD(BaseGraphBuilder):\n",
    "    def __init__(self, normalize_nodes=False, normalize_edges=False) -> None:\n",
    "        super().__init__(normalize_nodes=normalize_nodes, normalize_edges=normalize_nodes)\n",
    "        self.node_feature_extractor = PSDExtractor()\n",
    "        self.edge_feature_extractor = SpectralCoherenceExtractor()\n",
    "        \n",
    "    def build(self, data, label):\n",
    "        return super().build(data, label)\n",
    "    \n",
    "    \n",
    "class PSDAndPearson(BaseGraphBuilder):\n",
    "    def __init__(self, normalize_nodes=False, normalize_edges=False, th=None) -> None:\n",
    "        super().__init__(normalize_nodes=normalize_nodes, normalize_edges=normalize_nodes)\n",
    "        self.node_feature_extractor = PSDExtractor()\n",
    "        self.edge_feature_extractor = PearsonExtractor(th=th)\n",
    "        \n",
    "    def build(self, data, label):\n",
    "        return super().build(data, label)\n",
    "    \n",
    "    \n",
    "\n",
    "class OfflineGeneric:\n",
    "    \n",
    "    def __init__(self, normalize_nodes=False, normalize_edges=False, th=None) -> None:\n",
    "        super().__init__()\n",
    "        self.node_feature_extractor = RawExtractor(normalize=normalize_nodes)\n",
    "        self.edge_feature_extractor = RawExtractor(normalize=normalize_edges, th=th)\n",
    "        \n",
    "\n",
    "    def build(self, node_data, edge_data, label):\n",
    "        node_features = self.node_feature_extractor.extract_features(node_data)\n",
    "        edge_features = self.edge_feature_extractor.extract_features(edge_data)\n",
    "        format_label = self._format_label(label)\n",
    "        edge_index = torch.tensor(\n",
    "            [[a, b] for a, b in product(range(NUM_CHANNELS), range(NUM_CHANNELS))]\n",
    "        ).t().contiguous()\n",
    "        \n",
    "        graph = Data(\n",
    "            x=node_features,\n",
    "            edge_attr=edge_features,\n",
    "            label=format_label,\n",
    "            edge_index=edge_index\n",
    "        )\n",
    "        return graph\n",
    "    \n",
    "    def _format_label(self, label) -> torch.Tensor:\n",
    "        label_dict = {\"A\": 0, \"C\": 1, \"F\": 2}\n",
    "        return label_dict[label]"
   ]
  },
  {
   "cell_type": "code",
   "execution_count": 15,
   "metadata": {},
   "outputs": [
    {
     "name": "stdout",
     "output_type": "stream",
     "text": [
      "Reading channel info from ds004504-download\\sub-001\\eeg\\sub-001_task-eyesclosed_channels.tsv.\n"
     ]
    },
    {
     "name": "stderr",
     "output_type": "stream",
     "text": [
      "C:\\Users\\mashh\\AppData\\Local\\Temp\\ipykernel_18244\\1363543725.py:4: RuntimeWarning: Data will be preloaded. preload=False or a string preload is not supported when the data is stored in the .set file\n",
      "  raw = mne_bids.read_raw_bids(subject_paths[0])\n",
      "C:\\Users\\mashh\\AppData\\Local\\Temp\\ipykernel_18244\\1363543725.py:4: RuntimeWarning: Did not find any events.tsv associated with sub-001_task-eyesclosed.\n",
      "\n",
      "The search_str was \"ds004504-download\\sub-001\\**\\eeg\\sub-001*events.tsv\"\n",
      "  raw = mne_bids.read_raw_bids(subject_paths[0])\n"
     ]
    }
   ],
   "source": [
    "psd_pearson = PSDAndPearson()\n",
    "PSD_PEARSON_PATH = Path('graphs/psd_pearson')\n",
    "# Generating 1 graph\n",
    "raw = mne_bids.read_raw_bids(subject_paths[0])\n",
    "data = raw.get_data()\n",
    "label = raw.info['subject_info']['Group']\n",
    "\n"
   ]
  },
  {
   "cell_type": "code",
   "execution_count": 16,
   "metadata": {},
   "outputs": [],
   "source": [
    "graph = psd_pearson.build(data, label)"
   ]
  },
  {
   "cell_type": "code",
   "execution_count": 17,
   "metadata": {},
   "outputs": [
    {
     "data": {
      "text/plain": [
       "Data(x=[19], edge_index=[2, 361], edge_attr=[19, 19], label=1)"
      ]
     },
     "execution_count": 17,
     "metadata": {},
     "output_type": "execute_result"
    }
   ],
   "source": [
    "graph"
   ]
  },
  {
   "cell_type": "code",
   "execution_count": 18,
   "metadata": {},
   "outputs": [],
   "source": [
    "torch.save(graph, PSD_PEARSON_PATH.joinpath(Path(f'{str(subjects[0])}.pt')))\n"
   ]
  },
  {
   "cell_type": "code",
   "execution_count": 19,
   "metadata": {},
   "outputs": [],
   "source": [
    "# counter = 0\n",
    "# for subject_path in subject_paths:\n",
    "#     raw = mne_bids.read_raw_bids(subject_path)\n",
    "#     data = raw.get_data()\n",
    "#     label = raw.info['subject_info']['Group']\n",
    "#     graph = psd_pearson.build(data, label)\n",
    "#     torch.save(graph, PSD_PEARSON_PATH.joinpath(Path(f'{str(subjects[counter])}.pt')))\n",
    "#     counter += 1"
   ]
  },
  {
   "cell_type": "code",
   "execution_count": 23,
   "metadata": {},
   "outputs": [
    {
     "name": "stdout",
     "output_type": "stream",
     "text": [
      "Reading channel info from ds004504-download\\sub-001\\eeg\\sub-001_task-eyesclosed_channels.tsv.\n"
     ]
    },
    {
     "name": "stderr",
     "output_type": "stream",
     "text": [
      "C:\\Users\\mashh\\AppData\\Local\\Temp\\ipykernel_18244\\4265974583.py:9: RuntimeWarning: Data will be preloaded. preload=False or a string preload is not supported when the data is stored in the .set file\n",
      "  raw = mne_bids.read_raw_bids(subject_paths[j])\n",
      "C:\\Users\\mashh\\AppData\\Local\\Temp\\ipykernel_18244\\4265974583.py:9: RuntimeWarning: Did not find any events.tsv associated with sub-001_task-eyesclosed.\n",
      "\n",
      "The search_str was \"ds004504-download\\sub-001\\**\\eeg\\sub-001*events.tsv\"\n",
      "  raw = mne_bids.read_raw_bids(subject_paths[j])\n"
     ]
    },
    {
     "name": "stdout",
     "output_type": "stream",
     "text": [
      "Reading channel info from ds004504-download\\sub-002\\eeg\\sub-002_task-eyesclosed_channels.tsv.\n"
     ]
    },
    {
     "name": "stderr",
     "output_type": "stream",
     "text": [
      "C:\\Users\\mashh\\AppData\\Local\\Temp\\ipykernel_18244\\4265974583.py:9: RuntimeWarning: Data will be preloaded. preload=False or a string preload is not supported when the data is stored in the .set file\n",
      "  raw = mne_bids.read_raw_bids(subject_paths[j])\n",
      "C:\\Users\\mashh\\AppData\\Local\\Temp\\ipykernel_18244\\4265974583.py:9: RuntimeWarning: Did not find any events.tsv associated with sub-002_task-eyesclosed.\n",
      "\n",
      "The search_str was \"ds004504-download\\sub-002\\**\\eeg\\sub-002*events.tsv\"\n",
      "  raw = mne_bids.read_raw_bids(subject_paths[j])\n"
     ]
    },
    {
     "name": "stdout",
     "output_type": "stream",
     "text": [
      "Reading channel info from ds004504-download\\sub-003\\eeg\\sub-003_task-eyesclosed_channels.tsv.\n"
     ]
    },
    {
     "name": "stderr",
     "output_type": "stream",
     "text": [
      "C:\\Users\\mashh\\AppData\\Local\\Temp\\ipykernel_18244\\4265974583.py:9: RuntimeWarning: Data will be preloaded. preload=False or a string preload is not supported when the data is stored in the .set file\n",
      "  raw = mne_bids.read_raw_bids(subject_paths[j])\n",
      "C:\\Users\\mashh\\AppData\\Local\\Temp\\ipykernel_18244\\4265974583.py:9: RuntimeWarning: Did not find any events.tsv associated with sub-003_task-eyesclosed.\n",
      "\n",
      "The search_str was \"ds004504-download\\sub-003\\**\\eeg\\sub-003*events.tsv\"\n",
      "  raw = mne_bids.read_raw_bids(subject_paths[j])\n"
     ]
    },
    {
     "name": "stdout",
     "output_type": "stream",
     "text": [
      "Reading channel info from ds004504-download\\sub-004\\eeg\\sub-004_task-eyesclosed_channels.tsv.\n"
     ]
    },
    {
     "name": "stderr",
     "output_type": "stream",
     "text": [
      "C:\\Users\\mashh\\AppData\\Local\\Temp\\ipykernel_18244\\4265974583.py:9: RuntimeWarning: Data will be preloaded. preload=False or a string preload is not supported when the data is stored in the .set file\n",
      "  raw = mne_bids.read_raw_bids(subject_paths[j])\n",
      "C:\\Users\\mashh\\AppData\\Local\\Temp\\ipykernel_18244\\4265974583.py:9: RuntimeWarning: Did not find any events.tsv associated with sub-004_task-eyesclosed.\n",
      "\n",
      "The search_str was \"ds004504-download\\sub-004\\**\\eeg\\sub-004*events.tsv\"\n",
      "  raw = mne_bids.read_raw_bids(subject_paths[j])\n"
     ]
    },
    {
     "name": "stdout",
     "output_type": "stream",
     "text": [
      "Reading channel info from ds004504-download\\sub-005\\eeg\\sub-005_task-eyesclosed_channels.tsv.\n"
     ]
    },
    {
     "name": "stderr",
     "output_type": "stream",
     "text": [
      "C:\\Users\\mashh\\AppData\\Local\\Temp\\ipykernel_18244\\4265974583.py:9: RuntimeWarning: Data will be preloaded. preload=False or a string preload is not supported when the data is stored in the .set file\n",
      "  raw = mne_bids.read_raw_bids(subject_paths[j])\n",
      "C:\\Users\\mashh\\AppData\\Local\\Temp\\ipykernel_18244\\4265974583.py:9: RuntimeWarning: Did not find any events.tsv associated with sub-005_task-eyesclosed.\n",
      "\n",
      "The search_str was \"ds004504-download\\sub-005\\**\\eeg\\sub-005*events.tsv\"\n",
      "  raw = mne_bids.read_raw_bids(subject_paths[j])\n"
     ]
    },
    {
     "name": "stdout",
     "output_type": "stream",
     "text": [
      "Reading channel info from ds004504-download\\sub-006\\eeg\\sub-006_task-eyesclosed_channels.tsv.\n"
     ]
    },
    {
     "name": "stderr",
     "output_type": "stream",
     "text": [
      "C:\\Users\\mashh\\AppData\\Local\\Temp\\ipykernel_18244\\4265974583.py:9: RuntimeWarning: Data will be preloaded. preload=False or a string preload is not supported when the data is stored in the .set file\n",
      "  raw = mne_bids.read_raw_bids(subject_paths[j])\n",
      "C:\\Users\\mashh\\AppData\\Local\\Temp\\ipykernel_18244\\4265974583.py:9: RuntimeWarning: Did not find any events.tsv associated with sub-006_task-eyesclosed.\n",
      "\n",
      "The search_str was \"ds004504-download\\sub-006\\**\\eeg\\sub-006*events.tsv\"\n",
      "  raw = mne_bids.read_raw_bids(subject_paths[j])\n"
     ]
    },
    {
     "name": "stdout",
     "output_type": "stream",
     "text": [
      "Reading channel info from ds004504-download\\sub-007\\eeg\\sub-007_task-eyesclosed_channels.tsv.\n"
     ]
    },
    {
     "name": "stderr",
     "output_type": "stream",
     "text": [
      "C:\\Users\\mashh\\AppData\\Local\\Temp\\ipykernel_18244\\4265974583.py:9: RuntimeWarning: Data will be preloaded. preload=False or a string preload is not supported when the data is stored in the .set file\n",
      "  raw = mne_bids.read_raw_bids(subject_paths[j])\n",
      "C:\\Users\\mashh\\AppData\\Local\\Temp\\ipykernel_18244\\4265974583.py:9: RuntimeWarning: Did not find any events.tsv associated with sub-007_task-eyesclosed.\n",
      "\n",
      "The search_str was \"ds004504-download\\sub-007\\**\\eeg\\sub-007*events.tsv\"\n",
      "  raw = mne_bids.read_raw_bids(subject_paths[j])\n"
     ]
    },
    {
     "name": "stdout",
     "output_type": "stream",
     "text": [
      "Reading channel info from ds004504-download\\sub-008\\eeg\\sub-008_task-eyesclosed_channels.tsv.\n"
     ]
    },
    {
     "name": "stderr",
     "output_type": "stream",
     "text": [
      "C:\\Users\\mashh\\AppData\\Local\\Temp\\ipykernel_18244\\4265974583.py:9: RuntimeWarning: Data will be preloaded. preload=False or a string preload is not supported when the data is stored in the .set file\n",
      "  raw = mne_bids.read_raw_bids(subject_paths[j])\n",
      "C:\\Users\\mashh\\AppData\\Local\\Temp\\ipykernel_18244\\4265974583.py:9: RuntimeWarning: Did not find any events.tsv associated with sub-008_task-eyesclosed.\n",
      "\n",
      "The search_str was \"ds004504-download\\sub-008\\**\\eeg\\sub-008*events.tsv\"\n",
      "  raw = mne_bids.read_raw_bids(subject_paths[j])\n"
     ]
    },
    {
     "name": "stdout",
     "output_type": "stream",
     "text": [
      "Reading channel info from ds004504-download\\sub-009\\eeg\\sub-009_task-eyesclosed_channels.tsv.\n"
     ]
    },
    {
     "name": "stderr",
     "output_type": "stream",
     "text": [
      "C:\\Users\\mashh\\AppData\\Local\\Temp\\ipykernel_18244\\4265974583.py:9: RuntimeWarning: Data will be preloaded. preload=False or a string preload is not supported when the data is stored in the .set file\n",
      "  raw = mne_bids.read_raw_bids(subject_paths[j])\n",
      "C:\\Users\\mashh\\AppData\\Local\\Temp\\ipykernel_18244\\4265974583.py:9: RuntimeWarning: Did not find any events.tsv associated with sub-009_task-eyesclosed.\n",
      "\n",
      "The search_str was \"ds004504-download\\sub-009\\**\\eeg\\sub-009*events.tsv\"\n",
      "  raw = mne_bids.read_raw_bids(subject_paths[j])\n",
      "C:\\Users\\mashh\\AppData\\Local\\Temp\\ipykernel_18244\\4265974583.py:9: RuntimeWarning: Data will be preloaded. preload=False or a string preload is not supported when the data is stored in the .set file\n",
      "  raw = mne_bids.read_raw_bids(subject_paths[j])\n"
     ]
    },
    {
     "name": "stdout",
     "output_type": "stream",
     "text": [
      "Reading channel info from ds004504-download\\sub-010\\eeg\\sub-010_task-eyesclosed_channels.tsv.\n"
     ]
    },
    {
     "name": "stderr",
     "output_type": "stream",
     "text": [
      "C:\\Users\\mashh\\AppData\\Local\\Temp\\ipykernel_18244\\4265974583.py:9: RuntimeWarning: Did not find any events.tsv associated with sub-010_task-eyesclosed.\n",
      "\n",
      "The search_str was \"ds004504-download\\sub-010\\**\\eeg\\sub-010*events.tsv\"\n",
      "  raw = mne_bids.read_raw_bids(subject_paths[j])\n"
     ]
    },
    {
     "name": "stdout",
     "output_type": "stream",
     "text": [
      "Reading channel info from ds004504-download\\sub-011\\eeg\\sub-011_task-eyesclosed_channels.tsv.\n"
     ]
    },
    {
     "name": "stderr",
     "output_type": "stream",
     "text": [
      "C:\\Users\\mashh\\AppData\\Local\\Temp\\ipykernel_18244\\4265974583.py:9: RuntimeWarning: Data will be preloaded. preload=False or a string preload is not supported when the data is stored in the .set file\n",
      "  raw = mne_bids.read_raw_bids(subject_paths[j])\n",
      "C:\\Users\\mashh\\AppData\\Local\\Temp\\ipykernel_18244\\4265974583.py:9: RuntimeWarning: Did not find any events.tsv associated with sub-011_task-eyesclosed.\n",
      "\n",
      "The search_str was \"ds004504-download\\sub-011\\**\\eeg\\sub-011*events.tsv\"\n",
      "  raw = mne_bids.read_raw_bids(subject_paths[j])\n",
      "C:\\Users\\mashh\\AppData\\Local\\Temp\\ipykernel_18244\\4265974583.py:9: RuntimeWarning: Data will be preloaded. preload=False or a string preload is not supported when the data is stored in the .set file\n",
      "  raw = mne_bids.read_raw_bids(subject_paths[j])\n",
      "C:\\Users\\mashh\\AppData\\Local\\Temp\\ipykernel_18244\\4265974583.py:9: RuntimeWarning: Did not find any events.tsv associated with sub-012_task-eyesclosed.\n",
      "\n",
      "The search_str was \"ds004504-download\\sub-012\\**\\eeg\\sub-012*events.tsv\"\n",
      "  raw = mne_bids.read_raw_bids(subject_paths[j])\n"
     ]
    },
    {
     "name": "stdout",
     "output_type": "stream",
     "text": [
      "Reading channel info from ds004504-download\\sub-012\\eeg\\sub-012_task-eyesclosed_channels.tsv.\n",
      "Reading channel info from ds004504-download\\sub-013\\eeg\\sub-013_task-eyesclosed_channels.tsv.\n"
     ]
    },
    {
     "name": "stderr",
     "output_type": "stream",
     "text": [
      "C:\\Users\\mashh\\AppData\\Local\\Temp\\ipykernel_18244\\4265974583.py:9: RuntimeWarning: Data will be preloaded. preload=False or a string preload is not supported when the data is stored in the .set file\n",
      "  raw = mne_bids.read_raw_bids(subject_paths[j])\n",
      "C:\\Users\\mashh\\AppData\\Local\\Temp\\ipykernel_18244\\4265974583.py:9: RuntimeWarning: Did not find any events.tsv associated with sub-013_task-eyesclosed.\n",
      "\n",
      "The search_str was \"ds004504-download\\sub-013\\**\\eeg\\sub-013*events.tsv\"\n",
      "  raw = mne_bids.read_raw_bids(subject_paths[j])\n"
     ]
    },
    {
     "name": "stdout",
     "output_type": "stream",
     "text": [
      "Reading channel info from ds004504-download\\sub-014\\eeg\\sub-014_task-eyesclosed_channels.tsv.\n"
     ]
    },
    {
     "name": "stderr",
     "output_type": "stream",
     "text": [
      "C:\\Users\\mashh\\AppData\\Local\\Temp\\ipykernel_18244\\4265974583.py:9: RuntimeWarning: Data will be preloaded. preload=False or a string preload is not supported when the data is stored in the .set file\n",
      "  raw = mne_bids.read_raw_bids(subject_paths[j])\n",
      "C:\\Users\\mashh\\AppData\\Local\\Temp\\ipykernel_18244\\4265974583.py:9: RuntimeWarning: Did not find any events.tsv associated with sub-014_task-eyesclosed.\n",
      "\n",
      "The search_str was \"ds004504-download\\sub-014\\**\\eeg\\sub-014*events.tsv\"\n",
      "  raw = mne_bids.read_raw_bids(subject_paths[j])\n"
     ]
    },
    {
     "name": "stdout",
     "output_type": "stream",
     "text": [
      "Reading channel info from ds004504-download\\sub-015\\eeg\\sub-015_task-eyesclosed_channels.tsv.\n"
     ]
    },
    {
     "name": "stderr",
     "output_type": "stream",
     "text": [
      "C:\\Users\\mashh\\AppData\\Local\\Temp\\ipykernel_18244\\4265974583.py:9: RuntimeWarning: Data will be preloaded. preload=False or a string preload is not supported when the data is stored in the .set file\n",
      "  raw = mne_bids.read_raw_bids(subject_paths[j])\n",
      "C:\\Users\\mashh\\AppData\\Local\\Temp\\ipykernel_18244\\4265974583.py:9: RuntimeWarning: Did not find any events.tsv associated with sub-015_task-eyesclosed.\n",
      "\n",
      "The search_str was \"ds004504-download\\sub-015\\**\\eeg\\sub-015*events.tsv\"\n",
      "  raw = mne_bids.read_raw_bids(subject_paths[j])\n",
      "C:\\Users\\mashh\\AppData\\Local\\Temp\\ipykernel_18244\\4265974583.py:9: RuntimeWarning: Data will be preloaded. preload=False or a string preload is not supported when the data is stored in the .set file\n",
      "  raw = mne_bids.read_raw_bids(subject_paths[j])\n"
     ]
    },
    {
     "name": "stdout",
     "output_type": "stream",
     "text": [
      "Reading channel info from ds004504-download\\sub-016\\eeg\\sub-016_task-eyesclosed_channels.tsv.\n"
     ]
    },
    {
     "name": "stderr",
     "output_type": "stream",
     "text": [
      "C:\\Users\\mashh\\AppData\\Local\\Temp\\ipykernel_18244\\4265974583.py:9: RuntimeWarning: Did not find any events.tsv associated with sub-016_task-eyesclosed.\n",
      "\n",
      "The search_str was \"ds004504-download\\sub-016\\**\\eeg\\sub-016*events.tsv\"\n",
      "  raw = mne_bids.read_raw_bids(subject_paths[j])\n"
     ]
    },
    {
     "name": "stdout",
     "output_type": "stream",
     "text": [
      "Reading channel info from ds004504-download\\sub-017\\eeg\\sub-017_task-eyesclosed_channels.tsv.\n"
     ]
    },
    {
     "name": "stderr",
     "output_type": "stream",
     "text": [
      "C:\\Users\\mashh\\AppData\\Local\\Temp\\ipykernel_18244\\4265974583.py:9: RuntimeWarning: Data will be preloaded. preload=False or a string preload is not supported when the data is stored in the .set file\n",
      "  raw = mne_bids.read_raw_bids(subject_paths[j])\n",
      "C:\\Users\\mashh\\AppData\\Local\\Temp\\ipykernel_18244\\4265974583.py:9: RuntimeWarning: Did not find any events.tsv associated with sub-017_task-eyesclosed.\n",
      "\n",
      "The search_str was \"ds004504-download\\sub-017\\**\\eeg\\sub-017*events.tsv\"\n",
      "  raw = mne_bids.read_raw_bids(subject_paths[j])\n"
     ]
    },
    {
     "name": "stdout",
     "output_type": "stream",
     "text": [
      "Reading channel info from ds004504-download\\sub-018\\eeg\\sub-018_task-eyesclosed_channels.tsv.\n"
     ]
    },
    {
     "name": "stderr",
     "output_type": "stream",
     "text": [
      "C:\\Users\\mashh\\AppData\\Local\\Temp\\ipykernel_18244\\4265974583.py:9: RuntimeWarning: Data will be preloaded. preload=False or a string preload is not supported when the data is stored in the .set file\n",
      "  raw = mne_bids.read_raw_bids(subject_paths[j])\n",
      "C:\\Users\\mashh\\AppData\\Local\\Temp\\ipykernel_18244\\4265974583.py:9: RuntimeWarning: Did not find any events.tsv associated with sub-018_task-eyesclosed.\n",
      "\n",
      "The search_str was \"ds004504-download\\sub-018\\**\\eeg\\sub-018*events.tsv\"\n",
      "  raw = mne_bids.read_raw_bids(subject_paths[j])\n"
     ]
    },
    {
     "name": "stdout",
     "output_type": "stream",
     "text": [
      "Reading channel info from ds004504-download\\sub-019\\eeg\\sub-019_task-eyesclosed_channels.tsv.\n"
     ]
    },
    {
     "name": "stderr",
     "output_type": "stream",
     "text": [
      "C:\\Users\\mashh\\AppData\\Local\\Temp\\ipykernel_18244\\4265974583.py:9: RuntimeWarning: Data will be preloaded. preload=False or a string preload is not supported when the data is stored in the .set file\n",
      "  raw = mne_bids.read_raw_bids(subject_paths[j])\n",
      "C:\\Users\\mashh\\AppData\\Local\\Temp\\ipykernel_18244\\4265974583.py:9: RuntimeWarning: Did not find any events.tsv associated with sub-019_task-eyesclosed.\n",
      "\n",
      "The search_str was \"ds004504-download\\sub-019\\**\\eeg\\sub-019*events.tsv\"\n",
      "  raw = mne_bids.read_raw_bids(subject_paths[j])\n",
      "C:\\Users\\mashh\\AppData\\Local\\Temp\\ipykernel_18244\\4265974583.py:9: RuntimeWarning: Data will be preloaded. preload=False or a string preload is not supported when the data is stored in the .set file\n",
      "  raw = mne_bids.read_raw_bids(subject_paths[j])\n",
      "C:\\Users\\mashh\\AppData\\Local\\Temp\\ipykernel_18244\\4265974583.py:9: RuntimeWarning: Did not find any events.tsv associated with sub-020_task-eyesclosed.\n",
      "\n",
      "The search_str was \"ds004504-download\\sub-020\\**\\eeg\\sub-020*events.tsv\"\n",
      "  raw = mne_bids.read_raw_bids(subject_paths[j])\n"
     ]
    },
    {
     "name": "stdout",
     "output_type": "stream",
     "text": [
      "Reading channel info from ds004504-download\\sub-020\\eeg\\sub-020_task-eyesclosed_channels.tsv.\n",
      "Reading channel info from ds004504-download\\sub-021\\eeg\\sub-021_task-eyesclosed_channels.tsv.\n"
     ]
    },
    {
     "name": "stderr",
     "output_type": "stream",
     "text": [
      "C:\\Users\\mashh\\AppData\\Local\\Temp\\ipykernel_18244\\4265974583.py:9: RuntimeWarning: Data will be preloaded. preload=False or a string preload is not supported when the data is stored in the .set file\n",
      "  raw = mne_bids.read_raw_bids(subject_paths[j])\n",
      "C:\\Users\\mashh\\AppData\\Local\\Temp\\ipykernel_18244\\4265974583.py:9: RuntimeWarning: Did not find any events.tsv associated with sub-021_task-eyesclosed.\n",
      "\n",
      "The search_str was \"ds004504-download\\sub-021\\**\\eeg\\sub-021*events.tsv\"\n",
      "  raw = mne_bids.read_raw_bids(subject_paths[j])\n"
     ]
    },
    {
     "name": "stdout",
     "output_type": "stream",
     "text": [
      "Reading channel info from ds004504-download\\sub-022\\eeg\\sub-022_task-eyesclosed_channels.tsv.\n"
     ]
    },
    {
     "name": "stderr",
     "output_type": "stream",
     "text": [
      "C:\\Users\\mashh\\AppData\\Local\\Temp\\ipykernel_18244\\4265974583.py:9: RuntimeWarning: Data will be preloaded. preload=False or a string preload is not supported when the data is stored in the .set file\n",
      "  raw = mne_bids.read_raw_bids(subject_paths[j])\n",
      "C:\\Users\\mashh\\AppData\\Local\\Temp\\ipykernel_18244\\4265974583.py:9: RuntimeWarning: Did not find any events.tsv associated with sub-022_task-eyesclosed.\n",
      "\n",
      "The search_str was \"ds004504-download\\sub-022\\**\\eeg\\sub-022*events.tsv\"\n",
      "  raw = mne_bids.read_raw_bids(subject_paths[j])\n"
     ]
    },
    {
     "name": "stdout",
     "output_type": "stream",
     "text": [
      "Reading channel info from ds004504-download\\sub-023\\eeg\\sub-023_task-eyesclosed_channels.tsv.\n"
     ]
    },
    {
     "name": "stderr",
     "output_type": "stream",
     "text": [
      "C:\\Users\\mashh\\AppData\\Local\\Temp\\ipykernel_18244\\4265974583.py:9: RuntimeWarning: Data will be preloaded. preload=False or a string preload is not supported when the data is stored in the .set file\n",
      "  raw = mne_bids.read_raw_bids(subject_paths[j])\n",
      "C:\\Users\\mashh\\AppData\\Local\\Temp\\ipykernel_18244\\4265974583.py:9: RuntimeWarning: Did not find any events.tsv associated with sub-023_task-eyesclosed.\n",
      "\n",
      "The search_str was \"ds004504-download\\sub-023\\**\\eeg\\sub-023*events.tsv\"\n",
      "  raw = mne_bids.read_raw_bids(subject_paths[j])\n"
     ]
    },
    {
     "name": "stdout",
     "output_type": "stream",
     "text": [
      "Reading channel info from ds004504-download\\sub-024\\eeg\\sub-024_task-eyesclosed_channels.tsv.\n"
     ]
    },
    {
     "name": "stderr",
     "output_type": "stream",
     "text": [
      "C:\\Users\\mashh\\AppData\\Local\\Temp\\ipykernel_18244\\4265974583.py:9: RuntimeWarning: Data will be preloaded. preload=False or a string preload is not supported when the data is stored in the .set file\n",
      "  raw = mne_bids.read_raw_bids(subject_paths[j])\n",
      "C:\\Users\\mashh\\AppData\\Local\\Temp\\ipykernel_18244\\4265974583.py:9: RuntimeWarning: Did not find any events.tsv associated with sub-024_task-eyesclosed.\n",
      "\n",
      "The search_str was \"ds004504-download\\sub-024\\**\\eeg\\sub-024*events.tsv\"\n",
      "  raw = mne_bids.read_raw_bids(subject_paths[j])\n"
     ]
    },
    {
     "name": "stdout",
     "output_type": "stream",
     "text": [
      "Reading channel info from ds004504-download\\sub-025\\eeg\\sub-025_task-eyesclosed_channels.tsv.\n"
     ]
    },
    {
     "name": "stderr",
     "output_type": "stream",
     "text": [
      "C:\\Users\\mashh\\AppData\\Local\\Temp\\ipykernel_18244\\4265974583.py:9: RuntimeWarning: Data will be preloaded. preload=False or a string preload is not supported when the data is stored in the .set file\n",
      "  raw = mne_bids.read_raw_bids(subject_paths[j])\n",
      "C:\\Users\\mashh\\AppData\\Local\\Temp\\ipykernel_18244\\4265974583.py:9: RuntimeWarning: Did not find any events.tsv associated with sub-025_task-eyesclosed.\n",
      "\n",
      "The search_str was \"ds004504-download\\sub-025\\**\\eeg\\sub-025*events.tsv\"\n",
      "  raw = mne_bids.read_raw_bids(subject_paths[j])\n"
     ]
    },
    {
     "name": "stdout",
     "output_type": "stream",
     "text": [
      "Reading channel info from ds004504-download\\sub-026\\eeg\\sub-026_task-eyesclosed_channels.tsv.\n"
     ]
    },
    {
     "name": "stderr",
     "output_type": "stream",
     "text": [
      "C:\\Users\\mashh\\AppData\\Local\\Temp\\ipykernel_18244\\4265974583.py:9: RuntimeWarning: Data will be preloaded. preload=False or a string preload is not supported when the data is stored in the .set file\n",
      "  raw = mne_bids.read_raw_bids(subject_paths[j])\n",
      "C:\\Users\\mashh\\AppData\\Local\\Temp\\ipykernel_18244\\4265974583.py:9: RuntimeWarning: Did not find any events.tsv associated with sub-026_task-eyesclosed.\n",
      "\n",
      "The search_str was \"ds004504-download\\sub-026\\**\\eeg\\sub-026*events.tsv\"\n",
      "  raw = mne_bids.read_raw_bids(subject_paths[j])\n"
     ]
    },
    {
     "name": "stdout",
     "output_type": "stream",
     "text": [
      "Reading channel info from ds004504-download\\sub-027\\eeg\\sub-027_task-eyesclosed_channels.tsv.\n"
     ]
    },
    {
     "name": "stderr",
     "output_type": "stream",
     "text": [
      "C:\\Users\\mashh\\AppData\\Local\\Temp\\ipykernel_18244\\4265974583.py:9: RuntimeWarning: Data will be preloaded. preload=False or a string preload is not supported when the data is stored in the .set file\n",
      "  raw = mne_bids.read_raw_bids(subject_paths[j])\n",
      "C:\\Users\\mashh\\AppData\\Local\\Temp\\ipykernel_18244\\4265974583.py:9: RuntimeWarning: Did not find any events.tsv associated with sub-027_task-eyesclosed.\n",
      "\n",
      "The search_str was \"ds004504-download\\sub-027\\**\\eeg\\sub-027*events.tsv\"\n",
      "  raw = mne_bids.read_raw_bids(subject_paths[j])\n"
     ]
    },
    {
     "name": "stdout",
     "output_type": "stream",
     "text": [
      "Reading channel info from ds004504-download\\sub-028\\eeg\\sub-028_task-eyesclosed_channels.tsv.\n"
     ]
    },
    {
     "name": "stderr",
     "output_type": "stream",
     "text": [
      "C:\\Users\\mashh\\AppData\\Local\\Temp\\ipykernel_18244\\4265974583.py:9: RuntimeWarning: Data will be preloaded. preload=False or a string preload is not supported when the data is stored in the .set file\n",
      "  raw = mne_bids.read_raw_bids(subject_paths[j])\n",
      "C:\\Users\\mashh\\AppData\\Local\\Temp\\ipykernel_18244\\4265974583.py:9: RuntimeWarning: Did not find any events.tsv associated with sub-028_task-eyesclosed.\n",
      "\n",
      "The search_str was \"ds004504-download\\sub-028\\**\\eeg\\sub-028*events.tsv\"\n",
      "  raw = mne_bids.read_raw_bids(subject_paths[j])\n"
     ]
    },
    {
     "name": "stdout",
     "output_type": "stream",
     "text": [
      "Reading channel info from ds004504-download\\sub-029\\eeg\\sub-029_task-eyesclosed_channels.tsv.\n"
     ]
    },
    {
     "name": "stderr",
     "output_type": "stream",
     "text": [
      "C:\\Users\\mashh\\AppData\\Local\\Temp\\ipykernel_18244\\4265974583.py:9: RuntimeWarning: Data will be preloaded. preload=False or a string preload is not supported when the data is stored in the .set file\n",
      "  raw = mne_bids.read_raw_bids(subject_paths[j])\n",
      "C:\\Users\\mashh\\AppData\\Local\\Temp\\ipykernel_18244\\4265974583.py:9: RuntimeWarning: Did not find any events.tsv associated with sub-029_task-eyesclosed.\n",
      "\n",
      "The search_str was \"ds004504-download\\sub-029\\**\\eeg\\sub-029*events.tsv\"\n",
      "  raw = mne_bids.read_raw_bids(subject_paths[j])\n"
     ]
    },
    {
     "name": "stdout",
     "output_type": "stream",
     "text": [
      "Reading channel info from ds004504-download\\sub-030\\eeg\\sub-030_task-eyesclosed_channels.tsv.\n"
     ]
    },
    {
     "name": "stderr",
     "output_type": "stream",
     "text": [
      "C:\\Users\\mashh\\AppData\\Local\\Temp\\ipykernel_18244\\4265974583.py:9: RuntimeWarning: Data will be preloaded. preload=False or a string preload is not supported when the data is stored in the .set file\n",
      "  raw = mne_bids.read_raw_bids(subject_paths[j])\n",
      "C:\\Users\\mashh\\AppData\\Local\\Temp\\ipykernel_18244\\4265974583.py:9: RuntimeWarning: Did not find any events.tsv associated with sub-030_task-eyesclosed.\n",
      "\n",
      "The search_str was \"ds004504-download\\sub-030\\**\\eeg\\sub-030*events.tsv\"\n",
      "  raw = mne_bids.read_raw_bids(subject_paths[j])\n",
      "C:\\Users\\mashh\\AppData\\Local\\Temp\\ipykernel_18244\\4265974583.py:9: RuntimeWarning: Data will be preloaded. preload=False or a string preload is not supported when the data is stored in the .set file\n",
      "  raw = mne_bids.read_raw_bids(subject_paths[j])\n"
     ]
    },
    {
     "name": "stdout",
     "output_type": "stream",
     "text": [
      "Reading channel info from ds004504-download\\sub-031\\eeg\\sub-031_task-eyesclosed_channels.tsv.\n"
     ]
    },
    {
     "name": "stderr",
     "output_type": "stream",
     "text": [
      "C:\\Users\\mashh\\AppData\\Local\\Temp\\ipykernel_18244\\4265974583.py:9: RuntimeWarning: Did not find any events.tsv associated with sub-031_task-eyesclosed.\n",
      "\n",
      "The search_str was \"ds004504-download\\sub-031\\**\\eeg\\sub-031*events.tsv\"\n",
      "  raw = mne_bids.read_raw_bids(subject_paths[j])\n"
     ]
    },
    {
     "name": "stdout",
     "output_type": "stream",
     "text": [
      "Reading channel info from ds004504-download\\sub-032\\eeg\\sub-032_task-eyesclosed_channels.tsv.\n"
     ]
    },
    {
     "name": "stderr",
     "output_type": "stream",
     "text": [
      "C:\\Users\\mashh\\AppData\\Local\\Temp\\ipykernel_18244\\4265974583.py:9: RuntimeWarning: Data will be preloaded. preload=False or a string preload is not supported when the data is stored in the .set file\n",
      "  raw = mne_bids.read_raw_bids(subject_paths[j])\n",
      "C:\\Users\\mashh\\AppData\\Local\\Temp\\ipykernel_18244\\4265974583.py:9: RuntimeWarning: Did not find any events.tsv associated with sub-032_task-eyesclosed.\n",
      "\n",
      "The search_str was \"ds004504-download\\sub-032\\**\\eeg\\sub-032*events.tsv\"\n",
      "  raw = mne_bids.read_raw_bids(subject_paths[j])\n"
     ]
    },
    {
     "name": "stdout",
     "output_type": "stream",
     "text": [
      "Reading channel info from ds004504-download\\sub-033\\eeg\\sub-033_task-eyesclosed_channels.tsv.\n"
     ]
    },
    {
     "name": "stderr",
     "output_type": "stream",
     "text": [
      "C:\\Users\\mashh\\AppData\\Local\\Temp\\ipykernel_18244\\4265974583.py:9: RuntimeWarning: Data will be preloaded. preload=False or a string preload is not supported when the data is stored in the .set file\n",
      "  raw = mne_bids.read_raw_bids(subject_paths[j])\n",
      "C:\\Users\\mashh\\AppData\\Local\\Temp\\ipykernel_18244\\4265974583.py:9: RuntimeWarning: Did not find any events.tsv associated with sub-033_task-eyesclosed.\n",
      "\n",
      "The search_str was \"ds004504-download\\sub-033\\**\\eeg\\sub-033*events.tsv\"\n",
      "  raw = mne_bids.read_raw_bids(subject_paths[j])\n"
     ]
    },
    {
     "name": "stdout",
     "output_type": "stream",
     "text": [
      "Reading channel info from ds004504-download\\sub-034\\eeg\\sub-034_task-eyesclosed_channels.tsv.\n"
     ]
    },
    {
     "name": "stderr",
     "output_type": "stream",
     "text": [
      "C:\\Users\\mashh\\AppData\\Local\\Temp\\ipykernel_18244\\4265974583.py:9: RuntimeWarning: Data will be preloaded. preload=False or a string preload is not supported when the data is stored in the .set file\n",
      "  raw = mne_bids.read_raw_bids(subject_paths[j])\n",
      "C:\\Users\\mashh\\AppData\\Local\\Temp\\ipykernel_18244\\4265974583.py:9: RuntimeWarning: Did not find any events.tsv associated with sub-034_task-eyesclosed.\n",
      "\n",
      "The search_str was \"ds004504-download\\sub-034\\**\\eeg\\sub-034*events.tsv\"\n",
      "  raw = mne_bids.read_raw_bids(subject_paths[j])\n"
     ]
    },
    {
     "name": "stdout",
     "output_type": "stream",
     "text": [
      "Reading channel info from ds004504-download\\sub-035\\eeg\\sub-035_task-eyesclosed_channels.tsv.\n"
     ]
    },
    {
     "name": "stderr",
     "output_type": "stream",
     "text": [
      "C:\\Users\\mashh\\AppData\\Local\\Temp\\ipykernel_18244\\4265974583.py:9: RuntimeWarning: Data will be preloaded. preload=False or a string preload is not supported when the data is stored in the .set file\n",
      "  raw = mne_bids.read_raw_bids(subject_paths[j])\n",
      "C:\\Users\\mashh\\AppData\\Local\\Temp\\ipykernel_18244\\4265974583.py:9: RuntimeWarning: Did not find any events.tsv associated with sub-035_task-eyesclosed.\n",
      "\n",
      "The search_str was \"ds004504-download\\sub-035\\**\\eeg\\sub-035*events.tsv\"\n",
      "  raw = mne_bids.read_raw_bids(subject_paths[j])\n"
     ]
    },
    {
     "name": "stdout",
     "output_type": "stream",
     "text": [
      "Reading channel info from ds004504-download\\sub-036\\eeg\\sub-036_task-eyesclosed_channels.tsv.\n"
     ]
    },
    {
     "name": "stderr",
     "output_type": "stream",
     "text": [
      "C:\\Users\\mashh\\AppData\\Local\\Temp\\ipykernel_18244\\4265974583.py:9: RuntimeWarning: Data will be preloaded. preload=False or a string preload is not supported when the data is stored in the .set file\n",
      "  raw = mne_bids.read_raw_bids(subject_paths[j])\n",
      "C:\\Users\\mashh\\AppData\\Local\\Temp\\ipykernel_18244\\4265974583.py:9: RuntimeWarning: Did not find any events.tsv associated with sub-036_task-eyesclosed.\n",
      "\n",
      "The search_str was \"ds004504-download\\sub-036\\**\\eeg\\sub-036*events.tsv\"\n",
      "  raw = mne_bids.read_raw_bids(subject_paths[j])\n"
     ]
    },
    {
     "name": "stdout",
     "output_type": "stream",
     "text": [
      "Reading channel info from ds004504-download\\sub-037\\eeg\\sub-037_task-eyesclosed_channels.tsv.\n"
     ]
    },
    {
     "name": "stderr",
     "output_type": "stream",
     "text": [
      "C:\\Users\\mashh\\AppData\\Local\\Temp\\ipykernel_18244\\4265974583.py:9: RuntimeWarning: Data will be preloaded. preload=False or a string preload is not supported when the data is stored in the .set file\n",
      "  raw = mne_bids.read_raw_bids(subject_paths[j])\n",
      "C:\\Users\\mashh\\AppData\\Local\\Temp\\ipykernel_18244\\4265974583.py:9: RuntimeWarning: Did not find any events.tsv associated with sub-037_task-eyesclosed.\n",
      "\n",
      "The search_str was \"ds004504-download\\sub-037\\**\\eeg\\sub-037*events.tsv\"\n",
      "  raw = mne_bids.read_raw_bids(subject_paths[j])\n",
      "C:\\Users\\mashh\\AppData\\Local\\Temp\\ipykernel_18244\\4265974583.py:9: RuntimeWarning: Data will be preloaded. preload=False or a string preload is not supported when the data is stored in the .set file\n",
      "  raw = mne_bids.read_raw_bids(subject_paths[j])\n",
      "C:\\Users\\mashh\\AppData\\Local\\Temp\\ipykernel_18244\\4265974583.py:9: RuntimeWarning: Did not find any events.tsv associated with sub-038_task-eyesclosed.\n",
      "\n",
      "The search_str was \"ds004504-download\\sub-038\\**\\eeg\\sub-038*events.tsv\"\n",
      "  raw = mne_bids.read_raw_bids(subject_paths[j])\n"
     ]
    },
    {
     "name": "stdout",
     "output_type": "stream",
     "text": [
      "Reading channel info from ds004504-download\\sub-038\\eeg\\sub-038_task-eyesclosed_channels.tsv.\n",
      "Reading channel info from ds004504-download\\sub-039\\eeg\\sub-039_task-eyesclosed_channels.tsv.\n"
     ]
    },
    {
     "name": "stderr",
     "output_type": "stream",
     "text": [
      "C:\\Users\\mashh\\AppData\\Local\\Temp\\ipykernel_18244\\4265974583.py:9: RuntimeWarning: Data will be preloaded. preload=False or a string preload is not supported when the data is stored in the .set file\n",
      "  raw = mne_bids.read_raw_bids(subject_paths[j])\n",
      "C:\\Users\\mashh\\AppData\\Local\\Temp\\ipykernel_18244\\4265974583.py:9: RuntimeWarning: Did not find any events.tsv associated with sub-039_task-eyesclosed.\n",
      "\n",
      "The search_str was \"ds004504-download\\sub-039\\**\\eeg\\sub-039*events.tsv\"\n",
      "  raw = mne_bids.read_raw_bids(subject_paths[j])\n",
      "C:\\Users\\mashh\\AppData\\Local\\Temp\\ipykernel_18244\\4265974583.py:9: RuntimeWarning: Data will be preloaded. preload=False or a string preload is not supported when the data is stored in the .set file\n",
      "  raw = mne_bids.read_raw_bids(subject_paths[j])\n"
     ]
    },
    {
     "name": "stdout",
     "output_type": "stream",
     "text": [
      "Reading channel info from ds004504-download\\sub-040\\eeg\\sub-040_task-eyesclosed_channels.tsv.\n"
     ]
    },
    {
     "name": "stderr",
     "output_type": "stream",
     "text": [
      "C:\\Users\\mashh\\AppData\\Local\\Temp\\ipykernel_18244\\4265974583.py:9: RuntimeWarning: Did not find any events.tsv associated with sub-040_task-eyesclosed.\n",
      "\n",
      "The search_str was \"ds004504-download\\sub-040\\**\\eeg\\sub-040*events.tsv\"\n",
      "  raw = mne_bids.read_raw_bids(subject_paths[j])\n",
      "C:\\Users\\mashh\\AppData\\Local\\Temp\\ipykernel_18244\\4265974583.py:9: RuntimeWarning: Data will be preloaded. preload=False or a string preload is not supported when the data is stored in the .set file\n",
      "  raw = mne_bids.read_raw_bids(subject_paths[j])\n",
      "C:\\Users\\mashh\\AppData\\Local\\Temp\\ipykernel_18244\\4265974583.py:9: RuntimeWarning: Did not find any events.tsv associated with sub-041_task-eyesclosed.\n",
      "\n",
      "The search_str was \"ds004504-download\\sub-041\\**\\eeg\\sub-041*events.tsv\"\n",
      "  raw = mne_bids.read_raw_bids(subject_paths[j])\n"
     ]
    },
    {
     "name": "stdout",
     "output_type": "stream",
     "text": [
      "Reading channel info from ds004504-download\\sub-041\\eeg\\sub-041_task-eyesclosed_channels.tsv.\n",
      "Reading channel info from ds004504-download\\sub-042\\eeg\\sub-042_task-eyesclosed_channels.tsv.\n"
     ]
    },
    {
     "name": "stderr",
     "output_type": "stream",
     "text": [
      "C:\\Users\\mashh\\AppData\\Local\\Temp\\ipykernel_18244\\4265974583.py:9: RuntimeWarning: Data will be preloaded. preload=False or a string preload is not supported when the data is stored in the .set file\n",
      "  raw = mne_bids.read_raw_bids(subject_paths[j])\n",
      "C:\\Users\\mashh\\AppData\\Local\\Temp\\ipykernel_18244\\4265974583.py:9: RuntimeWarning: Did not find any events.tsv associated with sub-042_task-eyesclosed.\n",
      "\n",
      "The search_str was \"ds004504-download\\sub-042\\**\\eeg\\sub-042*events.tsv\"\n",
      "  raw = mne_bids.read_raw_bids(subject_paths[j])\n"
     ]
    },
    {
     "name": "stdout",
     "output_type": "stream",
     "text": [
      "Reading channel info from ds004504-download\\sub-043\\eeg\\sub-043_task-eyesclosed_channels.tsv.\n"
     ]
    },
    {
     "name": "stderr",
     "output_type": "stream",
     "text": [
      "C:\\Users\\mashh\\AppData\\Local\\Temp\\ipykernel_18244\\4265974583.py:9: RuntimeWarning: Data will be preloaded. preload=False or a string preload is not supported when the data is stored in the .set file\n",
      "  raw = mne_bids.read_raw_bids(subject_paths[j])\n",
      "C:\\Users\\mashh\\AppData\\Local\\Temp\\ipykernel_18244\\4265974583.py:9: RuntimeWarning: Did not find any events.tsv associated with sub-043_task-eyesclosed.\n",
      "\n",
      "The search_str was \"ds004504-download\\sub-043\\**\\eeg\\sub-043*events.tsv\"\n",
      "  raw = mne_bids.read_raw_bids(subject_paths[j])\n",
      "C:\\Users\\mashh\\AppData\\Local\\Temp\\ipykernel_18244\\4265974583.py:9: RuntimeWarning: Data will be preloaded. preload=False or a string preload is not supported when the data is stored in the .set file\n",
      "  raw = mne_bids.read_raw_bids(subject_paths[j])\n",
      "C:\\Users\\mashh\\AppData\\Local\\Temp\\ipykernel_18244\\4265974583.py:9: RuntimeWarning: Did not find any events.tsv associated with sub-044_task-eyesclosed.\n",
      "\n",
      "The search_str was \"ds004504-download\\sub-044\\**\\eeg\\sub-044*events.tsv\"\n",
      "  raw = mne_bids.read_raw_bids(subject_paths[j])\n"
     ]
    },
    {
     "name": "stdout",
     "output_type": "stream",
     "text": [
      "Reading channel info from ds004504-download\\sub-044\\eeg\\sub-044_task-eyesclosed_channels.tsv.\n",
      "Reading channel info from ds004504-download\\sub-045\\eeg\\sub-045_task-eyesclosed_channels.tsv.\n"
     ]
    },
    {
     "name": "stderr",
     "output_type": "stream",
     "text": [
      "C:\\Users\\mashh\\AppData\\Local\\Temp\\ipykernel_18244\\4265974583.py:9: RuntimeWarning: Data will be preloaded. preload=False or a string preload is not supported when the data is stored in the .set file\n",
      "  raw = mne_bids.read_raw_bids(subject_paths[j])\n",
      "C:\\Users\\mashh\\AppData\\Local\\Temp\\ipykernel_18244\\4265974583.py:9: RuntimeWarning: Did not find any events.tsv associated with sub-045_task-eyesclosed.\n",
      "\n",
      "The search_str was \"ds004504-download\\sub-045\\**\\eeg\\sub-045*events.tsv\"\n",
      "  raw = mne_bids.read_raw_bids(subject_paths[j])\n"
     ]
    },
    {
     "name": "stdout",
     "output_type": "stream",
     "text": [
      "Reading channel info from ds004504-download\\sub-046\\eeg\\sub-046_task-eyesclosed_channels.tsv.\n"
     ]
    },
    {
     "name": "stderr",
     "output_type": "stream",
     "text": [
      "C:\\Users\\mashh\\AppData\\Local\\Temp\\ipykernel_18244\\4265974583.py:9: RuntimeWarning: Data will be preloaded. preload=False or a string preload is not supported when the data is stored in the .set file\n",
      "  raw = mne_bids.read_raw_bids(subject_paths[j])\n",
      "C:\\Users\\mashh\\AppData\\Local\\Temp\\ipykernel_18244\\4265974583.py:9: RuntimeWarning: Did not find any events.tsv associated with sub-046_task-eyesclosed.\n",
      "\n",
      "The search_str was \"ds004504-download\\sub-046\\**\\eeg\\sub-046*events.tsv\"\n",
      "  raw = mne_bids.read_raw_bids(subject_paths[j])\n"
     ]
    },
    {
     "name": "stdout",
     "output_type": "stream",
     "text": [
      "Reading channel info from ds004504-download\\sub-047\\eeg\\sub-047_task-eyesclosed_channels.tsv.\n"
     ]
    },
    {
     "name": "stderr",
     "output_type": "stream",
     "text": [
      "C:\\Users\\mashh\\AppData\\Local\\Temp\\ipykernel_18244\\4265974583.py:9: RuntimeWarning: Data will be preloaded. preload=False or a string preload is not supported when the data is stored in the .set file\n",
      "  raw = mne_bids.read_raw_bids(subject_paths[j])\n",
      "C:\\Users\\mashh\\AppData\\Local\\Temp\\ipykernel_18244\\4265974583.py:9: RuntimeWarning: Did not find any events.tsv associated with sub-047_task-eyesclosed.\n",
      "\n",
      "The search_str was \"ds004504-download\\sub-047\\**\\eeg\\sub-047*events.tsv\"\n",
      "  raw = mne_bids.read_raw_bids(subject_paths[j])\n",
      "C:\\Users\\mashh\\AppData\\Local\\Temp\\ipykernel_18244\\4265974583.py:9: RuntimeWarning: Data will be preloaded. preload=False or a string preload is not supported when the data is stored in the .set file\n",
      "  raw = mne_bids.read_raw_bids(subject_paths[j])\n"
     ]
    },
    {
     "name": "stdout",
     "output_type": "stream",
     "text": [
      "Reading channel info from ds004504-download\\sub-048\\eeg\\sub-048_task-eyesclosed_channels.tsv.\n"
     ]
    },
    {
     "name": "stderr",
     "output_type": "stream",
     "text": [
      "C:\\Users\\mashh\\AppData\\Local\\Temp\\ipykernel_18244\\4265974583.py:9: RuntimeWarning: Did not find any events.tsv associated with sub-048_task-eyesclosed.\n",
      "\n",
      "The search_str was \"ds004504-download\\sub-048\\**\\eeg\\sub-048*events.tsv\"\n",
      "  raw = mne_bids.read_raw_bids(subject_paths[j])\n",
      "C:\\Users\\mashh\\AppData\\Local\\Temp\\ipykernel_18244\\4265974583.py:9: RuntimeWarning: Data will be preloaded. preload=False or a string preload is not supported when the data is stored in the .set file\n",
      "  raw = mne_bids.read_raw_bids(subject_paths[j])\n",
      "C:\\Users\\mashh\\AppData\\Local\\Temp\\ipykernel_18244\\4265974583.py:9: RuntimeWarning: Did not find any events.tsv associated with sub-049_task-eyesclosed.\n",
      "\n",
      "The search_str was \"ds004504-download\\sub-049\\**\\eeg\\sub-049*events.tsv\"\n",
      "  raw = mne_bids.read_raw_bids(subject_paths[j])\n"
     ]
    },
    {
     "name": "stdout",
     "output_type": "stream",
     "text": [
      "Reading channel info from ds004504-download\\sub-049\\eeg\\sub-049_task-eyesclosed_channels.tsv.\n",
      "Reading channel info from ds004504-download\\sub-050\\eeg\\sub-050_task-eyesclosed_channels.tsv.\n"
     ]
    },
    {
     "name": "stderr",
     "output_type": "stream",
     "text": [
      "C:\\Users\\mashh\\AppData\\Local\\Temp\\ipykernel_18244\\4265974583.py:9: RuntimeWarning: Data will be preloaded. preload=False or a string preload is not supported when the data is stored in the .set file\n",
      "  raw = mne_bids.read_raw_bids(subject_paths[j])\n",
      "C:\\Users\\mashh\\AppData\\Local\\Temp\\ipykernel_18244\\4265974583.py:9: RuntimeWarning: Did not find any events.tsv associated with sub-050_task-eyesclosed.\n",
      "\n",
      "The search_str was \"ds004504-download\\sub-050\\**\\eeg\\sub-050*events.tsv\"\n",
      "  raw = mne_bids.read_raw_bids(subject_paths[j])\n"
     ]
    },
    {
     "name": "stdout",
     "output_type": "stream",
     "text": [
      "Reading channel info from ds004504-download\\sub-051\\eeg\\sub-051_task-eyesclosed_channels.tsv.\n"
     ]
    },
    {
     "name": "stderr",
     "output_type": "stream",
     "text": [
      "C:\\Users\\mashh\\AppData\\Local\\Temp\\ipykernel_18244\\4265974583.py:9: RuntimeWarning: Data will be preloaded. preload=False or a string preload is not supported when the data is stored in the .set file\n",
      "  raw = mne_bids.read_raw_bids(subject_paths[j])\n",
      "C:\\Users\\mashh\\AppData\\Local\\Temp\\ipykernel_18244\\4265974583.py:9: RuntimeWarning: Did not find any events.tsv associated with sub-051_task-eyesclosed.\n",
      "\n",
      "The search_str was \"ds004504-download\\sub-051\\**\\eeg\\sub-051*events.tsv\"\n",
      "  raw = mne_bids.read_raw_bids(subject_paths[j])\n"
     ]
    },
    {
     "name": "stdout",
     "output_type": "stream",
     "text": [
      "Reading channel info from ds004504-download\\sub-052\\eeg\\sub-052_task-eyesclosed_channels.tsv.\n"
     ]
    },
    {
     "name": "stderr",
     "output_type": "stream",
     "text": [
      "C:\\Users\\mashh\\AppData\\Local\\Temp\\ipykernel_18244\\4265974583.py:9: RuntimeWarning: Data will be preloaded. preload=False or a string preload is not supported when the data is stored in the .set file\n",
      "  raw = mne_bids.read_raw_bids(subject_paths[j])\n",
      "C:\\Users\\mashh\\AppData\\Local\\Temp\\ipykernel_18244\\4265974583.py:9: RuntimeWarning: Did not find any events.tsv associated with sub-052_task-eyesclosed.\n",
      "\n",
      "The search_str was \"ds004504-download\\sub-052\\**\\eeg\\sub-052*events.tsv\"\n",
      "  raw = mne_bids.read_raw_bids(subject_paths[j])\n"
     ]
    },
    {
     "name": "stdout",
     "output_type": "stream",
     "text": [
      "Reading channel info from ds004504-download\\sub-053\\eeg\\sub-053_task-eyesclosed_channels.tsv.\n"
     ]
    },
    {
     "name": "stderr",
     "output_type": "stream",
     "text": [
      "C:\\Users\\mashh\\AppData\\Local\\Temp\\ipykernel_18244\\4265974583.py:9: RuntimeWarning: Data will be preloaded. preload=False or a string preload is not supported when the data is stored in the .set file\n",
      "  raw = mne_bids.read_raw_bids(subject_paths[j])\n",
      "C:\\Users\\mashh\\AppData\\Local\\Temp\\ipykernel_18244\\4265974583.py:9: RuntimeWarning: Did not find any events.tsv associated with sub-053_task-eyesclosed.\n",
      "\n",
      "The search_str was \"ds004504-download\\sub-053\\**\\eeg\\sub-053*events.tsv\"\n",
      "  raw = mne_bids.read_raw_bids(subject_paths[j])\n"
     ]
    },
    {
     "name": "stdout",
     "output_type": "stream",
     "text": [
      "Reading channel info from ds004504-download\\sub-054\\eeg\\sub-054_task-eyesclosed_channels.tsv.\n"
     ]
    },
    {
     "name": "stderr",
     "output_type": "stream",
     "text": [
      "C:\\Users\\mashh\\AppData\\Local\\Temp\\ipykernel_18244\\4265974583.py:9: RuntimeWarning: Data will be preloaded. preload=False or a string preload is not supported when the data is stored in the .set file\n",
      "  raw = mne_bids.read_raw_bids(subject_paths[j])\n",
      "C:\\Users\\mashh\\AppData\\Local\\Temp\\ipykernel_18244\\4265974583.py:9: RuntimeWarning: Did not find any events.tsv associated with sub-054_task-eyesclosed.\n",
      "\n",
      "The search_str was \"ds004504-download\\sub-054\\**\\eeg\\sub-054*events.tsv\"\n",
      "  raw = mne_bids.read_raw_bids(subject_paths[j])\n"
     ]
    },
    {
     "name": "stdout",
     "output_type": "stream",
     "text": [
      "Reading channel info from ds004504-download\\sub-055\\eeg\\sub-055_task-eyesclosed_channels.tsv.\n"
     ]
    },
    {
     "name": "stderr",
     "output_type": "stream",
     "text": [
      "C:\\Users\\mashh\\AppData\\Local\\Temp\\ipykernel_18244\\4265974583.py:9: RuntimeWarning: Data will be preloaded. preload=False or a string preload is not supported when the data is stored in the .set file\n",
      "  raw = mne_bids.read_raw_bids(subject_paths[j])\n",
      "C:\\Users\\mashh\\AppData\\Local\\Temp\\ipykernel_18244\\4265974583.py:9: RuntimeWarning: Did not find any events.tsv associated with sub-055_task-eyesclosed.\n",
      "\n",
      "The search_str was \"ds004504-download\\sub-055\\**\\eeg\\sub-055*events.tsv\"\n",
      "  raw = mne_bids.read_raw_bids(subject_paths[j])\n",
      "C:\\Users\\mashh\\AppData\\Local\\Temp\\ipykernel_18244\\4265974583.py:9: RuntimeWarning: Data will be preloaded. preload=False or a string preload is not supported when the data is stored in the .set file\n",
      "  raw = mne_bids.read_raw_bids(subject_paths[j])\n"
     ]
    },
    {
     "name": "stdout",
     "output_type": "stream",
     "text": [
      "Reading channel info from ds004504-download\\sub-056\\eeg\\sub-056_task-eyesclosed_channels.tsv.\n"
     ]
    },
    {
     "name": "stderr",
     "output_type": "stream",
     "text": [
      "C:\\Users\\mashh\\AppData\\Local\\Temp\\ipykernel_18244\\4265974583.py:9: RuntimeWarning: Did not find any events.tsv associated with sub-056_task-eyesclosed.\n",
      "\n",
      "The search_str was \"ds004504-download\\sub-056\\**\\eeg\\sub-056*events.tsv\"\n",
      "  raw = mne_bids.read_raw_bids(subject_paths[j])\n"
     ]
    },
    {
     "name": "stdout",
     "output_type": "stream",
     "text": [
      "Reading channel info from ds004504-download\\sub-057\\eeg\\sub-057_task-eyesclosed_channels.tsv.\n"
     ]
    },
    {
     "name": "stderr",
     "output_type": "stream",
     "text": [
      "C:\\Users\\mashh\\AppData\\Local\\Temp\\ipykernel_18244\\4265974583.py:9: RuntimeWarning: Data will be preloaded. preload=False or a string preload is not supported when the data is stored in the .set file\n",
      "  raw = mne_bids.read_raw_bids(subject_paths[j])\n",
      "C:\\Users\\mashh\\AppData\\Local\\Temp\\ipykernel_18244\\4265974583.py:9: RuntimeWarning: Did not find any events.tsv associated with sub-057_task-eyesclosed.\n",
      "\n",
      "The search_str was \"ds004504-download\\sub-057\\**\\eeg\\sub-057*events.tsv\"\n",
      "  raw = mne_bids.read_raw_bids(subject_paths[j])\n"
     ]
    },
    {
     "name": "stdout",
     "output_type": "stream",
     "text": [
      "Reading channel info from ds004504-download\\sub-058\\eeg\\sub-058_task-eyesclosed_channels.tsv.\n"
     ]
    },
    {
     "name": "stderr",
     "output_type": "stream",
     "text": [
      "C:\\Users\\mashh\\AppData\\Local\\Temp\\ipykernel_18244\\4265974583.py:9: RuntimeWarning: Data will be preloaded. preload=False or a string preload is not supported when the data is stored in the .set file\n",
      "  raw = mne_bids.read_raw_bids(subject_paths[j])\n",
      "C:\\Users\\mashh\\AppData\\Local\\Temp\\ipykernel_18244\\4265974583.py:9: RuntimeWarning: Did not find any events.tsv associated with sub-058_task-eyesclosed.\n",
      "\n",
      "The search_str was \"ds004504-download\\sub-058\\**\\eeg\\sub-058*events.tsv\"\n",
      "  raw = mne_bids.read_raw_bids(subject_paths[j])\n"
     ]
    },
    {
     "name": "stdout",
     "output_type": "stream",
     "text": [
      "Reading channel info from ds004504-download\\sub-059\\eeg\\sub-059_task-eyesclosed_channels.tsv.\n"
     ]
    },
    {
     "name": "stderr",
     "output_type": "stream",
     "text": [
      "C:\\Users\\mashh\\AppData\\Local\\Temp\\ipykernel_18244\\4265974583.py:9: RuntimeWarning: Data will be preloaded. preload=False or a string preload is not supported when the data is stored in the .set file\n",
      "  raw = mne_bids.read_raw_bids(subject_paths[j])\n",
      "C:\\Users\\mashh\\AppData\\Local\\Temp\\ipykernel_18244\\4265974583.py:9: RuntimeWarning: Did not find any events.tsv associated with sub-059_task-eyesclosed.\n",
      "\n",
      "The search_str was \"ds004504-download\\sub-059\\**\\eeg\\sub-059*events.tsv\"\n",
      "  raw = mne_bids.read_raw_bids(subject_paths[j])\n"
     ]
    },
    {
     "name": "stdout",
     "output_type": "stream",
     "text": [
      "Reading channel info from ds004504-download\\sub-060\\eeg\\sub-060_task-eyesclosed_channels.tsv.\n"
     ]
    },
    {
     "name": "stderr",
     "output_type": "stream",
     "text": [
      "C:\\Users\\mashh\\AppData\\Local\\Temp\\ipykernel_18244\\4265974583.py:9: RuntimeWarning: Data will be preloaded. preload=False or a string preload is not supported when the data is stored in the .set file\n",
      "  raw = mne_bids.read_raw_bids(subject_paths[j])\n",
      "C:\\Users\\mashh\\AppData\\Local\\Temp\\ipykernel_18244\\4265974583.py:9: RuntimeWarning: Did not find any events.tsv associated with sub-060_task-eyesclosed.\n",
      "\n",
      "The search_str was \"ds004504-download\\sub-060\\**\\eeg\\sub-060*events.tsv\"\n",
      "  raw = mne_bids.read_raw_bids(subject_paths[j])\n"
     ]
    },
    {
     "name": "stdout",
     "output_type": "stream",
     "text": [
      "Reading channel info from ds004504-download\\sub-061\\eeg\\sub-061_task-eyesclosed_channels.tsv.\n"
     ]
    },
    {
     "name": "stderr",
     "output_type": "stream",
     "text": [
      "C:\\Users\\mashh\\AppData\\Local\\Temp\\ipykernel_18244\\4265974583.py:9: RuntimeWarning: Data will be preloaded. preload=False or a string preload is not supported when the data is stored in the .set file\n",
      "  raw = mne_bids.read_raw_bids(subject_paths[j])\n",
      "C:\\Users\\mashh\\AppData\\Local\\Temp\\ipykernel_18244\\4265974583.py:9: RuntimeWarning: Did not find any events.tsv associated with sub-061_task-eyesclosed.\n",
      "\n",
      "The search_str was \"ds004504-download\\sub-061\\**\\eeg\\sub-061*events.tsv\"\n",
      "  raw = mne_bids.read_raw_bids(subject_paths[j])\n"
     ]
    },
    {
     "name": "stdout",
     "output_type": "stream",
     "text": [
      "Reading channel info from ds004504-download\\sub-062\\eeg\\sub-062_task-eyesclosed_channels.tsv.\n"
     ]
    },
    {
     "name": "stderr",
     "output_type": "stream",
     "text": [
      "C:\\Users\\mashh\\AppData\\Local\\Temp\\ipykernel_18244\\4265974583.py:9: RuntimeWarning: Data will be preloaded. preload=False or a string preload is not supported when the data is stored in the .set file\n",
      "  raw = mne_bids.read_raw_bids(subject_paths[j])\n",
      "C:\\Users\\mashh\\AppData\\Local\\Temp\\ipykernel_18244\\4265974583.py:9: RuntimeWarning: Did not find any events.tsv associated with sub-062_task-eyesclosed.\n",
      "\n",
      "The search_str was \"ds004504-download\\sub-062\\**\\eeg\\sub-062*events.tsv\"\n",
      "  raw = mne_bids.read_raw_bids(subject_paths[j])\n"
     ]
    },
    {
     "name": "stdout",
     "output_type": "stream",
     "text": [
      "Reading channel info from ds004504-download\\sub-063\\eeg\\sub-063_task-eyesclosed_channels.tsv.\n"
     ]
    },
    {
     "name": "stderr",
     "output_type": "stream",
     "text": [
      "C:\\Users\\mashh\\AppData\\Local\\Temp\\ipykernel_18244\\4265974583.py:9: RuntimeWarning: Data will be preloaded. preload=False or a string preload is not supported when the data is stored in the .set file\n",
      "  raw = mne_bids.read_raw_bids(subject_paths[j])\n",
      "C:\\Users\\mashh\\AppData\\Local\\Temp\\ipykernel_18244\\4265974583.py:9: RuntimeWarning: Did not find any events.tsv associated with sub-063_task-eyesclosed.\n",
      "\n",
      "The search_str was \"ds004504-download\\sub-063\\**\\eeg\\sub-063*events.tsv\"\n",
      "  raw = mne_bids.read_raw_bids(subject_paths[j])\n"
     ]
    },
    {
     "name": "stdout",
     "output_type": "stream",
     "text": [
      "Reading channel info from ds004504-download\\sub-064\\eeg\\sub-064_task-eyesclosed_channels.tsv.\n"
     ]
    },
    {
     "name": "stderr",
     "output_type": "stream",
     "text": [
      "C:\\Users\\mashh\\AppData\\Local\\Temp\\ipykernel_18244\\4265974583.py:9: RuntimeWarning: Data will be preloaded. preload=False or a string preload is not supported when the data is stored in the .set file\n",
      "  raw = mne_bids.read_raw_bids(subject_paths[j])\n",
      "C:\\Users\\mashh\\AppData\\Local\\Temp\\ipykernel_18244\\4265974583.py:9: RuntimeWarning: Did not find any events.tsv associated with sub-064_task-eyesclosed.\n",
      "\n",
      "The search_str was \"ds004504-download\\sub-064\\**\\eeg\\sub-064*events.tsv\"\n",
      "  raw = mne_bids.read_raw_bids(subject_paths[j])\n",
      "C:\\Users\\mashh\\AppData\\Local\\Temp\\ipykernel_18244\\4265974583.py:9: RuntimeWarning: Data will be preloaded. preload=False or a string preload is not supported when the data is stored in the .set file\n",
      "  raw = mne_bids.read_raw_bids(subject_paths[j])\n"
     ]
    },
    {
     "name": "stdout",
     "output_type": "stream",
     "text": [
      "Reading channel info from ds004504-download\\sub-065\\eeg\\sub-065_task-eyesclosed_channels.tsv.\n"
     ]
    },
    {
     "name": "stderr",
     "output_type": "stream",
     "text": [
      "C:\\Users\\mashh\\AppData\\Local\\Temp\\ipykernel_18244\\4265974583.py:9: RuntimeWarning: Did not find any events.tsv associated with sub-065_task-eyesclosed.\n",
      "\n",
      "The search_str was \"ds004504-download\\sub-065\\**\\eeg\\sub-065*events.tsv\"\n",
      "  raw = mne_bids.read_raw_bids(subject_paths[j])\n"
     ]
    },
    {
     "name": "stdout",
     "output_type": "stream",
     "text": [
      "Reading channel info from ds004504-download\\sub-066\\eeg\\sub-066_task-eyesclosed_channels.tsv.\n"
     ]
    },
    {
     "name": "stderr",
     "output_type": "stream",
     "text": [
      "C:\\Users\\mashh\\AppData\\Local\\Temp\\ipykernel_18244\\4265974583.py:9: RuntimeWarning: Data will be preloaded. preload=False or a string preload is not supported when the data is stored in the .set file\n",
      "  raw = mne_bids.read_raw_bids(subject_paths[j])\n",
      "C:\\Users\\mashh\\AppData\\Local\\Temp\\ipykernel_18244\\4265974583.py:9: RuntimeWarning: Did not find any events.tsv associated with sub-066_task-eyesclosed.\n",
      "\n",
      "The search_str was \"ds004504-download\\sub-066\\**\\eeg\\sub-066*events.tsv\"\n",
      "  raw = mne_bids.read_raw_bids(subject_paths[j])\n"
     ]
    },
    {
     "name": "stdout",
     "output_type": "stream",
     "text": [
      "Reading channel info from ds004504-download\\sub-067\\eeg\\sub-067_task-eyesclosed_channels.tsv.\n"
     ]
    },
    {
     "name": "stderr",
     "output_type": "stream",
     "text": [
      "C:\\Users\\mashh\\AppData\\Local\\Temp\\ipykernel_18244\\4265974583.py:9: RuntimeWarning: Data will be preloaded. preload=False or a string preload is not supported when the data is stored in the .set file\n",
      "  raw = mne_bids.read_raw_bids(subject_paths[j])\n",
      "C:\\Users\\mashh\\AppData\\Local\\Temp\\ipykernel_18244\\4265974583.py:9: RuntimeWarning: Did not find any events.tsv associated with sub-067_task-eyesclosed.\n",
      "\n",
      "The search_str was \"ds004504-download\\sub-067\\**\\eeg\\sub-067*events.tsv\"\n",
      "  raw = mne_bids.read_raw_bids(subject_paths[j])\n"
     ]
    },
    {
     "name": "stdout",
     "output_type": "stream",
     "text": [
      "Reading channel info from ds004504-download\\sub-068\\eeg\\sub-068_task-eyesclosed_channels.tsv.\n"
     ]
    },
    {
     "name": "stderr",
     "output_type": "stream",
     "text": [
      "C:\\Users\\mashh\\AppData\\Local\\Temp\\ipykernel_18244\\4265974583.py:9: RuntimeWarning: Data will be preloaded. preload=False or a string preload is not supported when the data is stored in the .set file\n",
      "  raw = mne_bids.read_raw_bids(subject_paths[j])\n",
      "C:\\Users\\mashh\\AppData\\Local\\Temp\\ipykernel_18244\\4265974583.py:9: RuntimeWarning: Did not find any events.tsv associated with sub-068_task-eyesclosed.\n",
      "\n",
      "The search_str was \"ds004504-download\\sub-068\\**\\eeg\\sub-068*events.tsv\"\n",
      "  raw = mne_bids.read_raw_bids(subject_paths[j])\n"
     ]
    },
    {
     "name": "stdout",
     "output_type": "stream",
     "text": [
      "Reading channel info from ds004504-download\\sub-069\\eeg\\sub-069_task-eyesclosed_channels.tsv.\n"
     ]
    },
    {
     "name": "stderr",
     "output_type": "stream",
     "text": [
      "C:\\Users\\mashh\\AppData\\Local\\Temp\\ipykernel_18244\\4265974583.py:9: RuntimeWarning: Data will be preloaded. preload=False or a string preload is not supported when the data is stored in the .set file\n",
      "  raw = mne_bids.read_raw_bids(subject_paths[j])\n",
      "C:\\Users\\mashh\\AppData\\Local\\Temp\\ipykernel_18244\\4265974583.py:9: RuntimeWarning: Did not find any events.tsv associated with sub-069_task-eyesclosed.\n",
      "\n",
      "The search_str was \"ds004504-download\\sub-069\\**\\eeg\\sub-069*events.tsv\"\n",
      "  raw = mne_bids.read_raw_bids(subject_paths[j])\n"
     ]
    },
    {
     "name": "stdout",
     "output_type": "stream",
     "text": [
      "Reading channel info from ds004504-download\\sub-070\\eeg\\sub-070_task-eyesclosed_channels.tsv.\n"
     ]
    },
    {
     "name": "stderr",
     "output_type": "stream",
     "text": [
      "C:\\Users\\mashh\\AppData\\Local\\Temp\\ipykernel_18244\\4265974583.py:9: RuntimeWarning: Data will be preloaded. preload=False or a string preload is not supported when the data is stored in the .set file\n",
      "  raw = mne_bids.read_raw_bids(subject_paths[j])\n",
      "C:\\Users\\mashh\\AppData\\Local\\Temp\\ipykernel_18244\\4265974583.py:9: RuntimeWarning: Did not find any events.tsv associated with sub-070_task-eyesclosed.\n",
      "\n",
      "The search_str was \"ds004504-download\\sub-070\\**\\eeg\\sub-070*events.tsv\"\n",
      "  raw = mne_bids.read_raw_bids(subject_paths[j])\n"
     ]
    },
    {
     "name": "stdout",
     "output_type": "stream",
     "text": [
      "Reading channel info from ds004504-download\\sub-071\\eeg\\sub-071_task-eyesclosed_channels.tsv.\n"
     ]
    },
    {
     "name": "stderr",
     "output_type": "stream",
     "text": [
      "C:\\Users\\mashh\\AppData\\Local\\Temp\\ipykernel_18244\\4265974583.py:9: RuntimeWarning: Data will be preloaded. preload=False or a string preload is not supported when the data is stored in the .set file\n",
      "  raw = mne_bids.read_raw_bids(subject_paths[j])\n",
      "C:\\Users\\mashh\\AppData\\Local\\Temp\\ipykernel_18244\\4265974583.py:9: RuntimeWarning: Did not find any events.tsv associated with sub-071_task-eyesclosed.\n",
      "\n",
      "The search_str was \"ds004504-download\\sub-071\\**\\eeg\\sub-071*events.tsv\"\n",
      "  raw = mne_bids.read_raw_bids(subject_paths[j])\n"
     ]
    },
    {
     "name": "stdout",
     "output_type": "stream",
     "text": [
      "Reading channel info from ds004504-download\\sub-072\\eeg\\sub-072_task-eyesclosed_channels.tsv.\n"
     ]
    },
    {
     "name": "stderr",
     "output_type": "stream",
     "text": [
      "C:\\Users\\mashh\\AppData\\Local\\Temp\\ipykernel_18244\\4265974583.py:9: RuntimeWarning: Data will be preloaded. preload=False or a string preload is not supported when the data is stored in the .set file\n",
      "  raw = mne_bids.read_raw_bids(subject_paths[j])\n",
      "C:\\Users\\mashh\\AppData\\Local\\Temp\\ipykernel_18244\\4265974583.py:9: RuntimeWarning: Did not find any events.tsv associated with sub-072_task-eyesclosed.\n",
      "\n",
      "The search_str was \"ds004504-download\\sub-072\\**\\eeg\\sub-072*events.tsv\"\n",
      "  raw = mne_bids.read_raw_bids(subject_paths[j])\n"
     ]
    },
    {
     "name": "stdout",
     "output_type": "stream",
     "text": [
      "Reading channel info from ds004504-download\\sub-073\\eeg\\sub-073_task-eyesclosed_channels.tsv.\n"
     ]
    },
    {
     "name": "stderr",
     "output_type": "stream",
     "text": [
      "C:\\Users\\mashh\\AppData\\Local\\Temp\\ipykernel_18244\\4265974583.py:9: RuntimeWarning: Data will be preloaded. preload=False or a string preload is not supported when the data is stored in the .set file\n",
      "  raw = mne_bids.read_raw_bids(subject_paths[j])\n",
      "C:\\Users\\mashh\\AppData\\Local\\Temp\\ipykernel_18244\\4265974583.py:9: RuntimeWarning: Did not find any events.tsv associated with sub-073_task-eyesclosed.\n",
      "\n",
      "The search_str was \"ds004504-download\\sub-073\\**\\eeg\\sub-073*events.tsv\"\n",
      "  raw = mne_bids.read_raw_bids(subject_paths[j])\n"
     ]
    },
    {
     "name": "stdout",
     "output_type": "stream",
     "text": [
      "Reading channel info from ds004504-download\\sub-074\\eeg\\sub-074_task-eyesclosed_channels.tsv.\n"
     ]
    },
    {
     "name": "stderr",
     "output_type": "stream",
     "text": [
      "C:\\Users\\mashh\\AppData\\Local\\Temp\\ipykernel_18244\\4265974583.py:9: RuntimeWarning: Data will be preloaded. preload=False or a string preload is not supported when the data is stored in the .set file\n",
      "  raw = mne_bids.read_raw_bids(subject_paths[j])\n",
      "C:\\Users\\mashh\\AppData\\Local\\Temp\\ipykernel_18244\\4265974583.py:9: RuntimeWarning: Did not find any events.tsv associated with sub-074_task-eyesclosed.\n",
      "\n",
      "The search_str was \"ds004504-download\\sub-074\\**\\eeg\\sub-074*events.tsv\"\n",
      "  raw = mne_bids.read_raw_bids(subject_paths[j])\n"
     ]
    },
    {
     "name": "stdout",
     "output_type": "stream",
     "text": [
      "Reading channel info from ds004504-download\\sub-075\\eeg\\sub-075_task-eyesclosed_channels.tsv.\n"
     ]
    },
    {
     "name": "stderr",
     "output_type": "stream",
     "text": [
      "C:\\Users\\mashh\\AppData\\Local\\Temp\\ipykernel_18244\\4265974583.py:9: RuntimeWarning: Data will be preloaded. preload=False or a string preload is not supported when the data is stored in the .set file\n",
      "  raw = mne_bids.read_raw_bids(subject_paths[j])\n",
      "C:\\Users\\mashh\\AppData\\Local\\Temp\\ipykernel_18244\\4265974583.py:9: RuntimeWarning: Did not find any events.tsv associated with sub-075_task-eyesclosed.\n",
      "\n",
      "The search_str was \"ds004504-download\\sub-075\\**\\eeg\\sub-075*events.tsv\"\n",
      "  raw = mne_bids.read_raw_bids(subject_paths[j])\n"
     ]
    },
    {
     "name": "stdout",
     "output_type": "stream",
     "text": [
      "Reading channel info from ds004504-download\\sub-076\\eeg\\sub-076_task-eyesclosed_channels.tsv.\n"
     ]
    },
    {
     "name": "stderr",
     "output_type": "stream",
     "text": [
      "C:\\Users\\mashh\\AppData\\Local\\Temp\\ipykernel_18244\\4265974583.py:9: RuntimeWarning: Data will be preloaded. preload=False or a string preload is not supported when the data is stored in the .set file\n",
      "  raw = mne_bids.read_raw_bids(subject_paths[j])\n",
      "C:\\Users\\mashh\\AppData\\Local\\Temp\\ipykernel_18244\\4265974583.py:9: RuntimeWarning: Did not find any events.tsv associated with sub-076_task-eyesclosed.\n",
      "\n",
      "The search_str was \"ds004504-download\\sub-076\\**\\eeg\\sub-076*events.tsv\"\n",
      "  raw = mne_bids.read_raw_bids(subject_paths[j])\n"
     ]
    },
    {
     "name": "stdout",
     "output_type": "stream",
     "text": [
      "Reading channel info from ds004504-download\\sub-077\\eeg\\sub-077_task-eyesclosed_channels.tsv.\n"
     ]
    },
    {
     "name": "stderr",
     "output_type": "stream",
     "text": [
      "C:\\Users\\mashh\\AppData\\Local\\Temp\\ipykernel_18244\\4265974583.py:9: RuntimeWarning: Data will be preloaded. preload=False or a string preload is not supported when the data is stored in the .set file\n",
      "  raw = mne_bids.read_raw_bids(subject_paths[j])\n",
      "C:\\Users\\mashh\\AppData\\Local\\Temp\\ipykernel_18244\\4265974583.py:9: RuntimeWarning: Did not find any events.tsv associated with sub-077_task-eyesclosed.\n",
      "\n",
      "The search_str was \"ds004504-download\\sub-077\\**\\eeg\\sub-077*events.tsv\"\n",
      "  raw = mne_bids.read_raw_bids(subject_paths[j])\n"
     ]
    },
    {
     "name": "stdout",
     "output_type": "stream",
     "text": [
      "Reading channel info from ds004504-download\\sub-078\\eeg\\sub-078_task-eyesclosed_channels.tsv.\n"
     ]
    },
    {
     "name": "stderr",
     "output_type": "stream",
     "text": [
      "C:\\Users\\mashh\\AppData\\Local\\Temp\\ipykernel_18244\\4265974583.py:9: RuntimeWarning: Data will be preloaded. preload=False or a string preload is not supported when the data is stored in the .set file\n",
      "  raw = mne_bids.read_raw_bids(subject_paths[j])\n",
      "C:\\Users\\mashh\\AppData\\Local\\Temp\\ipykernel_18244\\4265974583.py:9: RuntimeWarning: Did not find any events.tsv associated with sub-078_task-eyesclosed.\n",
      "\n",
      "The search_str was \"ds004504-download\\sub-078\\**\\eeg\\sub-078*events.tsv\"\n",
      "  raw = mne_bids.read_raw_bids(subject_paths[j])\n",
      "C:\\Users\\mashh\\AppData\\Local\\Temp\\ipykernel_18244\\4265974583.py:9: RuntimeWarning: Data will be preloaded. preload=False or a string preload is not supported when the data is stored in the .set file\n",
      "  raw = mne_bids.read_raw_bids(subject_paths[j])\n"
     ]
    },
    {
     "name": "stdout",
     "output_type": "stream",
     "text": [
      "Reading channel info from ds004504-download\\sub-079\\eeg\\sub-079_task-eyesclosed_channels.tsv.\n"
     ]
    },
    {
     "name": "stderr",
     "output_type": "stream",
     "text": [
      "C:\\Users\\mashh\\AppData\\Local\\Temp\\ipykernel_18244\\4265974583.py:9: RuntimeWarning: Did not find any events.tsv associated with sub-079_task-eyesclosed.\n",
      "\n",
      "The search_str was \"ds004504-download\\sub-079\\**\\eeg\\sub-079*events.tsv\"\n",
      "  raw = mne_bids.read_raw_bids(subject_paths[j])\n",
      "C:\\Users\\mashh\\AppData\\Local\\Temp\\ipykernel_18244\\4265974583.py:9: RuntimeWarning: Data will be preloaded. preload=False or a string preload is not supported when the data is stored in the .set file\n",
      "  raw = mne_bids.read_raw_bids(subject_paths[j])\n"
     ]
    },
    {
     "name": "stdout",
     "output_type": "stream",
     "text": [
      "Reading channel info from ds004504-download\\sub-080\\eeg\\sub-080_task-eyesclosed_channels.tsv.\n"
     ]
    },
    {
     "name": "stderr",
     "output_type": "stream",
     "text": [
      "C:\\Users\\mashh\\AppData\\Local\\Temp\\ipykernel_18244\\4265974583.py:9: RuntimeWarning: Did not find any events.tsv associated with sub-080_task-eyesclosed.\n",
      "\n",
      "The search_str was \"ds004504-download\\sub-080\\**\\eeg\\sub-080*events.tsv\"\n",
      "  raw = mne_bids.read_raw_bids(subject_paths[j])\n"
     ]
    },
    {
     "name": "stdout",
     "output_type": "stream",
     "text": [
      "Reading channel info from ds004504-download\\sub-081\\eeg\\sub-081_task-eyesclosed_channels.tsv.\n"
     ]
    },
    {
     "name": "stderr",
     "output_type": "stream",
     "text": [
      "C:\\Users\\mashh\\AppData\\Local\\Temp\\ipykernel_18244\\4265974583.py:9: RuntimeWarning: Data will be preloaded. preload=False or a string preload is not supported when the data is stored in the .set file\n",
      "  raw = mne_bids.read_raw_bids(subject_paths[j])\n",
      "C:\\Users\\mashh\\AppData\\Local\\Temp\\ipykernel_18244\\4265974583.py:9: RuntimeWarning: Did not find any events.tsv associated with sub-081_task-eyesclosed.\n",
      "\n",
      "The search_str was \"ds004504-download\\sub-081\\**\\eeg\\sub-081*events.tsv\"\n",
      "  raw = mne_bids.read_raw_bids(subject_paths[j])\n"
     ]
    },
    {
     "name": "stdout",
     "output_type": "stream",
     "text": [
      "Reading channel info from ds004504-download\\sub-082\\eeg\\sub-082_task-eyesclosed_channels.tsv.\n"
     ]
    },
    {
     "name": "stderr",
     "output_type": "stream",
     "text": [
      "C:\\Users\\mashh\\AppData\\Local\\Temp\\ipykernel_18244\\4265974583.py:9: RuntimeWarning: Data will be preloaded. preload=False or a string preload is not supported when the data is stored in the .set file\n",
      "  raw = mne_bids.read_raw_bids(subject_paths[j])\n",
      "C:\\Users\\mashh\\AppData\\Local\\Temp\\ipykernel_18244\\4265974583.py:9: RuntimeWarning: Did not find any events.tsv associated with sub-082_task-eyesclosed.\n",
      "\n",
      "The search_str was \"ds004504-download\\sub-082\\**\\eeg\\sub-082*events.tsv\"\n",
      "  raw = mne_bids.read_raw_bids(subject_paths[j])\n",
      "C:\\Users\\mashh\\AppData\\Local\\Temp\\ipykernel_18244\\4265974583.py:9: RuntimeWarning: Data will be preloaded. preload=False or a string preload is not supported when the data is stored in the .set file\n",
      "  raw = mne_bids.read_raw_bids(subject_paths[j])\n",
      "C:\\Users\\mashh\\AppData\\Local\\Temp\\ipykernel_18244\\4265974583.py:9: RuntimeWarning: Did not find any events.tsv associated with sub-083_task-eyesclosed.\n",
      "\n",
      "The search_str was \"ds004504-download\\sub-083\\**\\eeg\\sub-083*events.tsv\"\n",
      "  raw = mne_bids.read_raw_bids(subject_paths[j])\n"
     ]
    },
    {
     "name": "stdout",
     "output_type": "stream",
     "text": [
      "Reading channel info from ds004504-download\\sub-083\\eeg\\sub-083_task-eyesclosed_channels.tsv.\n",
      "Reading channel info from ds004504-download\\sub-084\\eeg\\sub-084_task-eyesclosed_channels.tsv.\n"
     ]
    },
    {
     "name": "stderr",
     "output_type": "stream",
     "text": [
      "C:\\Users\\mashh\\AppData\\Local\\Temp\\ipykernel_18244\\4265974583.py:9: RuntimeWarning: Data will be preloaded. preload=False or a string preload is not supported when the data is stored in the .set file\n",
      "  raw = mne_bids.read_raw_bids(subject_paths[j])\n",
      "C:\\Users\\mashh\\AppData\\Local\\Temp\\ipykernel_18244\\4265974583.py:9: RuntimeWarning: Did not find any events.tsv associated with sub-084_task-eyesclosed.\n",
      "\n",
      "The search_str was \"ds004504-download\\sub-084\\**\\eeg\\sub-084*events.tsv\"\n",
      "  raw = mne_bids.read_raw_bids(subject_paths[j])\n"
     ]
    },
    {
     "name": "stdout",
     "output_type": "stream",
     "text": [
      "Reading channel info from ds004504-download\\sub-085\\eeg\\sub-085_task-eyesclosed_channels.tsv.\n"
     ]
    },
    {
     "name": "stderr",
     "output_type": "stream",
     "text": [
      "C:\\Users\\mashh\\AppData\\Local\\Temp\\ipykernel_18244\\4265974583.py:9: RuntimeWarning: Data will be preloaded. preload=False or a string preload is not supported when the data is stored in the .set file\n",
      "  raw = mne_bids.read_raw_bids(subject_paths[j])\n",
      "C:\\Users\\mashh\\AppData\\Local\\Temp\\ipykernel_18244\\4265974583.py:9: RuntimeWarning: Did not find any events.tsv associated with sub-085_task-eyesclosed.\n",
      "\n",
      "The search_str was \"ds004504-download\\sub-085\\**\\eeg\\sub-085*events.tsv\"\n",
      "  raw = mne_bids.read_raw_bids(subject_paths[j])\n"
     ]
    },
    {
     "name": "stdout",
     "output_type": "stream",
     "text": [
      "Reading channel info from ds004504-download\\sub-086\\eeg\\sub-086_task-eyesclosed_channels.tsv.\n"
     ]
    },
    {
     "name": "stderr",
     "output_type": "stream",
     "text": [
      "C:\\Users\\mashh\\AppData\\Local\\Temp\\ipykernel_18244\\4265974583.py:9: RuntimeWarning: Data will be preloaded. preload=False or a string preload is not supported when the data is stored in the .set file\n",
      "  raw = mne_bids.read_raw_bids(subject_paths[j])\n",
      "C:\\Users\\mashh\\AppData\\Local\\Temp\\ipykernel_18244\\4265974583.py:9: RuntimeWarning: Did not find any events.tsv associated with sub-086_task-eyesclosed.\n",
      "\n",
      "The search_str was \"ds004504-download\\sub-086\\**\\eeg\\sub-086*events.tsv\"\n",
      "  raw = mne_bids.read_raw_bids(subject_paths[j])\n"
     ]
    },
    {
     "name": "stdout",
     "output_type": "stream",
     "text": [
      "Reading channel info from ds004504-download\\sub-087\\eeg\\sub-087_task-eyesclosed_channels.tsv.\n"
     ]
    },
    {
     "name": "stderr",
     "output_type": "stream",
     "text": [
      "C:\\Users\\mashh\\AppData\\Local\\Temp\\ipykernel_18244\\4265974583.py:9: RuntimeWarning: Data will be preloaded. preload=False or a string preload is not supported when the data is stored in the .set file\n",
      "  raw = mne_bids.read_raw_bids(subject_paths[j])\n",
      "C:\\Users\\mashh\\AppData\\Local\\Temp\\ipykernel_18244\\4265974583.py:9: RuntimeWarning: Did not find any events.tsv associated with sub-087_task-eyesclosed.\n",
      "\n",
      "The search_str was \"ds004504-download\\sub-087\\**\\eeg\\sub-087*events.tsv\"\n",
      "  raw = mne_bids.read_raw_bids(subject_paths[j])\n",
      "C:\\Users\\mashh\\AppData\\Local\\Temp\\ipykernel_18244\\4265974583.py:9: RuntimeWarning: Data will be preloaded. preload=False or a string preload is not supported when the data is stored in the .set file\n",
      "  raw = mne_bids.read_raw_bids(subject_paths[j])\n",
      "C:\\Users\\mashh\\AppData\\Local\\Temp\\ipykernel_18244\\4265974583.py:9: RuntimeWarning: Did not find any events.tsv associated with sub-088_task-eyesclosed.\n",
      "\n",
      "The search_str was \"ds004504-download\\sub-088\\**\\eeg\\sub-088*events.tsv\"\n",
      "  raw = mne_bids.read_raw_bids(subject_paths[j])\n"
     ]
    },
    {
     "name": "stdout",
     "output_type": "stream",
     "text": [
      "Reading channel info from ds004504-download\\sub-088\\eeg\\sub-088_task-eyesclosed_channels.tsv.\n",
      "Reading channel info from ds004504-download\\sub-001\\eeg\\sub-001_task-eyesclosed_channels.tsv.\n"
     ]
    },
    {
     "name": "stderr",
     "output_type": "stream",
     "text": [
      "C:\\Users\\mashh\\AppData\\Local\\Temp\\ipykernel_18244\\4265974583.py:9: RuntimeWarning: Data will be preloaded. preload=False or a string preload is not supported when the data is stored in the .set file\n",
      "  raw = mne_bids.read_raw_bids(subject_paths[j])\n",
      "C:\\Users\\mashh\\AppData\\Local\\Temp\\ipykernel_18244\\4265974583.py:9: RuntimeWarning: Did not find any events.tsv associated with sub-001_task-eyesclosed.\n",
      "\n",
      "The search_str was \"ds004504-download\\sub-001\\**\\eeg\\sub-001*events.tsv\"\n",
      "  raw = mne_bids.read_raw_bids(subject_paths[j])\n"
     ]
    },
    {
     "name": "stdout",
     "output_type": "stream",
     "text": [
      "Reading channel info from ds004504-download\\sub-002\\eeg\\sub-002_task-eyesclosed_channels.tsv.\n"
     ]
    },
    {
     "name": "stderr",
     "output_type": "stream",
     "text": [
      "C:\\Users\\mashh\\AppData\\Local\\Temp\\ipykernel_18244\\4265974583.py:9: RuntimeWarning: Data will be preloaded. preload=False or a string preload is not supported when the data is stored in the .set file\n",
      "  raw = mne_bids.read_raw_bids(subject_paths[j])\n",
      "C:\\Users\\mashh\\AppData\\Local\\Temp\\ipykernel_18244\\4265974583.py:9: RuntimeWarning: Did not find any events.tsv associated with sub-002_task-eyesclosed.\n",
      "\n",
      "The search_str was \"ds004504-download\\sub-002\\**\\eeg\\sub-002*events.tsv\"\n",
      "  raw = mne_bids.read_raw_bids(subject_paths[j])\n"
     ]
    },
    {
     "name": "stdout",
     "output_type": "stream",
     "text": [
      "Reading channel info from ds004504-download\\sub-003\\eeg\\sub-003_task-eyesclosed_channels.tsv.\n"
     ]
    },
    {
     "name": "stderr",
     "output_type": "stream",
     "text": [
      "C:\\Users\\mashh\\AppData\\Local\\Temp\\ipykernel_18244\\4265974583.py:9: RuntimeWarning: Data will be preloaded. preload=False or a string preload is not supported when the data is stored in the .set file\n",
      "  raw = mne_bids.read_raw_bids(subject_paths[j])\n",
      "C:\\Users\\mashh\\AppData\\Local\\Temp\\ipykernel_18244\\4265974583.py:9: RuntimeWarning: Did not find any events.tsv associated with sub-003_task-eyesclosed.\n",
      "\n",
      "The search_str was \"ds004504-download\\sub-003\\**\\eeg\\sub-003*events.tsv\"\n",
      "  raw = mne_bids.read_raw_bids(subject_paths[j])\n"
     ]
    },
    {
     "name": "stdout",
     "output_type": "stream",
     "text": [
      "Reading channel info from ds004504-download\\sub-004\\eeg\\sub-004_task-eyesclosed_channels.tsv.\n"
     ]
    },
    {
     "name": "stderr",
     "output_type": "stream",
     "text": [
      "C:\\Users\\mashh\\AppData\\Local\\Temp\\ipykernel_18244\\4265974583.py:9: RuntimeWarning: Data will be preloaded. preload=False or a string preload is not supported when the data is stored in the .set file\n",
      "  raw = mne_bids.read_raw_bids(subject_paths[j])\n",
      "C:\\Users\\mashh\\AppData\\Local\\Temp\\ipykernel_18244\\4265974583.py:9: RuntimeWarning: Did not find any events.tsv associated with sub-004_task-eyesclosed.\n",
      "\n",
      "The search_str was \"ds004504-download\\sub-004\\**\\eeg\\sub-004*events.tsv\"\n",
      "  raw = mne_bids.read_raw_bids(subject_paths[j])\n"
     ]
    },
    {
     "name": "stdout",
     "output_type": "stream",
     "text": [
      "Reading channel info from ds004504-download\\sub-005\\eeg\\sub-005_task-eyesclosed_channels.tsv.\n"
     ]
    },
    {
     "name": "stderr",
     "output_type": "stream",
     "text": [
      "C:\\Users\\mashh\\AppData\\Local\\Temp\\ipykernel_18244\\4265974583.py:9: RuntimeWarning: Data will be preloaded. preload=False or a string preload is not supported when the data is stored in the .set file\n",
      "  raw = mne_bids.read_raw_bids(subject_paths[j])\n",
      "C:\\Users\\mashh\\AppData\\Local\\Temp\\ipykernel_18244\\4265974583.py:9: RuntimeWarning: Did not find any events.tsv associated with sub-005_task-eyesclosed.\n",
      "\n",
      "The search_str was \"ds004504-download\\sub-005\\**\\eeg\\sub-005*events.tsv\"\n",
      "  raw = mne_bids.read_raw_bids(subject_paths[j])\n"
     ]
    },
    {
     "name": "stdout",
     "output_type": "stream",
     "text": [
      "Reading channel info from ds004504-download\\sub-006\\eeg\\sub-006_task-eyesclosed_channels.tsv.\n"
     ]
    },
    {
     "name": "stderr",
     "output_type": "stream",
     "text": [
      "C:\\Users\\mashh\\AppData\\Local\\Temp\\ipykernel_18244\\4265974583.py:9: RuntimeWarning: Data will be preloaded. preload=False or a string preload is not supported when the data is stored in the .set file\n",
      "  raw = mne_bids.read_raw_bids(subject_paths[j])\n",
      "C:\\Users\\mashh\\AppData\\Local\\Temp\\ipykernel_18244\\4265974583.py:9: RuntimeWarning: Did not find any events.tsv associated with sub-006_task-eyesclosed.\n",
      "\n",
      "The search_str was \"ds004504-download\\sub-006\\**\\eeg\\sub-006*events.tsv\"\n",
      "  raw = mne_bids.read_raw_bids(subject_paths[j])\n"
     ]
    },
    {
     "name": "stdout",
     "output_type": "stream",
     "text": [
      "Reading channel info from ds004504-download\\sub-007\\eeg\\sub-007_task-eyesclosed_channels.tsv.\n"
     ]
    },
    {
     "name": "stderr",
     "output_type": "stream",
     "text": [
      "C:\\Users\\mashh\\AppData\\Local\\Temp\\ipykernel_18244\\4265974583.py:9: RuntimeWarning: Data will be preloaded. preload=False or a string preload is not supported when the data is stored in the .set file\n",
      "  raw = mne_bids.read_raw_bids(subject_paths[j])\n",
      "C:\\Users\\mashh\\AppData\\Local\\Temp\\ipykernel_18244\\4265974583.py:9: RuntimeWarning: Did not find any events.tsv associated with sub-007_task-eyesclosed.\n",
      "\n",
      "The search_str was \"ds004504-download\\sub-007\\**\\eeg\\sub-007*events.tsv\"\n",
      "  raw = mne_bids.read_raw_bids(subject_paths[j])\n"
     ]
    },
    {
     "name": "stdout",
     "output_type": "stream",
     "text": [
      "Reading channel info from ds004504-download\\sub-008\\eeg\\sub-008_task-eyesclosed_channels.tsv.\n"
     ]
    },
    {
     "name": "stderr",
     "output_type": "stream",
     "text": [
      "C:\\Users\\mashh\\AppData\\Local\\Temp\\ipykernel_18244\\4265974583.py:9: RuntimeWarning: Data will be preloaded. preload=False or a string preload is not supported when the data is stored in the .set file\n",
      "  raw = mne_bids.read_raw_bids(subject_paths[j])\n",
      "C:\\Users\\mashh\\AppData\\Local\\Temp\\ipykernel_18244\\4265974583.py:9: RuntimeWarning: Did not find any events.tsv associated with sub-008_task-eyesclosed.\n",
      "\n",
      "The search_str was \"ds004504-download\\sub-008\\**\\eeg\\sub-008*events.tsv\"\n",
      "  raw = mne_bids.read_raw_bids(subject_paths[j])\n",
      "c:\\Users\\mashh\\AppData\\Local\\Programs\\Python\\Python311\\Lib\\site-packages\\scipy\\stats\\_entropy.py:350: RuntimeWarning: divide by zero encountered in log\n",
      "  logs = np.log(n/(2*m) * differences)\n"
     ]
    },
    {
     "name": "stdout",
     "output_type": "stream",
     "text": [
      "Reading channel info from ds004504-download\\sub-009\\eeg\\sub-009_task-eyesclosed_channels.tsv.\n"
     ]
    },
    {
     "name": "stderr",
     "output_type": "stream",
     "text": [
      "C:\\Users\\mashh\\AppData\\Local\\Temp\\ipykernel_18244\\4265974583.py:9: RuntimeWarning: Data will be preloaded. preload=False or a string preload is not supported when the data is stored in the .set file\n",
      "  raw = mne_bids.read_raw_bids(subject_paths[j])\n",
      "C:\\Users\\mashh\\AppData\\Local\\Temp\\ipykernel_18244\\4265974583.py:9: RuntimeWarning: Did not find any events.tsv associated with sub-009_task-eyesclosed.\n",
      "\n",
      "The search_str was \"ds004504-download\\sub-009\\**\\eeg\\sub-009*events.tsv\"\n",
      "  raw = mne_bids.read_raw_bids(subject_paths[j])\n",
      "C:\\Users\\mashh\\AppData\\Local\\Temp\\ipykernel_18244\\4265974583.py:9: RuntimeWarning: Data will be preloaded. preload=False or a string preload is not supported when the data is stored in the .set file\n",
      "  raw = mne_bids.read_raw_bids(subject_paths[j])\n",
      "C:\\Users\\mashh\\AppData\\Local\\Temp\\ipykernel_18244\\4265974583.py:9: RuntimeWarning: Did not find any events.tsv associated with sub-010_task-eyesclosed.\n",
      "\n",
      "The search_str was \"ds004504-download\\sub-010\\**\\eeg\\sub-010*events.tsv\"\n",
      "  raw = mne_bids.read_raw_bids(subject_paths[j])\n"
     ]
    },
    {
     "name": "stdout",
     "output_type": "stream",
     "text": [
      "Reading channel info from ds004504-download\\sub-010\\eeg\\sub-010_task-eyesclosed_channels.tsv.\n",
      "Reading channel info from ds004504-download\\sub-011\\eeg\\sub-011_task-eyesclosed_channels.tsv.\n"
     ]
    },
    {
     "name": "stderr",
     "output_type": "stream",
     "text": [
      "C:\\Users\\mashh\\AppData\\Local\\Temp\\ipykernel_18244\\4265974583.py:9: RuntimeWarning: Data will be preloaded. preload=False or a string preload is not supported when the data is stored in the .set file\n",
      "  raw = mne_bids.read_raw_bids(subject_paths[j])\n",
      "C:\\Users\\mashh\\AppData\\Local\\Temp\\ipykernel_18244\\4265974583.py:9: RuntimeWarning: Did not find any events.tsv associated with sub-011_task-eyesclosed.\n",
      "\n",
      "The search_str was \"ds004504-download\\sub-011\\**\\eeg\\sub-011*events.tsv\"\n",
      "  raw = mne_bids.read_raw_bids(subject_paths[j])\n"
     ]
    },
    {
     "name": "stdout",
     "output_type": "stream",
     "text": [
      "Reading channel info from ds004504-download\\sub-012\\eeg\\sub-012_task-eyesclosed_channels.tsv.\n"
     ]
    },
    {
     "name": "stderr",
     "output_type": "stream",
     "text": [
      "C:\\Users\\mashh\\AppData\\Local\\Temp\\ipykernel_18244\\4265974583.py:9: RuntimeWarning: Data will be preloaded. preload=False or a string preload is not supported when the data is stored in the .set file\n",
      "  raw = mne_bids.read_raw_bids(subject_paths[j])\n",
      "C:\\Users\\mashh\\AppData\\Local\\Temp\\ipykernel_18244\\4265974583.py:9: RuntimeWarning: Did not find any events.tsv associated with sub-012_task-eyesclosed.\n",
      "\n",
      "The search_str was \"ds004504-download\\sub-012\\**\\eeg\\sub-012*events.tsv\"\n",
      "  raw = mne_bids.read_raw_bids(subject_paths[j])\n"
     ]
    },
    {
     "name": "stdout",
     "output_type": "stream",
     "text": [
      "Reading channel info from ds004504-download\\sub-013\\eeg\\sub-013_task-eyesclosed_channels.tsv.\n"
     ]
    },
    {
     "name": "stderr",
     "output_type": "stream",
     "text": [
      "C:\\Users\\mashh\\AppData\\Local\\Temp\\ipykernel_18244\\4265974583.py:9: RuntimeWarning: Data will be preloaded. preload=False or a string preload is not supported when the data is stored in the .set file\n",
      "  raw = mne_bids.read_raw_bids(subject_paths[j])\n",
      "C:\\Users\\mashh\\AppData\\Local\\Temp\\ipykernel_18244\\4265974583.py:9: RuntimeWarning: Did not find any events.tsv associated with sub-013_task-eyesclosed.\n",
      "\n",
      "The search_str was \"ds004504-download\\sub-013\\**\\eeg\\sub-013*events.tsv\"\n",
      "  raw = mne_bids.read_raw_bids(subject_paths[j])\n"
     ]
    },
    {
     "name": "stdout",
     "output_type": "stream",
     "text": [
      "Reading channel info from ds004504-download\\sub-014\\eeg\\sub-014_task-eyesclosed_channels.tsv.\n"
     ]
    },
    {
     "name": "stderr",
     "output_type": "stream",
     "text": [
      "C:\\Users\\mashh\\AppData\\Local\\Temp\\ipykernel_18244\\4265974583.py:9: RuntimeWarning: Data will be preloaded. preload=False or a string preload is not supported when the data is stored in the .set file\n",
      "  raw = mne_bids.read_raw_bids(subject_paths[j])\n",
      "C:\\Users\\mashh\\AppData\\Local\\Temp\\ipykernel_18244\\4265974583.py:9: RuntimeWarning: Did not find any events.tsv associated with sub-014_task-eyesclosed.\n",
      "\n",
      "The search_str was \"ds004504-download\\sub-014\\**\\eeg\\sub-014*events.tsv\"\n",
      "  raw = mne_bids.read_raw_bids(subject_paths[j])\n"
     ]
    },
    {
     "name": "stdout",
     "output_type": "stream",
     "text": [
      "Reading channel info from ds004504-download\\sub-015\\eeg\\sub-015_task-eyesclosed_channels.tsv.\n"
     ]
    },
    {
     "name": "stderr",
     "output_type": "stream",
     "text": [
      "C:\\Users\\mashh\\AppData\\Local\\Temp\\ipykernel_18244\\4265974583.py:9: RuntimeWarning: Data will be preloaded. preload=False or a string preload is not supported when the data is stored in the .set file\n",
      "  raw = mne_bids.read_raw_bids(subject_paths[j])\n",
      "C:\\Users\\mashh\\AppData\\Local\\Temp\\ipykernel_18244\\4265974583.py:9: RuntimeWarning: Did not find any events.tsv associated with sub-015_task-eyesclosed.\n",
      "\n",
      "The search_str was \"ds004504-download\\sub-015\\**\\eeg\\sub-015*events.tsv\"\n",
      "  raw = mne_bids.read_raw_bids(subject_paths[j])\n"
     ]
    },
    {
     "name": "stdout",
     "output_type": "stream",
     "text": [
      "Reading channel info from ds004504-download\\sub-016\\eeg\\sub-016_task-eyesclosed_channels.tsv.\n"
     ]
    },
    {
     "name": "stderr",
     "output_type": "stream",
     "text": [
      "C:\\Users\\mashh\\AppData\\Local\\Temp\\ipykernel_18244\\4265974583.py:9: RuntimeWarning: Data will be preloaded. preload=False or a string preload is not supported when the data is stored in the .set file\n",
      "  raw = mne_bids.read_raw_bids(subject_paths[j])\n",
      "C:\\Users\\mashh\\AppData\\Local\\Temp\\ipykernel_18244\\4265974583.py:9: RuntimeWarning: Did not find any events.tsv associated with sub-016_task-eyesclosed.\n",
      "\n",
      "The search_str was \"ds004504-download\\sub-016\\**\\eeg\\sub-016*events.tsv\"\n",
      "  raw = mne_bids.read_raw_bids(subject_paths[j])\n"
     ]
    },
    {
     "name": "stdout",
     "output_type": "stream",
     "text": [
      "Reading channel info from ds004504-download\\sub-017\\eeg\\sub-017_task-eyesclosed_channels.tsv.\n"
     ]
    },
    {
     "name": "stderr",
     "output_type": "stream",
     "text": [
      "C:\\Users\\mashh\\AppData\\Local\\Temp\\ipykernel_18244\\4265974583.py:9: RuntimeWarning: Data will be preloaded. preload=False or a string preload is not supported when the data is stored in the .set file\n",
      "  raw = mne_bids.read_raw_bids(subject_paths[j])\n",
      "C:\\Users\\mashh\\AppData\\Local\\Temp\\ipykernel_18244\\4265974583.py:9: RuntimeWarning: Did not find any events.tsv associated with sub-017_task-eyesclosed.\n",
      "\n",
      "The search_str was \"ds004504-download\\sub-017\\**\\eeg\\sub-017*events.tsv\"\n",
      "  raw = mne_bids.read_raw_bids(subject_paths[j])\n"
     ]
    },
    {
     "name": "stdout",
     "output_type": "stream",
     "text": [
      "Reading channel info from ds004504-download\\sub-018\\eeg\\sub-018_task-eyesclosed_channels.tsv.\n"
     ]
    },
    {
     "name": "stderr",
     "output_type": "stream",
     "text": [
      "C:\\Users\\mashh\\AppData\\Local\\Temp\\ipykernel_18244\\4265974583.py:9: RuntimeWarning: Data will be preloaded. preload=False or a string preload is not supported when the data is stored in the .set file\n",
      "  raw = mne_bids.read_raw_bids(subject_paths[j])\n",
      "C:\\Users\\mashh\\AppData\\Local\\Temp\\ipykernel_18244\\4265974583.py:9: RuntimeWarning: Did not find any events.tsv associated with sub-018_task-eyesclosed.\n",
      "\n",
      "The search_str was \"ds004504-download\\sub-018\\**\\eeg\\sub-018*events.tsv\"\n",
      "  raw = mne_bids.read_raw_bids(subject_paths[j])\n"
     ]
    },
    {
     "name": "stdout",
     "output_type": "stream",
     "text": [
      "Reading channel info from ds004504-download\\sub-019\\eeg\\sub-019_task-eyesclosed_channels.tsv.\n"
     ]
    },
    {
     "name": "stderr",
     "output_type": "stream",
     "text": [
      "C:\\Users\\mashh\\AppData\\Local\\Temp\\ipykernel_18244\\4265974583.py:9: RuntimeWarning: Data will be preloaded. preload=False or a string preload is not supported when the data is stored in the .set file\n",
      "  raw = mne_bids.read_raw_bids(subject_paths[j])\n",
      "C:\\Users\\mashh\\AppData\\Local\\Temp\\ipykernel_18244\\4265974583.py:9: RuntimeWarning: Did not find any events.tsv associated with sub-019_task-eyesclosed.\n",
      "\n",
      "The search_str was \"ds004504-download\\sub-019\\**\\eeg\\sub-019*events.tsv\"\n",
      "  raw = mne_bids.read_raw_bids(subject_paths[j])\n"
     ]
    },
    {
     "name": "stdout",
     "output_type": "stream",
     "text": [
      "Reading channel info from ds004504-download\\sub-020\\eeg\\sub-020_task-eyesclosed_channels.tsv.\n"
     ]
    },
    {
     "name": "stderr",
     "output_type": "stream",
     "text": [
      "C:\\Users\\mashh\\AppData\\Local\\Temp\\ipykernel_18244\\4265974583.py:9: RuntimeWarning: Data will be preloaded. preload=False or a string preload is not supported when the data is stored in the .set file\n",
      "  raw = mne_bids.read_raw_bids(subject_paths[j])\n",
      "C:\\Users\\mashh\\AppData\\Local\\Temp\\ipykernel_18244\\4265974583.py:9: RuntimeWarning: Did not find any events.tsv associated with sub-020_task-eyesclosed.\n",
      "\n",
      "The search_str was \"ds004504-download\\sub-020\\**\\eeg\\sub-020*events.tsv\"\n",
      "  raw = mne_bids.read_raw_bids(subject_paths[j])\n"
     ]
    },
    {
     "name": "stdout",
     "output_type": "stream",
     "text": [
      "Reading channel info from ds004504-download\\sub-021\\eeg\\sub-021_task-eyesclosed_channels.tsv.\n"
     ]
    },
    {
     "name": "stderr",
     "output_type": "stream",
     "text": [
      "C:\\Users\\mashh\\AppData\\Local\\Temp\\ipykernel_18244\\4265974583.py:9: RuntimeWarning: Data will be preloaded. preload=False or a string preload is not supported when the data is stored in the .set file\n",
      "  raw = mne_bids.read_raw_bids(subject_paths[j])\n",
      "C:\\Users\\mashh\\AppData\\Local\\Temp\\ipykernel_18244\\4265974583.py:9: RuntimeWarning: Did not find any events.tsv associated with sub-021_task-eyesclosed.\n",
      "\n",
      "The search_str was \"ds004504-download\\sub-021\\**\\eeg\\sub-021*events.tsv\"\n",
      "  raw = mne_bids.read_raw_bids(subject_paths[j])\n"
     ]
    },
    {
     "name": "stdout",
     "output_type": "stream",
     "text": [
      "Reading channel info from ds004504-download\\sub-022\\eeg\\sub-022_task-eyesclosed_channels.tsv.\n"
     ]
    },
    {
     "name": "stderr",
     "output_type": "stream",
     "text": [
      "C:\\Users\\mashh\\AppData\\Local\\Temp\\ipykernel_18244\\4265974583.py:9: RuntimeWarning: Data will be preloaded. preload=False or a string preload is not supported when the data is stored in the .set file\n",
      "  raw = mne_bids.read_raw_bids(subject_paths[j])\n",
      "C:\\Users\\mashh\\AppData\\Local\\Temp\\ipykernel_18244\\4265974583.py:9: RuntimeWarning: Did not find any events.tsv associated with sub-022_task-eyesclosed.\n",
      "\n",
      "The search_str was \"ds004504-download\\sub-022\\**\\eeg\\sub-022*events.tsv\"\n",
      "  raw = mne_bids.read_raw_bids(subject_paths[j])\n"
     ]
    },
    {
     "name": "stdout",
     "output_type": "stream",
     "text": [
      "Reading channel info from ds004504-download\\sub-023\\eeg\\sub-023_task-eyesclosed_channels.tsv.\n"
     ]
    },
    {
     "name": "stderr",
     "output_type": "stream",
     "text": [
      "C:\\Users\\mashh\\AppData\\Local\\Temp\\ipykernel_18244\\4265974583.py:9: RuntimeWarning: Data will be preloaded. preload=False or a string preload is not supported when the data is stored in the .set file\n",
      "  raw = mne_bids.read_raw_bids(subject_paths[j])\n",
      "C:\\Users\\mashh\\AppData\\Local\\Temp\\ipykernel_18244\\4265974583.py:9: RuntimeWarning: Did not find any events.tsv associated with sub-023_task-eyesclosed.\n",
      "\n",
      "The search_str was \"ds004504-download\\sub-023\\**\\eeg\\sub-023*events.tsv\"\n",
      "  raw = mne_bids.read_raw_bids(subject_paths[j])\n"
     ]
    },
    {
     "name": "stdout",
     "output_type": "stream",
     "text": [
      "Reading channel info from ds004504-download\\sub-024\\eeg\\sub-024_task-eyesclosed_channels.tsv.\n"
     ]
    },
    {
     "name": "stderr",
     "output_type": "stream",
     "text": [
      "C:\\Users\\mashh\\AppData\\Local\\Temp\\ipykernel_18244\\4265974583.py:9: RuntimeWarning: Data will be preloaded. preload=False or a string preload is not supported when the data is stored in the .set file\n",
      "  raw = mne_bids.read_raw_bids(subject_paths[j])\n",
      "C:\\Users\\mashh\\AppData\\Local\\Temp\\ipykernel_18244\\4265974583.py:9: RuntimeWarning: Did not find any events.tsv associated with sub-024_task-eyesclosed.\n",
      "\n",
      "The search_str was \"ds004504-download\\sub-024\\**\\eeg\\sub-024*events.tsv\"\n",
      "  raw = mne_bids.read_raw_bids(subject_paths[j])\n"
     ]
    },
    {
     "name": "stdout",
     "output_type": "stream",
     "text": [
      "Reading channel info from ds004504-download\\sub-025\\eeg\\sub-025_task-eyesclosed_channels.tsv.\n"
     ]
    },
    {
     "name": "stderr",
     "output_type": "stream",
     "text": [
      "C:\\Users\\mashh\\AppData\\Local\\Temp\\ipykernel_18244\\4265974583.py:9: RuntimeWarning: Data will be preloaded. preload=False or a string preload is not supported when the data is stored in the .set file\n",
      "  raw = mne_bids.read_raw_bids(subject_paths[j])\n",
      "C:\\Users\\mashh\\AppData\\Local\\Temp\\ipykernel_18244\\4265974583.py:9: RuntimeWarning: Did not find any events.tsv associated with sub-025_task-eyesclosed.\n",
      "\n",
      "The search_str was \"ds004504-download\\sub-025\\**\\eeg\\sub-025*events.tsv\"\n",
      "  raw = mne_bids.read_raw_bids(subject_paths[j])\n"
     ]
    },
    {
     "name": "stdout",
     "output_type": "stream",
     "text": [
      "Reading channel info from ds004504-download\\sub-026\\eeg\\sub-026_task-eyesclosed_channels.tsv.\n"
     ]
    },
    {
     "name": "stderr",
     "output_type": "stream",
     "text": [
      "C:\\Users\\mashh\\AppData\\Local\\Temp\\ipykernel_18244\\4265974583.py:9: RuntimeWarning: Data will be preloaded. preload=False or a string preload is not supported when the data is stored in the .set file\n",
      "  raw = mne_bids.read_raw_bids(subject_paths[j])\n",
      "C:\\Users\\mashh\\AppData\\Local\\Temp\\ipykernel_18244\\4265974583.py:9: RuntimeWarning: Did not find any events.tsv associated with sub-026_task-eyesclosed.\n",
      "\n",
      "The search_str was \"ds004504-download\\sub-026\\**\\eeg\\sub-026*events.tsv\"\n",
      "  raw = mne_bids.read_raw_bids(subject_paths[j])\n"
     ]
    },
    {
     "name": "stdout",
     "output_type": "stream",
     "text": [
      "Reading channel info from ds004504-download\\sub-027\\eeg\\sub-027_task-eyesclosed_channels.tsv.\n"
     ]
    },
    {
     "name": "stderr",
     "output_type": "stream",
     "text": [
      "C:\\Users\\mashh\\AppData\\Local\\Temp\\ipykernel_18244\\4265974583.py:9: RuntimeWarning: Data will be preloaded. preload=False or a string preload is not supported when the data is stored in the .set file\n",
      "  raw = mne_bids.read_raw_bids(subject_paths[j])\n",
      "C:\\Users\\mashh\\AppData\\Local\\Temp\\ipykernel_18244\\4265974583.py:9: RuntimeWarning: Did not find any events.tsv associated with sub-027_task-eyesclosed.\n",
      "\n",
      "The search_str was \"ds004504-download\\sub-027\\**\\eeg\\sub-027*events.tsv\"\n",
      "  raw = mne_bids.read_raw_bids(subject_paths[j])\n"
     ]
    },
    {
     "name": "stdout",
     "output_type": "stream",
     "text": [
      "Reading channel info from ds004504-download\\sub-028\\eeg\\sub-028_task-eyesclosed_channels.tsv.\n"
     ]
    },
    {
     "name": "stderr",
     "output_type": "stream",
     "text": [
      "C:\\Users\\mashh\\AppData\\Local\\Temp\\ipykernel_18244\\4265974583.py:9: RuntimeWarning: Data will be preloaded. preload=False or a string preload is not supported when the data is stored in the .set file\n",
      "  raw = mne_bids.read_raw_bids(subject_paths[j])\n",
      "C:\\Users\\mashh\\AppData\\Local\\Temp\\ipykernel_18244\\4265974583.py:9: RuntimeWarning: Did not find any events.tsv associated with sub-028_task-eyesclosed.\n",
      "\n",
      "The search_str was \"ds004504-download\\sub-028\\**\\eeg\\sub-028*events.tsv\"\n",
      "  raw = mne_bids.read_raw_bids(subject_paths[j])\n",
      "C:\\Users\\mashh\\AppData\\Local\\Temp\\ipykernel_18244\\4265974583.py:9: RuntimeWarning: Data will be preloaded. preload=False or a string preload is not supported when the data is stored in the .set file\n",
      "  raw = mne_bids.read_raw_bids(subject_paths[j])\n"
     ]
    },
    {
     "name": "stdout",
     "output_type": "stream",
     "text": [
      "Reading channel info from ds004504-download\\sub-029\\eeg\\sub-029_task-eyesclosed_channels.tsv.\n"
     ]
    },
    {
     "name": "stderr",
     "output_type": "stream",
     "text": [
      "C:\\Users\\mashh\\AppData\\Local\\Temp\\ipykernel_18244\\4265974583.py:9: RuntimeWarning: Did not find any events.tsv associated with sub-029_task-eyesclosed.\n",
      "\n",
      "The search_str was \"ds004504-download\\sub-029\\**\\eeg\\sub-029*events.tsv\"\n",
      "  raw = mne_bids.read_raw_bids(subject_paths[j])\n"
     ]
    },
    {
     "name": "stdout",
     "output_type": "stream",
     "text": [
      "Reading channel info from ds004504-download\\sub-030\\eeg\\sub-030_task-eyesclosed_channels.tsv.\n"
     ]
    },
    {
     "name": "stderr",
     "output_type": "stream",
     "text": [
      "C:\\Users\\mashh\\AppData\\Local\\Temp\\ipykernel_18244\\4265974583.py:9: RuntimeWarning: Data will be preloaded. preload=False or a string preload is not supported when the data is stored in the .set file\n",
      "  raw = mne_bids.read_raw_bids(subject_paths[j])\n",
      "C:\\Users\\mashh\\AppData\\Local\\Temp\\ipykernel_18244\\4265974583.py:9: RuntimeWarning: Did not find any events.tsv associated with sub-030_task-eyesclosed.\n",
      "\n",
      "The search_str was \"ds004504-download\\sub-030\\**\\eeg\\sub-030*events.tsv\"\n",
      "  raw = mne_bids.read_raw_bids(subject_paths[j])\n"
     ]
    },
    {
     "name": "stdout",
     "output_type": "stream",
     "text": [
      "Reading channel info from ds004504-download\\sub-031\\eeg\\sub-031_task-eyesclosed_channels.tsv.\n"
     ]
    },
    {
     "name": "stderr",
     "output_type": "stream",
     "text": [
      "C:\\Users\\mashh\\AppData\\Local\\Temp\\ipykernel_18244\\4265974583.py:9: RuntimeWarning: Data will be preloaded. preload=False or a string preload is not supported when the data is stored in the .set file\n",
      "  raw = mne_bids.read_raw_bids(subject_paths[j])\n",
      "C:\\Users\\mashh\\AppData\\Local\\Temp\\ipykernel_18244\\4265974583.py:9: RuntimeWarning: Did not find any events.tsv associated with sub-031_task-eyesclosed.\n",
      "\n",
      "The search_str was \"ds004504-download\\sub-031\\**\\eeg\\sub-031*events.tsv\"\n",
      "  raw = mne_bids.read_raw_bids(subject_paths[j])\n"
     ]
    },
    {
     "name": "stdout",
     "output_type": "stream",
     "text": [
      "Reading channel info from ds004504-download\\sub-032\\eeg\\sub-032_task-eyesclosed_channels.tsv.\n"
     ]
    },
    {
     "name": "stderr",
     "output_type": "stream",
     "text": [
      "C:\\Users\\mashh\\AppData\\Local\\Temp\\ipykernel_18244\\4265974583.py:9: RuntimeWarning: Data will be preloaded. preload=False or a string preload is not supported when the data is stored in the .set file\n",
      "  raw = mne_bids.read_raw_bids(subject_paths[j])\n",
      "C:\\Users\\mashh\\AppData\\Local\\Temp\\ipykernel_18244\\4265974583.py:9: RuntimeWarning: Did not find any events.tsv associated with sub-032_task-eyesclosed.\n",
      "\n",
      "The search_str was \"ds004504-download\\sub-032\\**\\eeg\\sub-032*events.tsv\"\n",
      "  raw = mne_bids.read_raw_bids(subject_paths[j])\n"
     ]
    },
    {
     "name": "stdout",
     "output_type": "stream",
     "text": [
      "Reading channel info from ds004504-download\\sub-033\\eeg\\sub-033_task-eyesclosed_channels.tsv.\n"
     ]
    },
    {
     "name": "stderr",
     "output_type": "stream",
     "text": [
      "C:\\Users\\mashh\\AppData\\Local\\Temp\\ipykernel_18244\\4265974583.py:9: RuntimeWarning: Data will be preloaded. preload=False or a string preload is not supported when the data is stored in the .set file\n",
      "  raw = mne_bids.read_raw_bids(subject_paths[j])\n",
      "C:\\Users\\mashh\\AppData\\Local\\Temp\\ipykernel_18244\\4265974583.py:9: RuntimeWarning: Did not find any events.tsv associated with sub-033_task-eyesclosed.\n",
      "\n",
      "The search_str was \"ds004504-download\\sub-033\\**\\eeg\\sub-033*events.tsv\"\n",
      "  raw = mne_bids.read_raw_bids(subject_paths[j])\n"
     ]
    },
    {
     "name": "stdout",
     "output_type": "stream",
     "text": [
      "Reading channel info from ds004504-download\\sub-034\\eeg\\sub-034_task-eyesclosed_channels.tsv.\n"
     ]
    },
    {
     "name": "stderr",
     "output_type": "stream",
     "text": [
      "C:\\Users\\mashh\\AppData\\Local\\Temp\\ipykernel_18244\\4265974583.py:9: RuntimeWarning: Data will be preloaded. preload=False or a string preload is not supported when the data is stored in the .set file\n",
      "  raw = mne_bids.read_raw_bids(subject_paths[j])\n",
      "C:\\Users\\mashh\\AppData\\Local\\Temp\\ipykernel_18244\\4265974583.py:9: RuntimeWarning: Did not find any events.tsv associated with sub-034_task-eyesclosed.\n",
      "\n",
      "The search_str was \"ds004504-download\\sub-034\\**\\eeg\\sub-034*events.tsv\"\n",
      "  raw = mne_bids.read_raw_bids(subject_paths[j])\n"
     ]
    },
    {
     "name": "stdout",
     "output_type": "stream",
     "text": [
      "Reading channel info from ds004504-download\\sub-035\\eeg\\sub-035_task-eyesclosed_channels.tsv.\n"
     ]
    },
    {
     "name": "stderr",
     "output_type": "stream",
     "text": [
      "C:\\Users\\mashh\\AppData\\Local\\Temp\\ipykernel_18244\\4265974583.py:9: RuntimeWarning: Data will be preloaded. preload=False or a string preload is not supported when the data is stored in the .set file\n",
      "  raw = mne_bids.read_raw_bids(subject_paths[j])\n",
      "C:\\Users\\mashh\\AppData\\Local\\Temp\\ipykernel_18244\\4265974583.py:9: RuntimeWarning: Did not find any events.tsv associated with sub-035_task-eyesclosed.\n",
      "\n",
      "The search_str was \"ds004504-download\\sub-035\\**\\eeg\\sub-035*events.tsv\"\n",
      "  raw = mne_bids.read_raw_bids(subject_paths[j])\n"
     ]
    },
    {
     "name": "stdout",
     "output_type": "stream",
     "text": [
      "Reading channel info from ds004504-download\\sub-036\\eeg\\sub-036_task-eyesclosed_channels.tsv.\n"
     ]
    },
    {
     "name": "stderr",
     "output_type": "stream",
     "text": [
      "C:\\Users\\mashh\\AppData\\Local\\Temp\\ipykernel_18244\\4265974583.py:9: RuntimeWarning: Data will be preloaded. preload=False or a string preload is not supported when the data is stored in the .set file\n",
      "  raw = mne_bids.read_raw_bids(subject_paths[j])\n",
      "C:\\Users\\mashh\\AppData\\Local\\Temp\\ipykernel_18244\\4265974583.py:9: RuntimeWarning: Did not find any events.tsv associated with sub-036_task-eyesclosed.\n",
      "\n",
      "The search_str was \"ds004504-download\\sub-036\\**\\eeg\\sub-036*events.tsv\"\n",
      "  raw = mne_bids.read_raw_bids(subject_paths[j])\n"
     ]
    },
    {
     "name": "stdout",
     "output_type": "stream",
     "text": [
      "Reading channel info from ds004504-download\\sub-037\\eeg\\sub-037_task-eyesclosed_channels.tsv.\n"
     ]
    },
    {
     "name": "stderr",
     "output_type": "stream",
     "text": [
      "C:\\Users\\mashh\\AppData\\Local\\Temp\\ipykernel_18244\\4265974583.py:9: RuntimeWarning: Data will be preloaded. preload=False or a string preload is not supported when the data is stored in the .set file\n",
      "  raw = mne_bids.read_raw_bids(subject_paths[j])\n",
      "C:\\Users\\mashh\\AppData\\Local\\Temp\\ipykernel_18244\\4265974583.py:9: RuntimeWarning: Did not find any events.tsv associated with sub-037_task-eyesclosed.\n",
      "\n",
      "The search_str was \"ds004504-download\\sub-037\\**\\eeg\\sub-037*events.tsv\"\n",
      "  raw = mne_bids.read_raw_bids(subject_paths[j])\n",
      "C:\\Users\\mashh\\AppData\\Local\\Temp\\ipykernel_18244\\4265974583.py:9: RuntimeWarning: Data will be preloaded. preload=False or a string preload is not supported when the data is stored in the .set file\n",
      "  raw = mne_bids.read_raw_bids(subject_paths[j])\n",
      "C:\\Users\\mashh\\AppData\\Local\\Temp\\ipykernel_18244\\4265974583.py:9: RuntimeWarning: Did not find any events.tsv associated with sub-038_task-eyesclosed.\n",
      "\n",
      "The search_str was \"ds004504-download\\sub-038\\**\\eeg\\sub-038*events.tsv\"\n",
      "  raw = mne_bids.read_raw_bids(subject_paths[j])\n"
     ]
    },
    {
     "name": "stdout",
     "output_type": "stream",
     "text": [
      "Reading channel info from ds004504-download\\sub-038\\eeg\\sub-038_task-eyesclosed_channels.tsv.\n",
      "Reading channel info from ds004504-download\\sub-039\\eeg\\sub-039_task-eyesclosed_channels.tsv.\n"
     ]
    },
    {
     "name": "stderr",
     "output_type": "stream",
     "text": [
      "C:\\Users\\mashh\\AppData\\Local\\Temp\\ipykernel_18244\\4265974583.py:9: RuntimeWarning: Data will be preloaded. preload=False or a string preload is not supported when the data is stored in the .set file\n",
      "  raw = mne_bids.read_raw_bids(subject_paths[j])\n",
      "C:\\Users\\mashh\\AppData\\Local\\Temp\\ipykernel_18244\\4265974583.py:9: RuntimeWarning: Did not find any events.tsv associated with sub-039_task-eyesclosed.\n",
      "\n",
      "The search_str was \"ds004504-download\\sub-039\\**\\eeg\\sub-039*events.tsv\"\n",
      "  raw = mne_bids.read_raw_bids(subject_paths[j])\n",
      "C:\\Users\\mashh\\AppData\\Local\\Temp\\ipykernel_18244\\4265974583.py:9: RuntimeWarning: Data will be preloaded. preload=False or a string preload is not supported when the data is stored in the .set file\n",
      "  raw = mne_bids.read_raw_bids(subject_paths[j])\n",
      "C:\\Users\\mashh\\AppData\\Local\\Temp\\ipykernel_18244\\4265974583.py:9: RuntimeWarning: Did not find any events.tsv associated with sub-040_task-eyesclosed.\n",
      "\n",
      "The search_str was \"ds004504-download\\sub-040\\**\\eeg\\sub-040*events.tsv\"\n",
      "  raw = mne_bids.read_raw_bids(subject_paths[j])\n"
     ]
    },
    {
     "name": "stdout",
     "output_type": "stream",
     "text": [
      "Reading channel info from ds004504-download\\sub-040\\eeg\\sub-040_task-eyesclosed_channels.tsv.\n",
      "Reading channel info from ds004504-download\\sub-041\\eeg\\sub-041_task-eyesclosed_channels.tsv.\n"
     ]
    },
    {
     "name": "stderr",
     "output_type": "stream",
     "text": [
      "C:\\Users\\mashh\\AppData\\Local\\Temp\\ipykernel_18244\\4265974583.py:9: RuntimeWarning: Data will be preloaded. preload=False or a string preload is not supported when the data is stored in the .set file\n",
      "  raw = mne_bids.read_raw_bids(subject_paths[j])\n",
      "C:\\Users\\mashh\\AppData\\Local\\Temp\\ipykernel_18244\\4265974583.py:9: RuntimeWarning: Did not find any events.tsv associated with sub-041_task-eyesclosed.\n",
      "\n",
      "The search_str was \"ds004504-download\\sub-041\\**\\eeg\\sub-041*events.tsv\"\n",
      "  raw = mne_bids.read_raw_bids(subject_paths[j])\n"
     ]
    },
    {
     "name": "stdout",
     "output_type": "stream",
     "text": [
      "Reading channel info from ds004504-download\\sub-042\\eeg\\sub-042_task-eyesclosed_channels.tsv.\n"
     ]
    },
    {
     "name": "stderr",
     "output_type": "stream",
     "text": [
      "C:\\Users\\mashh\\AppData\\Local\\Temp\\ipykernel_18244\\4265974583.py:9: RuntimeWarning: Data will be preloaded. preload=False or a string preload is not supported when the data is stored in the .set file\n",
      "  raw = mne_bids.read_raw_bids(subject_paths[j])\n",
      "C:\\Users\\mashh\\AppData\\Local\\Temp\\ipykernel_18244\\4265974583.py:9: RuntimeWarning: Did not find any events.tsv associated with sub-042_task-eyesclosed.\n",
      "\n",
      "The search_str was \"ds004504-download\\sub-042\\**\\eeg\\sub-042*events.tsv\"\n",
      "  raw = mne_bids.read_raw_bids(subject_paths[j])\n"
     ]
    },
    {
     "name": "stdout",
     "output_type": "stream",
     "text": [
      "Reading channel info from ds004504-download\\sub-043\\eeg\\sub-043_task-eyesclosed_channels.tsv.\n"
     ]
    },
    {
     "name": "stderr",
     "output_type": "stream",
     "text": [
      "C:\\Users\\mashh\\AppData\\Local\\Temp\\ipykernel_18244\\4265974583.py:9: RuntimeWarning: Data will be preloaded. preload=False or a string preload is not supported when the data is stored in the .set file\n",
      "  raw = mne_bids.read_raw_bids(subject_paths[j])\n",
      "C:\\Users\\mashh\\AppData\\Local\\Temp\\ipykernel_18244\\4265974583.py:9: RuntimeWarning: Did not find any events.tsv associated with sub-043_task-eyesclosed.\n",
      "\n",
      "The search_str was \"ds004504-download\\sub-043\\**\\eeg\\sub-043*events.tsv\"\n",
      "  raw = mne_bids.read_raw_bids(subject_paths[j])\n"
     ]
    },
    {
     "name": "stdout",
     "output_type": "stream",
     "text": [
      "Reading channel info from ds004504-download\\sub-044\\eeg\\sub-044_task-eyesclosed_channels.tsv.\n"
     ]
    },
    {
     "name": "stderr",
     "output_type": "stream",
     "text": [
      "C:\\Users\\mashh\\AppData\\Local\\Temp\\ipykernel_18244\\4265974583.py:9: RuntimeWarning: Data will be preloaded. preload=False or a string preload is not supported when the data is stored in the .set file\n",
      "  raw = mne_bids.read_raw_bids(subject_paths[j])\n",
      "C:\\Users\\mashh\\AppData\\Local\\Temp\\ipykernel_18244\\4265974583.py:9: RuntimeWarning: Did not find any events.tsv associated with sub-044_task-eyesclosed.\n",
      "\n",
      "The search_str was \"ds004504-download\\sub-044\\**\\eeg\\sub-044*events.tsv\"\n",
      "  raw = mne_bids.read_raw_bids(subject_paths[j])\n"
     ]
    },
    {
     "name": "stdout",
     "output_type": "stream",
     "text": [
      "Reading channel info from ds004504-download\\sub-045\\eeg\\sub-045_task-eyesclosed_channels.tsv.\n"
     ]
    },
    {
     "name": "stderr",
     "output_type": "stream",
     "text": [
      "C:\\Users\\mashh\\AppData\\Local\\Temp\\ipykernel_18244\\4265974583.py:9: RuntimeWarning: Data will be preloaded. preload=False or a string preload is not supported when the data is stored in the .set file\n",
      "  raw = mne_bids.read_raw_bids(subject_paths[j])\n",
      "C:\\Users\\mashh\\AppData\\Local\\Temp\\ipykernel_18244\\4265974583.py:9: RuntimeWarning: Did not find any events.tsv associated with sub-045_task-eyesclosed.\n",
      "\n",
      "The search_str was \"ds004504-download\\sub-045\\**\\eeg\\sub-045*events.tsv\"\n",
      "  raw = mne_bids.read_raw_bids(subject_paths[j])\n"
     ]
    },
    {
     "name": "stdout",
     "output_type": "stream",
     "text": [
      "Reading channel info from ds004504-download\\sub-046\\eeg\\sub-046_task-eyesclosed_channels.tsv.\n"
     ]
    },
    {
     "name": "stderr",
     "output_type": "stream",
     "text": [
      "C:\\Users\\mashh\\AppData\\Local\\Temp\\ipykernel_18244\\4265974583.py:9: RuntimeWarning: Data will be preloaded. preload=False or a string preload is not supported when the data is stored in the .set file\n",
      "  raw = mne_bids.read_raw_bids(subject_paths[j])\n",
      "C:\\Users\\mashh\\AppData\\Local\\Temp\\ipykernel_18244\\4265974583.py:9: RuntimeWarning: Did not find any events.tsv associated with sub-046_task-eyesclosed.\n",
      "\n",
      "The search_str was \"ds004504-download\\sub-046\\**\\eeg\\sub-046*events.tsv\"\n",
      "  raw = mne_bids.read_raw_bids(subject_paths[j])\n"
     ]
    },
    {
     "name": "stdout",
     "output_type": "stream",
     "text": [
      "Reading channel info from ds004504-download\\sub-047\\eeg\\sub-047_task-eyesclosed_channels.tsv.\n"
     ]
    },
    {
     "name": "stderr",
     "output_type": "stream",
     "text": [
      "C:\\Users\\mashh\\AppData\\Local\\Temp\\ipykernel_18244\\4265974583.py:9: RuntimeWarning: Data will be preloaded. preload=False or a string preload is not supported when the data is stored in the .set file\n",
      "  raw = mne_bids.read_raw_bids(subject_paths[j])\n",
      "C:\\Users\\mashh\\AppData\\Local\\Temp\\ipykernel_18244\\4265974583.py:9: RuntimeWarning: Did not find any events.tsv associated with sub-047_task-eyesclosed.\n",
      "\n",
      "The search_str was \"ds004504-download\\sub-047\\**\\eeg\\sub-047*events.tsv\"\n",
      "  raw = mne_bids.read_raw_bids(subject_paths[j])\n"
     ]
    },
    {
     "name": "stdout",
     "output_type": "stream",
     "text": [
      "Reading channel info from ds004504-download\\sub-048\\eeg\\sub-048_task-eyesclosed_channels.tsv.\n"
     ]
    },
    {
     "name": "stderr",
     "output_type": "stream",
     "text": [
      "C:\\Users\\mashh\\AppData\\Local\\Temp\\ipykernel_18244\\4265974583.py:9: RuntimeWarning: Data will be preloaded. preload=False or a string preload is not supported when the data is stored in the .set file\n",
      "  raw = mne_bids.read_raw_bids(subject_paths[j])\n",
      "C:\\Users\\mashh\\AppData\\Local\\Temp\\ipykernel_18244\\4265974583.py:9: RuntimeWarning: Did not find any events.tsv associated with sub-048_task-eyesclosed.\n",
      "\n",
      "The search_str was \"ds004504-download\\sub-048\\**\\eeg\\sub-048*events.tsv\"\n",
      "  raw = mne_bids.read_raw_bids(subject_paths[j])\n"
     ]
    },
    {
     "name": "stdout",
     "output_type": "stream",
     "text": [
      "Reading channel info from ds004504-download\\sub-049\\eeg\\sub-049_task-eyesclosed_channels.tsv.\n"
     ]
    },
    {
     "name": "stderr",
     "output_type": "stream",
     "text": [
      "C:\\Users\\mashh\\AppData\\Local\\Temp\\ipykernel_18244\\4265974583.py:9: RuntimeWarning: Data will be preloaded. preload=False or a string preload is not supported when the data is stored in the .set file\n",
      "  raw = mne_bids.read_raw_bids(subject_paths[j])\n",
      "C:\\Users\\mashh\\AppData\\Local\\Temp\\ipykernel_18244\\4265974583.py:9: RuntimeWarning: Did not find any events.tsv associated with sub-049_task-eyesclosed.\n",
      "\n",
      "The search_str was \"ds004504-download\\sub-049\\**\\eeg\\sub-049*events.tsv\"\n",
      "  raw = mne_bids.read_raw_bids(subject_paths[j])\n"
     ]
    },
    {
     "name": "stdout",
     "output_type": "stream",
     "text": [
      "Reading channel info from ds004504-download\\sub-050\\eeg\\sub-050_task-eyesclosed_channels.tsv.\n"
     ]
    },
    {
     "name": "stderr",
     "output_type": "stream",
     "text": [
      "C:\\Users\\mashh\\AppData\\Local\\Temp\\ipykernel_18244\\4265974583.py:9: RuntimeWarning: Data will be preloaded. preload=False or a string preload is not supported when the data is stored in the .set file\n",
      "  raw = mne_bids.read_raw_bids(subject_paths[j])\n",
      "C:\\Users\\mashh\\AppData\\Local\\Temp\\ipykernel_18244\\4265974583.py:9: RuntimeWarning: Did not find any events.tsv associated with sub-050_task-eyesclosed.\n",
      "\n",
      "The search_str was \"ds004504-download\\sub-050\\**\\eeg\\sub-050*events.tsv\"\n",
      "  raw = mne_bids.read_raw_bids(subject_paths[j])\n"
     ]
    },
    {
     "name": "stdout",
     "output_type": "stream",
     "text": [
      "Reading channel info from ds004504-download\\sub-051\\eeg\\sub-051_task-eyesclosed_channels.tsv.\n"
     ]
    },
    {
     "name": "stderr",
     "output_type": "stream",
     "text": [
      "C:\\Users\\mashh\\AppData\\Local\\Temp\\ipykernel_18244\\4265974583.py:9: RuntimeWarning: Data will be preloaded. preload=False or a string preload is not supported when the data is stored in the .set file\n",
      "  raw = mne_bids.read_raw_bids(subject_paths[j])\n",
      "C:\\Users\\mashh\\AppData\\Local\\Temp\\ipykernel_18244\\4265974583.py:9: RuntimeWarning: Did not find any events.tsv associated with sub-051_task-eyesclosed.\n",
      "\n",
      "The search_str was \"ds004504-download\\sub-051\\**\\eeg\\sub-051*events.tsv\"\n",
      "  raw = mne_bids.read_raw_bids(subject_paths[j])\n"
     ]
    },
    {
     "name": "stdout",
     "output_type": "stream",
     "text": [
      "Reading channel info from ds004504-download\\sub-052\\eeg\\sub-052_task-eyesclosed_channels.tsv.\n"
     ]
    },
    {
     "name": "stderr",
     "output_type": "stream",
     "text": [
      "C:\\Users\\mashh\\AppData\\Local\\Temp\\ipykernel_18244\\4265974583.py:9: RuntimeWarning: Data will be preloaded. preload=False or a string preload is not supported when the data is stored in the .set file\n",
      "  raw = mne_bids.read_raw_bids(subject_paths[j])\n",
      "C:\\Users\\mashh\\AppData\\Local\\Temp\\ipykernel_18244\\4265974583.py:9: RuntimeWarning: Did not find any events.tsv associated with sub-052_task-eyesclosed.\n",
      "\n",
      "The search_str was \"ds004504-download\\sub-052\\**\\eeg\\sub-052*events.tsv\"\n",
      "  raw = mne_bids.read_raw_bids(subject_paths[j])\n"
     ]
    },
    {
     "name": "stdout",
     "output_type": "stream",
     "text": [
      "Reading channel info from ds004504-download\\sub-053\\eeg\\sub-053_task-eyesclosed_channels.tsv.\n"
     ]
    },
    {
     "name": "stderr",
     "output_type": "stream",
     "text": [
      "C:\\Users\\mashh\\AppData\\Local\\Temp\\ipykernel_18244\\4265974583.py:9: RuntimeWarning: Data will be preloaded. preload=False or a string preload is not supported when the data is stored in the .set file\n",
      "  raw = mne_bids.read_raw_bids(subject_paths[j])\n",
      "C:\\Users\\mashh\\AppData\\Local\\Temp\\ipykernel_18244\\4265974583.py:9: RuntimeWarning: Did not find any events.tsv associated with sub-053_task-eyesclosed.\n",
      "\n",
      "The search_str was \"ds004504-download\\sub-053\\**\\eeg\\sub-053*events.tsv\"\n",
      "  raw = mne_bids.read_raw_bids(subject_paths[j])\n"
     ]
    },
    {
     "name": "stdout",
     "output_type": "stream",
     "text": [
      "Reading channel info from ds004504-download\\sub-054\\eeg\\sub-054_task-eyesclosed_channels.tsv.\n"
     ]
    },
    {
     "name": "stderr",
     "output_type": "stream",
     "text": [
      "C:\\Users\\mashh\\AppData\\Local\\Temp\\ipykernel_18244\\4265974583.py:9: RuntimeWarning: Data will be preloaded. preload=False or a string preload is not supported when the data is stored in the .set file\n",
      "  raw = mne_bids.read_raw_bids(subject_paths[j])\n",
      "C:\\Users\\mashh\\AppData\\Local\\Temp\\ipykernel_18244\\4265974583.py:9: RuntimeWarning: Did not find any events.tsv associated with sub-054_task-eyesclosed.\n",
      "\n",
      "The search_str was \"ds004504-download\\sub-054\\**\\eeg\\sub-054*events.tsv\"\n",
      "  raw = mne_bids.read_raw_bids(subject_paths[j])\n"
     ]
    },
    {
     "name": "stdout",
     "output_type": "stream",
     "text": [
      "Reading channel info from ds004504-download\\sub-055\\eeg\\sub-055_task-eyesclosed_channels.tsv.\n"
     ]
    },
    {
     "name": "stderr",
     "output_type": "stream",
     "text": [
      "C:\\Users\\mashh\\AppData\\Local\\Temp\\ipykernel_18244\\4265974583.py:9: RuntimeWarning: Data will be preloaded. preload=False or a string preload is not supported when the data is stored in the .set file\n",
      "  raw = mne_bids.read_raw_bids(subject_paths[j])\n",
      "C:\\Users\\mashh\\AppData\\Local\\Temp\\ipykernel_18244\\4265974583.py:9: RuntimeWarning: Did not find any events.tsv associated with sub-055_task-eyesclosed.\n",
      "\n",
      "The search_str was \"ds004504-download\\sub-055\\**\\eeg\\sub-055*events.tsv\"\n",
      "  raw = mne_bids.read_raw_bids(subject_paths[j])\n"
     ]
    },
    {
     "name": "stdout",
     "output_type": "stream",
     "text": [
      "Reading channel info from ds004504-download\\sub-056\\eeg\\sub-056_task-eyesclosed_channels.tsv.\n"
     ]
    },
    {
     "name": "stderr",
     "output_type": "stream",
     "text": [
      "C:\\Users\\mashh\\AppData\\Local\\Temp\\ipykernel_18244\\4265974583.py:9: RuntimeWarning: Data will be preloaded. preload=False or a string preload is not supported when the data is stored in the .set file\n",
      "  raw = mne_bids.read_raw_bids(subject_paths[j])\n",
      "C:\\Users\\mashh\\AppData\\Local\\Temp\\ipykernel_18244\\4265974583.py:9: RuntimeWarning: Did not find any events.tsv associated with sub-056_task-eyesclosed.\n",
      "\n",
      "The search_str was \"ds004504-download\\sub-056\\**\\eeg\\sub-056*events.tsv\"\n",
      "  raw = mne_bids.read_raw_bids(subject_paths[j])\n"
     ]
    },
    {
     "name": "stdout",
     "output_type": "stream",
     "text": [
      "Reading channel info from ds004504-download\\sub-057\\eeg\\sub-057_task-eyesclosed_channels.tsv.\n"
     ]
    },
    {
     "name": "stderr",
     "output_type": "stream",
     "text": [
      "C:\\Users\\mashh\\AppData\\Local\\Temp\\ipykernel_18244\\4265974583.py:9: RuntimeWarning: Data will be preloaded. preload=False or a string preload is not supported when the data is stored in the .set file\n",
      "  raw = mne_bids.read_raw_bids(subject_paths[j])\n",
      "C:\\Users\\mashh\\AppData\\Local\\Temp\\ipykernel_18244\\4265974583.py:9: RuntimeWarning: Did not find any events.tsv associated with sub-057_task-eyesclosed.\n",
      "\n",
      "The search_str was \"ds004504-download\\sub-057\\**\\eeg\\sub-057*events.tsv\"\n",
      "  raw = mne_bids.read_raw_bids(subject_paths[j])\n"
     ]
    },
    {
     "name": "stdout",
     "output_type": "stream",
     "text": [
      "Reading channel info from ds004504-download\\sub-058\\eeg\\sub-058_task-eyesclosed_channels.tsv.\n"
     ]
    },
    {
     "name": "stderr",
     "output_type": "stream",
     "text": [
      "C:\\Users\\mashh\\AppData\\Local\\Temp\\ipykernel_18244\\4265974583.py:9: RuntimeWarning: Data will be preloaded. preload=False or a string preload is not supported when the data is stored in the .set file\n",
      "  raw = mne_bids.read_raw_bids(subject_paths[j])\n",
      "C:\\Users\\mashh\\AppData\\Local\\Temp\\ipykernel_18244\\4265974583.py:9: RuntimeWarning: Did not find any events.tsv associated with sub-058_task-eyesclosed.\n",
      "\n",
      "The search_str was \"ds004504-download\\sub-058\\**\\eeg\\sub-058*events.tsv\"\n",
      "  raw = mne_bids.read_raw_bids(subject_paths[j])\n"
     ]
    },
    {
     "name": "stdout",
     "output_type": "stream",
     "text": [
      "Reading channel info from ds004504-download\\sub-059\\eeg\\sub-059_task-eyesclosed_channels.tsv.\n"
     ]
    },
    {
     "name": "stderr",
     "output_type": "stream",
     "text": [
      "C:\\Users\\mashh\\AppData\\Local\\Temp\\ipykernel_18244\\4265974583.py:9: RuntimeWarning: Data will be preloaded. preload=False or a string preload is not supported when the data is stored in the .set file\n",
      "  raw = mne_bids.read_raw_bids(subject_paths[j])\n",
      "C:\\Users\\mashh\\AppData\\Local\\Temp\\ipykernel_18244\\4265974583.py:9: RuntimeWarning: Did not find any events.tsv associated with sub-059_task-eyesclosed.\n",
      "\n",
      "The search_str was \"ds004504-download\\sub-059\\**\\eeg\\sub-059*events.tsv\"\n",
      "  raw = mne_bids.read_raw_bids(subject_paths[j])\n"
     ]
    },
    {
     "name": "stdout",
     "output_type": "stream",
     "text": [
      "Reading channel info from ds004504-download\\sub-060\\eeg\\sub-060_task-eyesclosed_channels.tsv.\n"
     ]
    },
    {
     "name": "stderr",
     "output_type": "stream",
     "text": [
      "C:\\Users\\mashh\\AppData\\Local\\Temp\\ipykernel_18244\\4265974583.py:9: RuntimeWarning: Data will be preloaded. preload=False or a string preload is not supported when the data is stored in the .set file\n",
      "  raw = mne_bids.read_raw_bids(subject_paths[j])\n",
      "C:\\Users\\mashh\\AppData\\Local\\Temp\\ipykernel_18244\\4265974583.py:9: RuntimeWarning: Did not find any events.tsv associated with sub-060_task-eyesclosed.\n",
      "\n",
      "The search_str was \"ds004504-download\\sub-060\\**\\eeg\\sub-060*events.tsv\"\n",
      "  raw = mne_bids.read_raw_bids(subject_paths[j])\n"
     ]
    },
    {
     "name": "stdout",
     "output_type": "stream",
     "text": [
      "Reading channel info from ds004504-download\\sub-061\\eeg\\sub-061_task-eyesclosed_channels.tsv.\n"
     ]
    },
    {
     "name": "stderr",
     "output_type": "stream",
     "text": [
      "C:\\Users\\mashh\\AppData\\Local\\Temp\\ipykernel_18244\\4265974583.py:9: RuntimeWarning: Data will be preloaded. preload=False or a string preload is not supported when the data is stored in the .set file\n",
      "  raw = mne_bids.read_raw_bids(subject_paths[j])\n",
      "C:\\Users\\mashh\\AppData\\Local\\Temp\\ipykernel_18244\\4265974583.py:9: RuntimeWarning: Did not find any events.tsv associated with sub-061_task-eyesclosed.\n",
      "\n",
      "The search_str was \"ds004504-download\\sub-061\\**\\eeg\\sub-061*events.tsv\"\n",
      "  raw = mne_bids.read_raw_bids(subject_paths[j])\n"
     ]
    },
    {
     "name": "stdout",
     "output_type": "stream",
     "text": [
      "Reading channel info from ds004504-download\\sub-062\\eeg\\sub-062_task-eyesclosed_channels.tsv.\n"
     ]
    },
    {
     "name": "stderr",
     "output_type": "stream",
     "text": [
      "C:\\Users\\mashh\\AppData\\Local\\Temp\\ipykernel_18244\\4265974583.py:9: RuntimeWarning: Data will be preloaded. preload=False or a string preload is not supported when the data is stored in the .set file\n",
      "  raw = mne_bids.read_raw_bids(subject_paths[j])\n",
      "C:\\Users\\mashh\\AppData\\Local\\Temp\\ipykernel_18244\\4265974583.py:9: RuntimeWarning: Did not find any events.tsv associated with sub-062_task-eyesclosed.\n",
      "\n",
      "The search_str was \"ds004504-download\\sub-062\\**\\eeg\\sub-062*events.tsv\"\n",
      "  raw = mne_bids.read_raw_bids(subject_paths[j])\n"
     ]
    },
    {
     "name": "stdout",
     "output_type": "stream",
     "text": [
      "Reading channel info from ds004504-download\\sub-063\\eeg\\sub-063_task-eyesclosed_channels.tsv.\n"
     ]
    },
    {
     "name": "stderr",
     "output_type": "stream",
     "text": [
      "C:\\Users\\mashh\\AppData\\Local\\Temp\\ipykernel_18244\\4265974583.py:9: RuntimeWarning: Data will be preloaded. preload=False or a string preload is not supported when the data is stored in the .set file\n",
      "  raw = mne_bids.read_raw_bids(subject_paths[j])\n",
      "C:\\Users\\mashh\\AppData\\Local\\Temp\\ipykernel_18244\\4265974583.py:9: RuntimeWarning: Did not find any events.tsv associated with sub-063_task-eyesclosed.\n",
      "\n",
      "The search_str was \"ds004504-download\\sub-063\\**\\eeg\\sub-063*events.tsv\"\n",
      "  raw = mne_bids.read_raw_bids(subject_paths[j])\n"
     ]
    },
    {
     "name": "stdout",
     "output_type": "stream",
     "text": [
      "Reading channel info from ds004504-download\\sub-064\\eeg\\sub-064_task-eyesclosed_channels.tsv.\n"
     ]
    },
    {
     "name": "stderr",
     "output_type": "stream",
     "text": [
      "C:\\Users\\mashh\\AppData\\Local\\Temp\\ipykernel_18244\\4265974583.py:9: RuntimeWarning: Data will be preloaded. preload=False or a string preload is not supported when the data is stored in the .set file\n",
      "  raw = mne_bids.read_raw_bids(subject_paths[j])\n",
      "C:\\Users\\mashh\\AppData\\Local\\Temp\\ipykernel_18244\\4265974583.py:9: RuntimeWarning: Did not find any events.tsv associated with sub-064_task-eyesclosed.\n",
      "\n",
      "The search_str was \"ds004504-download\\sub-064\\**\\eeg\\sub-064*events.tsv\"\n",
      "  raw = mne_bids.read_raw_bids(subject_paths[j])\n"
     ]
    },
    {
     "name": "stdout",
     "output_type": "stream",
     "text": [
      "Reading channel info from ds004504-download\\sub-065\\eeg\\sub-065_task-eyesclosed_channels.tsv.\n"
     ]
    },
    {
     "name": "stderr",
     "output_type": "stream",
     "text": [
      "C:\\Users\\mashh\\AppData\\Local\\Temp\\ipykernel_18244\\4265974583.py:9: RuntimeWarning: Data will be preloaded. preload=False or a string preload is not supported when the data is stored in the .set file\n",
      "  raw = mne_bids.read_raw_bids(subject_paths[j])\n",
      "C:\\Users\\mashh\\AppData\\Local\\Temp\\ipykernel_18244\\4265974583.py:9: RuntimeWarning: Did not find any events.tsv associated with sub-065_task-eyesclosed.\n",
      "\n",
      "The search_str was \"ds004504-download\\sub-065\\**\\eeg\\sub-065*events.tsv\"\n",
      "  raw = mne_bids.read_raw_bids(subject_paths[j])\n"
     ]
    },
    {
     "name": "stdout",
     "output_type": "stream",
     "text": [
      "Reading channel info from ds004504-download\\sub-066\\eeg\\sub-066_task-eyesclosed_channels.tsv.\n"
     ]
    },
    {
     "name": "stderr",
     "output_type": "stream",
     "text": [
      "C:\\Users\\mashh\\AppData\\Local\\Temp\\ipykernel_18244\\4265974583.py:9: RuntimeWarning: Data will be preloaded. preload=False or a string preload is not supported when the data is stored in the .set file\n",
      "  raw = mne_bids.read_raw_bids(subject_paths[j])\n",
      "C:\\Users\\mashh\\AppData\\Local\\Temp\\ipykernel_18244\\4265974583.py:9: RuntimeWarning: Did not find any events.tsv associated with sub-066_task-eyesclosed.\n",
      "\n",
      "The search_str was \"ds004504-download\\sub-066\\**\\eeg\\sub-066*events.tsv\"\n",
      "  raw = mne_bids.read_raw_bids(subject_paths[j])\n"
     ]
    },
    {
     "name": "stdout",
     "output_type": "stream",
     "text": [
      "Reading channel info from ds004504-download\\sub-067\\eeg\\sub-067_task-eyesclosed_channels.tsv.\n"
     ]
    },
    {
     "name": "stderr",
     "output_type": "stream",
     "text": [
      "C:\\Users\\mashh\\AppData\\Local\\Temp\\ipykernel_18244\\4265974583.py:9: RuntimeWarning: Data will be preloaded. preload=False or a string preload is not supported when the data is stored in the .set file\n",
      "  raw = mne_bids.read_raw_bids(subject_paths[j])\n",
      "C:\\Users\\mashh\\AppData\\Local\\Temp\\ipykernel_18244\\4265974583.py:9: RuntimeWarning: Did not find any events.tsv associated with sub-067_task-eyesclosed.\n",
      "\n",
      "The search_str was \"ds004504-download\\sub-067\\**\\eeg\\sub-067*events.tsv\"\n",
      "  raw = mne_bids.read_raw_bids(subject_paths[j])\n"
     ]
    },
    {
     "name": "stdout",
     "output_type": "stream",
     "text": [
      "Reading channel info from ds004504-download\\sub-068\\eeg\\sub-068_task-eyesclosed_channels.tsv.\n"
     ]
    },
    {
     "name": "stderr",
     "output_type": "stream",
     "text": [
      "C:\\Users\\mashh\\AppData\\Local\\Temp\\ipykernel_18244\\4265974583.py:9: RuntimeWarning: Data will be preloaded. preload=False or a string preload is not supported when the data is stored in the .set file\n",
      "  raw = mne_bids.read_raw_bids(subject_paths[j])\n",
      "C:\\Users\\mashh\\AppData\\Local\\Temp\\ipykernel_18244\\4265974583.py:9: RuntimeWarning: Did not find any events.tsv associated with sub-068_task-eyesclosed.\n",
      "\n",
      "The search_str was \"ds004504-download\\sub-068\\**\\eeg\\sub-068*events.tsv\"\n",
      "  raw = mne_bids.read_raw_bids(subject_paths[j])\n"
     ]
    },
    {
     "name": "stdout",
     "output_type": "stream",
     "text": [
      "Reading channel info from ds004504-download\\sub-069\\eeg\\sub-069_task-eyesclosed_channels.tsv.\n"
     ]
    },
    {
     "name": "stderr",
     "output_type": "stream",
     "text": [
      "C:\\Users\\mashh\\AppData\\Local\\Temp\\ipykernel_18244\\4265974583.py:9: RuntimeWarning: Data will be preloaded. preload=False or a string preload is not supported when the data is stored in the .set file\n",
      "  raw = mne_bids.read_raw_bids(subject_paths[j])\n",
      "C:\\Users\\mashh\\AppData\\Local\\Temp\\ipykernel_18244\\4265974583.py:9: RuntimeWarning: Did not find any events.tsv associated with sub-069_task-eyesclosed.\n",
      "\n",
      "The search_str was \"ds004504-download\\sub-069\\**\\eeg\\sub-069*events.tsv\"\n",
      "  raw = mne_bids.read_raw_bids(subject_paths[j])\n"
     ]
    },
    {
     "name": "stdout",
     "output_type": "stream",
     "text": [
      "Reading channel info from ds004504-download\\sub-070\\eeg\\sub-070_task-eyesclosed_channels.tsv.\n"
     ]
    },
    {
     "name": "stderr",
     "output_type": "stream",
     "text": [
      "C:\\Users\\mashh\\AppData\\Local\\Temp\\ipykernel_18244\\4265974583.py:9: RuntimeWarning: Data will be preloaded. preload=False or a string preload is not supported when the data is stored in the .set file\n",
      "  raw = mne_bids.read_raw_bids(subject_paths[j])\n",
      "C:\\Users\\mashh\\AppData\\Local\\Temp\\ipykernel_18244\\4265974583.py:9: RuntimeWarning: Did not find any events.tsv associated with sub-070_task-eyesclosed.\n",
      "\n",
      "The search_str was \"ds004504-download\\sub-070\\**\\eeg\\sub-070*events.tsv\"\n",
      "  raw = mne_bids.read_raw_bids(subject_paths[j])\n"
     ]
    },
    {
     "name": "stdout",
     "output_type": "stream",
     "text": [
      "Reading channel info from ds004504-download\\sub-071\\eeg\\sub-071_task-eyesclosed_channels.tsv.\n"
     ]
    },
    {
     "name": "stderr",
     "output_type": "stream",
     "text": [
      "C:\\Users\\mashh\\AppData\\Local\\Temp\\ipykernel_18244\\4265974583.py:9: RuntimeWarning: Data will be preloaded. preload=False or a string preload is not supported when the data is stored in the .set file\n",
      "  raw = mne_bids.read_raw_bids(subject_paths[j])\n",
      "C:\\Users\\mashh\\AppData\\Local\\Temp\\ipykernel_18244\\4265974583.py:9: RuntimeWarning: Did not find any events.tsv associated with sub-071_task-eyesclosed.\n",
      "\n",
      "The search_str was \"ds004504-download\\sub-071\\**\\eeg\\sub-071*events.tsv\"\n",
      "  raw = mne_bids.read_raw_bids(subject_paths[j])\n"
     ]
    },
    {
     "name": "stdout",
     "output_type": "stream",
     "text": [
      "Reading channel info from ds004504-download\\sub-072\\eeg\\sub-072_task-eyesclosed_channels.tsv.\n"
     ]
    },
    {
     "name": "stderr",
     "output_type": "stream",
     "text": [
      "C:\\Users\\mashh\\AppData\\Local\\Temp\\ipykernel_18244\\4265974583.py:9: RuntimeWarning: Data will be preloaded. preload=False or a string preload is not supported when the data is stored in the .set file\n",
      "  raw = mne_bids.read_raw_bids(subject_paths[j])\n",
      "C:\\Users\\mashh\\AppData\\Local\\Temp\\ipykernel_18244\\4265974583.py:9: RuntimeWarning: Did not find any events.tsv associated with sub-072_task-eyesclosed.\n",
      "\n",
      "The search_str was \"ds004504-download\\sub-072\\**\\eeg\\sub-072*events.tsv\"\n",
      "  raw = mne_bids.read_raw_bids(subject_paths[j])\n"
     ]
    },
    {
     "name": "stdout",
     "output_type": "stream",
     "text": [
      "Reading channel info from ds004504-download\\sub-073\\eeg\\sub-073_task-eyesclosed_channels.tsv.\n"
     ]
    },
    {
     "name": "stderr",
     "output_type": "stream",
     "text": [
      "C:\\Users\\mashh\\AppData\\Local\\Temp\\ipykernel_18244\\4265974583.py:9: RuntimeWarning: Data will be preloaded. preload=False or a string preload is not supported when the data is stored in the .set file\n",
      "  raw = mne_bids.read_raw_bids(subject_paths[j])\n",
      "C:\\Users\\mashh\\AppData\\Local\\Temp\\ipykernel_18244\\4265974583.py:9: RuntimeWarning: Did not find any events.tsv associated with sub-073_task-eyesclosed.\n",
      "\n",
      "The search_str was \"ds004504-download\\sub-073\\**\\eeg\\sub-073*events.tsv\"\n",
      "  raw = mne_bids.read_raw_bids(subject_paths[j])\n"
     ]
    },
    {
     "name": "stdout",
     "output_type": "stream",
     "text": [
      "Reading channel info from ds004504-download\\sub-074\\eeg\\sub-074_task-eyesclosed_channels.tsv.\n"
     ]
    },
    {
     "name": "stderr",
     "output_type": "stream",
     "text": [
      "C:\\Users\\mashh\\AppData\\Local\\Temp\\ipykernel_18244\\4265974583.py:9: RuntimeWarning: Data will be preloaded. preload=False or a string preload is not supported when the data is stored in the .set file\n",
      "  raw = mne_bids.read_raw_bids(subject_paths[j])\n",
      "C:\\Users\\mashh\\AppData\\Local\\Temp\\ipykernel_18244\\4265974583.py:9: RuntimeWarning: Did not find any events.tsv associated with sub-074_task-eyesclosed.\n",
      "\n",
      "The search_str was \"ds004504-download\\sub-074\\**\\eeg\\sub-074*events.tsv\"\n",
      "  raw = mne_bids.read_raw_bids(subject_paths[j])\n"
     ]
    },
    {
     "name": "stdout",
     "output_type": "stream",
     "text": [
      "Reading channel info from ds004504-download\\sub-075\\eeg\\sub-075_task-eyesclosed_channels.tsv.\n"
     ]
    },
    {
     "name": "stderr",
     "output_type": "stream",
     "text": [
      "C:\\Users\\mashh\\AppData\\Local\\Temp\\ipykernel_18244\\4265974583.py:9: RuntimeWarning: Data will be preloaded. preload=False or a string preload is not supported when the data is stored in the .set file\n",
      "  raw = mne_bids.read_raw_bids(subject_paths[j])\n",
      "C:\\Users\\mashh\\AppData\\Local\\Temp\\ipykernel_18244\\4265974583.py:9: RuntimeWarning: Did not find any events.tsv associated with sub-075_task-eyesclosed.\n",
      "\n",
      "The search_str was \"ds004504-download\\sub-075\\**\\eeg\\sub-075*events.tsv\"\n",
      "  raw = mne_bids.read_raw_bids(subject_paths[j])\n"
     ]
    },
    {
     "name": "stdout",
     "output_type": "stream",
     "text": [
      "Reading channel info from ds004504-download\\sub-076\\eeg\\sub-076_task-eyesclosed_channels.tsv.\n"
     ]
    },
    {
     "name": "stderr",
     "output_type": "stream",
     "text": [
      "C:\\Users\\mashh\\AppData\\Local\\Temp\\ipykernel_18244\\4265974583.py:9: RuntimeWarning: Data will be preloaded. preload=False or a string preload is not supported when the data is stored in the .set file\n",
      "  raw = mne_bids.read_raw_bids(subject_paths[j])\n",
      "C:\\Users\\mashh\\AppData\\Local\\Temp\\ipykernel_18244\\4265974583.py:9: RuntimeWarning: Did not find any events.tsv associated with sub-076_task-eyesclosed.\n",
      "\n",
      "The search_str was \"ds004504-download\\sub-076\\**\\eeg\\sub-076*events.tsv\"\n",
      "  raw = mne_bids.read_raw_bids(subject_paths[j])\n"
     ]
    },
    {
     "name": "stdout",
     "output_type": "stream",
     "text": [
      "Reading channel info from ds004504-download\\sub-077\\eeg\\sub-077_task-eyesclosed_channels.tsv.\n"
     ]
    },
    {
     "name": "stderr",
     "output_type": "stream",
     "text": [
      "C:\\Users\\mashh\\AppData\\Local\\Temp\\ipykernel_18244\\4265974583.py:9: RuntimeWarning: Data will be preloaded. preload=False or a string preload is not supported when the data is stored in the .set file\n",
      "  raw = mne_bids.read_raw_bids(subject_paths[j])\n",
      "C:\\Users\\mashh\\AppData\\Local\\Temp\\ipykernel_18244\\4265974583.py:9: RuntimeWarning: Did not find any events.tsv associated with sub-077_task-eyesclosed.\n",
      "\n",
      "The search_str was \"ds004504-download\\sub-077\\**\\eeg\\sub-077*events.tsv\"\n",
      "  raw = mne_bids.read_raw_bids(subject_paths[j])\n"
     ]
    },
    {
     "name": "stdout",
     "output_type": "stream",
     "text": [
      "Reading channel info from ds004504-download\\sub-078\\eeg\\sub-078_task-eyesclosed_channels.tsv.\n"
     ]
    },
    {
     "name": "stderr",
     "output_type": "stream",
     "text": [
      "C:\\Users\\mashh\\AppData\\Local\\Temp\\ipykernel_18244\\4265974583.py:9: RuntimeWarning: Data will be preloaded. preload=False or a string preload is not supported when the data is stored in the .set file\n",
      "  raw = mne_bids.read_raw_bids(subject_paths[j])\n",
      "C:\\Users\\mashh\\AppData\\Local\\Temp\\ipykernel_18244\\4265974583.py:9: RuntimeWarning: Did not find any events.tsv associated with sub-078_task-eyesclosed.\n",
      "\n",
      "The search_str was \"ds004504-download\\sub-078\\**\\eeg\\sub-078*events.tsv\"\n",
      "  raw = mne_bids.read_raw_bids(subject_paths[j])\n",
      "C:\\Users\\mashh\\AppData\\Local\\Temp\\ipykernel_18244\\4265974583.py:9: RuntimeWarning: Data will be preloaded. preload=False or a string preload is not supported when the data is stored in the .set file\n",
      "  raw = mne_bids.read_raw_bids(subject_paths[j])\n"
     ]
    },
    {
     "name": "stdout",
     "output_type": "stream",
     "text": [
      "Reading channel info from ds004504-download\\sub-079\\eeg\\sub-079_task-eyesclosed_channels.tsv.\n"
     ]
    },
    {
     "name": "stderr",
     "output_type": "stream",
     "text": [
      "C:\\Users\\mashh\\AppData\\Local\\Temp\\ipykernel_18244\\4265974583.py:9: RuntimeWarning: Did not find any events.tsv associated with sub-079_task-eyesclosed.\n",
      "\n",
      "The search_str was \"ds004504-download\\sub-079\\**\\eeg\\sub-079*events.tsv\"\n",
      "  raw = mne_bids.read_raw_bids(subject_paths[j])\n"
     ]
    },
    {
     "name": "stdout",
     "output_type": "stream",
     "text": [
      "Reading channel info from ds004504-download\\sub-080\\eeg\\sub-080_task-eyesclosed_channels.tsv.\n"
     ]
    },
    {
     "name": "stderr",
     "output_type": "stream",
     "text": [
      "C:\\Users\\mashh\\AppData\\Local\\Temp\\ipykernel_18244\\4265974583.py:9: RuntimeWarning: Data will be preloaded. preload=False or a string preload is not supported when the data is stored in the .set file\n",
      "  raw = mne_bids.read_raw_bids(subject_paths[j])\n",
      "C:\\Users\\mashh\\AppData\\Local\\Temp\\ipykernel_18244\\4265974583.py:9: RuntimeWarning: Did not find any events.tsv associated with sub-080_task-eyesclosed.\n",
      "\n",
      "The search_str was \"ds004504-download\\sub-080\\**\\eeg\\sub-080*events.tsv\"\n",
      "  raw = mne_bids.read_raw_bids(subject_paths[j])\n"
     ]
    },
    {
     "name": "stdout",
     "output_type": "stream",
     "text": [
      "Reading channel info from ds004504-download\\sub-081\\eeg\\sub-081_task-eyesclosed_channels.tsv.\n"
     ]
    },
    {
     "name": "stderr",
     "output_type": "stream",
     "text": [
      "C:\\Users\\mashh\\AppData\\Local\\Temp\\ipykernel_18244\\4265974583.py:9: RuntimeWarning: Data will be preloaded. preload=False or a string preload is not supported when the data is stored in the .set file\n",
      "  raw = mne_bids.read_raw_bids(subject_paths[j])\n",
      "C:\\Users\\mashh\\AppData\\Local\\Temp\\ipykernel_18244\\4265974583.py:9: RuntimeWarning: Did not find any events.tsv associated with sub-081_task-eyesclosed.\n",
      "\n",
      "The search_str was \"ds004504-download\\sub-081\\**\\eeg\\sub-081*events.tsv\"\n",
      "  raw = mne_bids.read_raw_bids(subject_paths[j])\n"
     ]
    },
    {
     "name": "stdout",
     "output_type": "stream",
     "text": [
      "Reading channel info from ds004504-download\\sub-082\\eeg\\sub-082_task-eyesclosed_channels.tsv.\n"
     ]
    },
    {
     "name": "stderr",
     "output_type": "stream",
     "text": [
      "C:\\Users\\mashh\\AppData\\Local\\Temp\\ipykernel_18244\\4265974583.py:9: RuntimeWarning: Data will be preloaded. preload=False or a string preload is not supported when the data is stored in the .set file\n",
      "  raw = mne_bids.read_raw_bids(subject_paths[j])\n",
      "C:\\Users\\mashh\\AppData\\Local\\Temp\\ipykernel_18244\\4265974583.py:9: RuntimeWarning: Did not find any events.tsv associated with sub-082_task-eyesclosed.\n",
      "\n",
      "The search_str was \"ds004504-download\\sub-082\\**\\eeg\\sub-082*events.tsv\"\n",
      "  raw = mne_bids.read_raw_bids(subject_paths[j])\n",
      "C:\\Users\\mashh\\AppData\\Local\\Temp\\ipykernel_18244\\4265974583.py:9: RuntimeWarning: Data will be preloaded. preload=False or a string preload is not supported when the data is stored in the .set file\n",
      "  raw = mne_bids.read_raw_bids(subject_paths[j])\n",
      "C:\\Users\\mashh\\AppData\\Local\\Temp\\ipykernel_18244\\4265974583.py:9: RuntimeWarning: Did not find any events.tsv associated with sub-083_task-eyesclosed.\n",
      "\n",
      "The search_str was \"ds004504-download\\sub-083\\**\\eeg\\sub-083*events.tsv\"\n",
      "  raw = mne_bids.read_raw_bids(subject_paths[j])\n"
     ]
    },
    {
     "name": "stdout",
     "output_type": "stream",
     "text": [
      "Reading channel info from ds004504-download\\sub-083\\eeg\\sub-083_task-eyesclosed_channels.tsv.\n",
      "Reading channel info from ds004504-download\\sub-084\\eeg\\sub-084_task-eyesclosed_channels.tsv.\n"
     ]
    },
    {
     "name": "stderr",
     "output_type": "stream",
     "text": [
      "C:\\Users\\mashh\\AppData\\Local\\Temp\\ipykernel_18244\\4265974583.py:9: RuntimeWarning: Data will be preloaded. preload=False or a string preload is not supported when the data is stored in the .set file\n",
      "  raw = mne_bids.read_raw_bids(subject_paths[j])\n",
      "C:\\Users\\mashh\\AppData\\Local\\Temp\\ipykernel_18244\\4265974583.py:9: RuntimeWarning: Did not find any events.tsv associated with sub-084_task-eyesclosed.\n",
      "\n",
      "The search_str was \"ds004504-download\\sub-084\\**\\eeg\\sub-084*events.tsv\"\n",
      "  raw = mne_bids.read_raw_bids(subject_paths[j])\n"
     ]
    },
    {
     "name": "stdout",
     "output_type": "stream",
     "text": [
      "Reading channel info from ds004504-download\\sub-085\\eeg\\sub-085_task-eyesclosed_channels.tsv.\n"
     ]
    },
    {
     "name": "stderr",
     "output_type": "stream",
     "text": [
      "C:\\Users\\mashh\\AppData\\Local\\Temp\\ipykernel_18244\\4265974583.py:9: RuntimeWarning: Data will be preloaded. preload=False or a string preload is not supported when the data is stored in the .set file\n",
      "  raw = mne_bids.read_raw_bids(subject_paths[j])\n",
      "C:\\Users\\mashh\\AppData\\Local\\Temp\\ipykernel_18244\\4265974583.py:9: RuntimeWarning: Did not find any events.tsv associated with sub-085_task-eyesclosed.\n",
      "\n",
      "The search_str was \"ds004504-download\\sub-085\\**\\eeg\\sub-085*events.tsv\"\n",
      "  raw = mne_bids.read_raw_bids(subject_paths[j])\n"
     ]
    },
    {
     "name": "stdout",
     "output_type": "stream",
     "text": [
      "Reading channel info from ds004504-download\\sub-086\\eeg\\sub-086_task-eyesclosed_channels.tsv.\n"
     ]
    },
    {
     "name": "stderr",
     "output_type": "stream",
     "text": [
      "C:\\Users\\mashh\\AppData\\Local\\Temp\\ipykernel_18244\\4265974583.py:9: RuntimeWarning: Data will be preloaded. preload=False or a string preload is not supported when the data is stored in the .set file\n",
      "  raw = mne_bids.read_raw_bids(subject_paths[j])\n",
      "C:\\Users\\mashh\\AppData\\Local\\Temp\\ipykernel_18244\\4265974583.py:9: RuntimeWarning: Did not find any events.tsv associated with sub-086_task-eyesclosed.\n",
      "\n",
      "The search_str was \"ds004504-download\\sub-086\\**\\eeg\\sub-086*events.tsv\"\n",
      "  raw = mne_bids.read_raw_bids(subject_paths[j])\n"
     ]
    },
    {
     "name": "stdout",
     "output_type": "stream",
     "text": [
      "Reading channel info from ds004504-download\\sub-087\\eeg\\sub-087_task-eyesclosed_channels.tsv.\n"
     ]
    },
    {
     "name": "stderr",
     "output_type": "stream",
     "text": [
      "C:\\Users\\mashh\\AppData\\Local\\Temp\\ipykernel_18244\\4265974583.py:9: RuntimeWarning: Data will be preloaded. preload=False or a string preload is not supported when the data is stored in the .set file\n",
      "  raw = mne_bids.read_raw_bids(subject_paths[j])\n",
      "C:\\Users\\mashh\\AppData\\Local\\Temp\\ipykernel_18244\\4265974583.py:9: RuntimeWarning: Did not find any events.tsv associated with sub-087_task-eyesclosed.\n",
      "\n",
      "The search_str was \"ds004504-download\\sub-087\\**\\eeg\\sub-087*events.tsv\"\n",
      "  raw = mne_bids.read_raw_bids(subject_paths[j])\n"
     ]
    },
    {
     "name": "stdout",
     "output_type": "stream",
     "text": [
      "Reading channel info from ds004504-download\\sub-088\\eeg\\sub-088_task-eyesclosed_channels.tsv.\n"
     ]
    },
    {
     "name": "stderr",
     "output_type": "stream",
     "text": [
      "C:\\Users\\mashh\\AppData\\Local\\Temp\\ipykernel_18244\\4265974583.py:9: RuntimeWarning: Data will be preloaded. preload=False or a string preload is not supported when the data is stored in the .set file\n",
      "  raw = mne_bids.read_raw_bids(subject_paths[j])\n",
      "C:\\Users\\mashh\\AppData\\Local\\Temp\\ipykernel_18244\\4265974583.py:9: RuntimeWarning: Did not find any events.tsv associated with sub-088_task-eyesclosed.\n",
      "\n",
      "The search_str was \"ds004504-download\\sub-088\\**\\eeg\\sub-088*events.tsv\"\n",
      "  raw = mne_bids.read_raw_bids(subject_paths[j])\n"
     ]
    },
    {
     "name": "stdout",
     "output_type": "stream",
     "text": [
      "Reading channel info from ds004504-download\\sub-001\\eeg\\sub-001_task-eyesclosed_channels.tsv.\n"
     ]
    },
    {
     "name": "stderr",
     "output_type": "stream",
     "text": [
      "C:\\Users\\mashh\\AppData\\Local\\Temp\\ipykernel_18244\\4265974583.py:9: RuntimeWarning: Data will be preloaded. preload=False or a string preload is not supported when the data is stored in the .set file\n",
      "  raw = mne_bids.read_raw_bids(subject_paths[j])\n",
      "C:\\Users\\mashh\\AppData\\Local\\Temp\\ipykernel_18244\\4265974583.py:9: RuntimeWarning: Did not find any events.tsv associated with sub-001_task-eyesclosed.\n",
      "\n",
      "The search_str was \"ds004504-download\\sub-001\\**\\eeg\\sub-001*events.tsv\"\n",
      "  raw = mne_bids.read_raw_bids(subject_paths[j])\n"
     ]
    },
    {
     "name": "stdout",
     "output_type": "stream",
     "text": [
      "Reading channel info from ds004504-download\\sub-002\\eeg\\sub-002_task-eyesclosed_channels.tsv.\n"
     ]
    },
    {
     "name": "stderr",
     "output_type": "stream",
     "text": [
      "C:\\Users\\mashh\\AppData\\Local\\Temp\\ipykernel_18244\\4265974583.py:9: RuntimeWarning: Data will be preloaded. preload=False or a string preload is not supported when the data is stored in the .set file\n",
      "  raw = mne_bids.read_raw_bids(subject_paths[j])\n",
      "C:\\Users\\mashh\\AppData\\Local\\Temp\\ipykernel_18244\\4265974583.py:9: RuntimeWarning: Did not find any events.tsv associated with sub-002_task-eyesclosed.\n",
      "\n",
      "The search_str was \"ds004504-download\\sub-002\\**\\eeg\\sub-002*events.tsv\"\n",
      "  raw = mne_bids.read_raw_bids(subject_paths[j])\n"
     ]
    },
    {
     "name": "stdout",
     "output_type": "stream",
     "text": [
      "Reading channel info from ds004504-download\\sub-003\\eeg\\sub-003_task-eyesclosed_channels.tsv.\n"
     ]
    },
    {
     "name": "stderr",
     "output_type": "stream",
     "text": [
      "C:\\Users\\mashh\\AppData\\Local\\Temp\\ipykernel_18244\\4265974583.py:9: RuntimeWarning: Data will be preloaded. preload=False or a string preload is not supported when the data is stored in the .set file\n",
      "  raw = mne_bids.read_raw_bids(subject_paths[j])\n",
      "C:\\Users\\mashh\\AppData\\Local\\Temp\\ipykernel_18244\\4265974583.py:9: RuntimeWarning: Did not find any events.tsv associated with sub-003_task-eyesclosed.\n",
      "\n",
      "The search_str was \"ds004504-download\\sub-003\\**\\eeg\\sub-003*events.tsv\"\n",
      "  raw = mne_bids.read_raw_bids(subject_paths[j])\n"
     ]
    },
    {
     "name": "stdout",
     "output_type": "stream",
     "text": [
      "Reading channel info from ds004504-download\\sub-004\\eeg\\sub-004_task-eyesclosed_channels.tsv.\n"
     ]
    },
    {
     "name": "stderr",
     "output_type": "stream",
     "text": [
      "C:\\Users\\mashh\\AppData\\Local\\Temp\\ipykernel_18244\\4265974583.py:9: RuntimeWarning: Data will be preloaded. preload=False or a string preload is not supported when the data is stored in the .set file\n",
      "  raw = mne_bids.read_raw_bids(subject_paths[j])\n",
      "C:\\Users\\mashh\\AppData\\Local\\Temp\\ipykernel_18244\\4265974583.py:9: RuntimeWarning: Did not find any events.tsv associated with sub-004_task-eyesclosed.\n",
      "\n",
      "The search_str was \"ds004504-download\\sub-004\\**\\eeg\\sub-004*events.tsv\"\n",
      "  raw = mne_bids.read_raw_bids(subject_paths[j])\n",
      "C:\\Users\\mashh\\AppData\\Local\\Temp\\ipykernel_18244\\4265974583.py:9: RuntimeWarning: Data will be preloaded. preload=False or a string preload is not supported when the data is stored in the .set file\n",
      "  raw = mne_bids.read_raw_bids(subject_paths[j])\n"
     ]
    },
    {
     "name": "stdout",
     "output_type": "stream",
     "text": [
      "Reading channel info from ds004504-download\\sub-005\\eeg\\sub-005_task-eyesclosed_channels.tsv.\n"
     ]
    },
    {
     "name": "stderr",
     "output_type": "stream",
     "text": [
      "C:\\Users\\mashh\\AppData\\Local\\Temp\\ipykernel_18244\\4265974583.py:9: RuntimeWarning: Did not find any events.tsv associated with sub-005_task-eyesclosed.\n",
      "\n",
      "The search_str was \"ds004504-download\\sub-005\\**\\eeg\\sub-005*events.tsv\"\n",
      "  raw = mne_bids.read_raw_bids(subject_paths[j])\n"
     ]
    },
    {
     "name": "stdout",
     "output_type": "stream",
     "text": [
      "Reading channel info from ds004504-download\\sub-006\\eeg\\sub-006_task-eyesclosed_channels.tsv.\n"
     ]
    },
    {
     "name": "stderr",
     "output_type": "stream",
     "text": [
      "C:\\Users\\mashh\\AppData\\Local\\Temp\\ipykernel_18244\\4265974583.py:9: RuntimeWarning: Data will be preloaded. preload=False or a string preload is not supported when the data is stored in the .set file\n",
      "  raw = mne_bids.read_raw_bids(subject_paths[j])\n",
      "C:\\Users\\mashh\\AppData\\Local\\Temp\\ipykernel_18244\\4265974583.py:9: RuntimeWarning: Did not find any events.tsv associated with sub-006_task-eyesclosed.\n",
      "\n",
      "The search_str was \"ds004504-download\\sub-006\\**\\eeg\\sub-006*events.tsv\"\n",
      "  raw = mne_bids.read_raw_bids(subject_paths[j])\n"
     ]
    },
    {
     "name": "stdout",
     "output_type": "stream",
     "text": [
      "Reading channel info from ds004504-download\\sub-007\\eeg\\sub-007_task-eyesclosed_channels.tsv.\n"
     ]
    },
    {
     "name": "stderr",
     "output_type": "stream",
     "text": [
      "C:\\Users\\mashh\\AppData\\Local\\Temp\\ipykernel_18244\\4265974583.py:9: RuntimeWarning: Data will be preloaded. preload=False or a string preload is not supported when the data is stored in the .set file\n",
      "  raw = mne_bids.read_raw_bids(subject_paths[j])\n",
      "C:\\Users\\mashh\\AppData\\Local\\Temp\\ipykernel_18244\\4265974583.py:9: RuntimeWarning: Did not find any events.tsv associated with sub-007_task-eyesclosed.\n",
      "\n",
      "The search_str was \"ds004504-download\\sub-007\\**\\eeg\\sub-007*events.tsv\"\n",
      "  raw = mne_bids.read_raw_bids(subject_paths[j])\n"
     ]
    },
    {
     "name": "stdout",
     "output_type": "stream",
     "text": [
      "Reading channel info from ds004504-download\\sub-008\\eeg\\sub-008_task-eyesclosed_channels.tsv.\n"
     ]
    },
    {
     "name": "stderr",
     "output_type": "stream",
     "text": [
      "C:\\Users\\mashh\\AppData\\Local\\Temp\\ipykernel_18244\\4265974583.py:9: RuntimeWarning: Data will be preloaded. preload=False or a string preload is not supported when the data is stored in the .set file\n",
      "  raw = mne_bids.read_raw_bids(subject_paths[j])\n",
      "C:\\Users\\mashh\\AppData\\Local\\Temp\\ipykernel_18244\\4265974583.py:9: RuntimeWarning: Did not find any events.tsv associated with sub-008_task-eyesclosed.\n",
      "\n",
      "The search_str was \"ds004504-download\\sub-008\\**\\eeg\\sub-008*events.tsv\"\n",
      "  raw = mne_bids.read_raw_bids(subject_paths[j])\n"
     ]
    },
    {
     "name": "stdout",
     "output_type": "stream",
     "text": [
      "Reading channel info from ds004504-download\\sub-009\\eeg\\sub-009_task-eyesclosed_channels.tsv.\n"
     ]
    },
    {
     "name": "stderr",
     "output_type": "stream",
     "text": [
      "C:\\Users\\mashh\\AppData\\Local\\Temp\\ipykernel_18244\\4265974583.py:9: RuntimeWarning: Data will be preloaded. preload=False or a string preload is not supported when the data is stored in the .set file\n",
      "  raw = mne_bids.read_raw_bids(subject_paths[j])\n",
      "C:\\Users\\mashh\\AppData\\Local\\Temp\\ipykernel_18244\\4265974583.py:9: RuntimeWarning: Did not find any events.tsv associated with sub-009_task-eyesclosed.\n",
      "\n",
      "The search_str was \"ds004504-download\\sub-009\\**\\eeg\\sub-009*events.tsv\"\n",
      "  raw = mne_bids.read_raw_bids(subject_paths[j])\n",
      "C:\\Users\\mashh\\AppData\\Local\\Temp\\ipykernel_18244\\4265974583.py:9: RuntimeWarning: Data will be preloaded. preload=False or a string preload is not supported when the data is stored in the .set file\n",
      "  raw = mne_bids.read_raw_bids(subject_paths[j])\n"
     ]
    },
    {
     "name": "stdout",
     "output_type": "stream",
     "text": [
      "Reading channel info from ds004504-download\\sub-010\\eeg\\sub-010_task-eyesclosed_channels.tsv.\n"
     ]
    },
    {
     "name": "stderr",
     "output_type": "stream",
     "text": [
      "C:\\Users\\mashh\\AppData\\Local\\Temp\\ipykernel_18244\\4265974583.py:9: RuntimeWarning: Did not find any events.tsv associated with sub-010_task-eyesclosed.\n",
      "\n",
      "The search_str was \"ds004504-download\\sub-010\\**\\eeg\\sub-010*events.tsv\"\n",
      "  raw = mne_bids.read_raw_bids(subject_paths[j])\n"
     ]
    },
    {
     "name": "stdout",
     "output_type": "stream",
     "text": [
      "Reading channel info from ds004504-download\\sub-011\\eeg\\sub-011_task-eyesclosed_channels.tsv.\n"
     ]
    },
    {
     "name": "stderr",
     "output_type": "stream",
     "text": [
      "C:\\Users\\mashh\\AppData\\Local\\Temp\\ipykernel_18244\\4265974583.py:9: RuntimeWarning: Data will be preloaded. preload=False or a string preload is not supported when the data is stored in the .set file\n",
      "  raw = mne_bids.read_raw_bids(subject_paths[j])\n",
      "C:\\Users\\mashh\\AppData\\Local\\Temp\\ipykernel_18244\\4265974583.py:9: RuntimeWarning: Did not find any events.tsv associated with sub-011_task-eyesclosed.\n",
      "\n",
      "The search_str was \"ds004504-download\\sub-011\\**\\eeg\\sub-011*events.tsv\"\n",
      "  raw = mne_bids.read_raw_bids(subject_paths[j])\n"
     ]
    },
    {
     "name": "stdout",
     "output_type": "stream",
     "text": [
      "Reading channel info from ds004504-download\\sub-012\\eeg\\sub-012_task-eyesclosed_channels.tsv.\n"
     ]
    },
    {
     "name": "stderr",
     "output_type": "stream",
     "text": [
      "C:\\Users\\mashh\\AppData\\Local\\Temp\\ipykernel_18244\\4265974583.py:9: RuntimeWarning: Data will be preloaded. preload=False or a string preload is not supported when the data is stored in the .set file\n",
      "  raw = mne_bids.read_raw_bids(subject_paths[j])\n",
      "C:\\Users\\mashh\\AppData\\Local\\Temp\\ipykernel_18244\\4265974583.py:9: RuntimeWarning: Did not find any events.tsv associated with sub-012_task-eyesclosed.\n",
      "\n",
      "The search_str was \"ds004504-download\\sub-012\\**\\eeg\\sub-012*events.tsv\"\n",
      "  raw = mne_bids.read_raw_bids(subject_paths[j])\n"
     ]
    },
    {
     "name": "stdout",
     "output_type": "stream",
     "text": [
      "Reading channel info from ds004504-download\\sub-013\\eeg\\sub-013_task-eyesclosed_channels.tsv.\n"
     ]
    },
    {
     "name": "stderr",
     "output_type": "stream",
     "text": [
      "C:\\Users\\mashh\\AppData\\Local\\Temp\\ipykernel_18244\\4265974583.py:9: RuntimeWarning: Data will be preloaded. preload=False or a string preload is not supported when the data is stored in the .set file\n",
      "  raw = mne_bids.read_raw_bids(subject_paths[j])\n",
      "C:\\Users\\mashh\\AppData\\Local\\Temp\\ipykernel_18244\\4265974583.py:9: RuntimeWarning: Did not find any events.tsv associated with sub-013_task-eyesclosed.\n",
      "\n",
      "The search_str was \"ds004504-download\\sub-013\\**\\eeg\\sub-013*events.tsv\"\n",
      "  raw = mne_bids.read_raw_bids(subject_paths[j])\n"
     ]
    },
    {
     "name": "stdout",
     "output_type": "stream",
     "text": [
      "Reading channel info from ds004504-download\\sub-014\\eeg\\sub-014_task-eyesclosed_channels.tsv.\n"
     ]
    },
    {
     "name": "stderr",
     "output_type": "stream",
     "text": [
      "C:\\Users\\mashh\\AppData\\Local\\Temp\\ipykernel_18244\\4265974583.py:9: RuntimeWarning: Data will be preloaded. preload=False or a string preload is not supported when the data is stored in the .set file\n",
      "  raw = mne_bids.read_raw_bids(subject_paths[j])\n",
      "C:\\Users\\mashh\\AppData\\Local\\Temp\\ipykernel_18244\\4265974583.py:9: RuntimeWarning: Did not find any events.tsv associated with sub-014_task-eyesclosed.\n",
      "\n",
      "The search_str was \"ds004504-download\\sub-014\\**\\eeg\\sub-014*events.tsv\"\n",
      "  raw = mne_bids.read_raw_bids(subject_paths[j])\n"
     ]
    },
    {
     "name": "stdout",
     "output_type": "stream",
     "text": [
      "Reading channel info from ds004504-download\\sub-015\\eeg\\sub-015_task-eyesclosed_channels.tsv.\n"
     ]
    },
    {
     "name": "stderr",
     "output_type": "stream",
     "text": [
      "C:\\Users\\mashh\\AppData\\Local\\Temp\\ipykernel_18244\\4265974583.py:9: RuntimeWarning: Data will be preloaded. preload=False or a string preload is not supported when the data is stored in the .set file\n",
      "  raw = mne_bids.read_raw_bids(subject_paths[j])\n",
      "C:\\Users\\mashh\\AppData\\Local\\Temp\\ipykernel_18244\\4265974583.py:9: RuntimeWarning: Did not find any events.tsv associated with sub-015_task-eyesclosed.\n",
      "\n",
      "The search_str was \"ds004504-download\\sub-015\\**\\eeg\\sub-015*events.tsv\"\n",
      "  raw = mne_bids.read_raw_bids(subject_paths[j])\n"
     ]
    },
    {
     "name": "stdout",
     "output_type": "stream",
     "text": [
      "Reading channel info from ds004504-download\\sub-016\\eeg\\sub-016_task-eyesclosed_channels.tsv.\n"
     ]
    },
    {
     "name": "stderr",
     "output_type": "stream",
     "text": [
      "C:\\Users\\mashh\\AppData\\Local\\Temp\\ipykernel_18244\\4265974583.py:9: RuntimeWarning: Data will be preloaded. preload=False or a string preload is not supported when the data is stored in the .set file\n",
      "  raw = mne_bids.read_raw_bids(subject_paths[j])\n",
      "C:\\Users\\mashh\\AppData\\Local\\Temp\\ipykernel_18244\\4265974583.py:9: RuntimeWarning: Did not find any events.tsv associated with sub-016_task-eyesclosed.\n",
      "\n",
      "The search_str was \"ds004504-download\\sub-016\\**\\eeg\\sub-016*events.tsv\"\n",
      "  raw = mne_bids.read_raw_bids(subject_paths[j])\n"
     ]
    },
    {
     "name": "stdout",
     "output_type": "stream",
     "text": [
      "Reading channel info from ds004504-download\\sub-017\\eeg\\sub-017_task-eyesclosed_channels.tsv.\n"
     ]
    },
    {
     "name": "stderr",
     "output_type": "stream",
     "text": [
      "C:\\Users\\mashh\\AppData\\Local\\Temp\\ipykernel_18244\\4265974583.py:9: RuntimeWarning: Data will be preloaded. preload=False or a string preload is not supported when the data is stored in the .set file\n",
      "  raw = mne_bids.read_raw_bids(subject_paths[j])\n",
      "C:\\Users\\mashh\\AppData\\Local\\Temp\\ipykernel_18244\\4265974583.py:9: RuntimeWarning: Did not find any events.tsv associated with sub-017_task-eyesclosed.\n",
      "\n",
      "The search_str was \"ds004504-download\\sub-017\\**\\eeg\\sub-017*events.tsv\"\n",
      "  raw = mne_bids.read_raw_bids(subject_paths[j])\n"
     ]
    },
    {
     "name": "stdout",
     "output_type": "stream",
     "text": [
      "Reading channel info from ds004504-download\\sub-018\\eeg\\sub-018_task-eyesclosed_channels.tsv.\n"
     ]
    },
    {
     "name": "stderr",
     "output_type": "stream",
     "text": [
      "C:\\Users\\mashh\\AppData\\Local\\Temp\\ipykernel_18244\\4265974583.py:9: RuntimeWarning: Data will be preloaded. preload=False or a string preload is not supported when the data is stored in the .set file\n",
      "  raw = mne_bids.read_raw_bids(subject_paths[j])\n",
      "C:\\Users\\mashh\\AppData\\Local\\Temp\\ipykernel_18244\\4265974583.py:9: RuntimeWarning: Did not find any events.tsv associated with sub-018_task-eyesclosed.\n",
      "\n",
      "The search_str was \"ds004504-download\\sub-018\\**\\eeg\\sub-018*events.tsv\"\n",
      "  raw = mne_bids.read_raw_bids(subject_paths[j])\n"
     ]
    },
    {
     "name": "stdout",
     "output_type": "stream",
     "text": [
      "Reading channel info from ds004504-download\\sub-019\\eeg\\sub-019_task-eyesclosed_channels.tsv.\n"
     ]
    },
    {
     "name": "stderr",
     "output_type": "stream",
     "text": [
      "C:\\Users\\mashh\\AppData\\Local\\Temp\\ipykernel_18244\\4265974583.py:9: RuntimeWarning: Data will be preloaded. preload=False or a string preload is not supported when the data is stored in the .set file\n",
      "  raw = mne_bids.read_raw_bids(subject_paths[j])\n",
      "C:\\Users\\mashh\\AppData\\Local\\Temp\\ipykernel_18244\\4265974583.py:9: RuntimeWarning: Did not find any events.tsv associated with sub-019_task-eyesclosed.\n",
      "\n",
      "The search_str was \"ds004504-download\\sub-019\\**\\eeg\\sub-019*events.tsv\"\n",
      "  raw = mne_bids.read_raw_bids(subject_paths[j])\n"
     ]
    },
    {
     "name": "stdout",
     "output_type": "stream",
     "text": [
      "Reading channel info from ds004504-download\\sub-020\\eeg\\sub-020_task-eyesclosed_channels.tsv.\n"
     ]
    },
    {
     "name": "stderr",
     "output_type": "stream",
     "text": [
      "C:\\Users\\mashh\\AppData\\Local\\Temp\\ipykernel_18244\\4265974583.py:9: RuntimeWarning: Data will be preloaded. preload=False or a string preload is not supported when the data is stored in the .set file\n",
      "  raw = mne_bids.read_raw_bids(subject_paths[j])\n",
      "C:\\Users\\mashh\\AppData\\Local\\Temp\\ipykernel_18244\\4265974583.py:9: RuntimeWarning: Did not find any events.tsv associated with sub-020_task-eyesclosed.\n",
      "\n",
      "The search_str was \"ds004504-download\\sub-020\\**\\eeg\\sub-020*events.tsv\"\n",
      "  raw = mne_bids.read_raw_bids(subject_paths[j])\n"
     ]
    },
    {
     "name": "stdout",
     "output_type": "stream",
     "text": [
      "Reading channel info from ds004504-download\\sub-021\\eeg\\sub-021_task-eyesclosed_channels.tsv.\n"
     ]
    },
    {
     "name": "stderr",
     "output_type": "stream",
     "text": [
      "C:\\Users\\mashh\\AppData\\Local\\Temp\\ipykernel_18244\\4265974583.py:9: RuntimeWarning: Data will be preloaded. preload=False or a string preload is not supported when the data is stored in the .set file\n",
      "  raw = mne_bids.read_raw_bids(subject_paths[j])\n",
      "C:\\Users\\mashh\\AppData\\Local\\Temp\\ipykernel_18244\\4265974583.py:9: RuntimeWarning: Did not find any events.tsv associated with sub-021_task-eyesclosed.\n",
      "\n",
      "The search_str was \"ds004504-download\\sub-021\\**\\eeg\\sub-021*events.tsv\"\n",
      "  raw = mne_bids.read_raw_bids(subject_paths[j])\n"
     ]
    },
    {
     "name": "stdout",
     "output_type": "stream",
     "text": [
      "Reading channel info from ds004504-download\\sub-022\\eeg\\sub-022_task-eyesclosed_channels.tsv.\n"
     ]
    },
    {
     "name": "stderr",
     "output_type": "stream",
     "text": [
      "C:\\Users\\mashh\\AppData\\Local\\Temp\\ipykernel_18244\\4265974583.py:9: RuntimeWarning: Data will be preloaded. preload=False or a string preload is not supported when the data is stored in the .set file\n",
      "  raw = mne_bids.read_raw_bids(subject_paths[j])\n",
      "C:\\Users\\mashh\\AppData\\Local\\Temp\\ipykernel_18244\\4265974583.py:9: RuntimeWarning: Did not find any events.tsv associated with sub-022_task-eyesclosed.\n",
      "\n",
      "The search_str was \"ds004504-download\\sub-022\\**\\eeg\\sub-022*events.tsv\"\n",
      "  raw = mne_bids.read_raw_bids(subject_paths[j])\n"
     ]
    },
    {
     "name": "stdout",
     "output_type": "stream",
     "text": [
      "Reading channel info from ds004504-download\\sub-023\\eeg\\sub-023_task-eyesclosed_channels.tsv.\n"
     ]
    },
    {
     "name": "stderr",
     "output_type": "stream",
     "text": [
      "C:\\Users\\mashh\\AppData\\Local\\Temp\\ipykernel_18244\\4265974583.py:9: RuntimeWarning: Data will be preloaded. preload=False or a string preload is not supported when the data is stored in the .set file\n",
      "  raw = mne_bids.read_raw_bids(subject_paths[j])\n",
      "C:\\Users\\mashh\\AppData\\Local\\Temp\\ipykernel_18244\\4265974583.py:9: RuntimeWarning: Did not find any events.tsv associated with sub-023_task-eyesclosed.\n",
      "\n",
      "The search_str was \"ds004504-download\\sub-023\\**\\eeg\\sub-023*events.tsv\"\n",
      "  raw = mne_bids.read_raw_bids(subject_paths[j])\n"
     ]
    },
    {
     "name": "stdout",
     "output_type": "stream",
     "text": [
      "Reading channel info from ds004504-download\\sub-024\\eeg\\sub-024_task-eyesclosed_channels.tsv.\n"
     ]
    },
    {
     "name": "stderr",
     "output_type": "stream",
     "text": [
      "C:\\Users\\mashh\\AppData\\Local\\Temp\\ipykernel_18244\\4265974583.py:9: RuntimeWarning: Data will be preloaded. preload=False or a string preload is not supported when the data is stored in the .set file\n",
      "  raw = mne_bids.read_raw_bids(subject_paths[j])\n",
      "C:\\Users\\mashh\\AppData\\Local\\Temp\\ipykernel_18244\\4265974583.py:9: RuntimeWarning: Did not find any events.tsv associated with sub-024_task-eyesclosed.\n",
      "\n",
      "The search_str was \"ds004504-download\\sub-024\\**\\eeg\\sub-024*events.tsv\"\n",
      "  raw = mne_bids.read_raw_bids(subject_paths[j])\n"
     ]
    },
    {
     "name": "stdout",
     "output_type": "stream",
     "text": [
      "Reading channel info from ds004504-download\\sub-025\\eeg\\sub-025_task-eyesclosed_channels.tsv.\n"
     ]
    },
    {
     "name": "stderr",
     "output_type": "stream",
     "text": [
      "C:\\Users\\mashh\\AppData\\Local\\Temp\\ipykernel_18244\\4265974583.py:9: RuntimeWarning: Data will be preloaded. preload=False or a string preload is not supported when the data is stored in the .set file\n",
      "  raw = mne_bids.read_raw_bids(subject_paths[j])\n",
      "C:\\Users\\mashh\\AppData\\Local\\Temp\\ipykernel_18244\\4265974583.py:9: RuntimeWarning: Did not find any events.tsv associated with sub-025_task-eyesclosed.\n",
      "\n",
      "The search_str was \"ds004504-download\\sub-025\\**\\eeg\\sub-025*events.tsv\"\n",
      "  raw = mne_bids.read_raw_bids(subject_paths[j])\n"
     ]
    },
    {
     "name": "stdout",
     "output_type": "stream",
     "text": [
      "Reading channel info from ds004504-download\\sub-026\\eeg\\sub-026_task-eyesclosed_channels.tsv.\n"
     ]
    },
    {
     "name": "stderr",
     "output_type": "stream",
     "text": [
      "C:\\Users\\mashh\\AppData\\Local\\Temp\\ipykernel_18244\\4265974583.py:9: RuntimeWarning: Data will be preloaded. preload=False or a string preload is not supported when the data is stored in the .set file\n",
      "  raw = mne_bids.read_raw_bids(subject_paths[j])\n",
      "C:\\Users\\mashh\\AppData\\Local\\Temp\\ipykernel_18244\\4265974583.py:9: RuntimeWarning: Did not find any events.tsv associated with sub-026_task-eyesclosed.\n",
      "\n",
      "The search_str was \"ds004504-download\\sub-026\\**\\eeg\\sub-026*events.tsv\"\n",
      "  raw = mne_bids.read_raw_bids(subject_paths[j])\n"
     ]
    },
    {
     "name": "stdout",
     "output_type": "stream",
     "text": [
      "Reading channel info from ds004504-download\\sub-027\\eeg\\sub-027_task-eyesclosed_channels.tsv.\n"
     ]
    },
    {
     "name": "stderr",
     "output_type": "stream",
     "text": [
      "C:\\Users\\mashh\\AppData\\Local\\Temp\\ipykernel_18244\\4265974583.py:9: RuntimeWarning: Data will be preloaded. preload=False or a string preload is not supported when the data is stored in the .set file\n",
      "  raw = mne_bids.read_raw_bids(subject_paths[j])\n",
      "C:\\Users\\mashh\\AppData\\Local\\Temp\\ipykernel_18244\\4265974583.py:9: RuntimeWarning: Did not find any events.tsv associated with sub-027_task-eyesclosed.\n",
      "\n",
      "The search_str was \"ds004504-download\\sub-027\\**\\eeg\\sub-027*events.tsv\"\n",
      "  raw = mne_bids.read_raw_bids(subject_paths[j])\n"
     ]
    },
    {
     "name": "stdout",
     "output_type": "stream",
     "text": [
      "Reading channel info from ds004504-download\\sub-028\\eeg\\sub-028_task-eyesclosed_channels.tsv.\n"
     ]
    },
    {
     "name": "stderr",
     "output_type": "stream",
     "text": [
      "C:\\Users\\mashh\\AppData\\Local\\Temp\\ipykernel_18244\\4265974583.py:9: RuntimeWarning: Data will be preloaded. preload=False or a string preload is not supported when the data is stored in the .set file\n",
      "  raw = mne_bids.read_raw_bids(subject_paths[j])\n",
      "C:\\Users\\mashh\\AppData\\Local\\Temp\\ipykernel_18244\\4265974583.py:9: RuntimeWarning: Did not find any events.tsv associated with sub-028_task-eyesclosed.\n",
      "\n",
      "The search_str was \"ds004504-download\\sub-028\\**\\eeg\\sub-028*events.tsv\"\n",
      "  raw = mne_bids.read_raw_bids(subject_paths[j])\n"
     ]
    },
    {
     "name": "stdout",
     "output_type": "stream",
     "text": [
      "Reading channel info from ds004504-download\\sub-029\\eeg\\sub-029_task-eyesclosed_channels.tsv.\n"
     ]
    },
    {
     "name": "stderr",
     "output_type": "stream",
     "text": [
      "C:\\Users\\mashh\\AppData\\Local\\Temp\\ipykernel_18244\\4265974583.py:9: RuntimeWarning: Data will be preloaded. preload=False or a string preload is not supported when the data is stored in the .set file\n",
      "  raw = mne_bids.read_raw_bids(subject_paths[j])\n",
      "C:\\Users\\mashh\\AppData\\Local\\Temp\\ipykernel_18244\\4265974583.py:9: RuntimeWarning: Did not find any events.tsv associated with sub-029_task-eyesclosed.\n",
      "\n",
      "The search_str was \"ds004504-download\\sub-029\\**\\eeg\\sub-029*events.tsv\"\n",
      "  raw = mne_bids.read_raw_bids(subject_paths[j])\n"
     ]
    },
    {
     "name": "stdout",
     "output_type": "stream",
     "text": [
      "Reading channel info from ds004504-download\\sub-030\\eeg\\sub-030_task-eyesclosed_channels.tsv.\n"
     ]
    },
    {
     "name": "stderr",
     "output_type": "stream",
     "text": [
      "C:\\Users\\mashh\\AppData\\Local\\Temp\\ipykernel_18244\\4265974583.py:9: RuntimeWarning: Data will be preloaded. preload=False or a string preload is not supported when the data is stored in the .set file\n",
      "  raw = mne_bids.read_raw_bids(subject_paths[j])\n",
      "C:\\Users\\mashh\\AppData\\Local\\Temp\\ipykernel_18244\\4265974583.py:9: RuntimeWarning: Did not find any events.tsv associated with sub-030_task-eyesclosed.\n",
      "\n",
      "The search_str was \"ds004504-download\\sub-030\\**\\eeg\\sub-030*events.tsv\"\n",
      "  raw = mne_bids.read_raw_bids(subject_paths[j])\n",
      "C:\\Users\\mashh\\AppData\\Local\\Temp\\ipykernel_18244\\4265974583.py:9: RuntimeWarning: Data will be preloaded. preload=False or a string preload is not supported when the data is stored in the .set file\n",
      "  raw = mne_bids.read_raw_bids(subject_paths[j])\n"
     ]
    },
    {
     "name": "stdout",
     "output_type": "stream",
     "text": [
      "Reading channel info from ds004504-download\\sub-031\\eeg\\sub-031_task-eyesclosed_channels.tsv.\n"
     ]
    },
    {
     "name": "stderr",
     "output_type": "stream",
     "text": [
      "C:\\Users\\mashh\\AppData\\Local\\Temp\\ipykernel_18244\\4265974583.py:9: RuntimeWarning: Did not find any events.tsv associated with sub-031_task-eyesclosed.\n",
      "\n",
      "The search_str was \"ds004504-download\\sub-031\\**\\eeg\\sub-031*events.tsv\"\n",
      "  raw = mne_bids.read_raw_bids(subject_paths[j])\n"
     ]
    },
    {
     "name": "stdout",
     "output_type": "stream",
     "text": [
      "Reading channel info from ds004504-download\\sub-032\\eeg\\sub-032_task-eyesclosed_channels.tsv.\n"
     ]
    },
    {
     "name": "stderr",
     "output_type": "stream",
     "text": [
      "C:\\Users\\mashh\\AppData\\Local\\Temp\\ipykernel_18244\\4265974583.py:9: RuntimeWarning: Data will be preloaded. preload=False or a string preload is not supported when the data is stored in the .set file\n",
      "  raw = mne_bids.read_raw_bids(subject_paths[j])\n",
      "C:\\Users\\mashh\\AppData\\Local\\Temp\\ipykernel_18244\\4265974583.py:9: RuntimeWarning: Did not find any events.tsv associated with sub-032_task-eyesclosed.\n",
      "\n",
      "The search_str was \"ds004504-download\\sub-032\\**\\eeg\\sub-032*events.tsv\"\n",
      "  raw = mne_bids.read_raw_bids(subject_paths[j])\n"
     ]
    },
    {
     "name": "stdout",
     "output_type": "stream",
     "text": [
      "Reading channel info from ds004504-download\\sub-033\\eeg\\sub-033_task-eyesclosed_channels.tsv.\n"
     ]
    },
    {
     "name": "stderr",
     "output_type": "stream",
     "text": [
      "C:\\Users\\mashh\\AppData\\Local\\Temp\\ipykernel_18244\\4265974583.py:9: RuntimeWarning: Data will be preloaded. preload=False or a string preload is not supported when the data is stored in the .set file\n",
      "  raw = mne_bids.read_raw_bids(subject_paths[j])\n",
      "C:\\Users\\mashh\\AppData\\Local\\Temp\\ipykernel_18244\\4265974583.py:9: RuntimeWarning: Did not find any events.tsv associated with sub-033_task-eyesclosed.\n",
      "\n",
      "The search_str was \"ds004504-download\\sub-033\\**\\eeg\\sub-033*events.tsv\"\n",
      "  raw = mne_bids.read_raw_bids(subject_paths[j])\n"
     ]
    },
    {
     "name": "stdout",
     "output_type": "stream",
     "text": [
      "Reading channel info from ds004504-download\\sub-034\\eeg\\sub-034_task-eyesclosed_channels.tsv.\n"
     ]
    },
    {
     "name": "stderr",
     "output_type": "stream",
     "text": [
      "C:\\Users\\mashh\\AppData\\Local\\Temp\\ipykernel_18244\\4265974583.py:9: RuntimeWarning: Data will be preloaded. preload=False or a string preload is not supported when the data is stored in the .set file\n",
      "  raw = mne_bids.read_raw_bids(subject_paths[j])\n",
      "C:\\Users\\mashh\\AppData\\Local\\Temp\\ipykernel_18244\\4265974583.py:9: RuntimeWarning: Did not find any events.tsv associated with sub-034_task-eyesclosed.\n",
      "\n",
      "The search_str was \"ds004504-download\\sub-034\\**\\eeg\\sub-034*events.tsv\"\n",
      "  raw = mne_bids.read_raw_bids(subject_paths[j])\n"
     ]
    },
    {
     "name": "stdout",
     "output_type": "stream",
     "text": [
      "Reading channel info from ds004504-download\\sub-035\\eeg\\sub-035_task-eyesclosed_channels.tsv.\n"
     ]
    },
    {
     "name": "stderr",
     "output_type": "stream",
     "text": [
      "C:\\Users\\mashh\\AppData\\Local\\Temp\\ipykernel_18244\\4265974583.py:9: RuntimeWarning: Data will be preloaded. preload=False or a string preload is not supported when the data is stored in the .set file\n",
      "  raw = mne_bids.read_raw_bids(subject_paths[j])\n",
      "C:\\Users\\mashh\\AppData\\Local\\Temp\\ipykernel_18244\\4265974583.py:9: RuntimeWarning: Did not find any events.tsv associated with sub-035_task-eyesclosed.\n",
      "\n",
      "The search_str was \"ds004504-download\\sub-035\\**\\eeg\\sub-035*events.tsv\"\n",
      "  raw = mne_bids.read_raw_bids(subject_paths[j])\n"
     ]
    },
    {
     "name": "stdout",
     "output_type": "stream",
     "text": [
      "Reading channel info from ds004504-download\\sub-036\\eeg\\sub-036_task-eyesclosed_channels.tsv.\n"
     ]
    },
    {
     "name": "stderr",
     "output_type": "stream",
     "text": [
      "C:\\Users\\mashh\\AppData\\Local\\Temp\\ipykernel_18244\\4265974583.py:9: RuntimeWarning: Data will be preloaded. preload=False or a string preload is not supported when the data is stored in the .set file\n",
      "  raw = mne_bids.read_raw_bids(subject_paths[j])\n",
      "C:\\Users\\mashh\\AppData\\Local\\Temp\\ipykernel_18244\\4265974583.py:9: RuntimeWarning: Did not find any events.tsv associated with sub-036_task-eyesclosed.\n",
      "\n",
      "The search_str was \"ds004504-download\\sub-036\\**\\eeg\\sub-036*events.tsv\"\n",
      "  raw = mne_bids.read_raw_bids(subject_paths[j])\n"
     ]
    },
    {
     "name": "stdout",
     "output_type": "stream",
     "text": [
      "Reading channel info from ds004504-download\\sub-037\\eeg\\sub-037_task-eyesclosed_channels.tsv.\n"
     ]
    },
    {
     "name": "stderr",
     "output_type": "stream",
     "text": [
      "C:\\Users\\mashh\\AppData\\Local\\Temp\\ipykernel_18244\\4265974583.py:9: RuntimeWarning: Data will be preloaded. preload=False or a string preload is not supported when the data is stored in the .set file\n",
      "  raw = mne_bids.read_raw_bids(subject_paths[j])\n",
      "C:\\Users\\mashh\\AppData\\Local\\Temp\\ipykernel_18244\\4265974583.py:9: RuntimeWarning: Did not find any events.tsv associated with sub-037_task-eyesclosed.\n",
      "\n",
      "The search_str was \"ds004504-download\\sub-037\\**\\eeg\\sub-037*events.tsv\"\n",
      "  raw = mne_bids.read_raw_bids(subject_paths[j])\n",
      "C:\\Users\\mashh\\AppData\\Local\\Temp\\ipykernel_18244\\4265974583.py:9: RuntimeWarning: Data will be preloaded. preload=False or a string preload is not supported when the data is stored in the .set file\n",
      "  raw = mne_bids.read_raw_bids(subject_paths[j])\n",
      "C:\\Users\\mashh\\AppData\\Local\\Temp\\ipykernel_18244\\4265974583.py:9: RuntimeWarning: Did not find any events.tsv associated with sub-038_task-eyesclosed.\n",
      "\n",
      "The search_str was \"ds004504-download\\sub-038\\**\\eeg\\sub-038*events.tsv\"\n",
      "  raw = mne_bids.read_raw_bids(subject_paths[j])\n"
     ]
    },
    {
     "name": "stdout",
     "output_type": "stream",
     "text": [
      "Reading channel info from ds004504-download\\sub-038\\eeg\\sub-038_task-eyesclosed_channels.tsv.\n",
      "Reading channel info from ds004504-download\\sub-039\\eeg\\sub-039_task-eyesclosed_channels.tsv.\n"
     ]
    },
    {
     "name": "stderr",
     "output_type": "stream",
     "text": [
      "C:\\Users\\mashh\\AppData\\Local\\Temp\\ipykernel_18244\\4265974583.py:9: RuntimeWarning: Data will be preloaded. preload=False or a string preload is not supported when the data is stored in the .set file\n",
      "  raw = mne_bids.read_raw_bids(subject_paths[j])\n",
      "C:\\Users\\mashh\\AppData\\Local\\Temp\\ipykernel_18244\\4265974583.py:9: RuntimeWarning: Did not find any events.tsv associated with sub-039_task-eyesclosed.\n",
      "\n",
      "The search_str was \"ds004504-download\\sub-039\\**\\eeg\\sub-039*events.tsv\"\n",
      "  raw = mne_bids.read_raw_bids(subject_paths[j])\n"
     ]
    },
    {
     "name": "stdout",
     "output_type": "stream",
     "text": [
      "Reading channel info from ds004504-download\\sub-040\\eeg\\sub-040_task-eyesclosed_channels.tsv.\n"
     ]
    },
    {
     "name": "stderr",
     "output_type": "stream",
     "text": [
      "C:\\Users\\mashh\\AppData\\Local\\Temp\\ipykernel_18244\\4265974583.py:9: RuntimeWarning: Data will be preloaded. preload=False or a string preload is not supported when the data is stored in the .set file\n",
      "  raw = mne_bids.read_raw_bids(subject_paths[j])\n",
      "C:\\Users\\mashh\\AppData\\Local\\Temp\\ipykernel_18244\\4265974583.py:9: RuntimeWarning: Did not find any events.tsv associated with sub-040_task-eyesclosed.\n",
      "\n",
      "The search_str was \"ds004504-download\\sub-040\\**\\eeg\\sub-040*events.tsv\"\n",
      "  raw = mne_bids.read_raw_bids(subject_paths[j])\n"
     ]
    },
    {
     "name": "stdout",
     "output_type": "stream",
     "text": [
      "Reading channel info from ds004504-download\\sub-041\\eeg\\sub-041_task-eyesclosed_channels.tsv.\n"
     ]
    },
    {
     "name": "stderr",
     "output_type": "stream",
     "text": [
      "C:\\Users\\mashh\\AppData\\Local\\Temp\\ipykernel_18244\\4265974583.py:9: RuntimeWarning: Data will be preloaded. preload=False or a string preload is not supported when the data is stored in the .set file\n",
      "  raw = mne_bids.read_raw_bids(subject_paths[j])\n",
      "C:\\Users\\mashh\\AppData\\Local\\Temp\\ipykernel_18244\\4265974583.py:9: RuntimeWarning: Did not find any events.tsv associated with sub-041_task-eyesclosed.\n",
      "\n",
      "The search_str was \"ds004504-download\\sub-041\\**\\eeg\\sub-041*events.tsv\"\n",
      "  raw = mne_bids.read_raw_bids(subject_paths[j])\n"
     ]
    },
    {
     "name": "stdout",
     "output_type": "stream",
     "text": [
      "Reading channel info from ds004504-download\\sub-042\\eeg\\sub-042_task-eyesclosed_channels.tsv.\n"
     ]
    },
    {
     "name": "stderr",
     "output_type": "stream",
     "text": [
      "C:\\Users\\mashh\\AppData\\Local\\Temp\\ipykernel_18244\\4265974583.py:9: RuntimeWarning: Data will be preloaded. preload=False or a string preload is not supported when the data is stored in the .set file\n",
      "  raw = mne_bids.read_raw_bids(subject_paths[j])\n",
      "C:\\Users\\mashh\\AppData\\Local\\Temp\\ipykernel_18244\\4265974583.py:9: RuntimeWarning: Did not find any events.tsv associated with sub-042_task-eyesclosed.\n",
      "\n",
      "The search_str was \"ds004504-download\\sub-042\\**\\eeg\\sub-042*events.tsv\"\n",
      "  raw = mne_bids.read_raw_bids(subject_paths[j])\n"
     ]
    },
    {
     "name": "stdout",
     "output_type": "stream",
     "text": [
      "Reading channel info from ds004504-download\\sub-043\\eeg\\sub-043_task-eyesclosed_channels.tsv.\n"
     ]
    },
    {
     "name": "stderr",
     "output_type": "stream",
     "text": [
      "C:\\Users\\mashh\\AppData\\Local\\Temp\\ipykernel_18244\\4265974583.py:9: RuntimeWarning: Data will be preloaded. preload=False or a string preload is not supported when the data is stored in the .set file\n",
      "  raw = mne_bids.read_raw_bids(subject_paths[j])\n",
      "C:\\Users\\mashh\\AppData\\Local\\Temp\\ipykernel_18244\\4265974583.py:9: RuntimeWarning: Did not find any events.tsv associated with sub-043_task-eyesclosed.\n",
      "\n",
      "The search_str was \"ds004504-download\\sub-043\\**\\eeg\\sub-043*events.tsv\"\n",
      "  raw = mne_bids.read_raw_bids(subject_paths[j])\n"
     ]
    },
    {
     "name": "stdout",
     "output_type": "stream",
     "text": [
      "Reading channel info from ds004504-download\\sub-044\\eeg\\sub-044_task-eyesclosed_channels.tsv.\n"
     ]
    },
    {
     "name": "stderr",
     "output_type": "stream",
     "text": [
      "C:\\Users\\mashh\\AppData\\Local\\Temp\\ipykernel_18244\\4265974583.py:9: RuntimeWarning: Data will be preloaded. preload=False or a string preload is not supported when the data is stored in the .set file\n",
      "  raw = mne_bids.read_raw_bids(subject_paths[j])\n",
      "C:\\Users\\mashh\\AppData\\Local\\Temp\\ipykernel_18244\\4265974583.py:9: RuntimeWarning: Did not find any events.tsv associated with sub-044_task-eyesclosed.\n",
      "\n",
      "The search_str was \"ds004504-download\\sub-044\\**\\eeg\\sub-044*events.tsv\"\n",
      "  raw = mne_bids.read_raw_bids(subject_paths[j])\n"
     ]
    },
    {
     "name": "stdout",
     "output_type": "stream",
     "text": [
      "Reading channel info from ds004504-download\\sub-045\\eeg\\sub-045_task-eyesclosed_channels.tsv.\n"
     ]
    },
    {
     "name": "stderr",
     "output_type": "stream",
     "text": [
      "C:\\Users\\mashh\\AppData\\Local\\Temp\\ipykernel_18244\\4265974583.py:9: RuntimeWarning: Data will be preloaded. preload=False or a string preload is not supported when the data is stored in the .set file\n",
      "  raw = mne_bids.read_raw_bids(subject_paths[j])\n",
      "C:\\Users\\mashh\\AppData\\Local\\Temp\\ipykernel_18244\\4265974583.py:9: RuntimeWarning: Did not find any events.tsv associated with sub-045_task-eyesclosed.\n",
      "\n",
      "The search_str was \"ds004504-download\\sub-045\\**\\eeg\\sub-045*events.tsv\"\n",
      "  raw = mne_bids.read_raw_bids(subject_paths[j])\n"
     ]
    },
    {
     "name": "stdout",
     "output_type": "stream",
     "text": [
      "Reading channel info from ds004504-download\\sub-046\\eeg\\sub-046_task-eyesclosed_channels.tsv.\n"
     ]
    },
    {
     "name": "stderr",
     "output_type": "stream",
     "text": [
      "C:\\Users\\mashh\\AppData\\Local\\Temp\\ipykernel_18244\\4265974583.py:9: RuntimeWarning: Data will be preloaded. preload=False or a string preload is not supported when the data is stored in the .set file\n",
      "  raw = mne_bids.read_raw_bids(subject_paths[j])\n",
      "C:\\Users\\mashh\\AppData\\Local\\Temp\\ipykernel_18244\\4265974583.py:9: RuntimeWarning: Did not find any events.tsv associated with sub-046_task-eyesclosed.\n",
      "\n",
      "The search_str was \"ds004504-download\\sub-046\\**\\eeg\\sub-046*events.tsv\"\n",
      "  raw = mne_bids.read_raw_bids(subject_paths[j])\n"
     ]
    },
    {
     "name": "stdout",
     "output_type": "stream",
     "text": [
      "Reading channel info from ds004504-download\\sub-047\\eeg\\sub-047_task-eyesclosed_channels.tsv.\n"
     ]
    },
    {
     "name": "stderr",
     "output_type": "stream",
     "text": [
      "C:\\Users\\mashh\\AppData\\Local\\Temp\\ipykernel_18244\\4265974583.py:9: RuntimeWarning: Data will be preloaded. preload=False or a string preload is not supported when the data is stored in the .set file\n",
      "  raw = mne_bids.read_raw_bids(subject_paths[j])\n",
      "C:\\Users\\mashh\\AppData\\Local\\Temp\\ipykernel_18244\\4265974583.py:9: RuntimeWarning: Did not find any events.tsv associated with sub-047_task-eyesclosed.\n",
      "\n",
      "The search_str was \"ds004504-download\\sub-047\\**\\eeg\\sub-047*events.tsv\"\n",
      "  raw = mne_bids.read_raw_bids(subject_paths[j])\n",
      "C:\\Users\\mashh\\AppData\\Local\\Temp\\ipykernel_18244\\4265974583.py:9: RuntimeWarning: Data will be preloaded. preload=False or a string preload is not supported when the data is stored in the .set file\n",
      "  raw = mne_bids.read_raw_bids(subject_paths[j])\n",
      "C:\\Users\\mashh\\AppData\\Local\\Temp\\ipykernel_18244\\4265974583.py:9: RuntimeWarning: Did not find any events.tsv associated with sub-048_task-eyesclosed.\n",
      "\n",
      "The search_str was \"ds004504-download\\sub-048\\**\\eeg\\sub-048*events.tsv\"\n",
      "  raw = mne_bids.read_raw_bids(subject_paths[j])\n"
     ]
    },
    {
     "name": "stdout",
     "output_type": "stream",
     "text": [
      "Reading channel info from ds004504-download\\sub-048\\eeg\\sub-048_task-eyesclosed_channels.tsv.\n",
      "Reading channel info from ds004504-download\\sub-049\\eeg\\sub-049_task-eyesclosed_channels.tsv.\n"
     ]
    },
    {
     "name": "stderr",
     "output_type": "stream",
     "text": [
      "C:\\Users\\mashh\\AppData\\Local\\Temp\\ipykernel_18244\\4265974583.py:9: RuntimeWarning: Data will be preloaded. preload=False or a string preload is not supported when the data is stored in the .set file\n",
      "  raw = mne_bids.read_raw_bids(subject_paths[j])\n",
      "C:\\Users\\mashh\\AppData\\Local\\Temp\\ipykernel_18244\\4265974583.py:9: RuntimeWarning: Did not find any events.tsv associated with sub-049_task-eyesclosed.\n",
      "\n",
      "The search_str was \"ds004504-download\\sub-049\\**\\eeg\\sub-049*events.tsv\"\n",
      "  raw = mne_bids.read_raw_bids(subject_paths[j])\n"
     ]
    },
    {
     "name": "stdout",
     "output_type": "stream",
     "text": [
      "Reading channel info from ds004504-download\\sub-050\\eeg\\sub-050_task-eyesclosed_channels.tsv.\n"
     ]
    },
    {
     "name": "stderr",
     "output_type": "stream",
     "text": [
      "C:\\Users\\mashh\\AppData\\Local\\Temp\\ipykernel_18244\\4265974583.py:9: RuntimeWarning: Data will be preloaded. preload=False or a string preload is not supported when the data is stored in the .set file\n",
      "  raw = mne_bids.read_raw_bids(subject_paths[j])\n",
      "C:\\Users\\mashh\\AppData\\Local\\Temp\\ipykernel_18244\\4265974583.py:9: RuntimeWarning: Did not find any events.tsv associated with sub-050_task-eyesclosed.\n",
      "\n",
      "The search_str was \"ds004504-download\\sub-050\\**\\eeg\\sub-050*events.tsv\"\n",
      "  raw = mne_bids.read_raw_bids(subject_paths[j])\n",
      "C:\\Users\\mashh\\AppData\\Local\\Temp\\ipykernel_18244\\4265974583.py:9: RuntimeWarning: Data will be preloaded. preload=False or a string preload is not supported when the data is stored in the .set file\n",
      "  raw = mne_bids.read_raw_bids(subject_paths[j])\n",
      "C:\\Users\\mashh\\AppData\\Local\\Temp\\ipykernel_18244\\4265974583.py:9: RuntimeWarning: Did not find any events.tsv associated with sub-051_task-eyesclosed.\n",
      "\n",
      "The search_str was \"ds004504-download\\sub-051\\**\\eeg\\sub-051*events.tsv\"\n",
      "  raw = mne_bids.read_raw_bids(subject_paths[j])\n"
     ]
    },
    {
     "name": "stdout",
     "output_type": "stream",
     "text": [
      "Reading channel info from ds004504-download\\sub-051\\eeg\\sub-051_task-eyesclosed_channels.tsv.\n",
      "Reading channel info from ds004504-download\\sub-052\\eeg\\sub-052_task-eyesclosed_channels.tsv.\n"
     ]
    },
    {
     "name": "stderr",
     "output_type": "stream",
     "text": [
      "C:\\Users\\mashh\\AppData\\Local\\Temp\\ipykernel_18244\\4265974583.py:9: RuntimeWarning: Data will be preloaded. preload=False or a string preload is not supported when the data is stored in the .set file\n",
      "  raw = mne_bids.read_raw_bids(subject_paths[j])\n",
      "C:\\Users\\mashh\\AppData\\Local\\Temp\\ipykernel_18244\\4265974583.py:9: RuntimeWarning: Did not find any events.tsv associated with sub-052_task-eyesclosed.\n",
      "\n",
      "The search_str was \"ds004504-download\\sub-052\\**\\eeg\\sub-052*events.tsv\"\n",
      "  raw = mne_bids.read_raw_bids(subject_paths[j])\n"
     ]
    },
    {
     "name": "stdout",
     "output_type": "stream",
     "text": [
      "Reading channel info from ds004504-download\\sub-053\\eeg\\sub-053_task-eyesclosed_channels.tsv.\n"
     ]
    },
    {
     "name": "stderr",
     "output_type": "stream",
     "text": [
      "C:\\Users\\mashh\\AppData\\Local\\Temp\\ipykernel_18244\\4265974583.py:9: RuntimeWarning: Data will be preloaded. preload=False or a string preload is not supported when the data is stored in the .set file\n",
      "  raw = mne_bids.read_raw_bids(subject_paths[j])\n",
      "C:\\Users\\mashh\\AppData\\Local\\Temp\\ipykernel_18244\\4265974583.py:9: RuntimeWarning: Did not find any events.tsv associated with sub-053_task-eyesclosed.\n",
      "\n",
      "The search_str was \"ds004504-download\\sub-053\\**\\eeg\\sub-053*events.tsv\"\n",
      "  raw = mne_bids.read_raw_bids(subject_paths[j])\n"
     ]
    },
    {
     "name": "stdout",
     "output_type": "stream",
     "text": [
      "Reading channel info from ds004504-download\\sub-054\\eeg\\sub-054_task-eyesclosed_channels.tsv.\n"
     ]
    },
    {
     "name": "stderr",
     "output_type": "stream",
     "text": [
      "C:\\Users\\mashh\\AppData\\Local\\Temp\\ipykernel_18244\\4265974583.py:9: RuntimeWarning: Data will be preloaded. preload=False or a string preload is not supported when the data is stored in the .set file\n",
      "  raw = mne_bids.read_raw_bids(subject_paths[j])\n",
      "C:\\Users\\mashh\\AppData\\Local\\Temp\\ipykernel_18244\\4265974583.py:9: RuntimeWarning: Did not find any events.tsv associated with sub-054_task-eyesclosed.\n",
      "\n",
      "The search_str was \"ds004504-download\\sub-054\\**\\eeg\\sub-054*events.tsv\"\n",
      "  raw = mne_bids.read_raw_bids(subject_paths[j])\n"
     ]
    },
    {
     "name": "stdout",
     "output_type": "stream",
     "text": [
      "Reading channel info from ds004504-download\\sub-055\\eeg\\sub-055_task-eyesclosed_channels.tsv.\n"
     ]
    },
    {
     "name": "stderr",
     "output_type": "stream",
     "text": [
      "C:\\Users\\mashh\\AppData\\Local\\Temp\\ipykernel_18244\\4265974583.py:9: RuntimeWarning: Data will be preloaded. preload=False or a string preload is not supported when the data is stored in the .set file\n",
      "  raw = mne_bids.read_raw_bids(subject_paths[j])\n",
      "C:\\Users\\mashh\\AppData\\Local\\Temp\\ipykernel_18244\\4265974583.py:9: RuntimeWarning: Did not find any events.tsv associated with sub-055_task-eyesclosed.\n",
      "\n",
      "The search_str was \"ds004504-download\\sub-055\\**\\eeg\\sub-055*events.tsv\"\n",
      "  raw = mne_bids.read_raw_bids(subject_paths[j])\n"
     ]
    },
    {
     "name": "stdout",
     "output_type": "stream",
     "text": [
      "Reading channel info from ds004504-download\\sub-056\\eeg\\sub-056_task-eyesclosed_channels.tsv.\n"
     ]
    },
    {
     "name": "stderr",
     "output_type": "stream",
     "text": [
      "C:\\Users\\mashh\\AppData\\Local\\Temp\\ipykernel_18244\\4265974583.py:9: RuntimeWarning: Data will be preloaded. preload=False or a string preload is not supported when the data is stored in the .set file\n",
      "  raw = mne_bids.read_raw_bids(subject_paths[j])\n",
      "C:\\Users\\mashh\\AppData\\Local\\Temp\\ipykernel_18244\\4265974583.py:9: RuntimeWarning: Did not find any events.tsv associated with sub-056_task-eyesclosed.\n",
      "\n",
      "The search_str was \"ds004504-download\\sub-056\\**\\eeg\\sub-056*events.tsv\"\n",
      "  raw = mne_bids.read_raw_bids(subject_paths[j])\n"
     ]
    },
    {
     "name": "stdout",
     "output_type": "stream",
     "text": [
      "Reading channel info from ds004504-download\\sub-057\\eeg\\sub-057_task-eyesclosed_channels.tsv.\n"
     ]
    },
    {
     "name": "stderr",
     "output_type": "stream",
     "text": [
      "C:\\Users\\mashh\\AppData\\Local\\Temp\\ipykernel_18244\\4265974583.py:9: RuntimeWarning: Data will be preloaded. preload=False or a string preload is not supported when the data is stored in the .set file\n",
      "  raw = mne_bids.read_raw_bids(subject_paths[j])\n",
      "C:\\Users\\mashh\\AppData\\Local\\Temp\\ipykernel_18244\\4265974583.py:9: RuntimeWarning: Did not find any events.tsv associated with sub-057_task-eyesclosed.\n",
      "\n",
      "The search_str was \"ds004504-download\\sub-057\\**\\eeg\\sub-057*events.tsv\"\n",
      "  raw = mne_bids.read_raw_bids(subject_paths[j])\n"
     ]
    },
    {
     "name": "stdout",
     "output_type": "stream",
     "text": [
      "Reading channel info from ds004504-download\\sub-058\\eeg\\sub-058_task-eyesclosed_channels.tsv.\n"
     ]
    },
    {
     "name": "stderr",
     "output_type": "stream",
     "text": [
      "C:\\Users\\mashh\\AppData\\Local\\Temp\\ipykernel_18244\\4265974583.py:9: RuntimeWarning: Data will be preloaded. preload=False or a string preload is not supported when the data is stored in the .set file\n",
      "  raw = mne_bids.read_raw_bids(subject_paths[j])\n",
      "C:\\Users\\mashh\\AppData\\Local\\Temp\\ipykernel_18244\\4265974583.py:9: RuntimeWarning: Did not find any events.tsv associated with sub-058_task-eyesclosed.\n",
      "\n",
      "The search_str was \"ds004504-download\\sub-058\\**\\eeg\\sub-058*events.tsv\"\n",
      "  raw = mne_bids.read_raw_bids(subject_paths[j])\n"
     ]
    },
    {
     "name": "stdout",
     "output_type": "stream",
     "text": [
      "Reading channel info from ds004504-download\\sub-059\\eeg\\sub-059_task-eyesclosed_channels.tsv.\n"
     ]
    },
    {
     "name": "stderr",
     "output_type": "stream",
     "text": [
      "C:\\Users\\mashh\\AppData\\Local\\Temp\\ipykernel_18244\\4265974583.py:9: RuntimeWarning: Data will be preloaded. preload=False or a string preload is not supported when the data is stored in the .set file\n",
      "  raw = mne_bids.read_raw_bids(subject_paths[j])\n",
      "C:\\Users\\mashh\\AppData\\Local\\Temp\\ipykernel_18244\\4265974583.py:9: RuntimeWarning: Did not find any events.tsv associated with sub-059_task-eyesclosed.\n",
      "\n",
      "The search_str was \"ds004504-download\\sub-059\\**\\eeg\\sub-059*events.tsv\"\n",
      "  raw = mne_bids.read_raw_bids(subject_paths[j])\n"
     ]
    },
    {
     "name": "stdout",
     "output_type": "stream",
     "text": [
      "Reading channel info from ds004504-download\\sub-060\\eeg\\sub-060_task-eyesclosed_channels.tsv.\n"
     ]
    },
    {
     "name": "stderr",
     "output_type": "stream",
     "text": [
      "C:\\Users\\mashh\\AppData\\Local\\Temp\\ipykernel_18244\\4265974583.py:9: RuntimeWarning: Data will be preloaded. preload=False or a string preload is not supported when the data is stored in the .set file\n",
      "  raw = mne_bids.read_raw_bids(subject_paths[j])\n",
      "C:\\Users\\mashh\\AppData\\Local\\Temp\\ipykernel_18244\\4265974583.py:9: RuntimeWarning: Did not find any events.tsv associated with sub-060_task-eyesclosed.\n",
      "\n",
      "The search_str was \"ds004504-download\\sub-060\\**\\eeg\\sub-060*events.tsv\"\n",
      "  raw = mne_bids.read_raw_bids(subject_paths[j])\n"
     ]
    },
    {
     "name": "stdout",
     "output_type": "stream",
     "text": [
      "Reading channel info from ds004504-download\\sub-061\\eeg\\sub-061_task-eyesclosed_channels.tsv.\n"
     ]
    },
    {
     "name": "stderr",
     "output_type": "stream",
     "text": [
      "C:\\Users\\mashh\\AppData\\Local\\Temp\\ipykernel_18244\\4265974583.py:9: RuntimeWarning: Data will be preloaded. preload=False or a string preload is not supported when the data is stored in the .set file\n",
      "  raw = mne_bids.read_raw_bids(subject_paths[j])\n",
      "C:\\Users\\mashh\\AppData\\Local\\Temp\\ipykernel_18244\\4265974583.py:9: RuntimeWarning: Did not find any events.tsv associated with sub-061_task-eyesclosed.\n",
      "\n",
      "The search_str was \"ds004504-download\\sub-061\\**\\eeg\\sub-061*events.tsv\"\n",
      "  raw = mne_bids.read_raw_bids(subject_paths[j])\n"
     ]
    },
    {
     "name": "stdout",
     "output_type": "stream",
     "text": [
      "Reading channel info from ds004504-download\\sub-062\\eeg\\sub-062_task-eyesclosed_channels.tsv.\n"
     ]
    },
    {
     "name": "stderr",
     "output_type": "stream",
     "text": [
      "C:\\Users\\mashh\\AppData\\Local\\Temp\\ipykernel_18244\\4265974583.py:9: RuntimeWarning: Data will be preloaded. preload=False or a string preload is not supported when the data is stored in the .set file\n",
      "  raw = mne_bids.read_raw_bids(subject_paths[j])\n",
      "C:\\Users\\mashh\\AppData\\Local\\Temp\\ipykernel_18244\\4265974583.py:9: RuntimeWarning: Did not find any events.tsv associated with sub-062_task-eyesclosed.\n",
      "\n",
      "The search_str was \"ds004504-download\\sub-062\\**\\eeg\\sub-062*events.tsv\"\n",
      "  raw = mne_bids.read_raw_bids(subject_paths[j])\n"
     ]
    },
    {
     "name": "stdout",
     "output_type": "stream",
     "text": [
      "Reading channel info from ds004504-download\\sub-063\\eeg\\sub-063_task-eyesclosed_channels.tsv.\n"
     ]
    },
    {
     "name": "stderr",
     "output_type": "stream",
     "text": [
      "C:\\Users\\mashh\\AppData\\Local\\Temp\\ipykernel_18244\\4265974583.py:9: RuntimeWarning: Data will be preloaded. preload=False or a string preload is not supported when the data is stored in the .set file\n",
      "  raw = mne_bids.read_raw_bids(subject_paths[j])\n",
      "C:\\Users\\mashh\\AppData\\Local\\Temp\\ipykernel_18244\\4265974583.py:9: RuntimeWarning: Did not find any events.tsv associated with sub-063_task-eyesclosed.\n",
      "\n",
      "The search_str was \"ds004504-download\\sub-063\\**\\eeg\\sub-063*events.tsv\"\n",
      "  raw = mne_bids.read_raw_bids(subject_paths[j])\n"
     ]
    },
    {
     "name": "stdout",
     "output_type": "stream",
     "text": [
      "Reading channel info from ds004504-download\\sub-064\\eeg\\sub-064_task-eyesclosed_channels.tsv.\n"
     ]
    },
    {
     "name": "stderr",
     "output_type": "stream",
     "text": [
      "C:\\Users\\mashh\\AppData\\Local\\Temp\\ipykernel_18244\\4265974583.py:9: RuntimeWarning: Data will be preloaded. preload=False or a string preload is not supported when the data is stored in the .set file\n",
      "  raw = mne_bids.read_raw_bids(subject_paths[j])\n",
      "C:\\Users\\mashh\\AppData\\Local\\Temp\\ipykernel_18244\\4265974583.py:9: RuntimeWarning: Did not find any events.tsv associated with sub-064_task-eyesclosed.\n",
      "\n",
      "The search_str was \"ds004504-download\\sub-064\\**\\eeg\\sub-064*events.tsv\"\n",
      "  raw = mne_bids.read_raw_bids(subject_paths[j])\n"
     ]
    },
    {
     "name": "stdout",
     "output_type": "stream",
     "text": [
      "Reading channel info from ds004504-download\\sub-065\\eeg\\sub-065_task-eyesclosed_channels.tsv.\n"
     ]
    },
    {
     "name": "stderr",
     "output_type": "stream",
     "text": [
      "C:\\Users\\mashh\\AppData\\Local\\Temp\\ipykernel_18244\\4265974583.py:9: RuntimeWarning: Data will be preloaded. preload=False or a string preload is not supported when the data is stored in the .set file\n",
      "  raw = mne_bids.read_raw_bids(subject_paths[j])\n",
      "C:\\Users\\mashh\\AppData\\Local\\Temp\\ipykernel_18244\\4265974583.py:9: RuntimeWarning: Did not find any events.tsv associated with sub-065_task-eyesclosed.\n",
      "\n",
      "The search_str was \"ds004504-download\\sub-065\\**\\eeg\\sub-065*events.tsv\"\n",
      "  raw = mne_bids.read_raw_bids(subject_paths[j])\n"
     ]
    },
    {
     "name": "stdout",
     "output_type": "stream",
     "text": [
      "Reading channel info from ds004504-download\\sub-066\\eeg\\sub-066_task-eyesclosed_channels.tsv.\n"
     ]
    },
    {
     "name": "stderr",
     "output_type": "stream",
     "text": [
      "C:\\Users\\mashh\\AppData\\Local\\Temp\\ipykernel_18244\\4265974583.py:9: RuntimeWarning: Data will be preloaded. preload=False or a string preload is not supported when the data is stored in the .set file\n",
      "  raw = mne_bids.read_raw_bids(subject_paths[j])\n",
      "C:\\Users\\mashh\\AppData\\Local\\Temp\\ipykernel_18244\\4265974583.py:9: RuntimeWarning: Did not find any events.tsv associated with sub-066_task-eyesclosed.\n",
      "\n",
      "The search_str was \"ds004504-download\\sub-066\\**\\eeg\\sub-066*events.tsv\"\n",
      "  raw = mne_bids.read_raw_bids(subject_paths[j])\n"
     ]
    },
    {
     "name": "stdout",
     "output_type": "stream",
     "text": [
      "Reading channel info from ds004504-download\\sub-067\\eeg\\sub-067_task-eyesclosed_channels.tsv.\n"
     ]
    },
    {
     "name": "stderr",
     "output_type": "stream",
     "text": [
      "C:\\Users\\mashh\\AppData\\Local\\Temp\\ipykernel_18244\\4265974583.py:9: RuntimeWarning: Data will be preloaded. preload=False or a string preload is not supported when the data is stored in the .set file\n",
      "  raw = mne_bids.read_raw_bids(subject_paths[j])\n",
      "C:\\Users\\mashh\\AppData\\Local\\Temp\\ipykernel_18244\\4265974583.py:9: RuntimeWarning: Did not find any events.tsv associated with sub-067_task-eyesclosed.\n",
      "\n",
      "The search_str was \"ds004504-download\\sub-067\\**\\eeg\\sub-067*events.tsv\"\n",
      "  raw = mne_bids.read_raw_bids(subject_paths[j])\n"
     ]
    },
    {
     "name": "stdout",
     "output_type": "stream",
     "text": [
      "Reading channel info from ds004504-download\\sub-068\\eeg\\sub-068_task-eyesclosed_channels.tsv.\n"
     ]
    },
    {
     "name": "stderr",
     "output_type": "stream",
     "text": [
      "C:\\Users\\mashh\\AppData\\Local\\Temp\\ipykernel_18244\\4265974583.py:9: RuntimeWarning: Data will be preloaded. preload=False or a string preload is not supported when the data is stored in the .set file\n",
      "  raw = mne_bids.read_raw_bids(subject_paths[j])\n",
      "C:\\Users\\mashh\\AppData\\Local\\Temp\\ipykernel_18244\\4265974583.py:9: RuntimeWarning: Did not find any events.tsv associated with sub-068_task-eyesclosed.\n",
      "\n",
      "The search_str was \"ds004504-download\\sub-068\\**\\eeg\\sub-068*events.tsv\"\n",
      "  raw = mne_bids.read_raw_bids(subject_paths[j])\n"
     ]
    },
    {
     "name": "stdout",
     "output_type": "stream",
     "text": [
      "Reading channel info from ds004504-download\\sub-069\\eeg\\sub-069_task-eyesclosed_channels.tsv.\n"
     ]
    },
    {
     "name": "stderr",
     "output_type": "stream",
     "text": [
      "C:\\Users\\mashh\\AppData\\Local\\Temp\\ipykernel_18244\\4265974583.py:9: RuntimeWarning: Data will be preloaded. preload=False or a string preload is not supported when the data is stored in the .set file\n",
      "  raw = mne_bids.read_raw_bids(subject_paths[j])\n",
      "C:\\Users\\mashh\\AppData\\Local\\Temp\\ipykernel_18244\\4265974583.py:9: RuntimeWarning: Did not find any events.tsv associated with sub-069_task-eyesclosed.\n",
      "\n",
      "The search_str was \"ds004504-download\\sub-069\\**\\eeg\\sub-069*events.tsv\"\n",
      "  raw = mne_bids.read_raw_bids(subject_paths[j])\n"
     ]
    },
    {
     "name": "stdout",
     "output_type": "stream",
     "text": [
      "Reading channel info from ds004504-download\\sub-070\\eeg\\sub-070_task-eyesclosed_channels.tsv.\n"
     ]
    },
    {
     "name": "stderr",
     "output_type": "stream",
     "text": [
      "C:\\Users\\mashh\\AppData\\Local\\Temp\\ipykernel_18244\\4265974583.py:9: RuntimeWarning: Data will be preloaded. preload=False or a string preload is not supported when the data is stored in the .set file\n",
      "  raw = mne_bids.read_raw_bids(subject_paths[j])\n",
      "C:\\Users\\mashh\\AppData\\Local\\Temp\\ipykernel_18244\\4265974583.py:9: RuntimeWarning: Did not find any events.tsv associated with sub-070_task-eyesclosed.\n",
      "\n",
      "The search_str was \"ds004504-download\\sub-070\\**\\eeg\\sub-070*events.tsv\"\n",
      "  raw = mne_bids.read_raw_bids(subject_paths[j])\n"
     ]
    },
    {
     "name": "stdout",
     "output_type": "stream",
     "text": [
      "Reading channel info from ds004504-download\\sub-071\\eeg\\sub-071_task-eyesclosed_channels.tsv.\n"
     ]
    },
    {
     "name": "stderr",
     "output_type": "stream",
     "text": [
      "C:\\Users\\mashh\\AppData\\Local\\Temp\\ipykernel_18244\\4265974583.py:9: RuntimeWarning: Data will be preloaded. preload=False or a string preload is not supported when the data is stored in the .set file\n",
      "  raw = mne_bids.read_raw_bids(subject_paths[j])\n",
      "C:\\Users\\mashh\\AppData\\Local\\Temp\\ipykernel_18244\\4265974583.py:9: RuntimeWarning: Did not find any events.tsv associated with sub-071_task-eyesclosed.\n",
      "\n",
      "The search_str was \"ds004504-download\\sub-071\\**\\eeg\\sub-071*events.tsv\"\n",
      "  raw = mne_bids.read_raw_bids(subject_paths[j])\n"
     ]
    },
    {
     "name": "stdout",
     "output_type": "stream",
     "text": [
      "Reading channel info from ds004504-download\\sub-072\\eeg\\sub-072_task-eyesclosed_channels.tsv.\n"
     ]
    },
    {
     "name": "stderr",
     "output_type": "stream",
     "text": [
      "C:\\Users\\mashh\\AppData\\Local\\Temp\\ipykernel_18244\\4265974583.py:9: RuntimeWarning: Data will be preloaded. preload=False or a string preload is not supported when the data is stored in the .set file\n",
      "  raw = mne_bids.read_raw_bids(subject_paths[j])\n",
      "C:\\Users\\mashh\\AppData\\Local\\Temp\\ipykernel_18244\\4265974583.py:9: RuntimeWarning: Did not find any events.tsv associated with sub-072_task-eyesclosed.\n",
      "\n",
      "The search_str was \"ds004504-download\\sub-072\\**\\eeg\\sub-072*events.tsv\"\n",
      "  raw = mne_bids.read_raw_bids(subject_paths[j])\n"
     ]
    },
    {
     "name": "stdout",
     "output_type": "stream",
     "text": [
      "Reading channel info from ds004504-download\\sub-073\\eeg\\sub-073_task-eyesclosed_channels.tsv.\n"
     ]
    },
    {
     "name": "stderr",
     "output_type": "stream",
     "text": [
      "C:\\Users\\mashh\\AppData\\Local\\Temp\\ipykernel_18244\\4265974583.py:9: RuntimeWarning: Data will be preloaded. preload=False or a string preload is not supported when the data is stored in the .set file\n",
      "  raw = mne_bids.read_raw_bids(subject_paths[j])\n",
      "C:\\Users\\mashh\\AppData\\Local\\Temp\\ipykernel_18244\\4265974583.py:9: RuntimeWarning: Did not find any events.tsv associated with sub-073_task-eyesclosed.\n",
      "\n",
      "The search_str was \"ds004504-download\\sub-073\\**\\eeg\\sub-073*events.tsv\"\n",
      "  raw = mne_bids.read_raw_bids(subject_paths[j])\n"
     ]
    },
    {
     "name": "stdout",
     "output_type": "stream",
     "text": [
      "Reading channel info from ds004504-download\\sub-074\\eeg\\sub-074_task-eyesclosed_channels.tsv.\n"
     ]
    },
    {
     "name": "stderr",
     "output_type": "stream",
     "text": [
      "C:\\Users\\mashh\\AppData\\Local\\Temp\\ipykernel_18244\\4265974583.py:9: RuntimeWarning: Data will be preloaded. preload=False or a string preload is not supported when the data is stored in the .set file\n",
      "  raw = mne_bids.read_raw_bids(subject_paths[j])\n",
      "C:\\Users\\mashh\\AppData\\Local\\Temp\\ipykernel_18244\\4265974583.py:9: RuntimeWarning: Did not find any events.tsv associated with sub-074_task-eyesclosed.\n",
      "\n",
      "The search_str was \"ds004504-download\\sub-074\\**\\eeg\\sub-074*events.tsv\"\n",
      "  raw = mne_bids.read_raw_bids(subject_paths[j])\n"
     ]
    },
    {
     "name": "stdout",
     "output_type": "stream",
     "text": [
      "Reading channel info from ds004504-download\\sub-075\\eeg\\sub-075_task-eyesclosed_channels.tsv.\n"
     ]
    },
    {
     "name": "stderr",
     "output_type": "stream",
     "text": [
      "C:\\Users\\mashh\\AppData\\Local\\Temp\\ipykernel_18244\\4265974583.py:9: RuntimeWarning: Data will be preloaded. preload=False or a string preload is not supported when the data is stored in the .set file\n",
      "  raw = mne_bids.read_raw_bids(subject_paths[j])\n",
      "C:\\Users\\mashh\\AppData\\Local\\Temp\\ipykernel_18244\\4265974583.py:9: RuntimeWarning: Did not find any events.tsv associated with sub-075_task-eyesclosed.\n",
      "\n",
      "The search_str was \"ds004504-download\\sub-075\\**\\eeg\\sub-075*events.tsv\"\n",
      "  raw = mne_bids.read_raw_bids(subject_paths[j])\n"
     ]
    },
    {
     "name": "stdout",
     "output_type": "stream",
     "text": [
      "Reading channel info from ds004504-download\\sub-076\\eeg\\sub-076_task-eyesclosed_channels.tsv.\n"
     ]
    },
    {
     "name": "stderr",
     "output_type": "stream",
     "text": [
      "C:\\Users\\mashh\\AppData\\Local\\Temp\\ipykernel_18244\\4265974583.py:9: RuntimeWarning: Data will be preloaded. preload=False or a string preload is not supported when the data is stored in the .set file\n",
      "  raw = mne_bids.read_raw_bids(subject_paths[j])\n",
      "C:\\Users\\mashh\\AppData\\Local\\Temp\\ipykernel_18244\\4265974583.py:9: RuntimeWarning: Did not find any events.tsv associated with sub-076_task-eyesclosed.\n",
      "\n",
      "The search_str was \"ds004504-download\\sub-076\\**\\eeg\\sub-076*events.tsv\"\n",
      "  raw = mne_bids.read_raw_bids(subject_paths[j])\n"
     ]
    },
    {
     "name": "stdout",
     "output_type": "stream",
     "text": [
      "Reading channel info from ds004504-download\\sub-077\\eeg\\sub-077_task-eyesclosed_channels.tsv.\n"
     ]
    },
    {
     "name": "stderr",
     "output_type": "stream",
     "text": [
      "C:\\Users\\mashh\\AppData\\Local\\Temp\\ipykernel_18244\\4265974583.py:9: RuntimeWarning: Data will be preloaded. preload=False or a string preload is not supported when the data is stored in the .set file\n",
      "  raw = mne_bids.read_raw_bids(subject_paths[j])\n",
      "C:\\Users\\mashh\\AppData\\Local\\Temp\\ipykernel_18244\\4265974583.py:9: RuntimeWarning: Did not find any events.tsv associated with sub-077_task-eyesclosed.\n",
      "\n",
      "The search_str was \"ds004504-download\\sub-077\\**\\eeg\\sub-077*events.tsv\"\n",
      "  raw = mne_bids.read_raw_bids(subject_paths[j])\n"
     ]
    },
    {
     "name": "stdout",
     "output_type": "stream",
     "text": [
      "Reading channel info from ds004504-download\\sub-078\\eeg\\sub-078_task-eyesclosed_channels.tsv.\n"
     ]
    },
    {
     "name": "stderr",
     "output_type": "stream",
     "text": [
      "C:\\Users\\mashh\\AppData\\Local\\Temp\\ipykernel_18244\\4265974583.py:9: RuntimeWarning: Data will be preloaded. preload=False or a string preload is not supported when the data is stored in the .set file\n",
      "  raw = mne_bids.read_raw_bids(subject_paths[j])\n",
      "C:\\Users\\mashh\\AppData\\Local\\Temp\\ipykernel_18244\\4265974583.py:9: RuntimeWarning: Did not find any events.tsv associated with sub-078_task-eyesclosed.\n",
      "\n",
      "The search_str was \"ds004504-download\\sub-078\\**\\eeg\\sub-078*events.tsv\"\n",
      "  raw = mne_bids.read_raw_bids(subject_paths[j])\n"
     ]
    },
    {
     "name": "stdout",
     "output_type": "stream",
     "text": [
      "Reading channel info from ds004504-download\\sub-079\\eeg\\sub-079_task-eyesclosed_channels.tsv.\n"
     ]
    },
    {
     "name": "stderr",
     "output_type": "stream",
     "text": [
      "C:\\Users\\mashh\\AppData\\Local\\Temp\\ipykernel_18244\\4265974583.py:9: RuntimeWarning: Data will be preloaded. preload=False or a string preload is not supported when the data is stored in the .set file\n",
      "  raw = mne_bids.read_raw_bids(subject_paths[j])\n",
      "C:\\Users\\mashh\\AppData\\Local\\Temp\\ipykernel_18244\\4265974583.py:9: RuntimeWarning: Did not find any events.tsv associated with sub-079_task-eyesclosed.\n",
      "\n",
      "The search_str was \"ds004504-download\\sub-079\\**\\eeg\\sub-079*events.tsv\"\n",
      "  raw = mne_bids.read_raw_bids(subject_paths[j])\n"
     ]
    },
    {
     "name": "stdout",
     "output_type": "stream",
     "text": [
      "Reading channel info from ds004504-download\\sub-080\\eeg\\sub-080_task-eyesclosed_channels.tsv.\n"
     ]
    },
    {
     "name": "stderr",
     "output_type": "stream",
     "text": [
      "C:\\Users\\mashh\\AppData\\Local\\Temp\\ipykernel_18244\\4265974583.py:9: RuntimeWarning: Data will be preloaded. preload=False or a string preload is not supported when the data is stored in the .set file\n",
      "  raw = mne_bids.read_raw_bids(subject_paths[j])\n",
      "C:\\Users\\mashh\\AppData\\Local\\Temp\\ipykernel_18244\\4265974583.py:9: RuntimeWarning: Did not find any events.tsv associated with sub-080_task-eyesclosed.\n",
      "\n",
      "The search_str was \"ds004504-download\\sub-080\\**\\eeg\\sub-080*events.tsv\"\n",
      "  raw = mne_bids.read_raw_bids(subject_paths[j])\n"
     ]
    },
    {
     "name": "stdout",
     "output_type": "stream",
     "text": [
      "Reading channel info from ds004504-download\\sub-081\\eeg\\sub-081_task-eyesclosed_channels.tsv.\n"
     ]
    },
    {
     "name": "stderr",
     "output_type": "stream",
     "text": [
      "C:\\Users\\mashh\\AppData\\Local\\Temp\\ipykernel_18244\\4265974583.py:9: RuntimeWarning: Data will be preloaded. preload=False or a string preload is not supported when the data is stored in the .set file\n",
      "  raw = mne_bids.read_raw_bids(subject_paths[j])\n",
      "C:\\Users\\mashh\\AppData\\Local\\Temp\\ipykernel_18244\\4265974583.py:9: RuntimeWarning: Did not find any events.tsv associated with sub-081_task-eyesclosed.\n",
      "\n",
      "The search_str was \"ds004504-download\\sub-081\\**\\eeg\\sub-081*events.tsv\"\n",
      "  raw = mne_bids.read_raw_bids(subject_paths[j])\n"
     ]
    },
    {
     "name": "stdout",
     "output_type": "stream",
     "text": [
      "Reading channel info from ds004504-download\\sub-082\\eeg\\sub-082_task-eyesclosed_channels.tsv.\n"
     ]
    },
    {
     "name": "stderr",
     "output_type": "stream",
     "text": [
      "C:\\Users\\mashh\\AppData\\Local\\Temp\\ipykernel_18244\\4265974583.py:9: RuntimeWarning: Data will be preloaded. preload=False or a string preload is not supported when the data is stored in the .set file\n",
      "  raw = mne_bids.read_raw_bids(subject_paths[j])\n",
      "C:\\Users\\mashh\\AppData\\Local\\Temp\\ipykernel_18244\\4265974583.py:9: RuntimeWarning: Did not find any events.tsv associated with sub-082_task-eyesclosed.\n",
      "\n",
      "The search_str was \"ds004504-download\\sub-082\\**\\eeg\\sub-082*events.tsv\"\n",
      "  raw = mne_bids.read_raw_bids(subject_paths[j])\n"
     ]
    },
    {
     "name": "stdout",
     "output_type": "stream",
     "text": [
      "Reading channel info from ds004504-download\\sub-083\\eeg\\sub-083_task-eyesclosed_channels.tsv.\n"
     ]
    },
    {
     "name": "stderr",
     "output_type": "stream",
     "text": [
      "C:\\Users\\mashh\\AppData\\Local\\Temp\\ipykernel_18244\\4265974583.py:9: RuntimeWarning: Data will be preloaded. preload=False or a string preload is not supported when the data is stored in the .set file\n",
      "  raw = mne_bids.read_raw_bids(subject_paths[j])\n",
      "C:\\Users\\mashh\\AppData\\Local\\Temp\\ipykernel_18244\\4265974583.py:9: RuntimeWarning: Did not find any events.tsv associated with sub-083_task-eyesclosed.\n",
      "\n",
      "The search_str was \"ds004504-download\\sub-083\\**\\eeg\\sub-083*events.tsv\"\n",
      "  raw = mne_bids.read_raw_bids(subject_paths[j])\n"
     ]
    },
    {
     "name": "stdout",
     "output_type": "stream",
     "text": [
      "Reading channel info from ds004504-download\\sub-084\\eeg\\sub-084_task-eyesclosed_channels.tsv.\n"
     ]
    },
    {
     "name": "stderr",
     "output_type": "stream",
     "text": [
      "C:\\Users\\mashh\\AppData\\Local\\Temp\\ipykernel_18244\\4265974583.py:9: RuntimeWarning: Data will be preloaded. preload=False or a string preload is not supported when the data is stored in the .set file\n",
      "  raw = mne_bids.read_raw_bids(subject_paths[j])\n",
      "C:\\Users\\mashh\\AppData\\Local\\Temp\\ipykernel_18244\\4265974583.py:9: RuntimeWarning: Did not find any events.tsv associated with sub-084_task-eyesclosed.\n",
      "\n",
      "The search_str was \"ds004504-download\\sub-084\\**\\eeg\\sub-084*events.tsv\"\n",
      "  raw = mne_bids.read_raw_bids(subject_paths[j])\n"
     ]
    },
    {
     "name": "stdout",
     "output_type": "stream",
     "text": [
      "Reading channel info from ds004504-download\\sub-085\\eeg\\sub-085_task-eyesclosed_channels.tsv.\n"
     ]
    },
    {
     "name": "stderr",
     "output_type": "stream",
     "text": [
      "C:\\Users\\mashh\\AppData\\Local\\Temp\\ipykernel_18244\\4265974583.py:9: RuntimeWarning: Data will be preloaded. preload=False or a string preload is not supported when the data is stored in the .set file\n",
      "  raw = mne_bids.read_raw_bids(subject_paths[j])\n",
      "C:\\Users\\mashh\\AppData\\Local\\Temp\\ipykernel_18244\\4265974583.py:9: RuntimeWarning: Did not find any events.tsv associated with sub-085_task-eyesclosed.\n",
      "\n",
      "The search_str was \"ds004504-download\\sub-085\\**\\eeg\\sub-085*events.tsv\"\n",
      "  raw = mne_bids.read_raw_bids(subject_paths[j])\n"
     ]
    },
    {
     "name": "stdout",
     "output_type": "stream",
     "text": [
      "Reading channel info from ds004504-download\\sub-086\\eeg\\sub-086_task-eyesclosed_channels.tsv.\n"
     ]
    },
    {
     "name": "stderr",
     "output_type": "stream",
     "text": [
      "C:\\Users\\mashh\\AppData\\Local\\Temp\\ipykernel_18244\\4265974583.py:9: RuntimeWarning: Data will be preloaded. preload=False or a string preload is not supported when the data is stored in the .set file\n",
      "  raw = mne_bids.read_raw_bids(subject_paths[j])\n",
      "C:\\Users\\mashh\\AppData\\Local\\Temp\\ipykernel_18244\\4265974583.py:9: RuntimeWarning: Did not find any events.tsv associated with sub-086_task-eyesclosed.\n",
      "\n",
      "The search_str was \"ds004504-download\\sub-086\\**\\eeg\\sub-086*events.tsv\"\n",
      "  raw = mne_bids.read_raw_bids(subject_paths[j])\n"
     ]
    },
    {
     "name": "stdout",
     "output_type": "stream",
     "text": [
      "Reading channel info from ds004504-download\\sub-087\\eeg\\sub-087_task-eyesclosed_channels.tsv.\n"
     ]
    },
    {
     "name": "stderr",
     "output_type": "stream",
     "text": [
      "C:\\Users\\mashh\\AppData\\Local\\Temp\\ipykernel_18244\\4265974583.py:9: RuntimeWarning: Data will be preloaded. preload=False or a string preload is not supported when the data is stored in the .set file\n",
      "  raw = mne_bids.read_raw_bids(subject_paths[j])\n",
      "C:\\Users\\mashh\\AppData\\Local\\Temp\\ipykernel_18244\\4265974583.py:9: RuntimeWarning: Did not find any events.tsv associated with sub-087_task-eyesclosed.\n",
      "\n",
      "The search_str was \"ds004504-download\\sub-087\\**\\eeg\\sub-087*events.tsv\"\n",
      "  raw = mne_bids.read_raw_bids(subject_paths[j])\n"
     ]
    },
    {
     "name": "stdout",
     "output_type": "stream",
     "text": [
      "Reading channel info from ds004504-download\\sub-088\\eeg\\sub-088_task-eyesclosed_channels.tsv.\n"
     ]
    },
    {
     "name": "stderr",
     "output_type": "stream",
     "text": [
      "C:\\Users\\mashh\\AppData\\Local\\Temp\\ipykernel_18244\\4265974583.py:9: RuntimeWarning: Data will be preloaded. preload=False or a string preload is not supported when the data is stored in the .set file\n",
      "  raw = mne_bids.read_raw_bids(subject_paths[j])\n",
      "C:\\Users\\mashh\\AppData\\Local\\Temp\\ipykernel_18244\\4265974583.py:9: RuntimeWarning: Did not find any events.tsv associated with sub-088_task-eyesclosed.\n",
      "\n",
      "The search_str was \"ds004504-download\\sub-088\\**\\eeg\\sub-088*events.tsv\"\n",
      "  raw = mne_bids.read_raw_bids(subject_paths[j])\n"
     ]
    },
    {
     "name": "stdout",
     "output_type": "stream",
     "text": [
      "Reading channel info from ds004504-download\\sub-001\\eeg\\sub-001_task-eyesclosed_channels.tsv.\n"
     ]
    },
    {
     "name": "stderr",
     "output_type": "stream",
     "text": [
      "C:\\Users\\mashh\\AppData\\Local\\Temp\\ipykernel_18244\\4265974583.py:9: RuntimeWarning: Data will be preloaded. preload=False or a string preload is not supported when the data is stored in the .set file\n",
      "  raw = mne_bids.read_raw_bids(subject_paths[j])\n",
      "C:\\Users\\mashh\\AppData\\Local\\Temp\\ipykernel_18244\\4265974583.py:9: RuntimeWarning: Did not find any events.tsv associated with sub-001_task-eyesclosed.\n",
      "\n",
      "The search_str was \"ds004504-download\\sub-001\\**\\eeg\\sub-001*events.tsv\"\n",
      "  raw = mne_bids.read_raw_bids(subject_paths[j])\n"
     ]
    },
    {
     "name": "stdout",
     "output_type": "stream",
     "text": [
      "Reading channel info from ds004504-download\\sub-002\\eeg\\sub-002_task-eyesclosed_channels.tsv.\n"
     ]
    },
    {
     "name": "stderr",
     "output_type": "stream",
     "text": [
      "C:\\Users\\mashh\\AppData\\Local\\Temp\\ipykernel_18244\\4265974583.py:9: RuntimeWarning: Data will be preloaded. preload=False or a string preload is not supported when the data is stored in the .set file\n",
      "  raw = mne_bids.read_raw_bids(subject_paths[j])\n",
      "C:\\Users\\mashh\\AppData\\Local\\Temp\\ipykernel_18244\\4265974583.py:9: RuntimeWarning: Did not find any events.tsv associated with sub-002_task-eyesclosed.\n",
      "\n",
      "The search_str was \"ds004504-download\\sub-002\\**\\eeg\\sub-002*events.tsv\"\n",
      "  raw = mne_bids.read_raw_bids(subject_paths[j])\n"
     ]
    },
    {
     "name": "stdout",
     "output_type": "stream",
     "text": [
      "Reading channel info from ds004504-download\\sub-003\\eeg\\sub-003_task-eyesclosed_channels.tsv.\n"
     ]
    },
    {
     "name": "stderr",
     "output_type": "stream",
     "text": [
      "C:\\Users\\mashh\\AppData\\Local\\Temp\\ipykernel_18244\\4265974583.py:9: RuntimeWarning: Data will be preloaded. preload=False or a string preload is not supported when the data is stored in the .set file\n",
      "  raw = mne_bids.read_raw_bids(subject_paths[j])\n",
      "C:\\Users\\mashh\\AppData\\Local\\Temp\\ipykernel_18244\\4265974583.py:9: RuntimeWarning: Did not find any events.tsv associated with sub-003_task-eyesclosed.\n",
      "\n",
      "The search_str was \"ds004504-download\\sub-003\\**\\eeg\\sub-003*events.tsv\"\n",
      "  raw = mne_bids.read_raw_bids(subject_paths[j])\n"
     ]
    },
    {
     "name": "stdout",
     "output_type": "stream",
     "text": [
      "Reading channel info from ds004504-download\\sub-004\\eeg\\sub-004_task-eyesclosed_channels.tsv.\n"
     ]
    },
    {
     "name": "stderr",
     "output_type": "stream",
     "text": [
      "C:\\Users\\mashh\\AppData\\Local\\Temp\\ipykernel_18244\\4265974583.py:9: RuntimeWarning: Data will be preloaded. preload=False or a string preload is not supported when the data is stored in the .set file\n",
      "  raw = mne_bids.read_raw_bids(subject_paths[j])\n",
      "C:\\Users\\mashh\\AppData\\Local\\Temp\\ipykernel_18244\\4265974583.py:9: RuntimeWarning: Did not find any events.tsv associated with sub-004_task-eyesclosed.\n",
      "\n",
      "The search_str was \"ds004504-download\\sub-004\\**\\eeg\\sub-004*events.tsv\"\n",
      "  raw = mne_bids.read_raw_bids(subject_paths[j])\n"
     ]
    },
    {
     "name": "stdout",
     "output_type": "stream",
     "text": [
      "Reading channel info from ds004504-download\\sub-005\\eeg\\sub-005_task-eyesclosed_channels.tsv.\n"
     ]
    },
    {
     "name": "stderr",
     "output_type": "stream",
     "text": [
      "C:\\Users\\mashh\\AppData\\Local\\Temp\\ipykernel_18244\\4265974583.py:9: RuntimeWarning: Data will be preloaded. preload=False or a string preload is not supported when the data is stored in the .set file\n",
      "  raw = mne_bids.read_raw_bids(subject_paths[j])\n",
      "C:\\Users\\mashh\\AppData\\Local\\Temp\\ipykernel_18244\\4265974583.py:9: RuntimeWarning: Did not find any events.tsv associated with sub-005_task-eyesclosed.\n",
      "\n",
      "The search_str was \"ds004504-download\\sub-005\\**\\eeg\\sub-005*events.tsv\"\n",
      "  raw = mne_bids.read_raw_bids(subject_paths[j])\n"
     ]
    },
    {
     "name": "stdout",
     "output_type": "stream",
     "text": [
      "Reading channel info from ds004504-download\\sub-006\\eeg\\sub-006_task-eyesclosed_channels.tsv.\n"
     ]
    },
    {
     "name": "stderr",
     "output_type": "stream",
     "text": [
      "C:\\Users\\mashh\\AppData\\Local\\Temp\\ipykernel_18244\\4265974583.py:9: RuntimeWarning: Data will be preloaded. preload=False or a string preload is not supported when the data is stored in the .set file\n",
      "  raw = mne_bids.read_raw_bids(subject_paths[j])\n",
      "C:\\Users\\mashh\\AppData\\Local\\Temp\\ipykernel_18244\\4265974583.py:9: RuntimeWarning: Did not find any events.tsv associated with sub-006_task-eyesclosed.\n",
      "\n",
      "The search_str was \"ds004504-download\\sub-006\\**\\eeg\\sub-006*events.tsv\"\n",
      "  raw = mne_bids.read_raw_bids(subject_paths[j])\n"
     ]
    },
    {
     "name": "stdout",
     "output_type": "stream",
     "text": [
      "Reading channel info from ds004504-download\\sub-007\\eeg\\sub-007_task-eyesclosed_channels.tsv.\n"
     ]
    },
    {
     "name": "stderr",
     "output_type": "stream",
     "text": [
      "C:\\Users\\mashh\\AppData\\Local\\Temp\\ipykernel_18244\\4265974583.py:9: RuntimeWarning: Data will be preloaded. preload=False or a string preload is not supported when the data is stored in the .set file\n",
      "  raw = mne_bids.read_raw_bids(subject_paths[j])\n",
      "C:\\Users\\mashh\\AppData\\Local\\Temp\\ipykernel_18244\\4265974583.py:9: RuntimeWarning: Did not find any events.tsv associated with sub-007_task-eyesclosed.\n",
      "\n",
      "The search_str was \"ds004504-download\\sub-007\\**\\eeg\\sub-007*events.tsv\"\n",
      "  raw = mne_bids.read_raw_bids(subject_paths[j])\n"
     ]
    },
    {
     "name": "stdout",
     "output_type": "stream",
     "text": [
      "Reading channel info from ds004504-download\\sub-008\\eeg\\sub-008_task-eyesclosed_channels.tsv.\n"
     ]
    },
    {
     "name": "stderr",
     "output_type": "stream",
     "text": [
      "C:\\Users\\mashh\\AppData\\Local\\Temp\\ipykernel_18244\\4265974583.py:9: RuntimeWarning: Data will be preloaded. preload=False or a string preload is not supported when the data is stored in the .set file\n",
      "  raw = mne_bids.read_raw_bids(subject_paths[j])\n",
      "C:\\Users\\mashh\\AppData\\Local\\Temp\\ipykernel_18244\\4265974583.py:9: RuntimeWarning: Did not find any events.tsv associated with sub-008_task-eyesclosed.\n",
      "\n",
      "The search_str was \"ds004504-download\\sub-008\\**\\eeg\\sub-008*events.tsv\"\n",
      "  raw = mne_bids.read_raw_bids(subject_paths[j])\n"
     ]
    },
    {
     "name": "stdout",
     "output_type": "stream",
     "text": [
      "Reading channel info from ds004504-download\\sub-009\\eeg\\sub-009_task-eyesclosed_channels.tsv.\n"
     ]
    },
    {
     "name": "stderr",
     "output_type": "stream",
     "text": [
      "C:\\Users\\mashh\\AppData\\Local\\Temp\\ipykernel_18244\\4265974583.py:9: RuntimeWarning: Data will be preloaded. preload=False or a string preload is not supported when the data is stored in the .set file\n",
      "  raw = mne_bids.read_raw_bids(subject_paths[j])\n",
      "C:\\Users\\mashh\\AppData\\Local\\Temp\\ipykernel_18244\\4265974583.py:9: RuntimeWarning: Did not find any events.tsv associated with sub-009_task-eyesclosed.\n",
      "\n",
      "The search_str was \"ds004504-download\\sub-009\\**\\eeg\\sub-009*events.tsv\"\n",
      "  raw = mne_bids.read_raw_bids(subject_paths[j])\n",
      "C:\\Users\\mashh\\AppData\\Local\\Temp\\ipykernel_18244\\4265974583.py:9: RuntimeWarning: Data will be preloaded. preload=False or a string preload is not supported when the data is stored in the .set file\n",
      "  raw = mne_bids.read_raw_bids(subject_paths[j])\n"
     ]
    },
    {
     "name": "stdout",
     "output_type": "stream",
     "text": [
      "Reading channel info from ds004504-download\\sub-010\\eeg\\sub-010_task-eyesclosed_channels.tsv.\n"
     ]
    },
    {
     "name": "stderr",
     "output_type": "stream",
     "text": [
      "C:\\Users\\mashh\\AppData\\Local\\Temp\\ipykernel_18244\\4265974583.py:9: RuntimeWarning: Did not find any events.tsv associated with sub-010_task-eyesclosed.\n",
      "\n",
      "The search_str was \"ds004504-download\\sub-010\\**\\eeg\\sub-010*events.tsv\"\n",
      "  raw = mne_bids.read_raw_bids(subject_paths[j])\n"
     ]
    },
    {
     "name": "stdout",
     "output_type": "stream",
     "text": [
      "Reading channel info from ds004504-download\\sub-011\\eeg\\sub-011_task-eyesclosed_channels.tsv.\n"
     ]
    },
    {
     "name": "stderr",
     "output_type": "stream",
     "text": [
      "C:\\Users\\mashh\\AppData\\Local\\Temp\\ipykernel_18244\\4265974583.py:9: RuntimeWarning: Data will be preloaded. preload=False or a string preload is not supported when the data is stored in the .set file\n",
      "  raw = mne_bids.read_raw_bids(subject_paths[j])\n",
      "C:\\Users\\mashh\\AppData\\Local\\Temp\\ipykernel_18244\\4265974583.py:9: RuntimeWarning: Did not find any events.tsv associated with sub-011_task-eyesclosed.\n",
      "\n",
      "The search_str was \"ds004504-download\\sub-011\\**\\eeg\\sub-011*events.tsv\"\n",
      "  raw = mne_bids.read_raw_bids(subject_paths[j])\n"
     ]
    },
    {
     "name": "stdout",
     "output_type": "stream",
     "text": [
      "Reading channel info from ds004504-download\\sub-012\\eeg\\sub-012_task-eyesclosed_channels.tsv.\n"
     ]
    },
    {
     "name": "stderr",
     "output_type": "stream",
     "text": [
      "C:\\Users\\mashh\\AppData\\Local\\Temp\\ipykernel_18244\\4265974583.py:9: RuntimeWarning: Data will be preloaded. preload=False or a string preload is not supported when the data is stored in the .set file\n",
      "  raw = mne_bids.read_raw_bids(subject_paths[j])\n",
      "C:\\Users\\mashh\\AppData\\Local\\Temp\\ipykernel_18244\\4265974583.py:9: RuntimeWarning: Did not find any events.tsv associated with sub-012_task-eyesclosed.\n",
      "\n",
      "The search_str was \"ds004504-download\\sub-012\\**\\eeg\\sub-012*events.tsv\"\n",
      "  raw = mne_bids.read_raw_bids(subject_paths[j])\n"
     ]
    },
    {
     "name": "stdout",
     "output_type": "stream",
     "text": [
      "Reading channel info from ds004504-download\\sub-013\\eeg\\sub-013_task-eyesclosed_channels.tsv.\n"
     ]
    },
    {
     "name": "stderr",
     "output_type": "stream",
     "text": [
      "C:\\Users\\mashh\\AppData\\Local\\Temp\\ipykernel_18244\\4265974583.py:9: RuntimeWarning: Data will be preloaded. preload=False or a string preload is not supported when the data is stored in the .set file\n",
      "  raw = mne_bids.read_raw_bids(subject_paths[j])\n",
      "C:\\Users\\mashh\\AppData\\Local\\Temp\\ipykernel_18244\\4265974583.py:9: RuntimeWarning: Did not find any events.tsv associated with sub-013_task-eyesclosed.\n",
      "\n",
      "The search_str was \"ds004504-download\\sub-013\\**\\eeg\\sub-013*events.tsv\"\n",
      "  raw = mne_bids.read_raw_bids(subject_paths[j])\n"
     ]
    },
    {
     "name": "stdout",
     "output_type": "stream",
     "text": [
      "Reading channel info from ds004504-download\\sub-014\\eeg\\sub-014_task-eyesclosed_channels.tsv.\n"
     ]
    },
    {
     "name": "stderr",
     "output_type": "stream",
     "text": [
      "C:\\Users\\mashh\\AppData\\Local\\Temp\\ipykernel_18244\\4265974583.py:9: RuntimeWarning: Data will be preloaded. preload=False or a string preload is not supported when the data is stored in the .set file\n",
      "  raw = mne_bids.read_raw_bids(subject_paths[j])\n",
      "C:\\Users\\mashh\\AppData\\Local\\Temp\\ipykernel_18244\\4265974583.py:9: RuntimeWarning: Did not find any events.tsv associated with sub-014_task-eyesclosed.\n",
      "\n",
      "The search_str was \"ds004504-download\\sub-014\\**\\eeg\\sub-014*events.tsv\"\n",
      "  raw = mne_bids.read_raw_bids(subject_paths[j])\n"
     ]
    },
    {
     "name": "stdout",
     "output_type": "stream",
     "text": [
      "Reading channel info from ds004504-download\\sub-015\\eeg\\sub-015_task-eyesclosed_channels.tsv.\n"
     ]
    },
    {
     "name": "stderr",
     "output_type": "stream",
     "text": [
      "C:\\Users\\mashh\\AppData\\Local\\Temp\\ipykernel_18244\\4265974583.py:9: RuntimeWarning: Data will be preloaded. preload=False or a string preload is not supported when the data is stored in the .set file\n",
      "  raw = mne_bids.read_raw_bids(subject_paths[j])\n",
      "C:\\Users\\mashh\\AppData\\Local\\Temp\\ipykernel_18244\\4265974583.py:9: RuntimeWarning: Did not find any events.tsv associated with sub-015_task-eyesclosed.\n",
      "\n",
      "The search_str was \"ds004504-download\\sub-015\\**\\eeg\\sub-015*events.tsv\"\n",
      "  raw = mne_bids.read_raw_bids(subject_paths[j])\n"
     ]
    },
    {
     "name": "stdout",
     "output_type": "stream",
     "text": [
      "Reading channel info from ds004504-download\\sub-016\\eeg\\sub-016_task-eyesclosed_channels.tsv.\n"
     ]
    },
    {
     "name": "stderr",
     "output_type": "stream",
     "text": [
      "C:\\Users\\mashh\\AppData\\Local\\Temp\\ipykernel_18244\\4265974583.py:9: RuntimeWarning: Data will be preloaded. preload=False or a string preload is not supported when the data is stored in the .set file\n",
      "  raw = mne_bids.read_raw_bids(subject_paths[j])\n",
      "C:\\Users\\mashh\\AppData\\Local\\Temp\\ipykernel_18244\\4265974583.py:9: RuntimeWarning: Did not find any events.tsv associated with sub-016_task-eyesclosed.\n",
      "\n",
      "The search_str was \"ds004504-download\\sub-016\\**\\eeg\\sub-016*events.tsv\"\n",
      "  raw = mne_bids.read_raw_bids(subject_paths[j])\n"
     ]
    },
    {
     "name": "stdout",
     "output_type": "stream",
     "text": [
      "Reading channel info from ds004504-download\\sub-017\\eeg\\sub-017_task-eyesclosed_channels.tsv.\n"
     ]
    },
    {
     "name": "stderr",
     "output_type": "stream",
     "text": [
      "C:\\Users\\mashh\\AppData\\Local\\Temp\\ipykernel_18244\\4265974583.py:9: RuntimeWarning: Data will be preloaded. preload=False or a string preload is not supported when the data is stored in the .set file\n",
      "  raw = mne_bids.read_raw_bids(subject_paths[j])\n",
      "C:\\Users\\mashh\\AppData\\Local\\Temp\\ipykernel_18244\\4265974583.py:9: RuntimeWarning: Did not find any events.tsv associated with sub-017_task-eyesclosed.\n",
      "\n",
      "The search_str was \"ds004504-download\\sub-017\\**\\eeg\\sub-017*events.tsv\"\n",
      "  raw = mne_bids.read_raw_bids(subject_paths[j])\n"
     ]
    },
    {
     "name": "stdout",
     "output_type": "stream",
     "text": [
      "Reading channel info from ds004504-download\\sub-018\\eeg\\sub-018_task-eyesclosed_channels.tsv.\n"
     ]
    },
    {
     "name": "stderr",
     "output_type": "stream",
     "text": [
      "C:\\Users\\mashh\\AppData\\Local\\Temp\\ipykernel_18244\\4265974583.py:9: RuntimeWarning: Data will be preloaded. preload=False or a string preload is not supported when the data is stored in the .set file\n",
      "  raw = mne_bids.read_raw_bids(subject_paths[j])\n",
      "C:\\Users\\mashh\\AppData\\Local\\Temp\\ipykernel_18244\\4265974583.py:9: RuntimeWarning: Did not find any events.tsv associated with sub-018_task-eyesclosed.\n",
      "\n",
      "The search_str was \"ds004504-download\\sub-018\\**\\eeg\\sub-018*events.tsv\"\n",
      "  raw = mne_bids.read_raw_bids(subject_paths[j])\n"
     ]
    },
    {
     "name": "stdout",
     "output_type": "stream",
     "text": [
      "Reading channel info from ds004504-download\\sub-019\\eeg\\sub-019_task-eyesclosed_channels.tsv.\n"
     ]
    },
    {
     "name": "stderr",
     "output_type": "stream",
     "text": [
      "C:\\Users\\mashh\\AppData\\Local\\Temp\\ipykernel_18244\\4265974583.py:9: RuntimeWarning: Data will be preloaded. preload=False or a string preload is not supported when the data is stored in the .set file\n",
      "  raw = mne_bids.read_raw_bids(subject_paths[j])\n",
      "C:\\Users\\mashh\\AppData\\Local\\Temp\\ipykernel_18244\\4265974583.py:9: RuntimeWarning: Did not find any events.tsv associated with sub-019_task-eyesclosed.\n",
      "\n",
      "The search_str was \"ds004504-download\\sub-019\\**\\eeg\\sub-019*events.tsv\"\n",
      "  raw = mne_bids.read_raw_bids(subject_paths[j])\n"
     ]
    },
    {
     "name": "stdout",
     "output_type": "stream",
     "text": [
      "Reading channel info from ds004504-download\\sub-020\\eeg\\sub-020_task-eyesclosed_channels.tsv.\n"
     ]
    },
    {
     "name": "stderr",
     "output_type": "stream",
     "text": [
      "C:\\Users\\mashh\\AppData\\Local\\Temp\\ipykernel_18244\\4265974583.py:9: RuntimeWarning: Data will be preloaded. preload=False or a string preload is not supported when the data is stored in the .set file\n",
      "  raw = mne_bids.read_raw_bids(subject_paths[j])\n",
      "C:\\Users\\mashh\\AppData\\Local\\Temp\\ipykernel_18244\\4265974583.py:9: RuntimeWarning: Did not find any events.tsv associated with sub-020_task-eyesclosed.\n",
      "\n",
      "The search_str was \"ds004504-download\\sub-020\\**\\eeg\\sub-020*events.tsv\"\n",
      "  raw = mne_bids.read_raw_bids(subject_paths[j])\n"
     ]
    },
    {
     "name": "stdout",
     "output_type": "stream",
     "text": [
      "Reading channel info from ds004504-download\\sub-021\\eeg\\sub-021_task-eyesclosed_channels.tsv.\n"
     ]
    },
    {
     "name": "stderr",
     "output_type": "stream",
     "text": [
      "C:\\Users\\mashh\\AppData\\Local\\Temp\\ipykernel_18244\\4265974583.py:9: RuntimeWarning: Data will be preloaded. preload=False or a string preload is not supported when the data is stored in the .set file\n",
      "  raw = mne_bids.read_raw_bids(subject_paths[j])\n",
      "C:\\Users\\mashh\\AppData\\Local\\Temp\\ipykernel_18244\\4265974583.py:9: RuntimeWarning: Did not find any events.tsv associated with sub-021_task-eyesclosed.\n",
      "\n",
      "The search_str was \"ds004504-download\\sub-021\\**\\eeg\\sub-021*events.tsv\"\n",
      "  raw = mne_bids.read_raw_bids(subject_paths[j])\n"
     ]
    },
    {
     "name": "stdout",
     "output_type": "stream",
     "text": [
      "Reading channel info from ds004504-download\\sub-022\\eeg\\sub-022_task-eyesclosed_channels.tsv.\n"
     ]
    },
    {
     "name": "stderr",
     "output_type": "stream",
     "text": [
      "C:\\Users\\mashh\\AppData\\Local\\Temp\\ipykernel_18244\\4265974583.py:9: RuntimeWarning: Data will be preloaded. preload=False or a string preload is not supported when the data is stored in the .set file\n",
      "  raw = mne_bids.read_raw_bids(subject_paths[j])\n",
      "C:\\Users\\mashh\\AppData\\Local\\Temp\\ipykernel_18244\\4265974583.py:9: RuntimeWarning: Did not find any events.tsv associated with sub-022_task-eyesclosed.\n",
      "\n",
      "The search_str was \"ds004504-download\\sub-022\\**\\eeg\\sub-022*events.tsv\"\n",
      "  raw = mne_bids.read_raw_bids(subject_paths[j])\n"
     ]
    },
    {
     "name": "stdout",
     "output_type": "stream",
     "text": [
      "Reading channel info from ds004504-download\\sub-023\\eeg\\sub-023_task-eyesclosed_channels.tsv.\n"
     ]
    },
    {
     "name": "stderr",
     "output_type": "stream",
     "text": [
      "C:\\Users\\mashh\\AppData\\Local\\Temp\\ipykernel_18244\\4265974583.py:9: RuntimeWarning: Data will be preloaded. preload=False or a string preload is not supported when the data is stored in the .set file\n",
      "  raw = mne_bids.read_raw_bids(subject_paths[j])\n",
      "C:\\Users\\mashh\\AppData\\Local\\Temp\\ipykernel_18244\\4265974583.py:9: RuntimeWarning: Did not find any events.tsv associated with sub-023_task-eyesclosed.\n",
      "\n",
      "The search_str was \"ds004504-download\\sub-023\\**\\eeg\\sub-023*events.tsv\"\n",
      "  raw = mne_bids.read_raw_bids(subject_paths[j])\n"
     ]
    },
    {
     "name": "stdout",
     "output_type": "stream",
     "text": [
      "Reading channel info from ds004504-download\\sub-024\\eeg\\sub-024_task-eyesclosed_channels.tsv.\n"
     ]
    },
    {
     "name": "stderr",
     "output_type": "stream",
     "text": [
      "C:\\Users\\mashh\\AppData\\Local\\Temp\\ipykernel_18244\\4265974583.py:9: RuntimeWarning: Data will be preloaded. preload=False or a string preload is not supported when the data is stored in the .set file\n",
      "  raw = mne_bids.read_raw_bids(subject_paths[j])\n",
      "C:\\Users\\mashh\\AppData\\Local\\Temp\\ipykernel_18244\\4265974583.py:9: RuntimeWarning: Did not find any events.tsv associated with sub-024_task-eyesclosed.\n",
      "\n",
      "The search_str was \"ds004504-download\\sub-024\\**\\eeg\\sub-024*events.tsv\"\n",
      "  raw = mne_bids.read_raw_bids(subject_paths[j])\n"
     ]
    },
    {
     "name": "stdout",
     "output_type": "stream",
     "text": [
      "Reading channel info from ds004504-download\\sub-025\\eeg\\sub-025_task-eyesclosed_channels.tsv.\n"
     ]
    },
    {
     "name": "stderr",
     "output_type": "stream",
     "text": [
      "C:\\Users\\mashh\\AppData\\Local\\Temp\\ipykernel_18244\\4265974583.py:9: RuntimeWarning: Data will be preloaded. preload=False or a string preload is not supported when the data is stored in the .set file\n",
      "  raw = mne_bids.read_raw_bids(subject_paths[j])\n",
      "C:\\Users\\mashh\\AppData\\Local\\Temp\\ipykernel_18244\\4265974583.py:9: RuntimeWarning: Did not find any events.tsv associated with sub-025_task-eyesclosed.\n",
      "\n",
      "The search_str was \"ds004504-download\\sub-025\\**\\eeg\\sub-025*events.tsv\"\n",
      "  raw = mne_bids.read_raw_bids(subject_paths[j])\n"
     ]
    },
    {
     "name": "stdout",
     "output_type": "stream",
     "text": [
      "Reading channel info from ds004504-download\\sub-026\\eeg\\sub-026_task-eyesclosed_channels.tsv.\n"
     ]
    },
    {
     "name": "stderr",
     "output_type": "stream",
     "text": [
      "C:\\Users\\mashh\\AppData\\Local\\Temp\\ipykernel_18244\\4265974583.py:9: RuntimeWarning: Data will be preloaded. preload=False or a string preload is not supported when the data is stored in the .set file\n",
      "  raw = mne_bids.read_raw_bids(subject_paths[j])\n",
      "C:\\Users\\mashh\\AppData\\Local\\Temp\\ipykernel_18244\\4265974583.py:9: RuntimeWarning: Did not find any events.tsv associated with sub-026_task-eyesclosed.\n",
      "\n",
      "The search_str was \"ds004504-download\\sub-026\\**\\eeg\\sub-026*events.tsv\"\n",
      "  raw = mne_bids.read_raw_bids(subject_paths[j])\n"
     ]
    },
    {
     "name": "stdout",
     "output_type": "stream",
     "text": [
      "Reading channel info from ds004504-download\\sub-027\\eeg\\sub-027_task-eyesclosed_channels.tsv.\n"
     ]
    },
    {
     "name": "stderr",
     "output_type": "stream",
     "text": [
      "C:\\Users\\mashh\\AppData\\Local\\Temp\\ipykernel_18244\\4265974583.py:9: RuntimeWarning: Data will be preloaded. preload=False or a string preload is not supported when the data is stored in the .set file\n",
      "  raw = mne_bids.read_raw_bids(subject_paths[j])\n",
      "C:\\Users\\mashh\\AppData\\Local\\Temp\\ipykernel_18244\\4265974583.py:9: RuntimeWarning: Did not find any events.tsv associated with sub-027_task-eyesclosed.\n",
      "\n",
      "The search_str was \"ds004504-download\\sub-027\\**\\eeg\\sub-027*events.tsv\"\n",
      "  raw = mne_bids.read_raw_bids(subject_paths[j])\n"
     ]
    },
    {
     "name": "stdout",
     "output_type": "stream",
     "text": [
      "Reading channel info from ds004504-download\\sub-028\\eeg\\sub-028_task-eyesclosed_channels.tsv.\n"
     ]
    },
    {
     "name": "stderr",
     "output_type": "stream",
     "text": [
      "C:\\Users\\mashh\\AppData\\Local\\Temp\\ipykernel_18244\\4265974583.py:9: RuntimeWarning: Data will be preloaded. preload=False or a string preload is not supported when the data is stored in the .set file\n",
      "  raw = mne_bids.read_raw_bids(subject_paths[j])\n",
      "C:\\Users\\mashh\\AppData\\Local\\Temp\\ipykernel_18244\\4265974583.py:9: RuntimeWarning: Did not find any events.tsv associated with sub-028_task-eyesclosed.\n",
      "\n",
      "The search_str was \"ds004504-download\\sub-028\\**\\eeg\\sub-028*events.tsv\"\n",
      "  raw = mne_bids.read_raw_bids(subject_paths[j])\n"
     ]
    },
    {
     "name": "stdout",
     "output_type": "stream",
     "text": [
      "Reading channel info from ds004504-download\\sub-029\\eeg\\sub-029_task-eyesclosed_channels.tsv.\n"
     ]
    },
    {
     "name": "stderr",
     "output_type": "stream",
     "text": [
      "C:\\Users\\mashh\\AppData\\Local\\Temp\\ipykernel_18244\\4265974583.py:9: RuntimeWarning: Data will be preloaded. preload=False or a string preload is not supported when the data is stored in the .set file\n",
      "  raw = mne_bids.read_raw_bids(subject_paths[j])\n",
      "C:\\Users\\mashh\\AppData\\Local\\Temp\\ipykernel_18244\\4265974583.py:9: RuntimeWarning: Did not find any events.tsv associated with sub-029_task-eyesclosed.\n",
      "\n",
      "The search_str was \"ds004504-download\\sub-029\\**\\eeg\\sub-029*events.tsv\"\n",
      "  raw = mne_bids.read_raw_bids(subject_paths[j])\n"
     ]
    },
    {
     "name": "stdout",
     "output_type": "stream",
     "text": [
      "Reading channel info from ds004504-download\\sub-030\\eeg\\sub-030_task-eyesclosed_channels.tsv.\n"
     ]
    },
    {
     "name": "stderr",
     "output_type": "stream",
     "text": [
      "C:\\Users\\mashh\\AppData\\Local\\Temp\\ipykernel_18244\\4265974583.py:9: RuntimeWarning: Data will be preloaded. preload=False or a string preload is not supported when the data is stored in the .set file\n",
      "  raw = mne_bids.read_raw_bids(subject_paths[j])\n",
      "C:\\Users\\mashh\\AppData\\Local\\Temp\\ipykernel_18244\\4265974583.py:9: RuntimeWarning: Did not find any events.tsv associated with sub-030_task-eyesclosed.\n",
      "\n",
      "The search_str was \"ds004504-download\\sub-030\\**\\eeg\\sub-030*events.tsv\"\n",
      "  raw = mne_bids.read_raw_bids(subject_paths[j])\n"
     ]
    },
    {
     "name": "stdout",
     "output_type": "stream",
     "text": [
      "Reading channel info from ds004504-download\\sub-031\\eeg\\sub-031_task-eyesclosed_channels.tsv.\n"
     ]
    },
    {
     "name": "stderr",
     "output_type": "stream",
     "text": [
      "C:\\Users\\mashh\\AppData\\Local\\Temp\\ipykernel_18244\\4265974583.py:9: RuntimeWarning: Data will be preloaded. preload=False or a string preload is not supported when the data is stored in the .set file\n",
      "  raw = mne_bids.read_raw_bids(subject_paths[j])\n",
      "C:\\Users\\mashh\\AppData\\Local\\Temp\\ipykernel_18244\\4265974583.py:9: RuntimeWarning: Did not find any events.tsv associated with sub-031_task-eyesclosed.\n",
      "\n",
      "The search_str was \"ds004504-download\\sub-031\\**\\eeg\\sub-031*events.tsv\"\n",
      "  raw = mne_bids.read_raw_bids(subject_paths[j])\n"
     ]
    },
    {
     "name": "stdout",
     "output_type": "stream",
     "text": [
      "Reading channel info from ds004504-download\\sub-032\\eeg\\sub-032_task-eyesclosed_channels.tsv.\n"
     ]
    },
    {
     "name": "stderr",
     "output_type": "stream",
     "text": [
      "C:\\Users\\mashh\\AppData\\Local\\Temp\\ipykernel_18244\\4265974583.py:9: RuntimeWarning: Data will be preloaded. preload=False or a string preload is not supported when the data is stored in the .set file\n",
      "  raw = mne_bids.read_raw_bids(subject_paths[j])\n",
      "C:\\Users\\mashh\\AppData\\Local\\Temp\\ipykernel_18244\\4265974583.py:9: RuntimeWarning: Did not find any events.tsv associated with sub-032_task-eyesclosed.\n",
      "\n",
      "The search_str was \"ds004504-download\\sub-032\\**\\eeg\\sub-032*events.tsv\"\n",
      "  raw = mne_bids.read_raw_bids(subject_paths[j])\n"
     ]
    },
    {
     "name": "stdout",
     "output_type": "stream",
     "text": [
      "Reading channel info from ds004504-download\\sub-033\\eeg\\sub-033_task-eyesclosed_channels.tsv.\n"
     ]
    },
    {
     "name": "stderr",
     "output_type": "stream",
     "text": [
      "C:\\Users\\mashh\\AppData\\Local\\Temp\\ipykernel_18244\\4265974583.py:9: RuntimeWarning: Data will be preloaded. preload=False or a string preload is not supported when the data is stored in the .set file\n",
      "  raw = mne_bids.read_raw_bids(subject_paths[j])\n",
      "C:\\Users\\mashh\\AppData\\Local\\Temp\\ipykernel_18244\\4265974583.py:9: RuntimeWarning: Did not find any events.tsv associated with sub-033_task-eyesclosed.\n",
      "\n",
      "The search_str was \"ds004504-download\\sub-033\\**\\eeg\\sub-033*events.tsv\"\n",
      "  raw = mne_bids.read_raw_bids(subject_paths[j])\n"
     ]
    },
    {
     "name": "stdout",
     "output_type": "stream",
     "text": [
      "Reading channel info from ds004504-download\\sub-034\\eeg\\sub-034_task-eyesclosed_channels.tsv.\n"
     ]
    },
    {
     "name": "stderr",
     "output_type": "stream",
     "text": [
      "C:\\Users\\mashh\\AppData\\Local\\Temp\\ipykernel_18244\\4265974583.py:9: RuntimeWarning: Data will be preloaded. preload=False or a string preload is not supported when the data is stored in the .set file\n",
      "  raw = mne_bids.read_raw_bids(subject_paths[j])\n",
      "C:\\Users\\mashh\\AppData\\Local\\Temp\\ipykernel_18244\\4265974583.py:9: RuntimeWarning: Did not find any events.tsv associated with sub-034_task-eyesclosed.\n",
      "\n",
      "The search_str was \"ds004504-download\\sub-034\\**\\eeg\\sub-034*events.tsv\"\n",
      "  raw = mne_bids.read_raw_bids(subject_paths[j])\n"
     ]
    },
    {
     "name": "stdout",
     "output_type": "stream",
     "text": [
      "Reading channel info from ds004504-download\\sub-035\\eeg\\sub-035_task-eyesclosed_channels.tsv.\n"
     ]
    },
    {
     "name": "stderr",
     "output_type": "stream",
     "text": [
      "C:\\Users\\mashh\\AppData\\Local\\Temp\\ipykernel_18244\\4265974583.py:9: RuntimeWarning: Data will be preloaded. preload=False or a string preload is not supported when the data is stored in the .set file\n",
      "  raw = mne_bids.read_raw_bids(subject_paths[j])\n",
      "C:\\Users\\mashh\\AppData\\Local\\Temp\\ipykernel_18244\\4265974583.py:9: RuntimeWarning: Did not find any events.tsv associated with sub-035_task-eyesclosed.\n",
      "\n",
      "The search_str was \"ds004504-download\\sub-035\\**\\eeg\\sub-035*events.tsv\"\n",
      "  raw = mne_bids.read_raw_bids(subject_paths[j])\n"
     ]
    },
    {
     "name": "stdout",
     "output_type": "stream",
     "text": [
      "Reading channel info from ds004504-download\\sub-036\\eeg\\sub-036_task-eyesclosed_channels.tsv.\n"
     ]
    },
    {
     "name": "stderr",
     "output_type": "stream",
     "text": [
      "C:\\Users\\mashh\\AppData\\Local\\Temp\\ipykernel_18244\\4265974583.py:9: RuntimeWarning: Data will be preloaded. preload=False or a string preload is not supported when the data is stored in the .set file\n",
      "  raw = mne_bids.read_raw_bids(subject_paths[j])\n",
      "C:\\Users\\mashh\\AppData\\Local\\Temp\\ipykernel_18244\\4265974583.py:9: RuntimeWarning: Did not find any events.tsv associated with sub-036_task-eyesclosed.\n",
      "\n",
      "The search_str was \"ds004504-download\\sub-036\\**\\eeg\\sub-036*events.tsv\"\n",
      "  raw = mne_bids.read_raw_bids(subject_paths[j])\n"
     ]
    },
    {
     "name": "stdout",
     "output_type": "stream",
     "text": [
      "Reading channel info from ds004504-download\\sub-037\\eeg\\sub-037_task-eyesclosed_channels.tsv.\n"
     ]
    },
    {
     "name": "stderr",
     "output_type": "stream",
     "text": [
      "C:\\Users\\mashh\\AppData\\Local\\Temp\\ipykernel_18244\\4265974583.py:9: RuntimeWarning: Data will be preloaded. preload=False or a string preload is not supported when the data is stored in the .set file\n",
      "  raw = mne_bids.read_raw_bids(subject_paths[j])\n",
      "C:\\Users\\mashh\\AppData\\Local\\Temp\\ipykernel_18244\\4265974583.py:9: RuntimeWarning: Did not find any events.tsv associated with sub-037_task-eyesclosed.\n",
      "\n",
      "The search_str was \"ds004504-download\\sub-037\\**\\eeg\\sub-037*events.tsv\"\n",
      "  raw = mne_bids.read_raw_bids(subject_paths[j])\n"
     ]
    },
    {
     "name": "stdout",
     "output_type": "stream",
     "text": [
      "Reading channel info from ds004504-download\\sub-038\\eeg\\sub-038_task-eyesclosed_channels.tsv.\n"
     ]
    },
    {
     "name": "stderr",
     "output_type": "stream",
     "text": [
      "C:\\Users\\mashh\\AppData\\Local\\Temp\\ipykernel_18244\\4265974583.py:9: RuntimeWarning: Data will be preloaded. preload=False or a string preload is not supported when the data is stored in the .set file\n",
      "  raw = mne_bids.read_raw_bids(subject_paths[j])\n",
      "C:\\Users\\mashh\\AppData\\Local\\Temp\\ipykernel_18244\\4265974583.py:9: RuntimeWarning: Did not find any events.tsv associated with sub-038_task-eyesclosed.\n",
      "\n",
      "The search_str was \"ds004504-download\\sub-038\\**\\eeg\\sub-038*events.tsv\"\n",
      "  raw = mne_bids.read_raw_bids(subject_paths[j])\n"
     ]
    },
    {
     "name": "stdout",
     "output_type": "stream",
     "text": [
      "Reading channel info from ds004504-download\\sub-039\\eeg\\sub-039_task-eyesclosed_channels.tsv.\n"
     ]
    },
    {
     "name": "stderr",
     "output_type": "stream",
     "text": [
      "C:\\Users\\mashh\\AppData\\Local\\Temp\\ipykernel_18244\\4265974583.py:9: RuntimeWarning: Data will be preloaded. preload=False or a string preload is not supported when the data is stored in the .set file\n",
      "  raw = mne_bids.read_raw_bids(subject_paths[j])\n",
      "C:\\Users\\mashh\\AppData\\Local\\Temp\\ipykernel_18244\\4265974583.py:9: RuntimeWarning: Did not find any events.tsv associated with sub-039_task-eyesclosed.\n",
      "\n",
      "The search_str was \"ds004504-download\\sub-039\\**\\eeg\\sub-039*events.tsv\"\n",
      "  raw = mne_bids.read_raw_bids(subject_paths[j])\n"
     ]
    },
    {
     "name": "stdout",
     "output_type": "stream",
     "text": [
      "Reading channel info from ds004504-download\\sub-040\\eeg\\sub-040_task-eyesclosed_channels.tsv.\n"
     ]
    },
    {
     "name": "stderr",
     "output_type": "stream",
     "text": [
      "C:\\Users\\mashh\\AppData\\Local\\Temp\\ipykernel_18244\\4265974583.py:9: RuntimeWarning: Data will be preloaded. preload=False or a string preload is not supported when the data is stored in the .set file\n",
      "  raw = mne_bids.read_raw_bids(subject_paths[j])\n",
      "C:\\Users\\mashh\\AppData\\Local\\Temp\\ipykernel_18244\\4265974583.py:9: RuntimeWarning: Did not find any events.tsv associated with sub-040_task-eyesclosed.\n",
      "\n",
      "The search_str was \"ds004504-download\\sub-040\\**\\eeg\\sub-040*events.tsv\"\n",
      "  raw = mne_bids.read_raw_bids(subject_paths[j])\n"
     ]
    },
    {
     "name": "stdout",
     "output_type": "stream",
     "text": [
      "Reading channel info from ds004504-download\\sub-041\\eeg\\sub-041_task-eyesclosed_channels.tsv.\n"
     ]
    },
    {
     "name": "stderr",
     "output_type": "stream",
     "text": [
      "C:\\Users\\mashh\\AppData\\Local\\Temp\\ipykernel_18244\\4265974583.py:9: RuntimeWarning: Data will be preloaded. preload=False or a string preload is not supported when the data is stored in the .set file\n",
      "  raw = mne_bids.read_raw_bids(subject_paths[j])\n",
      "C:\\Users\\mashh\\AppData\\Local\\Temp\\ipykernel_18244\\4265974583.py:9: RuntimeWarning: Did not find any events.tsv associated with sub-041_task-eyesclosed.\n",
      "\n",
      "The search_str was \"ds004504-download\\sub-041\\**\\eeg\\sub-041*events.tsv\"\n",
      "  raw = mne_bids.read_raw_bids(subject_paths[j])\n"
     ]
    },
    {
     "name": "stdout",
     "output_type": "stream",
     "text": [
      "Reading channel info from ds004504-download\\sub-042\\eeg\\sub-042_task-eyesclosed_channels.tsv.\n"
     ]
    },
    {
     "name": "stderr",
     "output_type": "stream",
     "text": [
      "C:\\Users\\mashh\\AppData\\Local\\Temp\\ipykernel_18244\\4265974583.py:9: RuntimeWarning: Data will be preloaded. preload=False or a string preload is not supported when the data is stored in the .set file\n",
      "  raw = mne_bids.read_raw_bids(subject_paths[j])\n",
      "C:\\Users\\mashh\\AppData\\Local\\Temp\\ipykernel_18244\\4265974583.py:9: RuntimeWarning: Did not find any events.tsv associated with sub-042_task-eyesclosed.\n",
      "\n",
      "The search_str was \"ds004504-download\\sub-042\\**\\eeg\\sub-042*events.tsv\"\n",
      "  raw = mne_bids.read_raw_bids(subject_paths[j])\n"
     ]
    },
    {
     "name": "stdout",
     "output_type": "stream",
     "text": [
      "Reading channel info from ds004504-download\\sub-043\\eeg\\sub-043_task-eyesclosed_channels.tsv.\n"
     ]
    },
    {
     "name": "stderr",
     "output_type": "stream",
     "text": [
      "C:\\Users\\mashh\\AppData\\Local\\Temp\\ipykernel_18244\\4265974583.py:9: RuntimeWarning: Data will be preloaded. preload=False or a string preload is not supported when the data is stored in the .set file\n",
      "  raw = mne_bids.read_raw_bids(subject_paths[j])\n",
      "C:\\Users\\mashh\\AppData\\Local\\Temp\\ipykernel_18244\\4265974583.py:9: RuntimeWarning: Did not find any events.tsv associated with sub-043_task-eyesclosed.\n",
      "\n",
      "The search_str was \"ds004504-download\\sub-043\\**\\eeg\\sub-043*events.tsv\"\n",
      "  raw = mne_bids.read_raw_bids(subject_paths[j])\n"
     ]
    },
    {
     "name": "stdout",
     "output_type": "stream",
     "text": [
      "Reading channel info from ds004504-download\\sub-044\\eeg\\sub-044_task-eyesclosed_channels.tsv.\n"
     ]
    },
    {
     "name": "stderr",
     "output_type": "stream",
     "text": [
      "C:\\Users\\mashh\\AppData\\Local\\Temp\\ipykernel_18244\\4265974583.py:9: RuntimeWarning: Data will be preloaded. preload=False or a string preload is not supported when the data is stored in the .set file\n",
      "  raw = mne_bids.read_raw_bids(subject_paths[j])\n",
      "C:\\Users\\mashh\\AppData\\Local\\Temp\\ipykernel_18244\\4265974583.py:9: RuntimeWarning: Did not find any events.tsv associated with sub-044_task-eyesclosed.\n",
      "\n",
      "The search_str was \"ds004504-download\\sub-044\\**\\eeg\\sub-044*events.tsv\"\n",
      "  raw = mne_bids.read_raw_bids(subject_paths[j])\n"
     ]
    },
    {
     "name": "stdout",
     "output_type": "stream",
     "text": [
      "Reading channel info from ds004504-download\\sub-045\\eeg\\sub-045_task-eyesclosed_channels.tsv.\n"
     ]
    },
    {
     "name": "stderr",
     "output_type": "stream",
     "text": [
      "C:\\Users\\mashh\\AppData\\Local\\Temp\\ipykernel_18244\\4265974583.py:9: RuntimeWarning: Data will be preloaded. preload=False or a string preload is not supported when the data is stored in the .set file\n",
      "  raw = mne_bids.read_raw_bids(subject_paths[j])\n",
      "C:\\Users\\mashh\\AppData\\Local\\Temp\\ipykernel_18244\\4265974583.py:9: RuntimeWarning: Did not find any events.tsv associated with sub-045_task-eyesclosed.\n",
      "\n",
      "The search_str was \"ds004504-download\\sub-045\\**\\eeg\\sub-045*events.tsv\"\n",
      "  raw = mne_bids.read_raw_bids(subject_paths[j])\n"
     ]
    },
    {
     "name": "stdout",
     "output_type": "stream",
     "text": [
      "Reading channel info from ds004504-download\\sub-046\\eeg\\sub-046_task-eyesclosed_channels.tsv.\n"
     ]
    },
    {
     "name": "stderr",
     "output_type": "stream",
     "text": [
      "C:\\Users\\mashh\\AppData\\Local\\Temp\\ipykernel_18244\\4265974583.py:9: RuntimeWarning: Data will be preloaded. preload=False or a string preload is not supported when the data is stored in the .set file\n",
      "  raw = mne_bids.read_raw_bids(subject_paths[j])\n",
      "C:\\Users\\mashh\\AppData\\Local\\Temp\\ipykernel_18244\\4265974583.py:9: RuntimeWarning: Did not find any events.tsv associated with sub-046_task-eyesclosed.\n",
      "\n",
      "The search_str was \"ds004504-download\\sub-046\\**\\eeg\\sub-046*events.tsv\"\n",
      "  raw = mne_bids.read_raw_bids(subject_paths[j])\n"
     ]
    },
    {
     "name": "stdout",
     "output_type": "stream",
     "text": [
      "Reading channel info from ds004504-download\\sub-047\\eeg\\sub-047_task-eyesclosed_channels.tsv.\n"
     ]
    },
    {
     "name": "stderr",
     "output_type": "stream",
     "text": [
      "C:\\Users\\mashh\\AppData\\Local\\Temp\\ipykernel_18244\\4265974583.py:9: RuntimeWarning: Data will be preloaded. preload=False or a string preload is not supported when the data is stored in the .set file\n",
      "  raw = mne_bids.read_raw_bids(subject_paths[j])\n",
      "C:\\Users\\mashh\\AppData\\Local\\Temp\\ipykernel_18244\\4265974583.py:9: RuntimeWarning: Did not find any events.tsv associated with sub-047_task-eyesclosed.\n",
      "\n",
      "The search_str was \"ds004504-download\\sub-047\\**\\eeg\\sub-047*events.tsv\"\n",
      "  raw = mne_bids.read_raw_bids(subject_paths[j])\n"
     ]
    },
    {
     "name": "stdout",
     "output_type": "stream",
     "text": [
      "Reading channel info from ds004504-download\\sub-048\\eeg\\sub-048_task-eyesclosed_channels.tsv.\n"
     ]
    },
    {
     "name": "stderr",
     "output_type": "stream",
     "text": [
      "C:\\Users\\mashh\\AppData\\Local\\Temp\\ipykernel_18244\\4265974583.py:9: RuntimeWarning: Data will be preloaded. preload=False or a string preload is not supported when the data is stored in the .set file\n",
      "  raw = mne_bids.read_raw_bids(subject_paths[j])\n",
      "C:\\Users\\mashh\\AppData\\Local\\Temp\\ipykernel_18244\\4265974583.py:9: RuntimeWarning: Did not find any events.tsv associated with sub-048_task-eyesclosed.\n",
      "\n",
      "The search_str was \"ds004504-download\\sub-048\\**\\eeg\\sub-048*events.tsv\"\n",
      "  raw = mne_bids.read_raw_bids(subject_paths[j])\n"
     ]
    },
    {
     "name": "stdout",
     "output_type": "stream",
     "text": [
      "Reading channel info from ds004504-download\\sub-049\\eeg\\sub-049_task-eyesclosed_channels.tsv.\n"
     ]
    },
    {
     "name": "stderr",
     "output_type": "stream",
     "text": [
      "C:\\Users\\mashh\\AppData\\Local\\Temp\\ipykernel_18244\\4265974583.py:9: RuntimeWarning: Data will be preloaded. preload=False or a string preload is not supported when the data is stored in the .set file\n",
      "  raw = mne_bids.read_raw_bids(subject_paths[j])\n",
      "C:\\Users\\mashh\\AppData\\Local\\Temp\\ipykernel_18244\\4265974583.py:9: RuntimeWarning: Did not find any events.tsv associated with sub-049_task-eyesclosed.\n",
      "\n",
      "The search_str was \"ds004504-download\\sub-049\\**\\eeg\\sub-049*events.tsv\"\n",
      "  raw = mne_bids.read_raw_bids(subject_paths[j])\n"
     ]
    },
    {
     "name": "stdout",
     "output_type": "stream",
     "text": [
      "Reading channel info from ds004504-download\\sub-050\\eeg\\sub-050_task-eyesclosed_channels.tsv.\n"
     ]
    },
    {
     "name": "stderr",
     "output_type": "stream",
     "text": [
      "C:\\Users\\mashh\\AppData\\Local\\Temp\\ipykernel_18244\\4265974583.py:9: RuntimeWarning: Data will be preloaded. preload=False or a string preload is not supported when the data is stored in the .set file\n",
      "  raw = mne_bids.read_raw_bids(subject_paths[j])\n",
      "C:\\Users\\mashh\\AppData\\Local\\Temp\\ipykernel_18244\\4265974583.py:9: RuntimeWarning: Did not find any events.tsv associated with sub-050_task-eyesclosed.\n",
      "\n",
      "The search_str was \"ds004504-download\\sub-050\\**\\eeg\\sub-050*events.tsv\"\n",
      "  raw = mne_bids.read_raw_bids(subject_paths[j])\n"
     ]
    },
    {
     "name": "stdout",
     "output_type": "stream",
     "text": [
      "Reading channel info from ds004504-download\\sub-051\\eeg\\sub-051_task-eyesclosed_channels.tsv.\n"
     ]
    },
    {
     "name": "stderr",
     "output_type": "stream",
     "text": [
      "C:\\Users\\mashh\\AppData\\Local\\Temp\\ipykernel_18244\\4265974583.py:9: RuntimeWarning: Data will be preloaded. preload=False or a string preload is not supported when the data is stored in the .set file\n",
      "  raw = mne_bids.read_raw_bids(subject_paths[j])\n",
      "C:\\Users\\mashh\\AppData\\Local\\Temp\\ipykernel_18244\\4265974583.py:9: RuntimeWarning: Did not find any events.tsv associated with sub-051_task-eyesclosed.\n",
      "\n",
      "The search_str was \"ds004504-download\\sub-051\\**\\eeg\\sub-051*events.tsv\"\n",
      "  raw = mne_bids.read_raw_bids(subject_paths[j])\n"
     ]
    },
    {
     "name": "stdout",
     "output_type": "stream",
     "text": [
      "Reading channel info from ds004504-download\\sub-052\\eeg\\sub-052_task-eyesclosed_channels.tsv.\n"
     ]
    },
    {
     "name": "stderr",
     "output_type": "stream",
     "text": [
      "C:\\Users\\mashh\\AppData\\Local\\Temp\\ipykernel_18244\\4265974583.py:9: RuntimeWarning: Data will be preloaded. preload=False or a string preload is not supported when the data is stored in the .set file\n",
      "  raw = mne_bids.read_raw_bids(subject_paths[j])\n",
      "C:\\Users\\mashh\\AppData\\Local\\Temp\\ipykernel_18244\\4265974583.py:9: RuntimeWarning: Did not find any events.tsv associated with sub-052_task-eyesclosed.\n",
      "\n",
      "The search_str was \"ds004504-download\\sub-052\\**\\eeg\\sub-052*events.tsv\"\n",
      "  raw = mne_bids.read_raw_bids(subject_paths[j])\n"
     ]
    },
    {
     "name": "stdout",
     "output_type": "stream",
     "text": [
      "Reading channel info from ds004504-download\\sub-053\\eeg\\sub-053_task-eyesclosed_channels.tsv.\n"
     ]
    },
    {
     "name": "stderr",
     "output_type": "stream",
     "text": [
      "C:\\Users\\mashh\\AppData\\Local\\Temp\\ipykernel_18244\\4265974583.py:9: RuntimeWarning: Data will be preloaded. preload=False or a string preload is not supported when the data is stored in the .set file\n",
      "  raw = mne_bids.read_raw_bids(subject_paths[j])\n",
      "C:\\Users\\mashh\\AppData\\Local\\Temp\\ipykernel_18244\\4265974583.py:9: RuntimeWarning: Did not find any events.tsv associated with sub-053_task-eyesclosed.\n",
      "\n",
      "The search_str was \"ds004504-download\\sub-053\\**\\eeg\\sub-053*events.tsv\"\n",
      "  raw = mne_bids.read_raw_bids(subject_paths[j])\n"
     ]
    },
    {
     "name": "stdout",
     "output_type": "stream",
     "text": [
      "Reading channel info from ds004504-download\\sub-054\\eeg\\sub-054_task-eyesclosed_channels.tsv.\n"
     ]
    },
    {
     "name": "stderr",
     "output_type": "stream",
     "text": [
      "C:\\Users\\mashh\\AppData\\Local\\Temp\\ipykernel_18244\\4265974583.py:9: RuntimeWarning: Data will be preloaded. preload=False or a string preload is not supported when the data is stored in the .set file\n",
      "  raw = mne_bids.read_raw_bids(subject_paths[j])\n",
      "C:\\Users\\mashh\\AppData\\Local\\Temp\\ipykernel_18244\\4265974583.py:9: RuntimeWarning: Did not find any events.tsv associated with sub-054_task-eyesclosed.\n",
      "\n",
      "The search_str was \"ds004504-download\\sub-054\\**\\eeg\\sub-054*events.tsv\"\n",
      "  raw = mne_bids.read_raw_bids(subject_paths[j])\n"
     ]
    },
    {
     "name": "stdout",
     "output_type": "stream",
     "text": [
      "Reading channel info from ds004504-download\\sub-055\\eeg\\sub-055_task-eyesclosed_channels.tsv.\n"
     ]
    },
    {
     "name": "stderr",
     "output_type": "stream",
     "text": [
      "C:\\Users\\mashh\\AppData\\Local\\Temp\\ipykernel_18244\\4265974583.py:9: RuntimeWarning: Data will be preloaded. preload=False or a string preload is not supported when the data is stored in the .set file\n",
      "  raw = mne_bids.read_raw_bids(subject_paths[j])\n",
      "C:\\Users\\mashh\\AppData\\Local\\Temp\\ipykernel_18244\\4265974583.py:9: RuntimeWarning: Did not find any events.tsv associated with sub-055_task-eyesclosed.\n",
      "\n",
      "The search_str was \"ds004504-download\\sub-055\\**\\eeg\\sub-055*events.tsv\"\n",
      "  raw = mne_bids.read_raw_bids(subject_paths[j])\n"
     ]
    },
    {
     "name": "stdout",
     "output_type": "stream",
     "text": [
      "Reading channel info from ds004504-download\\sub-056\\eeg\\sub-056_task-eyesclosed_channels.tsv.\n"
     ]
    },
    {
     "name": "stderr",
     "output_type": "stream",
     "text": [
      "C:\\Users\\mashh\\AppData\\Local\\Temp\\ipykernel_18244\\4265974583.py:9: RuntimeWarning: Data will be preloaded. preload=False or a string preload is not supported when the data is stored in the .set file\n",
      "  raw = mne_bids.read_raw_bids(subject_paths[j])\n",
      "C:\\Users\\mashh\\AppData\\Local\\Temp\\ipykernel_18244\\4265974583.py:9: RuntimeWarning: Did not find any events.tsv associated with sub-056_task-eyesclosed.\n",
      "\n",
      "The search_str was \"ds004504-download\\sub-056\\**\\eeg\\sub-056*events.tsv\"\n",
      "  raw = mne_bids.read_raw_bids(subject_paths[j])\n"
     ]
    },
    {
     "name": "stdout",
     "output_type": "stream",
     "text": [
      "Reading channel info from ds004504-download\\sub-057\\eeg\\sub-057_task-eyesclosed_channels.tsv.\n"
     ]
    },
    {
     "name": "stderr",
     "output_type": "stream",
     "text": [
      "C:\\Users\\mashh\\AppData\\Local\\Temp\\ipykernel_18244\\4265974583.py:9: RuntimeWarning: Data will be preloaded. preload=False or a string preload is not supported when the data is stored in the .set file\n",
      "  raw = mne_bids.read_raw_bids(subject_paths[j])\n",
      "C:\\Users\\mashh\\AppData\\Local\\Temp\\ipykernel_18244\\4265974583.py:9: RuntimeWarning: Did not find any events.tsv associated with sub-057_task-eyesclosed.\n",
      "\n",
      "The search_str was \"ds004504-download\\sub-057\\**\\eeg\\sub-057*events.tsv\"\n",
      "  raw = mne_bids.read_raw_bids(subject_paths[j])\n"
     ]
    },
    {
     "name": "stdout",
     "output_type": "stream",
     "text": [
      "Reading channel info from ds004504-download\\sub-058\\eeg\\sub-058_task-eyesclosed_channels.tsv.\n"
     ]
    },
    {
     "name": "stderr",
     "output_type": "stream",
     "text": [
      "C:\\Users\\mashh\\AppData\\Local\\Temp\\ipykernel_18244\\4265974583.py:9: RuntimeWarning: Data will be preloaded. preload=False or a string preload is not supported when the data is stored in the .set file\n",
      "  raw = mne_bids.read_raw_bids(subject_paths[j])\n",
      "C:\\Users\\mashh\\AppData\\Local\\Temp\\ipykernel_18244\\4265974583.py:9: RuntimeWarning: Did not find any events.tsv associated with sub-058_task-eyesclosed.\n",
      "\n",
      "The search_str was \"ds004504-download\\sub-058\\**\\eeg\\sub-058*events.tsv\"\n",
      "  raw = mne_bids.read_raw_bids(subject_paths[j])\n"
     ]
    },
    {
     "name": "stdout",
     "output_type": "stream",
     "text": [
      "Reading channel info from ds004504-download\\sub-059\\eeg\\sub-059_task-eyesclosed_channels.tsv.\n"
     ]
    },
    {
     "name": "stderr",
     "output_type": "stream",
     "text": [
      "C:\\Users\\mashh\\AppData\\Local\\Temp\\ipykernel_18244\\4265974583.py:9: RuntimeWarning: Data will be preloaded. preload=False or a string preload is not supported when the data is stored in the .set file\n",
      "  raw = mne_bids.read_raw_bids(subject_paths[j])\n",
      "C:\\Users\\mashh\\AppData\\Local\\Temp\\ipykernel_18244\\4265974583.py:9: RuntimeWarning: Did not find any events.tsv associated with sub-059_task-eyesclosed.\n",
      "\n",
      "The search_str was \"ds004504-download\\sub-059\\**\\eeg\\sub-059*events.tsv\"\n",
      "  raw = mne_bids.read_raw_bids(subject_paths[j])\n"
     ]
    },
    {
     "name": "stdout",
     "output_type": "stream",
     "text": [
      "Reading channel info from ds004504-download\\sub-060\\eeg\\sub-060_task-eyesclosed_channels.tsv.\n"
     ]
    },
    {
     "name": "stderr",
     "output_type": "stream",
     "text": [
      "C:\\Users\\mashh\\AppData\\Local\\Temp\\ipykernel_18244\\4265974583.py:9: RuntimeWarning: Data will be preloaded. preload=False or a string preload is not supported when the data is stored in the .set file\n",
      "  raw = mne_bids.read_raw_bids(subject_paths[j])\n",
      "C:\\Users\\mashh\\AppData\\Local\\Temp\\ipykernel_18244\\4265974583.py:9: RuntimeWarning: Did not find any events.tsv associated with sub-060_task-eyesclosed.\n",
      "\n",
      "The search_str was \"ds004504-download\\sub-060\\**\\eeg\\sub-060*events.tsv\"\n",
      "  raw = mne_bids.read_raw_bids(subject_paths[j])\n"
     ]
    },
    {
     "name": "stdout",
     "output_type": "stream",
     "text": [
      "Reading channel info from ds004504-download\\sub-061\\eeg\\sub-061_task-eyesclosed_channels.tsv.\n"
     ]
    },
    {
     "name": "stderr",
     "output_type": "stream",
     "text": [
      "C:\\Users\\mashh\\AppData\\Local\\Temp\\ipykernel_18244\\4265974583.py:9: RuntimeWarning: Data will be preloaded. preload=False or a string preload is not supported when the data is stored in the .set file\n",
      "  raw = mne_bids.read_raw_bids(subject_paths[j])\n",
      "C:\\Users\\mashh\\AppData\\Local\\Temp\\ipykernel_18244\\4265974583.py:9: RuntimeWarning: Did not find any events.tsv associated with sub-061_task-eyesclosed.\n",
      "\n",
      "The search_str was \"ds004504-download\\sub-061\\**\\eeg\\sub-061*events.tsv\"\n",
      "  raw = mne_bids.read_raw_bids(subject_paths[j])\n"
     ]
    },
    {
     "name": "stdout",
     "output_type": "stream",
     "text": [
      "Reading channel info from ds004504-download\\sub-062\\eeg\\sub-062_task-eyesclosed_channels.tsv.\n"
     ]
    },
    {
     "name": "stderr",
     "output_type": "stream",
     "text": [
      "C:\\Users\\mashh\\AppData\\Local\\Temp\\ipykernel_18244\\4265974583.py:9: RuntimeWarning: Data will be preloaded. preload=False or a string preload is not supported when the data is stored in the .set file\n",
      "  raw = mne_bids.read_raw_bids(subject_paths[j])\n",
      "C:\\Users\\mashh\\AppData\\Local\\Temp\\ipykernel_18244\\4265974583.py:9: RuntimeWarning: Did not find any events.tsv associated with sub-062_task-eyesclosed.\n",
      "\n",
      "The search_str was \"ds004504-download\\sub-062\\**\\eeg\\sub-062*events.tsv\"\n",
      "  raw = mne_bids.read_raw_bids(subject_paths[j])\n"
     ]
    },
    {
     "name": "stdout",
     "output_type": "stream",
     "text": [
      "Reading channel info from ds004504-download\\sub-063\\eeg\\sub-063_task-eyesclosed_channels.tsv.\n"
     ]
    },
    {
     "name": "stderr",
     "output_type": "stream",
     "text": [
      "C:\\Users\\mashh\\AppData\\Local\\Temp\\ipykernel_18244\\4265974583.py:9: RuntimeWarning: Data will be preloaded. preload=False or a string preload is not supported when the data is stored in the .set file\n",
      "  raw = mne_bids.read_raw_bids(subject_paths[j])\n",
      "C:\\Users\\mashh\\AppData\\Local\\Temp\\ipykernel_18244\\4265974583.py:9: RuntimeWarning: Did not find any events.tsv associated with sub-063_task-eyesclosed.\n",
      "\n",
      "The search_str was \"ds004504-download\\sub-063\\**\\eeg\\sub-063*events.tsv\"\n",
      "  raw = mne_bids.read_raw_bids(subject_paths[j])\n"
     ]
    },
    {
     "name": "stdout",
     "output_type": "stream",
     "text": [
      "Reading channel info from ds004504-download\\sub-064\\eeg\\sub-064_task-eyesclosed_channels.tsv.\n"
     ]
    },
    {
     "name": "stderr",
     "output_type": "stream",
     "text": [
      "C:\\Users\\mashh\\AppData\\Local\\Temp\\ipykernel_18244\\4265974583.py:9: RuntimeWarning: Data will be preloaded. preload=False or a string preload is not supported when the data is stored in the .set file\n",
      "  raw = mne_bids.read_raw_bids(subject_paths[j])\n",
      "C:\\Users\\mashh\\AppData\\Local\\Temp\\ipykernel_18244\\4265974583.py:9: RuntimeWarning: Did not find any events.tsv associated with sub-064_task-eyesclosed.\n",
      "\n",
      "The search_str was \"ds004504-download\\sub-064\\**\\eeg\\sub-064*events.tsv\"\n",
      "  raw = mne_bids.read_raw_bids(subject_paths[j])\n"
     ]
    },
    {
     "name": "stdout",
     "output_type": "stream",
     "text": [
      "Reading channel info from ds004504-download\\sub-065\\eeg\\sub-065_task-eyesclosed_channels.tsv.\n"
     ]
    },
    {
     "name": "stderr",
     "output_type": "stream",
     "text": [
      "C:\\Users\\mashh\\AppData\\Local\\Temp\\ipykernel_18244\\4265974583.py:9: RuntimeWarning: Data will be preloaded. preload=False or a string preload is not supported when the data is stored in the .set file\n",
      "  raw = mne_bids.read_raw_bids(subject_paths[j])\n",
      "C:\\Users\\mashh\\AppData\\Local\\Temp\\ipykernel_18244\\4265974583.py:9: RuntimeWarning: Did not find any events.tsv associated with sub-065_task-eyesclosed.\n",
      "\n",
      "The search_str was \"ds004504-download\\sub-065\\**\\eeg\\sub-065*events.tsv\"\n",
      "  raw = mne_bids.read_raw_bids(subject_paths[j])\n"
     ]
    },
    {
     "name": "stdout",
     "output_type": "stream",
     "text": [
      "Reading channel info from ds004504-download\\sub-066\\eeg\\sub-066_task-eyesclosed_channels.tsv.\n"
     ]
    },
    {
     "name": "stderr",
     "output_type": "stream",
     "text": [
      "C:\\Users\\mashh\\AppData\\Local\\Temp\\ipykernel_18244\\4265974583.py:9: RuntimeWarning: Data will be preloaded. preload=False or a string preload is not supported when the data is stored in the .set file\n",
      "  raw = mne_bids.read_raw_bids(subject_paths[j])\n",
      "C:\\Users\\mashh\\AppData\\Local\\Temp\\ipykernel_18244\\4265974583.py:9: RuntimeWarning: Did not find any events.tsv associated with sub-066_task-eyesclosed.\n",
      "\n",
      "The search_str was \"ds004504-download\\sub-066\\**\\eeg\\sub-066*events.tsv\"\n",
      "  raw = mne_bids.read_raw_bids(subject_paths[j])\n"
     ]
    },
    {
     "name": "stdout",
     "output_type": "stream",
     "text": [
      "Reading channel info from ds004504-download\\sub-067\\eeg\\sub-067_task-eyesclosed_channels.tsv.\n"
     ]
    },
    {
     "name": "stderr",
     "output_type": "stream",
     "text": [
      "C:\\Users\\mashh\\AppData\\Local\\Temp\\ipykernel_18244\\4265974583.py:9: RuntimeWarning: Data will be preloaded. preload=False or a string preload is not supported when the data is stored in the .set file\n",
      "  raw = mne_bids.read_raw_bids(subject_paths[j])\n",
      "C:\\Users\\mashh\\AppData\\Local\\Temp\\ipykernel_18244\\4265974583.py:9: RuntimeWarning: Did not find any events.tsv associated with sub-067_task-eyesclosed.\n",
      "\n",
      "The search_str was \"ds004504-download\\sub-067\\**\\eeg\\sub-067*events.tsv\"\n",
      "  raw = mne_bids.read_raw_bids(subject_paths[j])\n"
     ]
    },
    {
     "name": "stdout",
     "output_type": "stream",
     "text": [
      "Reading channel info from ds004504-download\\sub-068\\eeg\\sub-068_task-eyesclosed_channels.tsv.\n"
     ]
    },
    {
     "name": "stderr",
     "output_type": "stream",
     "text": [
      "C:\\Users\\mashh\\AppData\\Local\\Temp\\ipykernel_18244\\4265974583.py:9: RuntimeWarning: Data will be preloaded. preload=False or a string preload is not supported when the data is stored in the .set file\n",
      "  raw = mne_bids.read_raw_bids(subject_paths[j])\n",
      "C:\\Users\\mashh\\AppData\\Local\\Temp\\ipykernel_18244\\4265974583.py:9: RuntimeWarning: Did not find any events.tsv associated with sub-068_task-eyesclosed.\n",
      "\n",
      "The search_str was \"ds004504-download\\sub-068\\**\\eeg\\sub-068*events.tsv\"\n",
      "  raw = mne_bids.read_raw_bids(subject_paths[j])\n"
     ]
    },
    {
     "name": "stdout",
     "output_type": "stream",
     "text": [
      "Reading channel info from ds004504-download\\sub-069\\eeg\\sub-069_task-eyesclosed_channels.tsv.\n"
     ]
    },
    {
     "name": "stderr",
     "output_type": "stream",
     "text": [
      "C:\\Users\\mashh\\AppData\\Local\\Temp\\ipykernel_18244\\4265974583.py:9: RuntimeWarning: Data will be preloaded. preload=False or a string preload is not supported when the data is stored in the .set file\n",
      "  raw = mne_bids.read_raw_bids(subject_paths[j])\n",
      "C:\\Users\\mashh\\AppData\\Local\\Temp\\ipykernel_18244\\4265974583.py:9: RuntimeWarning: Did not find any events.tsv associated with sub-069_task-eyesclosed.\n",
      "\n",
      "The search_str was \"ds004504-download\\sub-069\\**\\eeg\\sub-069*events.tsv\"\n",
      "  raw = mne_bids.read_raw_bids(subject_paths[j])\n"
     ]
    },
    {
     "name": "stdout",
     "output_type": "stream",
     "text": [
      "Reading channel info from ds004504-download\\sub-070\\eeg\\sub-070_task-eyesclosed_channels.tsv.\n"
     ]
    },
    {
     "name": "stderr",
     "output_type": "stream",
     "text": [
      "C:\\Users\\mashh\\AppData\\Local\\Temp\\ipykernel_18244\\4265974583.py:9: RuntimeWarning: Data will be preloaded. preload=False or a string preload is not supported when the data is stored in the .set file\n",
      "  raw = mne_bids.read_raw_bids(subject_paths[j])\n",
      "C:\\Users\\mashh\\AppData\\Local\\Temp\\ipykernel_18244\\4265974583.py:9: RuntimeWarning: Did not find any events.tsv associated with sub-070_task-eyesclosed.\n",
      "\n",
      "The search_str was \"ds004504-download\\sub-070\\**\\eeg\\sub-070*events.tsv\"\n",
      "  raw = mne_bids.read_raw_bids(subject_paths[j])\n"
     ]
    },
    {
     "name": "stdout",
     "output_type": "stream",
     "text": [
      "Reading channel info from ds004504-download\\sub-071\\eeg\\sub-071_task-eyesclosed_channels.tsv.\n"
     ]
    },
    {
     "name": "stderr",
     "output_type": "stream",
     "text": [
      "C:\\Users\\mashh\\AppData\\Local\\Temp\\ipykernel_18244\\4265974583.py:9: RuntimeWarning: Data will be preloaded. preload=False or a string preload is not supported when the data is stored in the .set file\n",
      "  raw = mne_bids.read_raw_bids(subject_paths[j])\n",
      "C:\\Users\\mashh\\AppData\\Local\\Temp\\ipykernel_18244\\4265974583.py:9: RuntimeWarning: Did not find any events.tsv associated with sub-071_task-eyesclosed.\n",
      "\n",
      "The search_str was \"ds004504-download\\sub-071\\**\\eeg\\sub-071*events.tsv\"\n",
      "  raw = mne_bids.read_raw_bids(subject_paths[j])\n"
     ]
    },
    {
     "name": "stdout",
     "output_type": "stream",
     "text": [
      "Reading channel info from ds004504-download\\sub-072\\eeg\\sub-072_task-eyesclosed_channels.tsv.\n"
     ]
    },
    {
     "name": "stderr",
     "output_type": "stream",
     "text": [
      "C:\\Users\\mashh\\AppData\\Local\\Temp\\ipykernel_18244\\4265974583.py:9: RuntimeWarning: Data will be preloaded. preload=False or a string preload is not supported when the data is stored in the .set file\n",
      "  raw = mne_bids.read_raw_bids(subject_paths[j])\n",
      "C:\\Users\\mashh\\AppData\\Local\\Temp\\ipykernel_18244\\4265974583.py:9: RuntimeWarning: Did not find any events.tsv associated with sub-072_task-eyesclosed.\n",
      "\n",
      "The search_str was \"ds004504-download\\sub-072\\**\\eeg\\sub-072*events.tsv\"\n",
      "  raw = mne_bids.read_raw_bids(subject_paths[j])\n"
     ]
    },
    {
     "name": "stdout",
     "output_type": "stream",
     "text": [
      "Reading channel info from ds004504-download\\sub-073\\eeg\\sub-073_task-eyesclosed_channels.tsv.\n"
     ]
    },
    {
     "name": "stderr",
     "output_type": "stream",
     "text": [
      "C:\\Users\\mashh\\AppData\\Local\\Temp\\ipykernel_18244\\4265974583.py:9: RuntimeWarning: Data will be preloaded. preload=False or a string preload is not supported when the data is stored in the .set file\n",
      "  raw = mne_bids.read_raw_bids(subject_paths[j])\n",
      "C:\\Users\\mashh\\AppData\\Local\\Temp\\ipykernel_18244\\4265974583.py:9: RuntimeWarning: Did not find any events.tsv associated with sub-073_task-eyesclosed.\n",
      "\n",
      "The search_str was \"ds004504-download\\sub-073\\**\\eeg\\sub-073*events.tsv\"\n",
      "  raw = mne_bids.read_raw_bids(subject_paths[j])\n"
     ]
    },
    {
     "name": "stdout",
     "output_type": "stream",
     "text": [
      "Reading channel info from ds004504-download\\sub-074\\eeg\\sub-074_task-eyesclosed_channels.tsv.\n"
     ]
    },
    {
     "name": "stderr",
     "output_type": "stream",
     "text": [
      "C:\\Users\\mashh\\AppData\\Local\\Temp\\ipykernel_18244\\4265974583.py:9: RuntimeWarning: Data will be preloaded. preload=False or a string preload is not supported when the data is stored in the .set file\n",
      "  raw = mne_bids.read_raw_bids(subject_paths[j])\n",
      "C:\\Users\\mashh\\AppData\\Local\\Temp\\ipykernel_18244\\4265974583.py:9: RuntimeWarning: Did not find any events.tsv associated with sub-074_task-eyesclosed.\n",
      "\n",
      "The search_str was \"ds004504-download\\sub-074\\**\\eeg\\sub-074*events.tsv\"\n",
      "  raw = mne_bids.read_raw_bids(subject_paths[j])\n"
     ]
    },
    {
     "name": "stdout",
     "output_type": "stream",
     "text": [
      "Reading channel info from ds004504-download\\sub-075\\eeg\\sub-075_task-eyesclosed_channels.tsv.\n"
     ]
    },
    {
     "name": "stderr",
     "output_type": "stream",
     "text": [
      "C:\\Users\\mashh\\AppData\\Local\\Temp\\ipykernel_18244\\4265974583.py:9: RuntimeWarning: Data will be preloaded. preload=False or a string preload is not supported when the data is stored in the .set file\n",
      "  raw = mne_bids.read_raw_bids(subject_paths[j])\n",
      "C:\\Users\\mashh\\AppData\\Local\\Temp\\ipykernel_18244\\4265974583.py:9: RuntimeWarning: Did not find any events.tsv associated with sub-075_task-eyesclosed.\n",
      "\n",
      "The search_str was \"ds004504-download\\sub-075\\**\\eeg\\sub-075*events.tsv\"\n",
      "  raw = mne_bids.read_raw_bids(subject_paths[j])\n"
     ]
    },
    {
     "name": "stdout",
     "output_type": "stream",
     "text": [
      "Reading channel info from ds004504-download\\sub-076\\eeg\\sub-076_task-eyesclosed_channels.tsv.\n"
     ]
    },
    {
     "name": "stderr",
     "output_type": "stream",
     "text": [
      "C:\\Users\\mashh\\AppData\\Local\\Temp\\ipykernel_18244\\4265974583.py:9: RuntimeWarning: Data will be preloaded. preload=False or a string preload is not supported when the data is stored in the .set file\n",
      "  raw = mne_bids.read_raw_bids(subject_paths[j])\n",
      "C:\\Users\\mashh\\AppData\\Local\\Temp\\ipykernel_18244\\4265974583.py:9: RuntimeWarning: Did not find any events.tsv associated with sub-076_task-eyesclosed.\n",
      "\n",
      "The search_str was \"ds004504-download\\sub-076\\**\\eeg\\sub-076*events.tsv\"\n",
      "  raw = mne_bids.read_raw_bids(subject_paths[j])\n"
     ]
    },
    {
     "name": "stdout",
     "output_type": "stream",
     "text": [
      "Reading channel info from ds004504-download\\sub-077\\eeg\\sub-077_task-eyesclosed_channels.tsv.\n"
     ]
    },
    {
     "name": "stderr",
     "output_type": "stream",
     "text": [
      "C:\\Users\\mashh\\AppData\\Local\\Temp\\ipykernel_18244\\4265974583.py:9: RuntimeWarning: Data will be preloaded. preload=False or a string preload is not supported when the data is stored in the .set file\n",
      "  raw = mne_bids.read_raw_bids(subject_paths[j])\n",
      "C:\\Users\\mashh\\AppData\\Local\\Temp\\ipykernel_18244\\4265974583.py:9: RuntimeWarning: Did not find any events.tsv associated with sub-077_task-eyesclosed.\n",
      "\n",
      "The search_str was \"ds004504-download\\sub-077\\**\\eeg\\sub-077*events.tsv\"\n",
      "  raw = mne_bids.read_raw_bids(subject_paths[j])\n"
     ]
    },
    {
     "name": "stdout",
     "output_type": "stream",
     "text": [
      "Reading channel info from ds004504-download\\sub-078\\eeg\\sub-078_task-eyesclosed_channels.tsv.\n"
     ]
    },
    {
     "name": "stderr",
     "output_type": "stream",
     "text": [
      "C:\\Users\\mashh\\AppData\\Local\\Temp\\ipykernel_18244\\4265974583.py:9: RuntimeWarning: Data will be preloaded. preload=False or a string preload is not supported when the data is stored in the .set file\n",
      "  raw = mne_bids.read_raw_bids(subject_paths[j])\n",
      "C:\\Users\\mashh\\AppData\\Local\\Temp\\ipykernel_18244\\4265974583.py:9: RuntimeWarning: Did not find any events.tsv associated with sub-078_task-eyesclosed.\n",
      "\n",
      "The search_str was \"ds004504-download\\sub-078\\**\\eeg\\sub-078*events.tsv\"\n",
      "  raw = mne_bids.read_raw_bids(subject_paths[j])\n"
     ]
    },
    {
     "name": "stdout",
     "output_type": "stream",
     "text": [
      "Reading channel info from ds004504-download\\sub-079\\eeg\\sub-079_task-eyesclosed_channels.tsv.\n"
     ]
    },
    {
     "name": "stderr",
     "output_type": "stream",
     "text": [
      "C:\\Users\\mashh\\AppData\\Local\\Temp\\ipykernel_18244\\4265974583.py:9: RuntimeWarning: Data will be preloaded. preload=False or a string preload is not supported when the data is stored in the .set file\n",
      "  raw = mne_bids.read_raw_bids(subject_paths[j])\n",
      "C:\\Users\\mashh\\AppData\\Local\\Temp\\ipykernel_18244\\4265974583.py:9: RuntimeWarning: Did not find any events.tsv associated with sub-079_task-eyesclosed.\n",
      "\n",
      "The search_str was \"ds004504-download\\sub-079\\**\\eeg\\sub-079*events.tsv\"\n",
      "  raw = mne_bids.read_raw_bids(subject_paths[j])\n"
     ]
    },
    {
     "name": "stdout",
     "output_type": "stream",
     "text": [
      "Reading channel info from ds004504-download\\sub-080\\eeg\\sub-080_task-eyesclosed_channels.tsv.\n"
     ]
    },
    {
     "name": "stderr",
     "output_type": "stream",
     "text": [
      "C:\\Users\\mashh\\AppData\\Local\\Temp\\ipykernel_18244\\4265974583.py:9: RuntimeWarning: Data will be preloaded. preload=False or a string preload is not supported when the data is stored in the .set file\n",
      "  raw = mne_bids.read_raw_bids(subject_paths[j])\n",
      "C:\\Users\\mashh\\AppData\\Local\\Temp\\ipykernel_18244\\4265974583.py:9: RuntimeWarning: Did not find any events.tsv associated with sub-080_task-eyesclosed.\n",
      "\n",
      "The search_str was \"ds004504-download\\sub-080\\**\\eeg\\sub-080*events.tsv\"\n",
      "  raw = mne_bids.read_raw_bids(subject_paths[j])\n"
     ]
    },
    {
     "name": "stdout",
     "output_type": "stream",
     "text": [
      "Reading channel info from ds004504-download\\sub-081\\eeg\\sub-081_task-eyesclosed_channels.tsv.\n"
     ]
    },
    {
     "name": "stderr",
     "output_type": "stream",
     "text": [
      "C:\\Users\\mashh\\AppData\\Local\\Temp\\ipykernel_18244\\4265974583.py:9: RuntimeWarning: Data will be preloaded. preload=False or a string preload is not supported when the data is stored in the .set file\n",
      "  raw = mne_bids.read_raw_bids(subject_paths[j])\n",
      "C:\\Users\\mashh\\AppData\\Local\\Temp\\ipykernel_18244\\4265974583.py:9: RuntimeWarning: Did not find any events.tsv associated with sub-081_task-eyesclosed.\n",
      "\n",
      "The search_str was \"ds004504-download\\sub-081\\**\\eeg\\sub-081*events.tsv\"\n",
      "  raw = mne_bids.read_raw_bids(subject_paths[j])\n"
     ]
    },
    {
     "name": "stdout",
     "output_type": "stream",
     "text": [
      "Reading channel info from ds004504-download\\sub-082\\eeg\\sub-082_task-eyesclosed_channels.tsv.\n"
     ]
    },
    {
     "name": "stderr",
     "output_type": "stream",
     "text": [
      "C:\\Users\\mashh\\AppData\\Local\\Temp\\ipykernel_18244\\4265974583.py:9: RuntimeWarning: Data will be preloaded. preload=False or a string preload is not supported when the data is stored in the .set file\n",
      "  raw = mne_bids.read_raw_bids(subject_paths[j])\n",
      "C:\\Users\\mashh\\AppData\\Local\\Temp\\ipykernel_18244\\4265974583.py:9: RuntimeWarning: Did not find any events.tsv associated with sub-082_task-eyesclosed.\n",
      "\n",
      "The search_str was \"ds004504-download\\sub-082\\**\\eeg\\sub-082*events.tsv\"\n",
      "  raw = mne_bids.read_raw_bids(subject_paths[j])\n"
     ]
    },
    {
     "name": "stdout",
     "output_type": "stream",
     "text": [
      "Reading channel info from ds004504-download\\sub-083\\eeg\\sub-083_task-eyesclosed_channels.tsv.\n"
     ]
    },
    {
     "name": "stderr",
     "output_type": "stream",
     "text": [
      "C:\\Users\\mashh\\AppData\\Local\\Temp\\ipykernel_18244\\4265974583.py:9: RuntimeWarning: Data will be preloaded. preload=False or a string preload is not supported when the data is stored in the .set file\n",
      "  raw = mne_bids.read_raw_bids(subject_paths[j])\n",
      "C:\\Users\\mashh\\AppData\\Local\\Temp\\ipykernel_18244\\4265974583.py:9: RuntimeWarning: Did not find any events.tsv associated with sub-083_task-eyesclosed.\n",
      "\n",
      "The search_str was \"ds004504-download\\sub-083\\**\\eeg\\sub-083*events.tsv\"\n",
      "  raw = mne_bids.read_raw_bids(subject_paths[j])\n"
     ]
    },
    {
     "name": "stdout",
     "output_type": "stream",
     "text": [
      "Reading channel info from ds004504-download\\sub-084\\eeg\\sub-084_task-eyesclosed_channels.tsv.\n"
     ]
    },
    {
     "name": "stderr",
     "output_type": "stream",
     "text": [
      "C:\\Users\\mashh\\AppData\\Local\\Temp\\ipykernel_18244\\4265974583.py:9: RuntimeWarning: Data will be preloaded. preload=False or a string preload is not supported when the data is stored in the .set file\n",
      "  raw = mne_bids.read_raw_bids(subject_paths[j])\n",
      "C:\\Users\\mashh\\AppData\\Local\\Temp\\ipykernel_18244\\4265974583.py:9: RuntimeWarning: Did not find any events.tsv associated with sub-084_task-eyesclosed.\n",
      "\n",
      "The search_str was \"ds004504-download\\sub-084\\**\\eeg\\sub-084*events.tsv\"\n",
      "  raw = mne_bids.read_raw_bids(subject_paths[j])\n"
     ]
    },
    {
     "name": "stdout",
     "output_type": "stream",
     "text": [
      "Reading channel info from ds004504-download\\sub-085\\eeg\\sub-085_task-eyesclosed_channels.tsv.\n"
     ]
    },
    {
     "name": "stderr",
     "output_type": "stream",
     "text": [
      "C:\\Users\\mashh\\AppData\\Local\\Temp\\ipykernel_18244\\4265974583.py:9: RuntimeWarning: Data will be preloaded. preload=False or a string preload is not supported when the data is stored in the .set file\n",
      "  raw = mne_bids.read_raw_bids(subject_paths[j])\n",
      "C:\\Users\\mashh\\AppData\\Local\\Temp\\ipykernel_18244\\4265974583.py:9: RuntimeWarning: Did not find any events.tsv associated with sub-085_task-eyesclosed.\n",
      "\n",
      "The search_str was \"ds004504-download\\sub-085\\**\\eeg\\sub-085*events.tsv\"\n",
      "  raw = mne_bids.read_raw_bids(subject_paths[j])\n"
     ]
    },
    {
     "name": "stdout",
     "output_type": "stream",
     "text": [
      "Reading channel info from ds004504-download\\sub-086\\eeg\\sub-086_task-eyesclosed_channels.tsv.\n"
     ]
    },
    {
     "name": "stderr",
     "output_type": "stream",
     "text": [
      "C:\\Users\\mashh\\AppData\\Local\\Temp\\ipykernel_18244\\4265974583.py:9: RuntimeWarning: Data will be preloaded. preload=False or a string preload is not supported when the data is stored in the .set file\n",
      "  raw = mne_bids.read_raw_bids(subject_paths[j])\n",
      "C:\\Users\\mashh\\AppData\\Local\\Temp\\ipykernel_18244\\4265974583.py:9: RuntimeWarning: Did not find any events.tsv associated with sub-086_task-eyesclosed.\n",
      "\n",
      "The search_str was \"ds004504-download\\sub-086\\**\\eeg\\sub-086*events.tsv\"\n",
      "  raw = mne_bids.read_raw_bids(subject_paths[j])\n"
     ]
    },
    {
     "name": "stdout",
     "output_type": "stream",
     "text": [
      "Reading channel info from ds004504-download\\sub-087\\eeg\\sub-087_task-eyesclosed_channels.tsv.\n"
     ]
    },
    {
     "name": "stderr",
     "output_type": "stream",
     "text": [
      "C:\\Users\\mashh\\AppData\\Local\\Temp\\ipykernel_18244\\4265974583.py:9: RuntimeWarning: Data will be preloaded. preload=False or a string preload is not supported when the data is stored in the .set file\n",
      "  raw = mne_bids.read_raw_bids(subject_paths[j])\n",
      "C:\\Users\\mashh\\AppData\\Local\\Temp\\ipykernel_18244\\4265974583.py:9: RuntimeWarning: Did not find any events.tsv associated with sub-087_task-eyesclosed.\n",
      "\n",
      "The search_str was \"ds004504-download\\sub-087\\**\\eeg\\sub-087*events.tsv\"\n",
      "  raw = mne_bids.read_raw_bids(subject_paths[j])\n"
     ]
    },
    {
     "name": "stdout",
     "output_type": "stream",
     "text": [
      "Reading channel info from ds004504-download\\sub-088\\eeg\\sub-088_task-eyesclosed_channels.tsv.\n"
     ]
    },
    {
     "name": "stderr",
     "output_type": "stream",
     "text": [
      "C:\\Users\\mashh\\AppData\\Local\\Temp\\ipykernel_18244\\4265974583.py:9: RuntimeWarning: Data will be preloaded. preload=False or a string preload is not supported when the data is stored in the .set file\n",
      "  raw = mne_bids.read_raw_bids(subject_paths[j])\n",
      "C:\\Users\\mashh\\AppData\\Local\\Temp\\ipykernel_18244\\4265974583.py:9: RuntimeWarning: Did not find any events.tsv associated with sub-088_task-eyesclosed.\n",
      "\n",
      "The search_str was \"ds004504-download\\sub-088\\**\\eeg\\sub-088*events.tsv\"\n",
      "  raw = mne_bids.read_raw_bids(subject_paths[j])\n"
     ]
    },
    {
     "name": "stdout",
     "output_type": "stream",
     "text": [
      "Reading channel info from ds004504-download\\sub-001\\eeg\\sub-001_task-eyesclosed_channels.tsv.\n"
     ]
    },
    {
     "name": "stderr",
     "output_type": "stream",
     "text": [
      "C:\\Users\\mashh\\AppData\\Local\\Temp\\ipykernel_18244\\4265974583.py:9: RuntimeWarning: Data will be preloaded. preload=False or a string preload is not supported when the data is stored in the .set file\n",
      "  raw = mne_bids.read_raw_bids(subject_paths[j])\n",
      "C:\\Users\\mashh\\AppData\\Local\\Temp\\ipykernel_18244\\4265974583.py:9: RuntimeWarning: Did not find any events.tsv associated with sub-001_task-eyesclosed.\n",
      "\n",
      "The search_str was \"ds004504-download\\sub-001\\**\\eeg\\sub-001*events.tsv\"\n",
      "  raw = mne_bids.read_raw_bids(subject_paths[j])\n"
     ]
    },
    {
     "name": "stdout",
     "output_type": "stream",
     "text": [
      "Reading channel info from ds004504-download\\sub-002\\eeg\\sub-002_task-eyesclosed_channels.tsv.\n"
     ]
    },
    {
     "name": "stderr",
     "output_type": "stream",
     "text": [
      "C:\\Users\\mashh\\AppData\\Local\\Temp\\ipykernel_18244\\4265974583.py:9: RuntimeWarning: Data will be preloaded. preload=False or a string preload is not supported when the data is stored in the .set file\n",
      "  raw = mne_bids.read_raw_bids(subject_paths[j])\n",
      "C:\\Users\\mashh\\AppData\\Local\\Temp\\ipykernel_18244\\4265974583.py:9: RuntimeWarning: Did not find any events.tsv associated with sub-002_task-eyesclosed.\n",
      "\n",
      "The search_str was \"ds004504-download\\sub-002\\**\\eeg\\sub-002*events.tsv\"\n",
      "  raw = mne_bids.read_raw_bids(subject_paths[j])\n"
     ]
    },
    {
     "name": "stdout",
     "output_type": "stream",
     "text": [
      "Reading channel info from ds004504-download\\sub-003\\eeg\\sub-003_task-eyesclosed_channels.tsv.\n"
     ]
    },
    {
     "name": "stderr",
     "output_type": "stream",
     "text": [
      "C:\\Users\\mashh\\AppData\\Local\\Temp\\ipykernel_18244\\4265974583.py:9: RuntimeWarning: Data will be preloaded. preload=False or a string preload is not supported when the data is stored in the .set file\n",
      "  raw = mne_bids.read_raw_bids(subject_paths[j])\n",
      "C:\\Users\\mashh\\AppData\\Local\\Temp\\ipykernel_18244\\4265974583.py:9: RuntimeWarning: Did not find any events.tsv associated with sub-003_task-eyesclosed.\n",
      "\n",
      "The search_str was \"ds004504-download\\sub-003\\**\\eeg\\sub-003*events.tsv\"\n",
      "  raw = mne_bids.read_raw_bids(subject_paths[j])\n"
     ]
    },
    {
     "name": "stdout",
     "output_type": "stream",
     "text": [
      "Reading channel info from ds004504-download\\sub-004\\eeg\\sub-004_task-eyesclosed_channels.tsv.\n"
     ]
    },
    {
     "name": "stderr",
     "output_type": "stream",
     "text": [
      "C:\\Users\\mashh\\AppData\\Local\\Temp\\ipykernel_18244\\4265974583.py:9: RuntimeWarning: Data will be preloaded. preload=False or a string preload is not supported when the data is stored in the .set file\n",
      "  raw = mne_bids.read_raw_bids(subject_paths[j])\n",
      "C:\\Users\\mashh\\AppData\\Local\\Temp\\ipykernel_18244\\4265974583.py:9: RuntimeWarning: Did not find any events.tsv associated with sub-004_task-eyesclosed.\n",
      "\n",
      "The search_str was \"ds004504-download\\sub-004\\**\\eeg\\sub-004*events.tsv\"\n",
      "  raw = mne_bids.read_raw_bids(subject_paths[j])\n"
     ]
    },
    {
     "name": "stdout",
     "output_type": "stream",
     "text": [
      "Reading channel info from ds004504-download\\sub-005\\eeg\\sub-005_task-eyesclosed_channels.tsv.\n"
     ]
    },
    {
     "name": "stderr",
     "output_type": "stream",
     "text": [
      "C:\\Users\\mashh\\AppData\\Local\\Temp\\ipykernel_18244\\4265974583.py:9: RuntimeWarning: Data will be preloaded. preload=False or a string preload is not supported when the data is stored in the .set file\n",
      "  raw = mne_bids.read_raw_bids(subject_paths[j])\n",
      "C:\\Users\\mashh\\AppData\\Local\\Temp\\ipykernel_18244\\4265974583.py:9: RuntimeWarning: Did not find any events.tsv associated with sub-005_task-eyesclosed.\n",
      "\n",
      "The search_str was \"ds004504-download\\sub-005\\**\\eeg\\sub-005*events.tsv\"\n",
      "  raw = mne_bids.read_raw_bids(subject_paths[j])\n"
     ]
    },
    {
     "name": "stdout",
     "output_type": "stream",
     "text": [
      "Reading channel info from ds004504-download\\sub-006\\eeg\\sub-006_task-eyesclosed_channels.tsv.\n"
     ]
    },
    {
     "name": "stderr",
     "output_type": "stream",
     "text": [
      "C:\\Users\\mashh\\AppData\\Local\\Temp\\ipykernel_18244\\4265974583.py:9: RuntimeWarning: Data will be preloaded. preload=False or a string preload is not supported when the data is stored in the .set file\n",
      "  raw = mne_bids.read_raw_bids(subject_paths[j])\n",
      "C:\\Users\\mashh\\AppData\\Local\\Temp\\ipykernel_18244\\4265974583.py:9: RuntimeWarning: Did not find any events.tsv associated with sub-006_task-eyesclosed.\n",
      "\n",
      "The search_str was \"ds004504-download\\sub-006\\**\\eeg\\sub-006*events.tsv\"\n",
      "  raw = mne_bids.read_raw_bids(subject_paths[j])\n"
     ]
    },
    {
     "name": "stdout",
     "output_type": "stream",
     "text": [
      "Reading channel info from ds004504-download\\sub-007\\eeg\\sub-007_task-eyesclosed_channels.tsv.\n"
     ]
    },
    {
     "name": "stderr",
     "output_type": "stream",
     "text": [
      "C:\\Users\\mashh\\AppData\\Local\\Temp\\ipykernel_18244\\4265974583.py:9: RuntimeWarning: Data will be preloaded. preload=False or a string preload is not supported when the data is stored in the .set file\n",
      "  raw = mne_bids.read_raw_bids(subject_paths[j])\n",
      "C:\\Users\\mashh\\AppData\\Local\\Temp\\ipykernel_18244\\4265974583.py:9: RuntimeWarning: Did not find any events.tsv associated with sub-007_task-eyesclosed.\n",
      "\n",
      "The search_str was \"ds004504-download\\sub-007\\**\\eeg\\sub-007*events.tsv\"\n",
      "  raw = mne_bids.read_raw_bids(subject_paths[j])\n"
     ]
    },
    {
     "name": "stdout",
     "output_type": "stream",
     "text": [
      "Reading channel info from ds004504-download\\sub-008\\eeg\\sub-008_task-eyesclosed_channels.tsv.\n"
     ]
    },
    {
     "name": "stderr",
     "output_type": "stream",
     "text": [
      "C:\\Users\\mashh\\AppData\\Local\\Temp\\ipykernel_18244\\4265974583.py:9: RuntimeWarning: Data will be preloaded. preload=False or a string preload is not supported when the data is stored in the .set file\n",
      "  raw = mne_bids.read_raw_bids(subject_paths[j])\n",
      "C:\\Users\\mashh\\AppData\\Local\\Temp\\ipykernel_18244\\4265974583.py:9: RuntimeWarning: Did not find any events.tsv associated with sub-008_task-eyesclosed.\n",
      "\n",
      "The search_str was \"ds004504-download\\sub-008\\**\\eeg\\sub-008*events.tsv\"\n",
      "  raw = mne_bids.read_raw_bids(subject_paths[j])\n"
     ]
    },
    {
     "name": "stdout",
     "output_type": "stream",
     "text": [
      "Reading channel info from ds004504-download\\sub-009\\eeg\\sub-009_task-eyesclosed_channels.tsv.\n"
     ]
    },
    {
     "name": "stderr",
     "output_type": "stream",
     "text": [
      "C:\\Users\\mashh\\AppData\\Local\\Temp\\ipykernel_18244\\4265974583.py:9: RuntimeWarning: Data will be preloaded. preload=False or a string preload is not supported when the data is stored in the .set file\n",
      "  raw = mne_bids.read_raw_bids(subject_paths[j])\n",
      "C:\\Users\\mashh\\AppData\\Local\\Temp\\ipykernel_18244\\4265974583.py:9: RuntimeWarning: Did not find any events.tsv associated with sub-009_task-eyesclosed.\n",
      "\n",
      "The search_str was \"ds004504-download\\sub-009\\**\\eeg\\sub-009*events.tsv\"\n",
      "  raw = mne_bids.read_raw_bids(subject_paths[j])\n"
     ]
    },
    {
     "name": "stdout",
     "output_type": "stream",
     "text": [
      "Reading channel info from ds004504-download\\sub-010\\eeg\\sub-010_task-eyesclosed_channels.tsv.\n"
     ]
    },
    {
     "name": "stderr",
     "output_type": "stream",
     "text": [
      "C:\\Users\\mashh\\AppData\\Local\\Temp\\ipykernel_18244\\4265974583.py:9: RuntimeWarning: Data will be preloaded. preload=False or a string preload is not supported when the data is stored in the .set file\n",
      "  raw = mne_bids.read_raw_bids(subject_paths[j])\n",
      "C:\\Users\\mashh\\AppData\\Local\\Temp\\ipykernel_18244\\4265974583.py:9: RuntimeWarning: Did not find any events.tsv associated with sub-010_task-eyesclosed.\n",
      "\n",
      "The search_str was \"ds004504-download\\sub-010\\**\\eeg\\sub-010*events.tsv\"\n",
      "  raw = mne_bids.read_raw_bids(subject_paths[j])\n"
     ]
    },
    {
     "name": "stdout",
     "output_type": "stream",
     "text": [
      "Reading channel info from ds004504-download\\sub-011\\eeg\\sub-011_task-eyesclosed_channels.tsv.\n"
     ]
    },
    {
     "name": "stderr",
     "output_type": "stream",
     "text": [
      "C:\\Users\\mashh\\AppData\\Local\\Temp\\ipykernel_18244\\4265974583.py:9: RuntimeWarning: Data will be preloaded. preload=False or a string preload is not supported when the data is stored in the .set file\n",
      "  raw = mne_bids.read_raw_bids(subject_paths[j])\n",
      "C:\\Users\\mashh\\AppData\\Local\\Temp\\ipykernel_18244\\4265974583.py:9: RuntimeWarning: Did not find any events.tsv associated with sub-011_task-eyesclosed.\n",
      "\n",
      "The search_str was \"ds004504-download\\sub-011\\**\\eeg\\sub-011*events.tsv\"\n",
      "  raw = mne_bids.read_raw_bids(subject_paths[j])\n"
     ]
    },
    {
     "name": "stdout",
     "output_type": "stream",
     "text": [
      "Reading channel info from ds004504-download\\sub-012\\eeg\\sub-012_task-eyesclosed_channels.tsv.\n"
     ]
    },
    {
     "name": "stderr",
     "output_type": "stream",
     "text": [
      "C:\\Users\\mashh\\AppData\\Local\\Temp\\ipykernel_18244\\4265974583.py:9: RuntimeWarning: Data will be preloaded. preload=False or a string preload is not supported when the data is stored in the .set file\n",
      "  raw = mne_bids.read_raw_bids(subject_paths[j])\n",
      "C:\\Users\\mashh\\AppData\\Local\\Temp\\ipykernel_18244\\4265974583.py:9: RuntimeWarning: Did not find any events.tsv associated with sub-012_task-eyesclosed.\n",
      "\n",
      "The search_str was \"ds004504-download\\sub-012\\**\\eeg\\sub-012*events.tsv\"\n",
      "  raw = mne_bids.read_raw_bids(subject_paths[j])\n"
     ]
    },
    {
     "name": "stdout",
     "output_type": "stream",
     "text": [
      "Reading channel info from ds004504-download\\sub-013\\eeg\\sub-013_task-eyesclosed_channels.tsv.\n"
     ]
    },
    {
     "name": "stderr",
     "output_type": "stream",
     "text": [
      "C:\\Users\\mashh\\AppData\\Local\\Temp\\ipykernel_18244\\4265974583.py:9: RuntimeWarning: Data will be preloaded. preload=False or a string preload is not supported when the data is stored in the .set file\n",
      "  raw = mne_bids.read_raw_bids(subject_paths[j])\n",
      "C:\\Users\\mashh\\AppData\\Local\\Temp\\ipykernel_18244\\4265974583.py:9: RuntimeWarning: Did not find any events.tsv associated with sub-013_task-eyesclosed.\n",
      "\n",
      "The search_str was \"ds004504-download\\sub-013\\**\\eeg\\sub-013*events.tsv\"\n",
      "  raw = mne_bids.read_raw_bids(subject_paths[j])\n"
     ]
    },
    {
     "name": "stdout",
     "output_type": "stream",
     "text": [
      "Reading channel info from ds004504-download\\sub-014\\eeg\\sub-014_task-eyesclosed_channels.tsv.\n"
     ]
    },
    {
     "name": "stderr",
     "output_type": "stream",
     "text": [
      "C:\\Users\\mashh\\AppData\\Local\\Temp\\ipykernel_18244\\4265974583.py:9: RuntimeWarning: Data will be preloaded. preload=False or a string preload is not supported when the data is stored in the .set file\n",
      "  raw = mne_bids.read_raw_bids(subject_paths[j])\n",
      "C:\\Users\\mashh\\AppData\\Local\\Temp\\ipykernel_18244\\4265974583.py:9: RuntimeWarning: Did not find any events.tsv associated with sub-014_task-eyesclosed.\n",
      "\n",
      "The search_str was \"ds004504-download\\sub-014\\**\\eeg\\sub-014*events.tsv\"\n",
      "  raw = mne_bids.read_raw_bids(subject_paths[j])\n"
     ]
    },
    {
     "name": "stdout",
     "output_type": "stream",
     "text": [
      "Reading channel info from ds004504-download\\sub-015\\eeg\\sub-015_task-eyesclosed_channels.tsv.\n"
     ]
    },
    {
     "name": "stderr",
     "output_type": "stream",
     "text": [
      "C:\\Users\\mashh\\AppData\\Local\\Temp\\ipykernel_18244\\4265974583.py:9: RuntimeWarning: Data will be preloaded. preload=False or a string preload is not supported when the data is stored in the .set file\n",
      "  raw = mne_bids.read_raw_bids(subject_paths[j])\n",
      "C:\\Users\\mashh\\AppData\\Local\\Temp\\ipykernel_18244\\4265974583.py:9: RuntimeWarning: Did not find any events.tsv associated with sub-015_task-eyesclosed.\n",
      "\n",
      "The search_str was \"ds004504-download\\sub-015\\**\\eeg\\sub-015*events.tsv\"\n",
      "  raw = mne_bids.read_raw_bids(subject_paths[j])\n"
     ]
    },
    {
     "name": "stdout",
     "output_type": "stream",
     "text": [
      "Reading channel info from ds004504-download\\sub-016\\eeg\\sub-016_task-eyesclosed_channels.tsv.\n"
     ]
    },
    {
     "name": "stderr",
     "output_type": "stream",
     "text": [
      "C:\\Users\\mashh\\AppData\\Local\\Temp\\ipykernel_18244\\4265974583.py:9: RuntimeWarning: Data will be preloaded. preload=False or a string preload is not supported when the data is stored in the .set file\n",
      "  raw = mne_bids.read_raw_bids(subject_paths[j])\n",
      "C:\\Users\\mashh\\AppData\\Local\\Temp\\ipykernel_18244\\4265974583.py:9: RuntimeWarning: Did not find any events.tsv associated with sub-016_task-eyesclosed.\n",
      "\n",
      "The search_str was \"ds004504-download\\sub-016\\**\\eeg\\sub-016*events.tsv\"\n",
      "  raw = mne_bids.read_raw_bids(subject_paths[j])\n"
     ]
    },
    {
     "name": "stdout",
     "output_type": "stream",
     "text": [
      "Reading channel info from ds004504-download\\sub-017\\eeg\\sub-017_task-eyesclosed_channels.tsv.\n"
     ]
    },
    {
     "name": "stderr",
     "output_type": "stream",
     "text": [
      "C:\\Users\\mashh\\AppData\\Local\\Temp\\ipykernel_18244\\4265974583.py:9: RuntimeWarning: Data will be preloaded. preload=False or a string preload is not supported when the data is stored in the .set file\n",
      "  raw = mne_bids.read_raw_bids(subject_paths[j])\n",
      "C:\\Users\\mashh\\AppData\\Local\\Temp\\ipykernel_18244\\4265974583.py:9: RuntimeWarning: Did not find any events.tsv associated with sub-017_task-eyesclosed.\n",
      "\n",
      "The search_str was \"ds004504-download\\sub-017\\**\\eeg\\sub-017*events.tsv\"\n",
      "  raw = mne_bids.read_raw_bids(subject_paths[j])\n"
     ]
    },
    {
     "name": "stdout",
     "output_type": "stream",
     "text": [
      "Reading channel info from ds004504-download\\sub-018\\eeg\\sub-018_task-eyesclosed_channels.tsv.\n"
     ]
    },
    {
     "name": "stderr",
     "output_type": "stream",
     "text": [
      "C:\\Users\\mashh\\AppData\\Local\\Temp\\ipykernel_18244\\4265974583.py:9: RuntimeWarning: Data will be preloaded. preload=False or a string preload is not supported when the data is stored in the .set file\n",
      "  raw = mne_bids.read_raw_bids(subject_paths[j])\n",
      "C:\\Users\\mashh\\AppData\\Local\\Temp\\ipykernel_18244\\4265974583.py:9: RuntimeWarning: Did not find any events.tsv associated with sub-018_task-eyesclosed.\n",
      "\n",
      "The search_str was \"ds004504-download\\sub-018\\**\\eeg\\sub-018*events.tsv\"\n",
      "  raw = mne_bids.read_raw_bids(subject_paths[j])\n"
     ]
    },
    {
     "name": "stdout",
     "output_type": "stream",
     "text": [
      "Reading channel info from ds004504-download\\sub-019\\eeg\\sub-019_task-eyesclosed_channels.tsv.\n"
     ]
    },
    {
     "name": "stderr",
     "output_type": "stream",
     "text": [
      "C:\\Users\\mashh\\AppData\\Local\\Temp\\ipykernel_18244\\4265974583.py:9: RuntimeWarning: Data will be preloaded. preload=False or a string preload is not supported when the data is stored in the .set file\n",
      "  raw = mne_bids.read_raw_bids(subject_paths[j])\n",
      "C:\\Users\\mashh\\AppData\\Local\\Temp\\ipykernel_18244\\4265974583.py:9: RuntimeWarning: Did not find any events.tsv associated with sub-019_task-eyesclosed.\n",
      "\n",
      "The search_str was \"ds004504-download\\sub-019\\**\\eeg\\sub-019*events.tsv\"\n",
      "  raw = mne_bids.read_raw_bids(subject_paths[j])\n"
     ]
    },
    {
     "name": "stdout",
     "output_type": "stream",
     "text": [
      "Reading channel info from ds004504-download\\sub-020\\eeg\\sub-020_task-eyesclosed_channels.tsv.\n"
     ]
    },
    {
     "name": "stderr",
     "output_type": "stream",
     "text": [
      "C:\\Users\\mashh\\AppData\\Local\\Temp\\ipykernel_18244\\4265974583.py:9: RuntimeWarning: Data will be preloaded. preload=False or a string preload is not supported when the data is stored in the .set file\n",
      "  raw = mne_bids.read_raw_bids(subject_paths[j])\n",
      "C:\\Users\\mashh\\AppData\\Local\\Temp\\ipykernel_18244\\4265974583.py:9: RuntimeWarning: Did not find any events.tsv associated with sub-020_task-eyesclosed.\n",
      "\n",
      "The search_str was \"ds004504-download\\sub-020\\**\\eeg\\sub-020*events.tsv\"\n",
      "  raw = mne_bids.read_raw_bids(subject_paths[j])\n"
     ]
    },
    {
     "name": "stdout",
     "output_type": "stream",
     "text": [
      "Reading channel info from ds004504-download\\sub-021\\eeg\\sub-021_task-eyesclosed_channels.tsv.\n"
     ]
    },
    {
     "name": "stderr",
     "output_type": "stream",
     "text": [
      "C:\\Users\\mashh\\AppData\\Local\\Temp\\ipykernel_18244\\4265974583.py:9: RuntimeWarning: Data will be preloaded. preload=False or a string preload is not supported when the data is stored in the .set file\n",
      "  raw = mne_bids.read_raw_bids(subject_paths[j])\n",
      "C:\\Users\\mashh\\AppData\\Local\\Temp\\ipykernel_18244\\4265974583.py:9: RuntimeWarning: Did not find any events.tsv associated with sub-021_task-eyesclosed.\n",
      "\n",
      "The search_str was \"ds004504-download\\sub-021\\**\\eeg\\sub-021*events.tsv\"\n",
      "  raw = mne_bids.read_raw_bids(subject_paths[j])\n"
     ]
    },
    {
     "name": "stdout",
     "output_type": "stream",
     "text": [
      "Reading channel info from ds004504-download\\sub-022\\eeg\\sub-022_task-eyesclosed_channels.tsv.\n"
     ]
    },
    {
     "name": "stderr",
     "output_type": "stream",
     "text": [
      "C:\\Users\\mashh\\AppData\\Local\\Temp\\ipykernel_18244\\4265974583.py:9: RuntimeWarning: Data will be preloaded. preload=False or a string preload is not supported when the data is stored in the .set file\n",
      "  raw = mne_bids.read_raw_bids(subject_paths[j])\n",
      "C:\\Users\\mashh\\AppData\\Local\\Temp\\ipykernel_18244\\4265974583.py:9: RuntimeWarning: Did not find any events.tsv associated with sub-022_task-eyesclosed.\n",
      "\n",
      "The search_str was \"ds004504-download\\sub-022\\**\\eeg\\sub-022*events.tsv\"\n",
      "  raw = mne_bids.read_raw_bids(subject_paths[j])\n"
     ]
    },
    {
     "name": "stdout",
     "output_type": "stream",
     "text": [
      "Reading channel info from ds004504-download\\sub-023\\eeg\\sub-023_task-eyesclosed_channels.tsv.\n"
     ]
    },
    {
     "name": "stderr",
     "output_type": "stream",
     "text": [
      "C:\\Users\\mashh\\AppData\\Local\\Temp\\ipykernel_18244\\4265974583.py:9: RuntimeWarning: Data will be preloaded. preload=False or a string preload is not supported when the data is stored in the .set file\n",
      "  raw = mne_bids.read_raw_bids(subject_paths[j])\n",
      "C:\\Users\\mashh\\AppData\\Local\\Temp\\ipykernel_18244\\4265974583.py:9: RuntimeWarning: Did not find any events.tsv associated with sub-023_task-eyesclosed.\n",
      "\n",
      "The search_str was \"ds004504-download\\sub-023\\**\\eeg\\sub-023*events.tsv\"\n",
      "  raw = mne_bids.read_raw_bids(subject_paths[j])\n"
     ]
    },
    {
     "name": "stdout",
     "output_type": "stream",
     "text": [
      "Reading channel info from ds004504-download\\sub-024\\eeg\\sub-024_task-eyesclosed_channels.tsv.\n"
     ]
    },
    {
     "name": "stderr",
     "output_type": "stream",
     "text": [
      "C:\\Users\\mashh\\AppData\\Local\\Temp\\ipykernel_18244\\4265974583.py:9: RuntimeWarning: Data will be preloaded. preload=False or a string preload is not supported when the data is stored in the .set file\n",
      "  raw = mne_bids.read_raw_bids(subject_paths[j])\n",
      "C:\\Users\\mashh\\AppData\\Local\\Temp\\ipykernel_18244\\4265974583.py:9: RuntimeWarning: Did not find any events.tsv associated with sub-024_task-eyesclosed.\n",
      "\n",
      "The search_str was \"ds004504-download\\sub-024\\**\\eeg\\sub-024*events.tsv\"\n",
      "  raw = mne_bids.read_raw_bids(subject_paths[j])\n"
     ]
    },
    {
     "name": "stdout",
     "output_type": "stream",
     "text": [
      "Reading channel info from ds004504-download\\sub-025\\eeg\\sub-025_task-eyesclosed_channels.tsv.\n"
     ]
    },
    {
     "name": "stderr",
     "output_type": "stream",
     "text": [
      "C:\\Users\\mashh\\AppData\\Local\\Temp\\ipykernel_18244\\4265974583.py:9: RuntimeWarning: Data will be preloaded. preload=False or a string preload is not supported when the data is stored in the .set file\n",
      "  raw = mne_bids.read_raw_bids(subject_paths[j])\n",
      "C:\\Users\\mashh\\AppData\\Local\\Temp\\ipykernel_18244\\4265974583.py:9: RuntimeWarning: Did not find any events.tsv associated with sub-025_task-eyesclosed.\n",
      "\n",
      "The search_str was \"ds004504-download\\sub-025\\**\\eeg\\sub-025*events.tsv\"\n",
      "  raw = mne_bids.read_raw_bids(subject_paths[j])\n"
     ]
    },
    {
     "name": "stdout",
     "output_type": "stream",
     "text": [
      "Reading channel info from ds004504-download\\sub-026\\eeg\\sub-026_task-eyesclosed_channels.tsv.\n"
     ]
    },
    {
     "name": "stderr",
     "output_type": "stream",
     "text": [
      "C:\\Users\\mashh\\AppData\\Local\\Temp\\ipykernel_18244\\4265974583.py:9: RuntimeWarning: Data will be preloaded. preload=False or a string preload is not supported when the data is stored in the .set file\n",
      "  raw = mne_bids.read_raw_bids(subject_paths[j])\n",
      "C:\\Users\\mashh\\AppData\\Local\\Temp\\ipykernel_18244\\4265974583.py:9: RuntimeWarning: Did not find any events.tsv associated with sub-026_task-eyesclosed.\n",
      "\n",
      "The search_str was \"ds004504-download\\sub-026\\**\\eeg\\sub-026*events.tsv\"\n",
      "  raw = mne_bids.read_raw_bids(subject_paths[j])\n"
     ]
    },
    {
     "name": "stdout",
     "output_type": "stream",
     "text": [
      "Reading channel info from ds004504-download\\sub-027\\eeg\\sub-027_task-eyesclosed_channels.tsv.\n"
     ]
    },
    {
     "name": "stderr",
     "output_type": "stream",
     "text": [
      "C:\\Users\\mashh\\AppData\\Local\\Temp\\ipykernel_18244\\4265974583.py:9: RuntimeWarning: Data will be preloaded. preload=False or a string preload is not supported when the data is stored in the .set file\n",
      "  raw = mne_bids.read_raw_bids(subject_paths[j])\n",
      "C:\\Users\\mashh\\AppData\\Local\\Temp\\ipykernel_18244\\4265974583.py:9: RuntimeWarning: Did not find any events.tsv associated with sub-027_task-eyesclosed.\n",
      "\n",
      "The search_str was \"ds004504-download\\sub-027\\**\\eeg\\sub-027*events.tsv\"\n",
      "  raw = mne_bids.read_raw_bids(subject_paths[j])\n"
     ]
    },
    {
     "name": "stdout",
     "output_type": "stream",
     "text": [
      "Reading channel info from ds004504-download\\sub-028\\eeg\\sub-028_task-eyesclosed_channels.tsv.\n"
     ]
    },
    {
     "name": "stderr",
     "output_type": "stream",
     "text": [
      "C:\\Users\\mashh\\AppData\\Local\\Temp\\ipykernel_18244\\4265974583.py:9: RuntimeWarning: Data will be preloaded. preload=False or a string preload is not supported when the data is stored in the .set file\n",
      "  raw = mne_bids.read_raw_bids(subject_paths[j])\n",
      "C:\\Users\\mashh\\AppData\\Local\\Temp\\ipykernel_18244\\4265974583.py:9: RuntimeWarning: Did not find any events.tsv associated with sub-028_task-eyesclosed.\n",
      "\n",
      "The search_str was \"ds004504-download\\sub-028\\**\\eeg\\sub-028*events.tsv\"\n",
      "  raw = mne_bids.read_raw_bids(subject_paths[j])\n"
     ]
    },
    {
     "name": "stdout",
     "output_type": "stream",
     "text": [
      "Reading channel info from ds004504-download\\sub-029\\eeg\\sub-029_task-eyesclosed_channels.tsv.\n"
     ]
    },
    {
     "name": "stderr",
     "output_type": "stream",
     "text": [
      "C:\\Users\\mashh\\AppData\\Local\\Temp\\ipykernel_18244\\4265974583.py:9: RuntimeWarning: Data will be preloaded. preload=False or a string preload is not supported when the data is stored in the .set file\n",
      "  raw = mne_bids.read_raw_bids(subject_paths[j])\n",
      "C:\\Users\\mashh\\AppData\\Local\\Temp\\ipykernel_18244\\4265974583.py:9: RuntimeWarning: Did not find any events.tsv associated with sub-029_task-eyesclosed.\n",
      "\n",
      "The search_str was \"ds004504-download\\sub-029\\**\\eeg\\sub-029*events.tsv\"\n",
      "  raw = mne_bids.read_raw_bids(subject_paths[j])\n"
     ]
    },
    {
     "name": "stdout",
     "output_type": "stream",
     "text": [
      "Reading channel info from ds004504-download\\sub-030\\eeg\\sub-030_task-eyesclosed_channels.tsv.\n"
     ]
    },
    {
     "name": "stderr",
     "output_type": "stream",
     "text": [
      "C:\\Users\\mashh\\AppData\\Local\\Temp\\ipykernel_18244\\4265974583.py:9: RuntimeWarning: Data will be preloaded. preload=False or a string preload is not supported when the data is stored in the .set file\n",
      "  raw = mne_bids.read_raw_bids(subject_paths[j])\n",
      "C:\\Users\\mashh\\AppData\\Local\\Temp\\ipykernel_18244\\4265974583.py:9: RuntimeWarning: Did not find any events.tsv associated with sub-030_task-eyesclosed.\n",
      "\n",
      "The search_str was \"ds004504-download\\sub-030\\**\\eeg\\sub-030*events.tsv\"\n",
      "  raw = mne_bids.read_raw_bids(subject_paths[j])\n"
     ]
    },
    {
     "name": "stdout",
     "output_type": "stream",
     "text": [
      "Reading channel info from ds004504-download\\sub-031\\eeg\\sub-031_task-eyesclosed_channels.tsv.\n"
     ]
    },
    {
     "name": "stderr",
     "output_type": "stream",
     "text": [
      "C:\\Users\\mashh\\AppData\\Local\\Temp\\ipykernel_18244\\4265974583.py:9: RuntimeWarning: Data will be preloaded. preload=False or a string preload is not supported when the data is stored in the .set file\n",
      "  raw = mne_bids.read_raw_bids(subject_paths[j])\n",
      "C:\\Users\\mashh\\AppData\\Local\\Temp\\ipykernel_18244\\4265974583.py:9: RuntimeWarning: Did not find any events.tsv associated with sub-031_task-eyesclosed.\n",
      "\n",
      "The search_str was \"ds004504-download\\sub-031\\**\\eeg\\sub-031*events.tsv\"\n",
      "  raw = mne_bids.read_raw_bids(subject_paths[j])\n"
     ]
    },
    {
     "name": "stdout",
     "output_type": "stream",
     "text": [
      "Reading channel info from ds004504-download\\sub-032\\eeg\\sub-032_task-eyesclosed_channels.tsv.\n"
     ]
    },
    {
     "name": "stderr",
     "output_type": "stream",
     "text": [
      "C:\\Users\\mashh\\AppData\\Local\\Temp\\ipykernel_18244\\4265974583.py:9: RuntimeWarning: Data will be preloaded. preload=False or a string preload is not supported when the data is stored in the .set file\n",
      "  raw = mne_bids.read_raw_bids(subject_paths[j])\n",
      "C:\\Users\\mashh\\AppData\\Local\\Temp\\ipykernel_18244\\4265974583.py:9: RuntimeWarning: Did not find any events.tsv associated with sub-032_task-eyesclosed.\n",
      "\n",
      "The search_str was \"ds004504-download\\sub-032\\**\\eeg\\sub-032*events.tsv\"\n",
      "  raw = mne_bids.read_raw_bids(subject_paths[j])\n"
     ]
    },
    {
     "name": "stdout",
     "output_type": "stream",
     "text": [
      "Reading channel info from ds004504-download\\sub-033\\eeg\\sub-033_task-eyesclosed_channels.tsv.\n"
     ]
    },
    {
     "name": "stderr",
     "output_type": "stream",
     "text": [
      "C:\\Users\\mashh\\AppData\\Local\\Temp\\ipykernel_18244\\4265974583.py:9: RuntimeWarning: Data will be preloaded. preload=False or a string preload is not supported when the data is stored in the .set file\n",
      "  raw = mne_bids.read_raw_bids(subject_paths[j])\n",
      "C:\\Users\\mashh\\AppData\\Local\\Temp\\ipykernel_18244\\4265974583.py:9: RuntimeWarning: Did not find any events.tsv associated with sub-033_task-eyesclosed.\n",
      "\n",
      "The search_str was \"ds004504-download\\sub-033\\**\\eeg\\sub-033*events.tsv\"\n",
      "  raw = mne_bids.read_raw_bids(subject_paths[j])\n"
     ]
    },
    {
     "name": "stdout",
     "output_type": "stream",
     "text": [
      "Reading channel info from ds004504-download\\sub-034\\eeg\\sub-034_task-eyesclosed_channels.tsv.\n"
     ]
    },
    {
     "name": "stderr",
     "output_type": "stream",
     "text": [
      "C:\\Users\\mashh\\AppData\\Local\\Temp\\ipykernel_18244\\4265974583.py:9: RuntimeWarning: Data will be preloaded. preload=False or a string preload is not supported when the data is stored in the .set file\n",
      "  raw = mne_bids.read_raw_bids(subject_paths[j])\n",
      "C:\\Users\\mashh\\AppData\\Local\\Temp\\ipykernel_18244\\4265974583.py:9: RuntimeWarning: Did not find any events.tsv associated with sub-034_task-eyesclosed.\n",
      "\n",
      "The search_str was \"ds004504-download\\sub-034\\**\\eeg\\sub-034*events.tsv\"\n",
      "  raw = mne_bids.read_raw_bids(subject_paths[j])\n"
     ]
    },
    {
     "name": "stdout",
     "output_type": "stream",
     "text": [
      "Reading channel info from ds004504-download\\sub-035\\eeg\\sub-035_task-eyesclosed_channels.tsv.\n"
     ]
    },
    {
     "name": "stderr",
     "output_type": "stream",
     "text": [
      "C:\\Users\\mashh\\AppData\\Local\\Temp\\ipykernel_18244\\4265974583.py:9: RuntimeWarning: Data will be preloaded. preload=False or a string preload is not supported when the data is stored in the .set file\n",
      "  raw = mne_bids.read_raw_bids(subject_paths[j])\n",
      "C:\\Users\\mashh\\AppData\\Local\\Temp\\ipykernel_18244\\4265974583.py:9: RuntimeWarning: Did not find any events.tsv associated with sub-035_task-eyesclosed.\n",
      "\n",
      "The search_str was \"ds004504-download\\sub-035\\**\\eeg\\sub-035*events.tsv\"\n",
      "  raw = mne_bids.read_raw_bids(subject_paths[j])\n"
     ]
    },
    {
     "name": "stdout",
     "output_type": "stream",
     "text": [
      "Reading channel info from ds004504-download\\sub-036\\eeg\\sub-036_task-eyesclosed_channels.tsv.\n"
     ]
    },
    {
     "name": "stderr",
     "output_type": "stream",
     "text": [
      "C:\\Users\\mashh\\AppData\\Local\\Temp\\ipykernel_18244\\4265974583.py:9: RuntimeWarning: Data will be preloaded. preload=False or a string preload is not supported when the data is stored in the .set file\n",
      "  raw = mne_bids.read_raw_bids(subject_paths[j])\n",
      "C:\\Users\\mashh\\AppData\\Local\\Temp\\ipykernel_18244\\4265974583.py:9: RuntimeWarning: Did not find any events.tsv associated with sub-036_task-eyesclosed.\n",
      "\n",
      "The search_str was \"ds004504-download\\sub-036\\**\\eeg\\sub-036*events.tsv\"\n",
      "  raw = mne_bids.read_raw_bids(subject_paths[j])\n"
     ]
    },
    {
     "name": "stdout",
     "output_type": "stream",
     "text": [
      "Reading channel info from ds004504-download\\sub-037\\eeg\\sub-037_task-eyesclosed_channels.tsv.\n"
     ]
    },
    {
     "name": "stderr",
     "output_type": "stream",
     "text": [
      "C:\\Users\\mashh\\AppData\\Local\\Temp\\ipykernel_18244\\4265974583.py:9: RuntimeWarning: Data will be preloaded. preload=False or a string preload is not supported when the data is stored in the .set file\n",
      "  raw = mne_bids.read_raw_bids(subject_paths[j])\n",
      "C:\\Users\\mashh\\AppData\\Local\\Temp\\ipykernel_18244\\4265974583.py:9: RuntimeWarning: Did not find any events.tsv associated with sub-037_task-eyesclosed.\n",
      "\n",
      "The search_str was \"ds004504-download\\sub-037\\**\\eeg\\sub-037*events.tsv\"\n",
      "  raw = mne_bids.read_raw_bids(subject_paths[j])\n"
     ]
    },
    {
     "name": "stdout",
     "output_type": "stream",
     "text": [
      "Reading channel info from ds004504-download\\sub-038\\eeg\\sub-038_task-eyesclosed_channels.tsv.\n"
     ]
    },
    {
     "name": "stderr",
     "output_type": "stream",
     "text": [
      "C:\\Users\\mashh\\AppData\\Local\\Temp\\ipykernel_18244\\4265974583.py:9: RuntimeWarning: Data will be preloaded. preload=False or a string preload is not supported when the data is stored in the .set file\n",
      "  raw = mne_bids.read_raw_bids(subject_paths[j])\n",
      "C:\\Users\\mashh\\AppData\\Local\\Temp\\ipykernel_18244\\4265974583.py:9: RuntimeWarning: Did not find any events.tsv associated with sub-038_task-eyesclosed.\n",
      "\n",
      "The search_str was \"ds004504-download\\sub-038\\**\\eeg\\sub-038*events.tsv\"\n",
      "  raw = mne_bids.read_raw_bids(subject_paths[j])\n"
     ]
    },
    {
     "name": "stdout",
     "output_type": "stream",
     "text": [
      "Reading channel info from ds004504-download\\sub-039\\eeg\\sub-039_task-eyesclosed_channels.tsv.\n"
     ]
    },
    {
     "name": "stderr",
     "output_type": "stream",
     "text": [
      "C:\\Users\\mashh\\AppData\\Local\\Temp\\ipykernel_18244\\4265974583.py:9: RuntimeWarning: Data will be preloaded. preload=False or a string preload is not supported when the data is stored in the .set file\n",
      "  raw = mne_bids.read_raw_bids(subject_paths[j])\n",
      "C:\\Users\\mashh\\AppData\\Local\\Temp\\ipykernel_18244\\4265974583.py:9: RuntimeWarning: Did not find any events.tsv associated with sub-039_task-eyesclosed.\n",
      "\n",
      "The search_str was \"ds004504-download\\sub-039\\**\\eeg\\sub-039*events.tsv\"\n",
      "  raw = mne_bids.read_raw_bids(subject_paths[j])\n"
     ]
    },
    {
     "name": "stdout",
     "output_type": "stream",
     "text": [
      "Reading channel info from ds004504-download\\sub-040\\eeg\\sub-040_task-eyesclosed_channels.tsv.\n"
     ]
    },
    {
     "name": "stderr",
     "output_type": "stream",
     "text": [
      "C:\\Users\\mashh\\AppData\\Local\\Temp\\ipykernel_18244\\4265974583.py:9: RuntimeWarning: Data will be preloaded. preload=False or a string preload is not supported when the data is stored in the .set file\n",
      "  raw = mne_bids.read_raw_bids(subject_paths[j])\n",
      "C:\\Users\\mashh\\AppData\\Local\\Temp\\ipykernel_18244\\4265974583.py:9: RuntimeWarning: Did not find any events.tsv associated with sub-040_task-eyesclosed.\n",
      "\n",
      "The search_str was \"ds004504-download\\sub-040\\**\\eeg\\sub-040*events.tsv\"\n",
      "  raw = mne_bids.read_raw_bids(subject_paths[j])\n"
     ]
    },
    {
     "name": "stdout",
     "output_type": "stream",
     "text": [
      "Reading channel info from ds004504-download\\sub-041\\eeg\\sub-041_task-eyesclosed_channels.tsv.\n"
     ]
    },
    {
     "name": "stderr",
     "output_type": "stream",
     "text": [
      "C:\\Users\\mashh\\AppData\\Local\\Temp\\ipykernel_18244\\4265974583.py:9: RuntimeWarning: Data will be preloaded. preload=False or a string preload is not supported when the data is stored in the .set file\n",
      "  raw = mne_bids.read_raw_bids(subject_paths[j])\n",
      "C:\\Users\\mashh\\AppData\\Local\\Temp\\ipykernel_18244\\4265974583.py:9: RuntimeWarning: Did not find any events.tsv associated with sub-041_task-eyesclosed.\n",
      "\n",
      "The search_str was \"ds004504-download\\sub-041\\**\\eeg\\sub-041*events.tsv\"\n",
      "  raw = mne_bids.read_raw_bids(subject_paths[j])\n"
     ]
    },
    {
     "name": "stdout",
     "output_type": "stream",
     "text": [
      "Reading channel info from ds004504-download\\sub-042\\eeg\\sub-042_task-eyesclosed_channels.tsv.\n"
     ]
    },
    {
     "name": "stderr",
     "output_type": "stream",
     "text": [
      "C:\\Users\\mashh\\AppData\\Local\\Temp\\ipykernel_18244\\4265974583.py:9: RuntimeWarning: Data will be preloaded. preload=False or a string preload is not supported when the data is stored in the .set file\n",
      "  raw = mne_bids.read_raw_bids(subject_paths[j])\n",
      "C:\\Users\\mashh\\AppData\\Local\\Temp\\ipykernel_18244\\4265974583.py:9: RuntimeWarning: Did not find any events.tsv associated with sub-042_task-eyesclosed.\n",
      "\n",
      "The search_str was \"ds004504-download\\sub-042\\**\\eeg\\sub-042*events.tsv\"\n",
      "  raw = mne_bids.read_raw_bids(subject_paths[j])\n"
     ]
    },
    {
     "name": "stdout",
     "output_type": "stream",
     "text": [
      "Reading channel info from ds004504-download\\sub-043\\eeg\\sub-043_task-eyesclosed_channels.tsv.\n"
     ]
    },
    {
     "name": "stderr",
     "output_type": "stream",
     "text": [
      "C:\\Users\\mashh\\AppData\\Local\\Temp\\ipykernel_18244\\4265974583.py:9: RuntimeWarning: Data will be preloaded. preload=False or a string preload is not supported when the data is stored in the .set file\n",
      "  raw = mne_bids.read_raw_bids(subject_paths[j])\n",
      "C:\\Users\\mashh\\AppData\\Local\\Temp\\ipykernel_18244\\4265974583.py:9: RuntimeWarning: Did not find any events.tsv associated with sub-043_task-eyesclosed.\n",
      "\n",
      "The search_str was \"ds004504-download\\sub-043\\**\\eeg\\sub-043*events.tsv\"\n",
      "  raw = mne_bids.read_raw_bids(subject_paths[j])\n"
     ]
    },
    {
     "name": "stdout",
     "output_type": "stream",
     "text": [
      "Reading channel info from ds004504-download\\sub-044\\eeg\\sub-044_task-eyesclosed_channels.tsv.\n"
     ]
    },
    {
     "name": "stderr",
     "output_type": "stream",
     "text": [
      "C:\\Users\\mashh\\AppData\\Local\\Temp\\ipykernel_18244\\4265974583.py:9: RuntimeWarning: Data will be preloaded. preload=False or a string preload is not supported when the data is stored in the .set file\n",
      "  raw = mne_bids.read_raw_bids(subject_paths[j])\n",
      "C:\\Users\\mashh\\AppData\\Local\\Temp\\ipykernel_18244\\4265974583.py:9: RuntimeWarning: Did not find any events.tsv associated with sub-044_task-eyesclosed.\n",
      "\n",
      "The search_str was \"ds004504-download\\sub-044\\**\\eeg\\sub-044*events.tsv\"\n",
      "  raw = mne_bids.read_raw_bids(subject_paths[j])\n"
     ]
    },
    {
     "name": "stdout",
     "output_type": "stream",
     "text": [
      "Reading channel info from ds004504-download\\sub-045\\eeg\\sub-045_task-eyesclosed_channels.tsv.\n"
     ]
    },
    {
     "name": "stderr",
     "output_type": "stream",
     "text": [
      "C:\\Users\\mashh\\AppData\\Local\\Temp\\ipykernel_18244\\4265974583.py:9: RuntimeWarning: Data will be preloaded. preload=False or a string preload is not supported when the data is stored in the .set file\n",
      "  raw = mne_bids.read_raw_bids(subject_paths[j])\n",
      "C:\\Users\\mashh\\AppData\\Local\\Temp\\ipykernel_18244\\4265974583.py:9: RuntimeWarning: Did not find any events.tsv associated with sub-045_task-eyesclosed.\n",
      "\n",
      "The search_str was \"ds004504-download\\sub-045\\**\\eeg\\sub-045*events.tsv\"\n",
      "  raw = mne_bids.read_raw_bids(subject_paths[j])\n"
     ]
    },
    {
     "name": "stdout",
     "output_type": "stream",
     "text": [
      "Reading channel info from ds004504-download\\sub-046\\eeg\\sub-046_task-eyesclosed_channels.tsv.\n"
     ]
    },
    {
     "name": "stderr",
     "output_type": "stream",
     "text": [
      "C:\\Users\\mashh\\AppData\\Local\\Temp\\ipykernel_18244\\4265974583.py:9: RuntimeWarning: Data will be preloaded. preload=False or a string preload is not supported when the data is stored in the .set file\n",
      "  raw = mne_bids.read_raw_bids(subject_paths[j])\n",
      "C:\\Users\\mashh\\AppData\\Local\\Temp\\ipykernel_18244\\4265974583.py:9: RuntimeWarning: Did not find any events.tsv associated with sub-046_task-eyesclosed.\n",
      "\n",
      "The search_str was \"ds004504-download\\sub-046\\**\\eeg\\sub-046*events.tsv\"\n",
      "  raw = mne_bids.read_raw_bids(subject_paths[j])\n"
     ]
    },
    {
     "name": "stdout",
     "output_type": "stream",
     "text": [
      "Reading channel info from ds004504-download\\sub-047\\eeg\\sub-047_task-eyesclosed_channels.tsv.\n"
     ]
    },
    {
     "name": "stderr",
     "output_type": "stream",
     "text": [
      "C:\\Users\\mashh\\AppData\\Local\\Temp\\ipykernel_18244\\4265974583.py:9: RuntimeWarning: Data will be preloaded. preload=False or a string preload is not supported when the data is stored in the .set file\n",
      "  raw = mne_bids.read_raw_bids(subject_paths[j])\n",
      "C:\\Users\\mashh\\AppData\\Local\\Temp\\ipykernel_18244\\4265974583.py:9: RuntimeWarning: Did not find any events.tsv associated with sub-047_task-eyesclosed.\n",
      "\n",
      "The search_str was \"ds004504-download\\sub-047\\**\\eeg\\sub-047*events.tsv\"\n",
      "  raw = mne_bids.read_raw_bids(subject_paths[j])\n"
     ]
    },
    {
     "name": "stdout",
     "output_type": "stream",
     "text": [
      "Reading channel info from ds004504-download\\sub-048\\eeg\\sub-048_task-eyesclosed_channels.tsv.\n"
     ]
    },
    {
     "name": "stderr",
     "output_type": "stream",
     "text": [
      "C:\\Users\\mashh\\AppData\\Local\\Temp\\ipykernel_18244\\4265974583.py:9: RuntimeWarning: Data will be preloaded. preload=False or a string preload is not supported when the data is stored in the .set file\n",
      "  raw = mne_bids.read_raw_bids(subject_paths[j])\n",
      "C:\\Users\\mashh\\AppData\\Local\\Temp\\ipykernel_18244\\4265974583.py:9: RuntimeWarning: Did not find any events.tsv associated with sub-048_task-eyesclosed.\n",
      "\n",
      "The search_str was \"ds004504-download\\sub-048\\**\\eeg\\sub-048*events.tsv\"\n",
      "  raw = mne_bids.read_raw_bids(subject_paths[j])\n"
     ]
    },
    {
     "name": "stdout",
     "output_type": "stream",
     "text": [
      "Reading channel info from ds004504-download\\sub-049\\eeg\\sub-049_task-eyesclosed_channels.tsv.\n"
     ]
    },
    {
     "name": "stderr",
     "output_type": "stream",
     "text": [
      "C:\\Users\\mashh\\AppData\\Local\\Temp\\ipykernel_18244\\4265974583.py:9: RuntimeWarning: Data will be preloaded. preload=False or a string preload is not supported when the data is stored in the .set file\n",
      "  raw = mne_bids.read_raw_bids(subject_paths[j])\n",
      "C:\\Users\\mashh\\AppData\\Local\\Temp\\ipykernel_18244\\4265974583.py:9: RuntimeWarning: Did not find any events.tsv associated with sub-049_task-eyesclosed.\n",
      "\n",
      "The search_str was \"ds004504-download\\sub-049\\**\\eeg\\sub-049*events.tsv\"\n",
      "  raw = mne_bids.read_raw_bids(subject_paths[j])\n"
     ]
    },
    {
     "name": "stdout",
     "output_type": "stream",
     "text": [
      "Reading channel info from ds004504-download\\sub-050\\eeg\\sub-050_task-eyesclosed_channels.tsv.\n"
     ]
    },
    {
     "name": "stderr",
     "output_type": "stream",
     "text": [
      "C:\\Users\\mashh\\AppData\\Local\\Temp\\ipykernel_18244\\4265974583.py:9: RuntimeWarning: Data will be preloaded. preload=False or a string preload is not supported when the data is stored in the .set file\n",
      "  raw = mne_bids.read_raw_bids(subject_paths[j])\n",
      "C:\\Users\\mashh\\AppData\\Local\\Temp\\ipykernel_18244\\4265974583.py:9: RuntimeWarning: Did not find any events.tsv associated with sub-050_task-eyesclosed.\n",
      "\n",
      "The search_str was \"ds004504-download\\sub-050\\**\\eeg\\sub-050*events.tsv\"\n",
      "  raw = mne_bids.read_raw_bids(subject_paths[j])\n"
     ]
    },
    {
     "name": "stdout",
     "output_type": "stream",
     "text": [
      "Reading channel info from ds004504-download\\sub-051\\eeg\\sub-051_task-eyesclosed_channels.tsv.\n"
     ]
    },
    {
     "name": "stderr",
     "output_type": "stream",
     "text": [
      "C:\\Users\\mashh\\AppData\\Local\\Temp\\ipykernel_18244\\4265974583.py:9: RuntimeWarning: Data will be preloaded. preload=False or a string preload is not supported when the data is stored in the .set file\n",
      "  raw = mne_bids.read_raw_bids(subject_paths[j])\n",
      "C:\\Users\\mashh\\AppData\\Local\\Temp\\ipykernel_18244\\4265974583.py:9: RuntimeWarning: Did not find any events.tsv associated with sub-051_task-eyesclosed.\n",
      "\n",
      "The search_str was \"ds004504-download\\sub-051\\**\\eeg\\sub-051*events.tsv\"\n",
      "  raw = mne_bids.read_raw_bids(subject_paths[j])\n"
     ]
    },
    {
     "name": "stdout",
     "output_type": "stream",
     "text": [
      "Reading channel info from ds004504-download\\sub-052\\eeg\\sub-052_task-eyesclosed_channels.tsv.\n"
     ]
    },
    {
     "name": "stderr",
     "output_type": "stream",
     "text": [
      "C:\\Users\\mashh\\AppData\\Local\\Temp\\ipykernel_18244\\4265974583.py:9: RuntimeWarning: Data will be preloaded. preload=False or a string preload is not supported when the data is stored in the .set file\n",
      "  raw = mne_bids.read_raw_bids(subject_paths[j])\n",
      "C:\\Users\\mashh\\AppData\\Local\\Temp\\ipykernel_18244\\4265974583.py:9: RuntimeWarning: Did not find any events.tsv associated with sub-052_task-eyesclosed.\n",
      "\n",
      "The search_str was \"ds004504-download\\sub-052\\**\\eeg\\sub-052*events.tsv\"\n",
      "  raw = mne_bids.read_raw_bids(subject_paths[j])\n"
     ]
    },
    {
     "name": "stdout",
     "output_type": "stream",
     "text": [
      "Reading channel info from ds004504-download\\sub-053\\eeg\\sub-053_task-eyesclosed_channels.tsv.\n"
     ]
    },
    {
     "name": "stderr",
     "output_type": "stream",
     "text": [
      "C:\\Users\\mashh\\AppData\\Local\\Temp\\ipykernel_18244\\4265974583.py:9: RuntimeWarning: Data will be preloaded. preload=False or a string preload is not supported when the data is stored in the .set file\n",
      "  raw = mne_bids.read_raw_bids(subject_paths[j])\n",
      "C:\\Users\\mashh\\AppData\\Local\\Temp\\ipykernel_18244\\4265974583.py:9: RuntimeWarning: Did not find any events.tsv associated with sub-053_task-eyesclosed.\n",
      "\n",
      "The search_str was \"ds004504-download\\sub-053\\**\\eeg\\sub-053*events.tsv\"\n",
      "  raw = mne_bids.read_raw_bids(subject_paths[j])\n"
     ]
    },
    {
     "name": "stdout",
     "output_type": "stream",
     "text": [
      "Reading channel info from ds004504-download\\sub-054\\eeg\\sub-054_task-eyesclosed_channels.tsv.\n"
     ]
    },
    {
     "name": "stderr",
     "output_type": "stream",
     "text": [
      "C:\\Users\\mashh\\AppData\\Local\\Temp\\ipykernel_18244\\4265974583.py:9: RuntimeWarning: Data will be preloaded. preload=False or a string preload is not supported when the data is stored in the .set file\n",
      "  raw = mne_bids.read_raw_bids(subject_paths[j])\n",
      "C:\\Users\\mashh\\AppData\\Local\\Temp\\ipykernel_18244\\4265974583.py:9: RuntimeWarning: Did not find any events.tsv associated with sub-054_task-eyesclosed.\n",
      "\n",
      "The search_str was \"ds004504-download\\sub-054\\**\\eeg\\sub-054*events.tsv\"\n",
      "  raw = mne_bids.read_raw_bids(subject_paths[j])\n"
     ]
    },
    {
     "name": "stdout",
     "output_type": "stream",
     "text": [
      "Reading channel info from ds004504-download\\sub-055\\eeg\\sub-055_task-eyesclosed_channels.tsv.\n"
     ]
    },
    {
     "name": "stderr",
     "output_type": "stream",
     "text": [
      "C:\\Users\\mashh\\AppData\\Local\\Temp\\ipykernel_18244\\4265974583.py:9: RuntimeWarning: Data will be preloaded. preload=False or a string preload is not supported when the data is stored in the .set file\n",
      "  raw = mne_bids.read_raw_bids(subject_paths[j])\n",
      "C:\\Users\\mashh\\AppData\\Local\\Temp\\ipykernel_18244\\4265974583.py:9: RuntimeWarning: Did not find any events.tsv associated with sub-055_task-eyesclosed.\n",
      "\n",
      "The search_str was \"ds004504-download\\sub-055\\**\\eeg\\sub-055*events.tsv\"\n",
      "  raw = mne_bids.read_raw_bids(subject_paths[j])\n"
     ]
    },
    {
     "name": "stdout",
     "output_type": "stream",
     "text": [
      "Reading channel info from ds004504-download\\sub-056\\eeg\\sub-056_task-eyesclosed_channels.tsv.\n"
     ]
    },
    {
     "name": "stderr",
     "output_type": "stream",
     "text": [
      "C:\\Users\\mashh\\AppData\\Local\\Temp\\ipykernel_18244\\4265974583.py:9: RuntimeWarning: Data will be preloaded. preload=False or a string preload is not supported when the data is stored in the .set file\n",
      "  raw = mne_bids.read_raw_bids(subject_paths[j])\n",
      "C:\\Users\\mashh\\AppData\\Local\\Temp\\ipykernel_18244\\4265974583.py:9: RuntimeWarning: Did not find any events.tsv associated with sub-056_task-eyesclosed.\n",
      "\n",
      "The search_str was \"ds004504-download\\sub-056\\**\\eeg\\sub-056*events.tsv\"\n",
      "  raw = mne_bids.read_raw_bids(subject_paths[j])\n"
     ]
    },
    {
     "name": "stdout",
     "output_type": "stream",
     "text": [
      "Reading channel info from ds004504-download\\sub-057\\eeg\\sub-057_task-eyesclosed_channels.tsv.\n"
     ]
    },
    {
     "name": "stderr",
     "output_type": "stream",
     "text": [
      "C:\\Users\\mashh\\AppData\\Local\\Temp\\ipykernel_18244\\4265974583.py:9: RuntimeWarning: Data will be preloaded. preload=False or a string preload is not supported when the data is stored in the .set file\n",
      "  raw = mne_bids.read_raw_bids(subject_paths[j])\n",
      "C:\\Users\\mashh\\AppData\\Local\\Temp\\ipykernel_18244\\4265974583.py:9: RuntimeWarning: Did not find any events.tsv associated with sub-057_task-eyesclosed.\n",
      "\n",
      "The search_str was \"ds004504-download\\sub-057\\**\\eeg\\sub-057*events.tsv\"\n",
      "  raw = mne_bids.read_raw_bids(subject_paths[j])\n"
     ]
    },
    {
     "name": "stdout",
     "output_type": "stream",
     "text": [
      "Reading channel info from ds004504-download\\sub-058\\eeg\\sub-058_task-eyesclosed_channels.tsv.\n"
     ]
    },
    {
     "name": "stderr",
     "output_type": "stream",
     "text": [
      "C:\\Users\\mashh\\AppData\\Local\\Temp\\ipykernel_18244\\4265974583.py:9: RuntimeWarning: Data will be preloaded. preload=False or a string preload is not supported when the data is stored in the .set file\n",
      "  raw = mne_bids.read_raw_bids(subject_paths[j])\n",
      "C:\\Users\\mashh\\AppData\\Local\\Temp\\ipykernel_18244\\4265974583.py:9: RuntimeWarning: Did not find any events.tsv associated with sub-058_task-eyesclosed.\n",
      "\n",
      "The search_str was \"ds004504-download\\sub-058\\**\\eeg\\sub-058*events.tsv\"\n",
      "  raw = mne_bids.read_raw_bids(subject_paths[j])\n"
     ]
    },
    {
     "name": "stdout",
     "output_type": "stream",
     "text": [
      "Reading channel info from ds004504-download\\sub-059\\eeg\\sub-059_task-eyesclosed_channels.tsv.\n"
     ]
    },
    {
     "name": "stderr",
     "output_type": "stream",
     "text": [
      "C:\\Users\\mashh\\AppData\\Local\\Temp\\ipykernel_18244\\4265974583.py:9: RuntimeWarning: Data will be preloaded. preload=False or a string preload is not supported when the data is stored in the .set file\n",
      "  raw = mne_bids.read_raw_bids(subject_paths[j])\n",
      "C:\\Users\\mashh\\AppData\\Local\\Temp\\ipykernel_18244\\4265974583.py:9: RuntimeWarning: Did not find any events.tsv associated with sub-059_task-eyesclosed.\n",
      "\n",
      "The search_str was \"ds004504-download\\sub-059\\**\\eeg\\sub-059*events.tsv\"\n",
      "  raw = mne_bids.read_raw_bids(subject_paths[j])\n"
     ]
    },
    {
     "name": "stdout",
     "output_type": "stream",
     "text": [
      "Reading channel info from ds004504-download\\sub-060\\eeg\\sub-060_task-eyesclosed_channels.tsv.\n"
     ]
    },
    {
     "name": "stderr",
     "output_type": "stream",
     "text": [
      "C:\\Users\\mashh\\AppData\\Local\\Temp\\ipykernel_18244\\4265974583.py:9: RuntimeWarning: Data will be preloaded. preload=False or a string preload is not supported when the data is stored in the .set file\n",
      "  raw = mne_bids.read_raw_bids(subject_paths[j])\n",
      "C:\\Users\\mashh\\AppData\\Local\\Temp\\ipykernel_18244\\4265974583.py:9: RuntimeWarning: Did not find any events.tsv associated with sub-060_task-eyesclosed.\n",
      "\n",
      "The search_str was \"ds004504-download\\sub-060\\**\\eeg\\sub-060*events.tsv\"\n",
      "  raw = mne_bids.read_raw_bids(subject_paths[j])\n"
     ]
    },
    {
     "name": "stdout",
     "output_type": "stream",
     "text": [
      "Reading channel info from ds004504-download\\sub-061\\eeg\\sub-061_task-eyesclosed_channels.tsv.\n"
     ]
    },
    {
     "name": "stderr",
     "output_type": "stream",
     "text": [
      "C:\\Users\\mashh\\AppData\\Local\\Temp\\ipykernel_18244\\4265974583.py:9: RuntimeWarning: Data will be preloaded. preload=False or a string preload is not supported when the data is stored in the .set file\n",
      "  raw = mne_bids.read_raw_bids(subject_paths[j])\n",
      "C:\\Users\\mashh\\AppData\\Local\\Temp\\ipykernel_18244\\4265974583.py:9: RuntimeWarning: Did not find any events.tsv associated with sub-061_task-eyesclosed.\n",
      "\n",
      "The search_str was \"ds004504-download\\sub-061\\**\\eeg\\sub-061*events.tsv\"\n",
      "  raw = mne_bids.read_raw_bids(subject_paths[j])\n"
     ]
    },
    {
     "name": "stdout",
     "output_type": "stream",
     "text": [
      "Reading channel info from ds004504-download\\sub-062\\eeg\\sub-062_task-eyesclosed_channels.tsv.\n"
     ]
    },
    {
     "name": "stderr",
     "output_type": "stream",
     "text": [
      "C:\\Users\\mashh\\AppData\\Local\\Temp\\ipykernel_18244\\4265974583.py:9: RuntimeWarning: Data will be preloaded. preload=False or a string preload is not supported when the data is stored in the .set file\n",
      "  raw = mne_bids.read_raw_bids(subject_paths[j])\n",
      "C:\\Users\\mashh\\AppData\\Local\\Temp\\ipykernel_18244\\4265974583.py:9: RuntimeWarning: Did not find any events.tsv associated with sub-062_task-eyesclosed.\n",
      "\n",
      "The search_str was \"ds004504-download\\sub-062\\**\\eeg\\sub-062*events.tsv\"\n",
      "  raw = mne_bids.read_raw_bids(subject_paths[j])\n"
     ]
    },
    {
     "name": "stdout",
     "output_type": "stream",
     "text": [
      "Reading channel info from ds004504-download\\sub-063\\eeg\\sub-063_task-eyesclosed_channels.tsv.\n"
     ]
    },
    {
     "name": "stderr",
     "output_type": "stream",
     "text": [
      "C:\\Users\\mashh\\AppData\\Local\\Temp\\ipykernel_18244\\4265974583.py:9: RuntimeWarning: Data will be preloaded. preload=False or a string preload is not supported when the data is stored in the .set file\n",
      "  raw = mne_bids.read_raw_bids(subject_paths[j])\n",
      "C:\\Users\\mashh\\AppData\\Local\\Temp\\ipykernel_18244\\4265974583.py:9: RuntimeWarning: Did not find any events.tsv associated with sub-063_task-eyesclosed.\n",
      "\n",
      "The search_str was \"ds004504-download\\sub-063\\**\\eeg\\sub-063*events.tsv\"\n",
      "  raw = mne_bids.read_raw_bids(subject_paths[j])\n"
     ]
    },
    {
     "name": "stdout",
     "output_type": "stream",
     "text": [
      "Reading channel info from ds004504-download\\sub-064\\eeg\\sub-064_task-eyesclosed_channels.tsv.\n"
     ]
    },
    {
     "name": "stderr",
     "output_type": "stream",
     "text": [
      "C:\\Users\\mashh\\AppData\\Local\\Temp\\ipykernel_18244\\4265974583.py:9: RuntimeWarning: Data will be preloaded. preload=False or a string preload is not supported when the data is stored in the .set file\n",
      "  raw = mne_bids.read_raw_bids(subject_paths[j])\n",
      "C:\\Users\\mashh\\AppData\\Local\\Temp\\ipykernel_18244\\4265974583.py:9: RuntimeWarning: Did not find any events.tsv associated with sub-064_task-eyesclosed.\n",
      "\n",
      "The search_str was \"ds004504-download\\sub-064\\**\\eeg\\sub-064*events.tsv\"\n",
      "  raw = mne_bids.read_raw_bids(subject_paths[j])\n"
     ]
    },
    {
     "name": "stdout",
     "output_type": "stream",
     "text": [
      "Reading channel info from ds004504-download\\sub-065\\eeg\\sub-065_task-eyesclosed_channels.tsv.\n"
     ]
    },
    {
     "name": "stderr",
     "output_type": "stream",
     "text": [
      "C:\\Users\\mashh\\AppData\\Local\\Temp\\ipykernel_18244\\4265974583.py:9: RuntimeWarning: Data will be preloaded. preload=False or a string preload is not supported when the data is stored in the .set file\n",
      "  raw = mne_bids.read_raw_bids(subject_paths[j])\n",
      "C:\\Users\\mashh\\AppData\\Local\\Temp\\ipykernel_18244\\4265974583.py:9: RuntimeWarning: Did not find any events.tsv associated with sub-065_task-eyesclosed.\n",
      "\n",
      "The search_str was \"ds004504-download\\sub-065\\**\\eeg\\sub-065*events.tsv\"\n",
      "  raw = mne_bids.read_raw_bids(subject_paths[j])\n"
     ]
    },
    {
     "name": "stdout",
     "output_type": "stream",
     "text": [
      "Reading channel info from ds004504-download\\sub-066\\eeg\\sub-066_task-eyesclosed_channels.tsv.\n"
     ]
    },
    {
     "name": "stderr",
     "output_type": "stream",
     "text": [
      "C:\\Users\\mashh\\AppData\\Local\\Temp\\ipykernel_18244\\4265974583.py:9: RuntimeWarning: Data will be preloaded. preload=False or a string preload is not supported when the data is stored in the .set file\n",
      "  raw = mne_bids.read_raw_bids(subject_paths[j])\n",
      "C:\\Users\\mashh\\AppData\\Local\\Temp\\ipykernel_18244\\4265974583.py:9: RuntimeWarning: Did not find any events.tsv associated with sub-066_task-eyesclosed.\n",
      "\n",
      "The search_str was \"ds004504-download\\sub-066\\**\\eeg\\sub-066*events.tsv\"\n",
      "  raw = mne_bids.read_raw_bids(subject_paths[j])\n"
     ]
    },
    {
     "name": "stdout",
     "output_type": "stream",
     "text": [
      "Reading channel info from ds004504-download\\sub-067\\eeg\\sub-067_task-eyesclosed_channels.tsv.\n"
     ]
    },
    {
     "name": "stderr",
     "output_type": "stream",
     "text": [
      "C:\\Users\\mashh\\AppData\\Local\\Temp\\ipykernel_18244\\4265974583.py:9: RuntimeWarning: Data will be preloaded. preload=False or a string preload is not supported when the data is stored in the .set file\n",
      "  raw = mne_bids.read_raw_bids(subject_paths[j])\n",
      "C:\\Users\\mashh\\AppData\\Local\\Temp\\ipykernel_18244\\4265974583.py:9: RuntimeWarning: Did not find any events.tsv associated with sub-067_task-eyesclosed.\n",
      "\n",
      "The search_str was \"ds004504-download\\sub-067\\**\\eeg\\sub-067*events.tsv\"\n",
      "  raw = mne_bids.read_raw_bids(subject_paths[j])\n"
     ]
    },
    {
     "name": "stdout",
     "output_type": "stream",
     "text": [
      "Reading channel info from ds004504-download\\sub-068\\eeg\\sub-068_task-eyesclosed_channels.tsv.\n"
     ]
    },
    {
     "name": "stderr",
     "output_type": "stream",
     "text": [
      "C:\\Users\\mashh\\AppData\\Local\\Temp\\ipykernel_18244\\4265974583.py:9: RuntimeWarning: Data will be preloaded. preload=False or a string preload is not supported when the data is stored in the .set file\n",
      "  raw = mne_bids.read_raw_bids(subject_paths[j])\n",
      "C:\\Users\\mashh\\AppData\\Local\\Temp\\ipykernel_18244\\4265974583.py:9: RuntimeWarning: Did not find any events.tsv associated with sub-068_task-eyesclosed.\n",
      "\n",
      "The search_str was \"ds004504-download\\sub-068\\**\\eeg\\sub-068*events.tsv\"\n",
      "  raw = mne_bids.read_raw_bids(subject_paths[j])\n"
     ]
    },
    {
     "name": "stdout",
     "output_type": "stream",
     "text": [
      "Reading channel info from ds004504-download\\sub-069\\eeg\\sub-069_task-eyesclosed_channels.tsv.\n"
     ]
    },
    {
     "name": "stderr",
     "output_type": "stream",
     "text": [
      "C:\\Users\\mashh\\AppData\\Local\\Temp\\ipykernel_18244\\4265974583.py:9: RuntimeWarning: Data will be preloaded. preload=False or a string preload is not supported when the data is stored in the .set file\n",
      "  raw = mne_bids.read_raw_bids(subject_paths[j])\n",
      "C:\\Users\\mashh\\AppData\\Local\\Temp\\ipykernel_18244\\4265974583.py:9: RuntimeWarning: Did not find any events.tsv associated with sub-069_task-eyesclosed.\n",
      "\n",
      "The search_str was \"ds004504-download\\sub-069\\**\\eeg\\sub-069*events.tsv\"\n",
      "  raw = mne_bids.read_raw_bids(subject_paths[j])\n"
     ]
    },
    {
     "name": "stdout",
     "output_type": "stream",
     "text": [
      "Reading channel info from ds004504-download\\sub-070\\eeg\\sub-070_task-eyesclosed_channels.tsv.\n"
     ]
    },
    {
     "name": "stderr",
     "output_type": "stream",
     "text": [
      "C:\\Users\\mashh\\AppData\\Local\\Temp\\ipykernel_18244\\4265974583.py:9: RuntimeWarning: Data will be preloaded. preload=False or a string preload is not supported when the data is stored in the .set file\n",
      "  raw = mne_bids.read_raw_bids(subject_paths[j])\n",
      "C:\\Users\\mashh\\AppData\\Local\\Temp\\ipykernel_18244\\4265974583.py:9: RuntimeWarning: Did not find any events.tsv associated with sub-070_task-eyesclosed.\n",
      "\n",
      "The search_str was \"ds004504-download\\sub-070\\**\\eeg\\sub-070*events.tsv\"\n",
      "  raw = mne_bids.read_raw_bids(subject_paths[j])\n"
     ]
    },
    {
     "name": "stdout",
     "output_type": "stream",
     "text": [
      "Reading channel info from ds004504-download\\sub-071\\eeg\\sub-071_task-eyesclosed_channels.tsv.\n"
     ]
    },
    {
     "name": "stderr",
     "output_type": "stream",
     "text": [
      "C:\\Users\\mashh\\AppData\\Local\\Temp\\ipykernel_18244\\4265974583.py:9: RuntimeWarning: Data will be preloaded. preload=False or a string preload is not supported when the data is stored in the .set file\n",
      "  raw = mne_bids.read_raw_bids(subject_paths[j])\n",
      "C:\\Users\\mashh\\AppData\\Local\\Temp\\ipykernel_18244\\4265974583.py:9: RuntimeWarning: Did not find any events.tsv associated with sub-071_task-eyesclosed.\n",
      "\n",
      "The search_str was \"ds004504-download\\sub-071\\**\\eeg\\sub-071*events.tsv\"\n",
      "  raw = mne_bids.read_raw_bids(subject_paths[j])\n"
     ]
    },
    {
     "name": "stdout",
     "output_type": "stream",
     "text": [
      "Reading channel info from ds004504-download\\sub-072\\eeg\\sub-072_task-eyesclosed_channels.tsv.\n"
     ]
    },
    {
     "name": "stderr",
     "output_type": "stream",
     "text": [
      "C:\\Users\\mashh\\AppData\\Local\\Temp\\ipykernel_18244\\4265974583.py:9: RuntimeWarning: Data will be preloaded. preload=False or a string preload is not supported when the data is stored in the .set file\n",
      "  raw = mne_bids.read_raw_bids(subject_paths[j])\n",
      "C:\\Users\\mashh\\AppData\\Local\\Temp\\ipykernel_18244\\4265974583.py:9: RuntimeWarning: Did not find any events.tsv associated with sub-072_task-eyesclosed.\n",
      "\n",
      "The search_str was \"ds004504-download\\sub-072\\**\\eeg\\sub-072*events.tsv\"\n",
      "  raw = mne_bids.read_raw_bids(subject_paths[j])\n"
     ]
    },
    {
     "name": "stdout",
     "output_type": "stream",
     "text": [
      "Reading channel info from ds004504-download\\sub-073\\eeg\\sub-073_task-eyesclosed_channels.tsv.\n"
     ]
    },
    {
     "name": "stderr",
     "output_type": "stream",
     "text": [
      "C:\\Users\\mashh\\AppData\\Local\\Temp\\ipykernel_18244\\4265974583.py:9: RuntimeWarning: Data will be preloaded. preload=False or a string preload is not supported when the data is stored in the .set file\n",
      "  raw = mne_bids.read_raw_bids(subject_paths[j])\n",
      "C:\\Users\\mashh\\AppData\\Local\\Temp\\ipykernel_18244\\4265974583.py:9: RuntimeWarning: Did not find any events.tsv associated with sub-073_task-eyesclosed.\n",
      "\n",
      "The search_str was \"ds004504-download\\sub-073\\**\\eeg\\sub-073*events.tsv\"\n",
      "  raw = mne_bids.read_raw_bids(subject_paths[j])\n"
     ]
    },
    {
     "name": "stdout",
     "output_type": "stream",
     "text": [
      "Reading channel info from ds004504-download\\sub-074\\eeg\\sub-074_task-eyesclosed_channels.tsv.\n"
     ]
    },
    {
     "name": "stderr",
     "output_type": "stream",
     "text": [
      "C:\\Users\\mashh\\AppData\\Local\\Temp\\ipykernel_18244\\4265974583.py:9: RuntimeWarning: Data will be preloaded. preload=False or a string preload is not supported when the data is stored in the .set file\n",
      "  raw = mne_bids.read_raw_bids(subject_paths[j])\n",
      "C:\\Users\\mashh\\AppData\\Local\\Temp\\ipykernel_18244\\4265974583.py:9: RuntimeWarning: Did not find any events.tsv associated with sub-074_task-eyesclosed.\n",
      "\n",
      "The search_str was \"ds004504-download\\sub-074\\**\\eeg\\sub-074*events.tsv\"\n",
      "  raw = mne_bids.read_raw_bids(subject_paths[j])\n"
     ]
    },
    {
     "name": "stdout",
     "output_type": "stream",
     "text": [
      "Reading channel info from ds004504-download\\sub-075\\eeg\\sub-075_task-eyesclosed_channels.tsv.\n"
     ]
    },
    {
     "name": "stderr",
     "output_type": "stream",
     "text": [
      "C:\\Users\\mashh\\AppData\\Local\\Temp\\ipykernel_18244\\4265974583.py:9: RuntimeWarning: Data will be preloaded. preload=False or a string preload is not supported when the data is stored in the .set file\n",
      "  raw = mne_bids.read_raw_bids(subject_paths[j])\n",
      "C:\\Users\\mashh\\AppData\\Local\\Temp\\ipykernel_18244\\4265974583.py:9: RuntimeWarning: Did not find any events.tsv associated with sub-075_task-eyesclosed.\n",
      "\n",
      "The search_str was \"ds004504-download\\sub-075\\**\\eeg\\sub-075*events.tsv\"\n",
      "  raw = mne_bids.read_raw_bids(subject_paths[j])\n"
     ]
    },
    {
     "name": "stdout",
     "output_type": "stream",
     "text": [
      "Reading channel info from ds004504-download\\sub-076\\eeg\\sub-076_task-eyesclosed_channels.tsv.\n"
     ]
    },
    {
     "name": "stderr",
     "output_type": "stream",
     "text": [
      "C:\\Users\\mashh\\AppData\\Local\\Temp\\ipykernel_18244\\4265974583.py:9: RuntimeWarning: Data will be preloaded. preload=False or a string preload is not supported when the data is stored in the .set file\n",
      "  raw = mne_bids.read_raw_bids(subject_paths[j])\n",
      "C:\\Users\\mashh\\AppData\\Local\\Temp\\ipykernel_18244\\4265974583.py:9: RuntimeWarning: Did not find any events.tsv associated with sub-076_task-eyesclosed.\n",
      "\n",
      "The search_str was \"ds004504-download\\sub-076\\**\\eeg\\sub-076*events.tsv\"\n",
      "  raw = mne_bids.read_raw_bids(subject_paths[j])\n"
     ]
    },
    {
     "name": "stdout",
     "output_type": "stream",
     "text": [
      "Reading channel info from ds004504-download\\sub-077\\eeg\\sub-077_task-eyesclosed_channels.tsv.\n"
     ]
    },
    {
     "name": "stderr",
     "output_type": "stream",
     "text": [
      "C:\\Users\\mashh\\AppData\\Local\\Temp\\ipykernel_18244\\4265974583.py:9: RuntimeWarning: Data will be preloaded. preload=False or a string preload is not supported when the data is stored in the .set file\n",
      "  raw = mne_bids.read_raw_bids(subject_paths[j])\n",
      "C:\\Users\\mashh\\AppData\\Local\\Temp\\ipykernel_18244\\4265974583.py:9: RuntimeWarning: Did not find any events.tsv associated with sub-077_task-eyesclosed.\n",
      "\n",
      "The search_str was \"ds004504-download\\sub-077\\**\\eeg\\sub-077*events.tsv\"\n",
      "  raw = mne_bids.read_raw_bids(subject_paths[j])\n"
     ]
    },
    {
     "name": "stdout",
     "output_type": "stream",
     "text": [
      "Reading channel info from ds004504-download\\sub-078\\eeg\\sub-078_task-eyesclosed_channels.tsv.\n"
     ]
    },
    {
     "name": "stderr",
     "output_type": "stream",
     "text": [
      "C:\\Users\\mashh\\AppData\\Local\\Temp\\ipykernel_18244\\4265974583.py:9: RuntimeWarning: Data will be preloaded. preload=False or a string preload is not supported when the data is stored in the .set file\n",
      "  raw = mne_bids.read_raw_bids(subject_paths[j])\n",
      "C:\\Users\\mashh\\AppData\\Local\\Temp\\ipykernel_18244\\4265974583.py:9: RuntimeWarning: Did not find any events.tsv associated with sub-078_task-eyesclosed.\n",
      "\n",
      "The search_str was \"ds004504-download\\sub-078\\**\\eeg\\sub-078*events.tsv\"\n",
      "  raw = mne_bids.read_raw_bids(subject_paths[j])\n"
     ]
    },
    {
     "name": "stdout",
     "output_type": "stream",
     "text": [
      "Reading channel info from ds004504-download\\sub-079\\eeg\\sub-079_task-eyesclosed_channels.tsv.\n"
     ]
    },
    {
     "name": "stderr",
     "output_type": "stream",
     "text": [
      "C:\\Users\\mashh\\AppData\\Local\\Temp\\ipykernel_18244\\4265974583.py:9: RuntimeWarning: Data will be preloaded. preload=False or a string preload is not supported when the data is stored in the .set file\n",
      "  raw = mne_bids.read_raw_bids(subject_paths[j])\n",
      "C:\\Users\\mashh\\AppData\\Local\\Temp\\ipykernel_18244\\4265974583.py:9: RuntimeWarning: Did not find any events.tsv associated with sub-079_task-eyesclosed.\n",
      "\n",
      "The search_str was \"ds004504-download\\sub-079\\**\\eeg\\sub-079*events.tsv\"\n",
      "  raw = mne_bids.read_raw_bids(subject_paths[j])\n"
     ]
    },
    {
     "name": "stdout",
     "output_type": "stream",
     "text": [
      "Reading channel info from ds004504-download\\sub-080\\eeg\\sub-080_task-eyesclosed_channels.tsv.\n"
     ]
    },
    {
     "name": "stderr",
     "output_type": "stream",
     "text": [
      "C:\\Users\\mashh\\AppData\\Local\\Temp\\ipykernel_18244\\4265974583.py:9: RuntimeWarning: Data will be preloaded. preload=False or a string preload is not supported when the data is stored in the .set file\n",
      "  raw = mne_bids.read_raw_bids(subject_paths[j])\n",
      "C:\\Users\\mashh\\AppData\\Local\\Temp\\ipykernel_18244\\4265974583.py:9: RuntimeWarning: Did not find any events.tsv associated with sub-080_task-eyesclosed.\n",
      "\n",
      "The search_str was \"ds004504-download\\sub-080\\**\\eeg\\sub-080*events.tsv\"\n",
      "  raw = mne_bids.read_raw_bids(subject_paths[j])\n"
     ]
    },
    {
     "name": "stdout",
     "output_type": "stream",
     "text": [
      "Reading channel info from ds004504-download\\sub-081\\eeg\\sub-081_task-eyesclosed_channels.tsv.\n"
     ]
    },
    {
     "name": "stderr",
     "output_type": "stream",
     "text": [
      "C:\\Users\\mashh\\AppData\\Local\\Temp\\ipykernel_18244\\4265974583.py:9: RuntimeWarning: Data will be preloaded. preload=False or a string preload is not supported when the data is stored in the .set file\n",
      "  raw = mne_bids.read_raw_bids(subject_paths[j])\n",
      "C:\\Users\\mashh\\AppData\\Local\\Temp\\ipykernel_18244\\4265974583.py:9: RuntimeWarning: Did not find any events.tsv associated with sub-081_task-eyesclosed.\n",
      "\n",
      "The search_str was \"ds004504-download\\sub-081\\**\\eeg\\sub-081*events.tsv\"\n",
      "  raw = mne_bids.read_raw_bids(subject_paths[j])\n"
     ]
    },
    {
     "name": "stdout",
     "output_type": "stream",
     "text": [
      "Reading channel info from ds004504-download\\sub-082\\eeg\\sub-082_task-eyesclosed_channels.tsv.\n"
     ]
    },
    {
     "name": "stderr",
     "output_type": "stream",
     "text": [
      "C:\\Users\\mashh\\AppData\\Local\\Temp\\ipykernel_18244\\4265974583.py:9: RuntimeWarning: Data will be preloaded. preload=False or a string preload is not supported when the data is stored in the .set file\n",
      "  raw = mne_bids.read_raw_bids(subject_paths[j])\n",
      "C:\\Users\\mashh\\AppData\\Local\\Temp\\ipykernel_18244\\4265974583.py:9: RuntimeWarning: Did not find any events.tsv associated with sub-082_task-eyesclosed.\n",
      "\n",
      "The search_str was \"ds004504-download\\sub-082\\**\\eeg\\sub-082*events.tsv\"\n",
      "  raw = mne_bids.read_raw_bids(subject_paths[j])\n"
     ]
    },
    {
     "name": "stdout",
     "output_type": "stream",
     "text": [
      "Reading channel info from ds004504-download\\sub-083\\eeg\\sub-083_task-eyesclosed_channels.tsv.\n"
     ]
    },
    {
     "name": "stderr",
     "output_type": "stream",
     "text": [
      "C:\\Users\\mashh\\AppData\\Local\\Temp\\ipykernel_18244\\4265974583.py:9: RuntimeWarning: Data will be preloaded. preload=False or a string preload is not supported when the data is stored in the .set file\n",
      "  raw = mne_bids.read_raw_bids(subject_paths[j])\n",
      "C:\\Users\\mashh\\AppData\\Local\\Temp\\ipykernel_18244\\4265974583.py:9: RuntimeWarning: Did not find any events.tsv associated with sub-083_task-eyesclosed.\n",
      "\n",
      "The search_str was \"ds004504-download\\sub-083\\**\\eeg\\sub-083*events.tsv\"\n",
      "  raw = mne_bids.read_raw_bids(subject_paths[j])\n"
     ]
    },
    {
     "name": "stdout",
     "output_type": "stream",
     "text": [
      "Reading channel info from ds004504-download\\sub-084\\eeg\\sub-084_task-eyesclosed_channels.tsv.\n"
     ]
    },
    {
     "name": "stderr",
     "output_type": "stream",
     "text": [
      "C:\\Users\\mashh\\AppData\\Local\\Temp\\ipykernel_18244\\4265974583.py:9: RuntimeWarning: Data will be preloaded. preload=False or a string preload is not supported when the data is stored in the .set file\n",
      "  raw = mne_bids.read_raw_bids(subject_paths[j])\n",
      "C:\\Users\\mashh\\AppData\\Local\\Temp\\ipykernel_18244\\4265974583.py:9: RuntimeWarning: Did not find any events.tsv associated with sub-084_task-eyesclosed.\n",
      "\n",
      "The search_str was \"ds004504-download\\sub-084\\**\\eeg\\sub-084*events.tsv\"\n",
      "  raw = mne_bids.read_raw_bids(subject_paths[j])\n"
     ]
    },
    {
     "name": "stdout",
     "output_type": "stream",
     "text": [
      "Reading channel info from ds004504-download\\sub-085\\eeg\\sub-085_task-eyesclosed_channels.tsv.\n"
     ]
    },
    {
     "name": "stderr",
     "output_type": "stream",
     "text": [
      "C:\\Users\\mashh\\AppData\\Local\\Temp\\ipykernel_18244\\4265974583.py:9: RuntimeWarning: Data will be preloaded. preload=False or a string preload is not supported when the data is stored in the .set file\n",
      "  raw = mne_bids.read_raw_bids(subject_paths[j])\n",
      "C:\\Users\\mashh\\AppData\\Local\\Temp\\ipykernel_18244\\4265974583.py:9: RuntimeWarning: Did not find any events.tsv associated with sub-085_task-eyesclosed.\n",
      "\n",
      "The search_str was \"ds004504-download\\sub-085\\**\\eeg\\sub-085*events.tsv\"\n",
      "  raw = mne_bids.read_raw_bids(subject_paths[j])\n"
     ]
    },
    {
     "name": "stdout",
     "output_type": "stream",
     "text": [
      "Reading channel info from ds004504-download\\sub-086\\eeg\\sub-086_task-eyesclosed_channels.tsv.\n"
     ]
    },
    {
     "name": "stderr",
     "output_type": "stream",
     "text": [
      "C:\\Users\\mashh\\AppData\\Local\\Temp\\ipykernel_18244\\4265974583.py:9: RuntimeWarning: Data will be preloaded. preload=False or a string preload is not supported when the data is stored in the .set file\n",
      "  raw = mne_bids.read_raw_bids(subject_paths[j])\n",
      "C:\\Users\\mashh\\AppData\\Local\\Temp\\ipykernel_18244\\4265974583.py:9: RuntimeWarning: Did not find any events.tsv associated with sub-086_task-eyesclosed.\n",
      "\n",
      "The search_str was \"ds004504-download\\sub-086\\**\\eeg\\sub-086*events.tsv\"\n",
      "  raw = mne_bids.read_raw_bids(subject_paths[j])\n"
     ]
    },
    {
     "name": "stdout",
     "output_type": "stream",
     "text": [
      "Reading channel info from ds004504-download\\sub-087\\eeg\\sub-087_task-eyesclosed_channels.tsv.\n"
     ]
    },
    {
     "name": "stderr",
     "output_type": "stream",
     "text": [
      "C:\\Users\\mashh\\AppData\\Local\\Temp\\ipykernel_18244\\4265974583.py:9: RuntimeWarning: Data will be preloaded. preload=False or a string preload is not supported when the data is stored in the .set file\n",
      "  raw = mne_bids.read_raw_bids(subject_paths[j])\n",
      "C:\\Users\\mashh\\AppData\\Local\\Temp\\ipykernel_18244\\4265974583.py:9: RuntimeWarning: Did not find any events.tsv associated with sub-087_task-eyesclosed.\n",
      "\n",
      "The search_str was \"ds004504-download\\sub-087\\**\\eeg\\sub-087*events.tsv\"\n",
      "  raw = mne_bids.read_raw_bids(subject_paths[j])\n"
     ]
    },
    {
     "name": "stdout",
     "output_type": "stream",
     "text": [
      "Reading channel info from ds004504-download\\sub-088\\eeg\\sub-088_task-eyesclosed_channels.tsv.\n"
     ]
    },
    {
     "name": "stderr",
     "output_type": "stream",
     "text": [
      "C:\\Users\\mashh\\AppData\\Local\\Temp\\ipykernel_18244\\4265974583.py:9: RuntimeWarning: Data will be preloaded. preload=False or a string preload is not supported when the data is stored in the .set file\n",
      "  raw = mne_bids.read_raw_bids(subject_paths[j])\n",
      "C:\\Users\\mashh\\AppData\\Local\\Temp\\ipykernel_18244\\4265974583.py:9: RuntimeWarning: Did not find any events.tsv associated with sub-088_task-eyesclosed.\n",
      "\n",
      "The search_str was \"ds004504-download\\sub-088\\**\\eeg\\sub-088*events.tsv\"\n",
      "  raw = mne_bids.read_raw_bids(subject_paths[j])\n"
     ]
    }
   ],
   "source": [
    "\n",
    "builder_classes = [RawAndPearson(), MomentsAndPearson(), MomentsAndPLI(), RawAndPLI(), PSDAndCSD()]\n",
    "graph_paths = [Path('graphs/raw_pearson'), Path('graphs/moments_pearson'), Path('graphs/moments_pli'), Path('graphs/raw_pli'),Path('graphs/psd_csd')]\n",
    "\n",
    "for i in range(len(builder_classes)):\n",
    "    graph_class = builder_classes[i]\n",
    "    graph_path = graph_paths[i]\n",
    "    \n",
    "    for j in range(len(subject_paths)):\n",
    "        raw = mne_bids.read_raw_bids(subject_paths[j])\n",
    "        data = raw.get_data()\n",
    "        label = raw.info['subject_info']['Group']\n",
    "        graph = graph_class.build(data, label)\n",
    "        if not os.path.exists(graph_path):\n",
    "            os.makedirs(graph_path)\n",
    "        torch.save(graph, graph_path.joinpath(f'{subjects[j]}.pt'))\n",
    "\n",
    "    "
   ]
  },
  {
   "cell_type": "code",
   "execution_count": 13,
   "metadata": {},
   "outputs": [],
   "source": [
    "def extract_features(self, data):\n",
    "        mean = np.mean(data, axis=1)\n",
    "        std = np.std(data, axis=1)\n",
    "        variance = np.var(data, axis=1)\n",
    "        entropy = stats.differential_entropy(data, axis=1)\n",
    "        skewness = stats.skew(data, axis=1)\n",
    "        kurtosis = stats.kurtosis(data, axis=1)\n",
    "        node_features = np.array(\n",
    "            [\n",
    "                mean, std, variance, entropy, skewness, kurtosis\n",
    "            ]\n",
    "        ).T\n",
    "        #node_features = torch.from_numpy(features)\n",
    "        return node_features\n"
   ]
  },
  {
   "cell_type": "code",
   "execution_count": 14,
   "metadata": {},
   "outputs": [
    {
     "data": {
      "text/html": [
       "<table class=\"table table-hover table-striped table-sm table-responsive small\">\n",
       "    <tr>\n",
       "        <th>Measurement date</th>\n",
       "        \n",
       "        <td>Unknown</td>\n",
       "        \n",
       "    </tr>\n",
       "    <tr>\n",
       "        <th>Experimenter</th>\n",
       "        \n",
       "        <td>Unknown</td>\n",
       "        \n",
       "    </tr>\n",
       "        <th>Participant</th>\n",
       "        \n",
       "            \n",
       "            <td>sub-088</td>\n",
       "            \n",
       "        \n",
       "    </tr>\n",
       "    <tr>\n",
       "        <th>Digitized points</th>\n",
       "        \n",
       "        <td>22 points</td>\n",
       "        \n",
       "    </tr>\n",
       "    <tr>\n",
       "        <th>Good channels</th>\n",
       "        <td>19 EEG</td>\n",
       "    </tr>\n",
       "    <tr>\n",
       "        <th>Bad channels</th>\n",
       "        <td>None</td>\n",
       "    </tr>\n",
       "    <tr>\n",
       "        <th>EOG channels</th>\n",
       "        <td>Not available</td>\n",
       "    </tr>\n",
       "    <tr>\n",
       "        <th>ECG channels</th>\n",
       "        <td>Not available</td>\n",
       "    \n",
       "    <tr>\n",
       "        <th>Sampling frequency</th>\n",
       "        <td>500.00 Hz</td>\n",
       "    </tr>\n",
       "    \n",
       "    \n",
       "    <tr>\n",
       "        <th>Highpass</th>\n",
       "        <td>0.00 Hz</td>\n",
       "    </tr>\n",
       "    \n",
       "    \n",
       "    <tr>\n",
       "        <th>Lowpass</th>\n",
       "        <td>250.00 Hz</td>\n",
       "    </tr>\n",
       "    \n",
       "    \n",
       "    \n",
       "    <tr>\n",
       "        <th>Filenames</th>\n",
       "        <td>sub-088_task-eyesclosed_eeg.set</td>\n",
       "    </tr>\n",
       "    \n",
       "    <tr>\n",
       "        <th>Duration</th>\n",
       "        <td>00:13:15 (HH:MM:SS)</td>\n",
       "    </tr>\n",
       "</table>"
      ],
      "text/plain": [
       "<RawEEGLAB | sub-088_task-eyesclosed_eeg.set, 19 x 397050 (794.1 s), ~57.6 MB, data loaded>"
      ]
     },
     "execution_count": 14,
     "metadata": {},
     "output_type": "execute_result"
    }
   ],
   "source": [
    "raw"
   ]
  },
  {
   "cell_type": "code",
   "execution_count": 15,
   "metadata": {},
   "outputs": [
    {
     "data": {
      "text/plain": [
       "<bound method get_data of <RawEEGLAB | sub-088_task-eyesclosed_eeg.set, 19 x 397050 (794.1 s), ~57.6 MB, data loaded>>"
      ]
     },
     "execution_count": 15,
     "metadata": {},
     "output_type": "execute_result"
    }
   ],
   "source": [
    "raw.get_data"
   ]
  },
  {
   "cell_type": "code",
   "execution_count": 16,
   "metadata": {},
   "outputs": [
    {
     "data": {
      "text/plain": [
       "array([[ 1.07080078e-04,  1.25244133e-04,  1.29492187e-04, ...,\n",
       "        -2.38183578e-04, -2.36621078e-04, -2.19628891e-04],\n",
       "       [ 2.85644493e-05,  4.25292931e-05,  4.32617149e-05, ...,\n",
       "        -2.23730453e-04, -2.36230453e-04, -2.23632797e-04],\n",
       "       [ 6.88476944e-06,  2.07519569e-05,  2.30468788e-05, ...,\n",
       "        -1.06542969e-04, -1.02343750e-04, -8.31054687e-05],\n",
       "       ...,\n",
       "       [-7.35839844e-05, -5.66894493e-05, -5.08789024e-05, ...,\n",
       "        -1.19824203e-04, -1.20800766e-04, -1.02832016e-04],\n",
       "       [-8.13964844e-05, -6.46972656e-05, -5.81054649e-05, ...,\n",
       "        -1.36914047e-04, -1.36718735e-04, -1.18652328e-04],\n",
       "       [-1.27490219e-04, -1.11669914e-04, -1.05664055e-04, ...,\n",
       "        -9.94140625e-05, -9.87304687e-05, -7.97851562e-05]])"
      ]
     },
     "execution_count": 16,
     "metadata": {},
     "output_type": "execute_result"
    }
   ],
   "source": [
    "raw.get_data()"
   ]
  },
  {
   "cell_type": "code",
   "execution_count": 21,
   "metadata": {},
   "outputs": [],
   "source": [
    "import numpy as np\n",
    "from scipy import stats\n",
    "data = raw.get_data()\n",
    "mean = np.mean(data, axis=1)\n",
    "std = np.std(data, axis=1)\n",
    "variance = np.var(data, axis=1)\n",
    "entropy = stats.differential_entropy(data, axis=1)\n",
    "skewness = stats.skew(data, axis=1)\n",
    "kurtosis = stats.kurtosis(data, axis=1)\n",
    "node_features = np.array(\n",
    "    [\n",
    "        mean, std, variance, entropy, skewness, kurtosis\n",
    "    ]\n",
    ").T"
   ]
  },
  {
   "cell_type": "code",
   "execution_count": 23,
   "metadata": {},
   "outputs": [
    {
     "data": {
      "text/plain": [
       "array([[-9.71431121e-05,  8.60768060e-05,  7.40921654e-09,\n",
       "        -7.96441362e+00, -4.00075059e-01,  1.56738464e+00],\n",
       "       [-7.88811182e-05,  1.08017724e-04,  1.16678287e-08,\n",
       "        -7.72636043e+00, -2.78537584e-01,  5.40558448e-01],\n",
       "       [ 5.37647576e-06,  7.20989805e-05,  5.19826298e-09,\n",
       "        -8.12062834e+00,  1.03966266e-01,  1.24260303e-01],\n",
       "       [ 1.43127033e-06,  6.78771033e-05,  4.60730115e-09,\n",
       "        -8.18048683e+00,  1.83349287e-02,  4.45953540e-02],\n",
       "       [-1.64687748e-05,  6.57647292e-05,  4.32499961e-09,\n",
       "        -8.21354242e+00, -1.05837417e-01,  3.37058232e-03],\n",
       "       [ 1.41801665e-05,  6.56732232e-05,  4.31297224e-09,\n",
       "        -8.21440755e+00,  5.63115117e-02,  2.60147587e-01],\n",
       "       [-1.77536653e-05,  7.12666529e-05,  5.07893581e-09,\n",
       "        -8.14091671e+00,  3.24651861e-01,  6.15571151e-01],\n",
       "       [ 3.72979672e-05,  6.95074464e-05,  4.83128510e-09,\n",
       "        -8.16542671e+00,  3.18301096e-01,  5.10420092e-01],\n",
       "       [ 2.95964468e-05,  7.97217571e-05,  6.35555855e-09,\n",
       "        -8.02884191e+00,  3.23614696e-01,  6.26209233e-02],\n",
       "       [ 1.76299652e-05,  7.62682473e-05,  5.81684554e-09,\n",
       "        -8.09001716e+00,  6.23711293e-01,  1.55683865e+00],\n",
       "       [ 2.60349477e-05,  7.68638463e-05,  5.90805086e-09,\n",
       "        -8.08013002e+00, -5.03353176e-01,  1.91955090e+00],\n",
       "       [ 2.46201418e-05,  6.82177662e-05,  4.65366362e-09,\n",
       "        -8.17386875e+00, -8.06412466e-02,  4.79854832e-02],\n",
       "       [ 1.18832072e-05,  7.82032099e-05,  6.11574204e-09,\n",
       "        -8.05024500e+00,  3.72551234e-01,  5.24111575e-01],\n",
       "       [-3.20730519e-06,  7.78920714e-05,  6.06717479e-09,\n",
       "        -8.09739673e+00,  8.69525808e-01,  4.03439595e+00],\n",
       "       [-2.96059167e-05,  6.94644627e-05,  4.82531157e-09,\n",
       "        -8.16229008e+00,  2.48430532e-01,  3.20185753e-01],\n",
       "       [-1.03183424e-05,  1.12460046e-04,  1.26472619e-08,\n",
       "        -7.90096187e+00,  3.54257535e+00,  2.99276095e+01],\n",
       "       [-1.30263136e-05,  6.76302651e-05,  4.57385276e-09,\n",
       "        -8.18621953e+00, -9.90350067e-02,  8.53563757e-02],\n",
       "       [-9.30668899e-06,  8.51561737e-05,  7.25157392e-09,\n",
       "        -7.95748956e+00, -1.61866287e-01, -1.12250299e-01],\n",
       "       [-3.19996141e-05,  6.76769964e-05,  4.58017585e-09,\n",
       "        -8.18420076e+00,  9.59126932e-02, -1.66066884e-01]])"
      ]
     },
     "execution_count": 23,
     "metadata": {},
     "output_type": "execute_result"
    }
   ],
   "source": [
    "node_features"
   ]
  },
  {
   "cell_type": "code",
   "execution_count": 24,
   "metadata": {},
   "outputs": [
    {
     "data": {
      "text/plain": [
       "(19, 397050)"
      ]
     },
     "execution_count": 24,
     "metadata": {},
     "output_type": "execute_result"
    }
   ],
   "source": [
    "data.shape\n"
   ]
  },
  {
   "cell_type": "code",
   "execution_count": null,
   "metadata": {},
   "outputs": [],
   "source": []
  }
 ],
 "metadata": {
  "kernelspec": {
   "display_name": "Python 3",
   "language": "python",
   "name": "python3"
  },
  "language_info": {
   "codemirror_mode": {
    "name": "ipython",
    "version": 3
   },
   "file_extension": ".py",
   "mimetype": "text/x-python",
   "name": "python",
   "nbconvert_exporter": "python",
   "pygments_lexer": "ipython3",
   "version": "3.11.1"
  }
 },
 "nbformat": 4,
 "nbformat_minor": 2
}
